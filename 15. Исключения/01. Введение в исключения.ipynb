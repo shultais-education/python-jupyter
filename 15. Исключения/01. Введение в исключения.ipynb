{
 "cells": [
  {
   "cell_type": "markdown",
   "id": "89b44ecc",
   "metadata": {},
   "source": [
    "# Введение в исключения\n",
    "\n",
    "Исключение - это ошибка, которая прерывает выполнение программы. "
   ]
  },
  {
   "cell_type": "markdown",
   "id": "672b7c82",
   "metadata": {},
   "source": [
    "## IndexError"
   ]
  },
  {
   "cell_type": "code",
   "execution_count": null,
   "id": "8375996a",
   "metadata": {},
   "outputs": [],
   "source": [
    "l = [1, 3, 5, 7]\n",
    "\n",
    "# Попытка вывести несуществующий элемент списка\n",
    "print(l[4])"
   ]
  },
  {
   "cell_type": "markdown",
   "id": "d2dee089",
   "metadata": {},
   "source": [
    "## Проверка данных с помощью условий"
   ]
  },
  {
   "cell_type": "code",
   "execution_count": null,
   "id": "4adf4d7f",
   "metadata": {},
   "outputs": [],
   "source": [
    "number = input(\"Введите число: \")\n",
    "\n",
    "# Преобразуем строку к целому числу\n",
    "number = int(number)\n",
    "\n",
    "# Какие-то вычисления\n",
    "result = 100 / number\n",
    "\n",
    "# Вывод результата\n",
    "print(\"Ответ:\", result)"
   ]
  },
  {
   "cell_type": "code",
   "execution_count": null,
   "id": "5e1184cf",
   "metadata": {},
   "outputs": [],
   "source": [
    "# Бесконечный цикл до тех пор, пока пользователь не введет число\n",
    "while True:\n",
    "    number = input(\"Введите число: \")\n",
    "    \n",
    "    if number.isdigit():\n",
    "        # Преобразуем строку к целому числу\n",
    "        number = int(number)\n",
    "        break\n",
    "    else:\n",
    "        print(\"Ошибка. Введите число\")\n",
    "\n",
    "# Какие-то вычисления\n",
    "result = 100 / number\n",
    "\n",
    "# Вывод результата\n",
    "print(\"Ответ:\", result)"
   ]
  },
  {
   "cell_type": "markdown",
   "id": "89c7327e",
   "metadata": {},
   "source": [
    "## Перехват исключений"
   ]
  },
  {
   "cell_type": "code",
   "execution_count": null,
   "id": "f7a8ed3b",
   "metadata": {},
   "outputs": [],
   "source": [
    "# Бесконечный цикл до тех пор, пока пользователь не введет число\n",
    "while True:\n",
    "    number = input(\"Введите число: \")\n",
    "    \n",
    "    try:\n",
    "        # Преобразуем строку к вещественному числу\n",
    "        number = float(number)\n",
    "        break\n",
    "    except ValueError:\n",
    "        print(\"Ошибка. Введите число\")\n",
    "\n",
    "# Какие-то вычисления\n",
    "result = 100 / number\n",
    "\n",
    "# Вывод результата\n",
    "print(\"Ответ:\", result)"
   ]
  },
  {
   "cell_type": "markdown",
   "id": "ccce5b26",
   "metadata": {},
   "source": [
    "### Деление на ноль"
   ]
  },
  {
   "cell_type": "code",
   "execution_count": null,
   "id": "364dc43e",
   "metadata": {},
   "outputs": [],
   "source": [
    "# Бесконечный цикл до тех пор, пока пользователь не введет число\n",
    "while True:\n",
    "    number = input(\"Введите число: \")\n",
    "    \n",
    "    try:\n",
    "        # Преобразуем строку к вещественному числу\n",
    "        number = float(number)\n",
    "        break\n",
    "    except ValueError:\n",
    "        print(\"Ошибка. Введите число\")\n",
    "\n",
    "# Перехват исключения деления на 0\n",
    "try:\n",
    "    # Какие-то вычисления\n",
    "    result = 100 / number\n",
    "except ZeroDivisionError:\n",
    "    result = \"бесконечность\"\n",
    "\n",
    "    # Вывод результата\n",
    "print(\"Ответ:\", result)"
   ]
  },
  {
   "cell_type": "code",
   "execution_count": null,
   "id": "bee89f54",
   "metadata": {},
   "outputs": [],
   "source": []
  }
 ],
 "metadata": {
  "kernelspec": {
   "display_name": "Python 3 (ipykernel)",
   "language": "python",
   "name": "python3"
  },
  "language_info": {
   "codemirror_mode": {
    "name": "ipython",
    "version": 3
   },
   "file_extension": ".py",
   "mimetype": "text/x-python",
   "name": "python",
   "nbconvert_exporter": "python",
   "pygments_lexer": "ipython3",
   "version": "3.9.13"
  }
 },
 "nbformat": 4,
 "nbformat_minor": 5
}
