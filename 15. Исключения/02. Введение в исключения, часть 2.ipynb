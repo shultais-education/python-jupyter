{
 "cells": [
  {
   "cell_type": "markdown",
   "id": "ca8ab985",
   "metadata": {},
   "source": [
    "# Введение в исключения, часть 2"
   ]
  },
  {
   "cell_type": "code",
   "execution_count": null,
   "id": "e75ea3e5",
   "metadata": {},
   "outputs": [],
   "source": [
    "# Бесконечный цикл до тех пор, пока пользователь не введет число\n",
    "while True:\n",
    "    number = input(\"Введите число: \")\n",
    "    \n",
    "    try:\n",
    "        # Преобразуем строку к вещественному числу\n",
    "        number = float(number)\n",
    "        break\n",
    "    except ValueError:\n",
    "        print(\"Ошибка. Введите число\")\n",
    "\n",
    "# Перехват исключения деления на 0\n",
    "try:\n",
    "    # Какие-то вычисления\n",
    "    result = 100 / number\n",
    "except ZeroDivisionError:\n",
    "    result = \"бесконечность\"\n",
    "\n",
    "    # Вывод результата\n",
    "print(\"Ответ:\", result)"
   ]
  },
  {
   "cell_type": "markdown",
   "id": "7f86d9b7",
   "metadata": {},
   "source": [
    "## Объединение исключений\n",
    "\n",
    "В одном блоке `try..except` можно перехватывать сразу несколько видов исключений."
   ]
  },
  {
   "cell_type": "code",
   "execution_count": null,
   "id": "58b5b701",
   "metadata": {},
   "outputs": [],
   "source": [
    "while True:\n",
    "    number = input(\"Введите число: \")\n",
    "    \n",
    "    try:\n",
    "        # Преобразуем строку к вещественному числу\n",
    "        number = float(number)\n",
    "        # Какие-то вычисления\n",
    "        result = 100 / number\n",
    "        break\n",
    "    # Перехват исключений ValueError и NameError\n",
    "    except (ValueError, NameError):\n",
    "        print(\"Ошибка. Введите число\")\n",
    "    # Перехват исключения деления на 0\n",
    "    except ZeroDivisionError:\n",
    "        result = \"бесконечность\"\n",
    "        break\n",
    "\n",
    "# Вывод результата\n",
    "print(\"Ответ:\", result)"
   ]
  },
  {
   "cell_type": "code",
   "execution_count": null,
   "id": "16a40666",
   "metadata": {},
   "outputs": [],
   "source": [
    "while True:\n",
    "    number = input(\"Введите число: \")\n",
    "    \n",
    "    try:\n",
    "        # Преобразуем строку к вещественному числу\n",
    "        number = float(number)\n",
    "        # Какие-то вычисления\n",
    "        result = 100 / number\n",
    "        break\n",
    "    # Перехват исключений ValueError и NameError\n",
    "    except (ValueError, NameError):\n",
    "        print(\"Ошибка. Введите число\")\n",
    "    # Перехват всех исключений, которые мы не успели перехватить\n",
    "    except Exception:\n",
    "        print(\"Неверное значение\")\n",
    "\n",
    "# Вывод результата\n",
    "print(\"Ответ:\", result)"
   ]
  },
  {
   "cell_type": "markdown",
   "id": "6b240a7f",
   "metadata": {},
   "source": [
    "## Модуль traceback\n",
    "\n",
    "Модуль **traceback** позволяет получать дополнительнюу информацию об исключении."
   ]
  },
  {
   "cell_type": "code",
   "execution_count": null,
   "id": "cf86443d",
   "metadata": {},
   "outputs": [],
   "source": [
    "import traceback\n",
    "\n",
    "while True:\n",
    "    number = input(\"Введите число: \")\n",
    "    \n",
    "    try:\n",
    "        # Преобразуем строку к вещественному числу\n",
    "        number = float(number)\n",
    "        # Какие-то вычисления\n",
    "        result = 100 / number\n",
    "        break\n",
    "    # Перехват исключений ValueError и NameError\n",
    "    except (ValueError, NameError):\n",
    "        print(\"Ошибка. Введите число\")\n",
    "    # Перехват исключения деления на 0\n",
    "    except ZeroDivisionError:\n",
    "        result = \"бесконечность\"\n",
    "        break\n",
    "    # Перехват всех исключений\n",
    "    except Exception:\n",
    "        print(traceback.format_exc())\n",
    "\n",
    "# Вывод результата\n",
    "print(\"Ответ:\", result)"
   ]
  },
  {
   "cell_type": "markdown",
   "id": "52003db3",
   "metadata": {},
   "source": [
    "## Логирование исключений"
   ]
  },
  {
   "cell_type": "code",
   "execution_count": null,
   "id": "0fc07e05",
   "metadata": {},
   "outputs": [],
   "source": [
    "import traceback\n",
    "\n",
    "while True:\n",
    "    number = input(\"Введите число: \")\n",
    "    \n",
    "    try:\n",
    "        # Преобразуем строку к вещественному числу\n",
    "        number = float(number)\n",
    "        if number == 1:\n",
    "            number = None\n",
    "        # Какие-то вычисления\n",
    "        result = 100 / number\n",
    "        break\n",
    "    # Перехват исключений ValueError и NameError\n",
    "    except (ValueError, NameError):\n",
    "        print(\"Ошибка. Введите число\")\n",
    "    # Перехват исключения деления на 0\n",
    "    except ZeroDivisionError:\n",
    "        result = \"бесконечность\"\n",
    "        break\n",
    "    # Перехват всех исключений\n",
    "    except Exception:\n",
    "        # Сохраняем информацию об исключении в log.txt\n",
    "        log_file = open(\"log.txt\", \"a+\")\n",
    "        traceback.print_exc(file=log_file)\n",
    "        log_file.close()\n",
    "        # Выводим сообщение для пользователя\n",
    "        print(\"Неверное значение\")\n",
    "\n",
    "# Вывод результата\n",
    "print(\"Ответ:\", result)"
   ]
  },
  {
   "cell_type": "code",
   "execution_count": null,
   "id": "2cd3d966",
   "metadata": {},
   "outputs": [],
   "source": [
    "import traceback\n",
    "\n",
    "while True:\n",
    "    number = input(\"Введите число: \")\n",
    "    \n",
    "    try:\n",
    "        # Преобразуем строку к вещественному числу\n",
    "        number = float(number)\n",
    "        if number == 1:\n",
    "            number = None\n",
    "        # Какие-то вычисления\n",
    "        result = 100 / number\n",
    "        break\n",
    "    # Перехват исключений ValueError и NameError\n",
    "    except (ValueError, NameError):\n",
    "        print(\"Ошибка. Введите число\")\n",
    "    # Перехват исключения деления на 0\n",
    "    except ZeroDivisionError:\n",
    "        result = \"бесконечность\"\n",
    "        break\n",
    "    # Перехват исключения TypeError\n",
    "    except TypeError:\n",
    "        print(\"Ошибка. Не вводите 1\")\n",
    "    # Перехват всех исключений\n",
    "    except Exception:\n",
    "        # Сохраняем информацию об исключении в log.txt\n",
    "        log_file = open(\"log.txt\", \"a+\")\n",
    "        traceback.print_exc(file=log_file)\n",
    "        log_file.close()\n",
    "        # Выводим сообщение для пользователя\n",
    "        print(\"Неверное значение\")\n",
    "\n",
    "# Вывод результата\n",
    "print(\"Ответ:\", result)"
   ]
  },
  {
   "cell_type": "code",
   "execution_count": null,
   "id": "91940322",
   "metadata": {},
   "outputs": [],
   "source": []
  }
 ],
 "metadata": {
  "kernelspec": {
   "display_name": "Python 3 (ipykernel)",
   "language": "python",
   "name": "python3"
  },
  "language_info": {
   "codemirror_mode": {
    "name": "ipython",
    "version": 3
   },
   "file_extension": ".py",
   "mimetype": "text/x-python",
   "name": "python",
   "nbconvert_exporter": "python",
   "pygments_lexer": "ipython3",
   "version": "3.9.13"
  }
 },
 "nbformat": 4,
 "nbformat_minor": 5
}
