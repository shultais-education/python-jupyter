{
 "cells": [
  {
   "cell_type": "markdown",
   "id": "744c2892",
   "metadata": {},
   "source": [
    "# Вложенные циклы"
   ]
  },
  {
   "cell_type": "code",
   "execution_count": 16,
   "id": "c8a31e9a",
   "metadata": {},
   "outputs": [
    {
     "name": "stdout",
     "output_type": "stream",
     "text": [
      "2021\n",
      "2022\n",
      "2023\n"
     ]
    }
   ],
   "source": [
    "# Вывод годов\n",
    "year = 2021\n",
    "while year <= 2023:\n",
    "    print(year)\n",
    "    year += 1"
   ]
  },
  {
   "cell_type": "code",
   "execution_count": 17,
   "id": "a71eb6af",
   "metadata": {},
   "outputs": [
    {
     "name": "stdout",
     "output_type": "stream",
     "text": [
      "2021\n",
      "   1\n",
      "   2\n",
      "   3\n",
      "   4\n",
      "   5\n",
      "   6\n",
      "   7\n",
      "   8\n",
      "   9\n",
      "  10\n",
      "  11\n",
      "  12\n",
      "2022\n",
      "   1\n",
      "   2\n",
      "   3\n",
      "   4\n",
      "   5\n",
      "   6\n",
      "   7\n",
      "   8\n",
      "   9\n",
      "  10\n",
      "  11\n",
      "  12\n",
      "2023\n",
      "   1\n",
      "   2\n",
      "   3\n",
      "   4\n",
      "   5\n",
      "   6\n",
      "   7\n",
      "   8\n",
      "   9\n",
      "  10\n",
      "  11\n",
      "  12\n"
     ]
    }
   ],
   "source": [
    "# Вывод годов и месяцев\n",
    "year = 2021          # Счетчик основго цикла\n",
    "while year <= 2023:\n",
    "    print(year)\n",
    "    \n",
    "    month = 1        # Счетчик вложенного цикла\n",
    "    while month <= 12:\n",
    "        print(f\"{month:>4}\")\n",
    "        month += 1\n",
    "    \n",
    "    year += 1"
   ]
  },
  {
   "cell_type": "markdown",
   "id": "f22ff7a5",
   "metadata": {},
   "source": [
    "## <span style=\"color:coral\">Возможные ошибки</span>"
   ]
  },
  {
   "cell_type": "code",
   "execution_count": 18,
   "id": "89304e27",
   "metadata": {},
   "outputs": [
    {
     "name": "stdout",
     "output_type": "stream",
     "text": [
      "2021\n",
      "   1\n",
      "   2\n",
      "   3\n",
      "   4\n",
      "   5\n",
      "   6\n",
      "   7\n",
      "   8\n",
      "   9\n",
      "  10\n",
      "  11\n",
      "  12\n",
      "2022\n",
      "2023\n"
     ]
    }
   ],
   "source": [
    "# Неверное задание начальных значений \n",
    "year = 2021          # Счетчик основго цикла\n",
    "month = 1            # Счетчик вложенного цикла не на своем месте\n",
    "while year <= 2023:\n",
    "    print(year)\n",
    "\n",
    "    while month <= 12:\n",
    "        print(f\"{month:>4}\")\n",
    "        month += 1\n",
    "    \n",
    "    year += 1"
   ]
  },
  {
   "cell_type": "markdown",
   "id": "a11d26d2",
   "metadata": {},
   "source": [
    "### <span style=\"color:red\">Осторожно! Бесконечный цикл!</span>"
   ]
  },
  {
   "cell_type": "code",
   "execution_count": null,
   "id": "9423cc9b",
   "metadata": {},
   "outputs": [],
   "source": [
    "# Неправильная позиция для шага вложенного цикла \n",
    "year = 2021          \n",
    "while year <= 2023:\n",
    "    print(year)\n",
    "    \n",
    "    month = 1\n",
    "    while month <= 12:\n",
    "        print(f\"{month:>4}\")\n",
    "        \n",
    "    month += 1  # Шаг вложенного цикла находится на уровне основного\n",
    "    year += 1   # Шаг основного цикла"
   ]
  },
  {
   "cell_type": "markdown",
   "id": "efce9822",
   "metadata": {},
   "source": [
    "### Безопасный, но неправильный код"
   ]
  },
  {
   "cell_type": "code",
   "execution_count": 19,
   "id": "1c657415",
   "metadata": {},
   "outputs": [
    {
     "name": "stdout",
     "output_type": "stream",
     "text": [
      "2021\n",
      "   1\n",
      "   2\n",
      "   3\n",
      "   4\n",
      "   5\n",
      "   6\n",
      "   7\n",
      "   8\n",
      "   9\n",
      "  10\n",
      "  11\n",
      "  12\n",
      "13.2033\n"
     ]
    }
   ],
   "source": [
    "# Неправильная позиция для шага внешнего цикла \n",
    "year = 2021          \n",
    "while year <= 2023:\n",
    "    print(year)\n",
    "    \n",
    "    month = 1\n",
    "    while month <= 12:\n",
    "        print(f\"{month:>4}\")\n",
    "        month += 1\n",
    "        year += 1\n",
    "\n",
    "print(f\"{month}.{year}\")"
   ]
  },
  {
   "cell_type": "markdown",
   "id": "9dd8f4c4",
   "metadata": {},
   "source": [
    "## Вложенные циклы одного уровня"
   ]
  },
  {
   "cell_type": "code",
   "execution_count": 3,
   "id": "8bb409a1",
   "metadata": {},
   "outputs": [
    {
     "name": "stdout",
     "output_type": "stream",
     "text": [
      "2021\n",
      "   1\n",
      "   2\n",
      "   3\n",
      "   4\n",
      "   5\n",
      "   6\n",
      "   7\n",
      "   8\n",
      "   9\n",
      "  10\n",
      "  11\n",
      "  12\n",
      "\n",
      "1.2021\n",
      "2.2021\n",
      "3.2021\n",
      "4.2021\n",
      "- - - - - - - - - - - - - - - - - - - - \n",
      "2022\n",
      "   1\n",
      "   2\n",
      "   3\n",
      "   4\n",
      "   5\n",
      "   6\n",
      "   7\n",
      "   8\n",
      "   9\n",
      "  10\n",
      "  11\n",
      "  12\n",
      "\n",
      "1.2022\n",
      "2.2022\n",
      "3.2022\n",
      "4.2022\n",
      "- - - - - - - - - - - - - - - - - - - - \n",
      "2023\n",
      "   1\n",
      "   2\n",
      "   3\n",
      "   4\n",
      "   5\n",
      "   6\n",
      "   7\n",
      "   8\n",
      "   9\n",
      "  10\n",
      "  11\n",
      "  12\n",
      "\n",
      "1.2023\n",
      "2.2023\n",
      "3.2023\n",
      "4.2023\n",
      "- - - - - - - - - - - - - - - - - - - - \n"
     ]
    }
   ],
   "source": [
    "year = 2021          \n",
    "while year <= 2023:\n",
    "    print(year)\n",
    "    \n",
    "    month = 1\n",
    "    while month <= 12:\n",
    "        print(f\"{month:>4}\")\n",
    "        month += 1\n",
    "        \n",
    "    print()\n",
    "    \n",
    "    quarter = 1\n",
    "    while quarter <= 4:\n",
    "        print(f\"{quarter}.{year}\")\n",
    "        quarter += 1\n",
    "        \n",
    "    print(\"- \" * 20)\n",
    "    \n",
    "    year += 1"
   ]
  },
  {
   "cell_type": "code",
   "execution_count": null,
   "id": "ce515ffc",
   "metadata": {},
   "outputs": [],
   "source": []
  }
 ],
 "metadata": {
  "kernelspec": {
   "display_name": "Python 3 (ipykernel)",
   "language": "python",
   "name": "python3"
  },
  "language_info": {
   "codemirror_mode": {
    "name": "ipython",
    "version": 3
   },
   "file_extension": ".py",
   "mimetype": "text/x-python",
   "name": "python",
   "nbconvert_exporter": "python",
   "pygments_lexer": "ipython3",
   "version": "3.9.7"
  }
 },
 "nbformat": 4,
 "nbformat_minor": 5
}
