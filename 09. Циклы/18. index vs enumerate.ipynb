{
 "cells": [
  {
   "cell_type": "markdown",
   "id": "c5da8e82",
   "metadata": {},
   "source": [
    "# index vs enumerate"
   ]
  },
  {
   "cell_type": "code",
   "execution_count": 2,
   "id": "afed174d",
   "metadata": {},
   "outputs": [
    {
     "name": "stdout",
     "output_type": "stream",
     "text": [
      "0 480000\n",
      "1 605000\n",
      "2 1600000\n",
      "3 2000000\n",
      "4 2900000\n",
      "5 5300000\n",
      "6 12000000\n"
     ]
    }
   ],
   "source": [
    "populations = [12000000, 5300000, 1600000, 480000, 605000, 2900000, 2000000]\n",
    "\n",
    "# Индексы НЕ совпдаают \n",
    "for i, pop in enumerate(sorted(populations)):\n",
    "    print(i, pop)"
   ]
  },
  {
   "cell_type": "markdown",
   "id": "029e4ae4",
   "metadata": {},
   "source": [
    "## Метод .index()"
   ]
  },
  {
   "cell_type": "code",
   "execution_count": 3,
   "id": "c487ab81",
   "metadata": {},
   "outputs": [
    {
     "name": "stdout",
     "output_type": "stream",
     "text": [
      "3 480000\n",
      "4 605000\n",
      "2 1600000\n",
      "6 2000000\n",
      "5 2900000\n",
      "1 5300000\n",
      "0 12000000\n"
     ]
    }
   ],
   "source": [
    "# Получаем индекс элемента через метод .index\n",
    "for pop in sorted(populations):\n",
    "    i = populations.index(pop)\n",
    "    print(i, pop)"
   ]
  },
  {
   "cell_type": "code",
   "execution_count": 4,
   "id": "5c2ebf2c",
   "metadata": {},
   "outputs": [],
   "source": [
    "# Копируем первый элемент\n",
    "populations.append(populations[0])"
   ]
  },
  {
   "cell_type": "code",
   "execution_count": 5,
   "id": "e6d9b5f2",
   "metadata": {},
   "outputs": [
    {
     "name": "stdout",
     "output_type": "stream",
     "text": [
      "3 480000\n",
      "4 605000\n",
      "2 1600000\n",
      "6 2000000\n",
      "5 2900000\n",
      "1 5300000\n",
      "0 12000000\n",
      "0 12000000\n"
     ]
    }
   ],
   "source": [
    "# Дублирование индекса 0\n",
    "for pop in sorted(populations):\n",
    "    i = populations.index(pop)\n",
    "    print(i, pop)"
   ]
  },
  {
   "cell_type": "markdown",
   "id": "06b6a939",
   "metadata": {},
   "source": [
    "## Обогащение данных"
   ]
  },
  {
   "cell_type": "code",
   "execution_count": 7,
   "id": "f025185f",
   "metadata": {},
   "outputs": [
    {
     "name": "stdout",
     "output_type": "stream",
     "text": [
      "[(0, 12000000), (1, 5300000), (2, 1600000), (3, 480000), (4, 605000), (5, 2900000), (6, 2000000), (7, 12000000)]\n"
     ]
    }
   ],
   "source": [
    "# Создаем список, который содержит и индекс, и значение элемента.\n",
    "for i, pop in enumerate(populations):\n",
    "    populations[i] = (i, pop)\n",
    "print(populations)"
   ]
  },
  {
   "cell_type": "markdown",
   "id": "4f8f8f8f",
   "metadata": {},
   "source": [
    "## Сортировка с помощью key=lambda"
   ]
  },
  {
   "cell_type": "code",
   "execution_count": 8,
   "id": "1fcfc49a",
   "metadata": {},
   "outputs": [
    {
     "name": "stdout",
     "output_type": "stream",
     "text": [
      "(3, 480000)\n",
      "(4, 605000)\n",
      "(2, 1600000)\n",
      "(6, 2000000)\n",
      "(5, 2900000)\n",
      "(1, 5300000)\n",
      "(0, 12000000)\n",
      "(7, 12000000)\n"
     ]
    }
   ],
   "source": [
    "# Сортируем кортеж по населению\n",
    "for pop in sorted(populations, key=lambda p: p[1]):\n",
    "    print(pop)"
   ]
  },
  {
   "cell_type": "code",
   "execution_count": 9,
   "id": "dceff927",
   "metadata": {},
   "outputs": [
    {
     "name": "stdout",
     "output_type": "stream",
     "text": [
      "3 480000\n",
      "4 605000\n",
      "2 1600000\n",
      "6 2000000\n",
      "5 2900000\n",
      "1 5300000\n",
      "0 12000000\n",
      "7 12000000\n"
     ]
    }
   ],
   "source": [
    "# Распаковываем кортеж\n",
    "for i, pop in sorted(populations, key=lambda p: p[1]):\n",
    "    print(i, pop)"
   ]
  },
  {
   "cell_type": "code",
   "execution_count": null,
   "id": "3c80c696",
   "metadata": {},
   "outputs": [],
   "source": []
  }
 ],
 "metadata": {
  "kernelspec": {
   "display_name": "Python 3 (ipykernel)",
   "language": "python",
   "name": "python3"
  },
  "language_info": {
   "codemirror_mode": {
    "name": "ipython",
    "version": 3
   },
   "file_extension": ".py",
   "mimetype": "text/x-python",
   "name": "python",
   "nbconvert_exporter": "python",
   "pygments_lexer": "ipython3",
   "version": "3.9.7"
  }
 },
 "nbformat": 4,
 "nbformat_minor": 5
}
