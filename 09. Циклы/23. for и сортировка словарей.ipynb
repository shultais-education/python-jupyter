{
 "cells": [
  {
   "cell_type": "markdown",
   "id": "62cd3553",
   "metadata": {},
   "source": [
    "# for и сортировка словарей"
   ]
  },
  {
   "cell_type": "code",
   "execution_count": 6,
   "id": "9df260be",
   "metadata": {},
   "outputs": [],
   "source": [
    "cities = {\n",
    "    \"Каир\":      16_925_000,\n",
    "    \"Токио\":     38_505_000,\n",
    "    \"Дакка\":     18_595_000,\n",
    "    \"Шанхай\":    22_125_000,\n",
    "    \"Мехико\":    20_395_000,\n",
    "    \"Пекин\":     19_430_000,\n",
    "    \"Мумбаи\":    23_645_000,\n",
    "    \"Дели\":      28_125_000,\n",
    "    \"Осака\":     19_281_000,\n",
    "    \"Сан-Паулу\": 20_935_000\n",
    "}"
   ]
  },
  {
   "cell_type": "markdown",
   "id": "c53a0c3f",
   "metadata": {},
   "source": [
    "## Сортировка по ключу"
   ]
  },
  {
   "cell_type": "code",
   "execution_count": 7,
   "id": "dfe2961d",
   "metadata": {},
   "outputs": [
    {
     "name": "stdout",
     "output_type": "stream",
     "text": [
      "Дакка\n",
      "Дели\n",
      "Каир\n",
      "Мехико\n",
      "Мумбаи\n",
      "Осака\n",
      "Пекин\n",
      "Сан-Паулу\n",
      "Токио\n",
      "Шанхай\n"
     ]
    }
   ],
   "source": [
    "# Сортирвока по ключу (названию города)\n",
    "for city in sorted(cities):\n",
    "    print(city)"
   ]
  },
  {
   "cell_type": "code",
   "execution_count": 10,
   "id": "09f969dc",
   "metadata": {},
   "outputs": [
    {
     "name": "stdout",
     "output_type": "stream",
     "text": [
      "Дакка      18595000\n",
      "Дели       28125000\n",
      "Каир       16925000\n",
      "Мехико     20395000\n",
      "Мумбаи     23645000\n",
      "Осака      19281000\n",
      "Пекин      19430000\n",
      "Сан-Паулу  20935000\n",
      "Токио      38505000\n",
      "Шанхай     22125000\n"
     ]
    }
   ],
   "source": [
    "# Вывод ключей с значений\n",
    "for city in sorted(cities):\n",
    "    print(f\"{city:<10}\", cities[city])"
   ]
  },
  {
   "cell_type": "markdown",
   "id": "b9f12c46",
   "metadata": {},
   "source": [
    "## Сортировка по значению"
   ]
  },
  {
   "cell_type": "code",
   "execution_count": 11,
   "id": "faba7c11",
   "metadata": {},
   "outputs": [
    {
     "name": "stdout",
     "output_type": "stream",
     "text": [
      "('Каир', 16925000)\n",
      "('Дакка', 18595000)\n",
      "('Осака', 19281000)\n",
      "('Пекин', 19430000)\n",
      "('Мехико', 20395000)\n",
      "('Сан-Паулу', 20935000)\n",
      "('Шанхай', 22125000)\n",
      "('Мумбаи', 23645000)\n",
      "('Дели', 28125000)\n",
      "('Токио', 38505000)\n"
     ]
    }
   ],
   "source": [
    "# Вывод ключей с значений\n",
    "for city in sorted(cities.items(), key=lambda p: p[1]):\n",
    "    # print(f\"{city:<10}\", cities[city])\n",
    "    print(city)"
   ]
  },
  {
   "cell_type": "code",
   "execution_count": 13,
   "id": "54af6ad6",
   "metadata": {},
   "outputs": [
    {
     "name": "stdout",
     "output_type": "stream",
     "text": [
      "Каир       16925000\n",
      "Дакка      18595000\n",
      "Осака      19281000\n",
      "Пекин      19430000\n",
      "Мехико     20395000\n",
      "Сан-Паулу  20935000\n",
      "Шанхай     22125000\n",
      "Мумбаи     23645000\n",
      "Дели       28125000\n",
      "Токио      38505000\n"
     ]
    }
   ],
   "source": [
    "# Форматированный вывод с сортировкой\n",
    "for city, pop in sorted(cities.items(), key=lambda p: p[1]):\n",
    "    print(f\"{city:<10}\", pop)"
   ]
  },
  {
   "cell_type": "markdown",
   "id": "5bfc4a09",
   "metadata": {},
   "source": [
    "## Сортировка по ключу с key-lambda"
   ]
  },
  {
   "cell_type": "code",
   "execution_count": 14,
   "id": "308d3a98",
   "metadata": {},
   "outputs": [
    {
     "name": "stdout",
     "output_type": "stream",
     "text": [
      "Дакка      18595000\n",
      "Дели       28125000\n",
      "Каир       16925000\n",
      "Мехико     20395000\n",
      "Мумбаи     23645000\n",
      "Осака      19281000\n",
      "Пекин      19430000\n",
      "Сан-Паулу  20935000\n",
      "Токио      38505000\n",
      "Шанхай     22125000\n"
     ]
    }
   ],
   "source": [
    "for city, pop in sorted(cities.items(), key=lambda p: p[0]):\n",
    "    print(f\"{city:<10}\", pop)"
   ]
  },
  {
   "cell_type": "code",
   "execution_count": 16,
   "id": "1558d7cf",
   "metadata": {},
   "outputs": [],
   "source": [
    "# Изменяем словарь\n",
    "cities[\"дакка\"] = cities[\"Дакка\"]\n",
    "del cities[\"Дакка\"]"
   ]
  },
  {
   "cell_type": "code",
   "execution_count": 17,
   "id": "8f57b646",
   "metadata": {},
   "outputs": [
    {
     "name": "stdout",
     "output_type": "stream",
     "text": [
      "дакка      18595000\n",
      "Дели       28125000\n",
      "Каир       16925000\n",
      "Мехико     20395000\n",
      "Мумбаи     23645000\n",
      "Осака      19281000\n",
      "Пекин      19430000\n",
      "Сан-Паулу  20935000\n",
      "Токио      38505000\n",
      "Шанхай     22125000\n"
     ]
    }
   ],
   "source": [
    "# Сортировка без учета регистра\n",
    "for city, pop in sorted(cities.items(), key=lambda p: p[0].lower()):\n",
    "    print(f\"{city:<10}\", pop)"
   ]
  },
  {
   "cell_type": "code",
   "execution_count": 18,
   "id": "3b9bfa29",
   "metadata": {},
   "outputs": [
    {
     "name": "stdout",
     "output_type": "stream",
     "text": [
      "Дакка      18595000\n",
      "Дели       28125000\n",
      "Каир       16925000\n",
      "Мехико     20395000\n",
      "Мумбаи     23645000\n",
      "Осака      19281000\n",
      "Пекин      19430000\n",
      "Сан-Паулу  20935000\n",
      "Токио      38505000\n",
      "Шанхай     22125000\n"
     ]
    }
   ],
   "source": [
    "# Дополнительное форматирование\n",
    "for city, pop in sorted(cities.items(), key=lambda p: p[0].lower()):\n",
    "    print(f\"{city:<10}\".title(), pop)"
   ]
  },
  {
   "cell_type": "code",
   "execution_count": 19,
   "id": "401bf437",
   "metadata": {},
   "outputs": [
    {
     "name": "stdout",
     "output_type": "stream",
     "text": [
      "Каир       16925000\n",
      "Дели       28125000\n",
      "Токио      38505000\n",
      "Пекин      19430000\n",
      "Осака      19281000\n",
      "Дакка      18595000\n",
      "Шанхай     22125000\n",
      "Мехико     20395000\n",
      "Мумбаи     23645000\n",
      "Сан-Паулу  20935000\n"
     ]
    }
   ],
   "source": [
    "# Сортировка по длине названия\n",
    "for city, pop in sorted(cities.items(), key=lambda p: len(p[0])):\n",
    "    print(f\"{city:<10}\".title(), pop)"
   ]
  },
  {
   "cell_type": "code",
   "execution_count": 22,
   "id": "40bf548f",
   "metadata": {},
   "outputs": [
    {
     "name": "stdout",
     "output_type": "stream",
     "text": [
      "Сан-Паулу  20935000\n",
      "Шанхай     22125000\n",
      "Мехико     20395000\n",
      "Мумбаи     23645000\n",
      "Токио      38505000\n",
      "Пекин      19430000\n",
      "Осака      19281000\n",
      "Дакка      18595000\n",
      "Каир       16925000\n",
      "Дели       28125000\n"
     ]
    }
   ],
   "source": [
    "# Сортировка по длине названия в обратном порядке\n",
    "for city, pop in sorted(cities.items(), key=lambda p: len(p[0]), reverse=True):\n",
    "    print(f\"{city:<10}\".title(), pop)"
   ]
  },
  {
   "cell_type": "code",
   "execution_count": null,
   "id": "0555173b",
   "metadata": {},
   "outputs": [],
   "source": []
  }
 ],
 "metadata": {
  "kernelspec": {
   "display_name": "Python 3 (ipykernel)",
   "language": "python",
   "name": "python3"
  },
  "language_info": {
   "codemirror_mode": {
    "name": "ipython",
    "version": 3
   },
   "file_extension": ".py",
   "mimetype": "text/x-python",
   "name": "python",
   "nbconvert_exporter": "python",
   "pygments_lexer": "ipython3",
   "version": "3.9.7"
  }
 },
 "nbformat": 4,
 "nbformat_minor": 5
}
