{
 "cells": [
  {
   "cell_type": "markdown",
   "id": "462f3750",
   "metadata": {},
   "source": [
    "# Цикл for для строк"
   ]
  },
  {
   "cell_type": "code",
   "execution_count": 3,
   "id": "76c9c53f",
   "metadata": {},
   "outputs": [
    {
     "name": "stdout",
     "output_type": "stream",
     "text": [
      "3\n"
     ]
    }
   ],
   "source": [
    "word = \"программа\"\n",
    "syllables = 0\n",
    "for char in word:\n",
    "    if char in \"аоиыеэяёую\":\n",
    "        syllables += 1\n",
    "        \n",
    "print(syllables)"
   ]
  },
  {
   "cell_type": "markdown",
   "id": "ac8d82d9",
   "metadata": {},
   "source": [
    "Сокращенная запись:"
   ]
  },
  {
   "cell_type": "code",
   "execution_count": 6,
   "id": "7f73ef64",
   "metadata": {},
   "outputs": [
    {
     "name": "stdout",
     "output_type": "stream",
     "text": [
      "3\n"
     ]
    }
   ],
   "source": [
    "syllables = 0\n",
    "for char in word:\n",
    "    syllables += char in \"аоиыеэяёую\"\n",
    "\n",
    "print(syllables)"
   ]
  },
  {
   "cell_type": "markdown",
   "id": "9be3d721",
   "metadata": {},
   "source": [
    "**Популярная ошибка перебора строк в цикле for**:"
   ]
  },
  {
   "cell_type": "code",
   "execution_count": 8,
   "id": "58b58f98",
   "metadata": {},
   "outputs": [
    {
     "name": "stdout",
     "output_type": "stream",
     "text": [
      "3\n"
     ]
    }
   ],
   "source": [
    "syllables = 0\n",
    "for char in list(word):\n",
    "    syllables += char in \"аоиыеэяёую\"\n",
    "\n",
    "print(syllables)"
   ]
  },
  {
   "cell_type": "markdown",
   "id": "734e2fbe",
   "metadata": {},
   "source": [
    "Дополнительное преобразование к списку не нужно, так как строка **word** - это последовательность, а цикл **for** отлично справляется с перебором любых последовательностей."
   ]
  },
  {
   "cell_type": "code",
   "execution_count": null,
   "id": "ac7d93e7",
   "metadata": {},
   "outputs": [],
   "source": []
  }
 ],
 "metadata": {
  "kernelspec": {
   "display_name": "Python 3 (ipykernel)",
   "language": "python",
   "name": "python3"
  },
  "language_info": {
   "codemirror_mode": {
    "name": "ipython",
    "version": 3
   },
   "file_extension": ".py",
   "mimetype": "text/x-python",
   "name": "python",
   "nbconvert_exporter": "python",
   "pygments_lexer": "ipython3",
   "version": "3.9.7"
  }
 },
 "nbformat": 4,
 "nbformat_minor": 5
}
