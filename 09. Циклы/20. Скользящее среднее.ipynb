{
 "cells": [
  {
   "cell_type": "markdown",
   "id": "5ecefb32",
   "metadata": {},
   "source": [
    "# Скользящее среднее"
   ]
  },
  {
   "cell_type": "code",
   "execution_count": 1,
   "id": "4feb3e5b",
   "metadata": {},
   "outputs": [],
   "source": [
    "revenues = [100, 110, 120, 130, 140, 150, 160, 170, 180, 190, 200, 210]"
   ]
  },
  {
   "cell_type": "markdown",
   "id": "3a304cc8",
   "metadata": {},
   "source": [
    "Неправильное вычисление скользящего среднего:"
   ]
  },
  {
   "cell_type": "code",
   "execution_count": 19,
   "id": "9031bab4",
   "metadata": {},
   "outputs": [
    {
     "name": "stdout",
     "output_type": "stream",
     "text": [
      "70.0\n",
      "110.0\n",
      "120.0\n",
      "130.0\n",
      "140.0\n",
      "150.0\n",
      "160.0\n",
      "170.0\n",
      "180.0\n",
      "190.0\n",
      "200.0\n",
      "136.66666666666666\n"
     ]
    }
   ],
   "source": [
    "prev_revenue = 0\n",
    "for idx, revenue in enumerate(revenues):\n",
    "    next_revenue = revenues[idx + 1] if idx < len(revenues) - 1 else 0\n",
    "    prev_revenue = revenues[idx - 1] if idx > 0 else 0\n",
    "    roll_avg = sum([prev_revenue, revenue, http://localhost:8888/notebooks/Documents/Jupyter/PythonJupyter/09.%20%D0%A6%D0%B8%D0%BA%D0%BB%D1%8B/20.%20%D0%A1%D0%BA%D0%BE%D0%BB%D1%8C%D0%B7%D1%8F%D1%89%D0%B5%D0%B5%20%D1%81%D1%80%D0%B5%D0%B4%D0%BD%D0%B5%D0%B5.ipynb#next_revenue]) / 3\n",
    "    print(roll_avg)"
   ]
  },
  {
   "cell_type": "markdown",
   "id": "75314528",
   "metadata": {},
   "source": [
    "Правильное вычисление скользящего среднего:"
   ]
  },
  {
   "cell_type": "code",
   "execution_count": 24,
   "id": "638116a6",
   "metadata": {},
   "outputs": [
    {
     "name": "stdout",
     "output_type": "stream",
     "text": [
      "105.0\n",
      "110.0\n",
      "120.0\n",
      "130.0\n",
      "140.0\n",
      "150.0\n",
      "160.0\n",
      "170.0\n",
      "180.0\n",
      "190.0\n",
      "200.0\n",
      "205.0\n"
     ]
    }
   ],
   "source": [
    "prev_revenue = 0\n",
    "for idx, revenue in enumerate(revenues):\n",
    "    next_revenue = revenues[idx + 1] if idx < len(revenues) - 1 else 0\n",
    "    prev_revenue = revenues[idx - 1] if idx > 0 else 0\n",
    "    roll_avg = sum([prev_revenue, revenue, next_revenue]) / (3 if idx > 0 and idx < len(revenues) -1 else 2)\n",
    "    print(roll_avg)"
   ]
  },
  {
   "cell_type": "markdown",
   "id": "6cb0e48a",
   "metadata": {},
   "source": [
    "Альтернативный способ вычисления скользящего среднего:"
   ]
  },
  {
   "cell_type": "code",
   "execution_count": 25,
   "id": "ec5521c6",
   "metadata": {},
   "outputs": [
    {
     "name": "stdout",
     "output_type": "stream",
     "text": [
      "105.0\n",
      "110.0\n",
      "120.0\n",
      "130.0\n",
      "140.0\n",
      "150.0\n",
      "160.0\n",
      "170.0\n",
      "180.0\n",
      "190.0\n",
      "200.0\n",
      "205.0\n"
     ]
    }
   ],
   "source": [
    "slices = []\n",
    "slices.append(tuple(revenues[:2]))\n",
    "for idx in range(1, len(revenues) - 1):\n",
    "    slices.append(tuple(revenues[idx - 1: idx + 2]))\n",
    "slices.append(tuple(revenues[-2:]))\n",
    "\n",
    "for slice in slices:\n",
    "    print(sum(slice) / len(slice))\n"
   ]
  },
  {
   "cell_type": "code",
   "execution_count": null,
   "id": "f7c3d918",
   "metadata": {},
   "outputs": [],
   "source": []
  }
 ],
 "metadata": {
  "kernelspec": {
   "display_name": "Python 3 (ipykernel)",
   "language": "python",
   "name": "python3"
  },
  "language_info": {
   "codemirror_mode": {
    "name": "ipython",
    "version": 3
   },
   "file_extension": ".py",
   "mimetype": "text/x-python",
   "name": "python",
   "nbconvert_exporter": "python",
   "pygments_lexer": "ipython3",
   "version": "3.9.7"
  }
 },
 "nbformat": 4,
 "nbformat_minor": 5
}
