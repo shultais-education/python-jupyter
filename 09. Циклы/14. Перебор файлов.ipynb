{
 "cells": [
  {
   "cell_type": "markdown",
   "id": "33e776da",
   "metadata": {},
   "source": [
    "# Перебор файлов"
   ]
  },
  {
   "cell_type": "markdown",
   "id": "1a1a5325",
   "metadata": {},
   "source": [
    "## Создание файла\n",
    "\n",
    "Создаем файл для последующей работы с ним."
   ]
  },
  {
   "cell_type": "code",
   "execution_count": 7,
   "id": "812af91c",
   "metadata": {
    "scrolled": true
   },
   "outputs": [
    {
     "data": {
      "text/plain": [
       "129"
      ]
     },
     "execution_count": 7,
     "metadata": {},
     "output_type": "execute_result"
    }
   ],
   "source": [
    "log_file = open(\"shultais.education.log\", \"w+\", encoding=\"utf-8\")\n",
    "log_file.write(\"\"\"Строка 1\n",
    "Строка 2 GET /blog\n",
    "Строка 3 GET /blog\n",
    "Строка 4\n",
    "Строка 5 GET /blog\n",
    "Строка 6\n",
    "Строка 7 GET /blog\n",
    "Строка 8\n",
    "Строка 9\n",
    "Строка 1\"\"\")\n",
    "\n"
   ]
  },
  {
   "cell_type": "markdown",
   "id": "fda5d922",
   "metadata": {},
   "source": [
    "## .read() + .split()\n",
    "\n",
    "Читаем файл целиком с помощью `.read()` и формируем список с помощью `.split()`"
   ]
  },
  {
   "cell_type": "code",
   "execution_count": 9,
   "id": "c2f03a1f",
   "metadata": {},
   "outputs": [
    {
     "name": "stdout",
     "output_type": "stream",
     "text": [
      "4\n"
     ]
    }
   ],
   "source": [
    "# Открываем файл в кодировке UTF-8 на чтение \n",
    "log_file = open(\"shultais.education.log\", \"r\", encoding=\"utf-8\")\n",
    "\n",
    "blog = 0\n",
    "\n",
    "# Читаем весь файл целиком в переменную data\n",
    "data = log_file.read()\n",
    "\n",
    "# Создаем список с помощью data.split(\"\\n\") и после обходим его\n",
    "for line in data.split(\"\\n\"):\n",
    "    if \"GET /blog\" in line:\n",
    "        blog += 1\n",
    "\n",
    "print(blog)"
   ]
  },
  {
   "cell_type": "markdown",
   "id": "7b83d07e",
   "metadata": {},
   "source": [
    "## .readlines()\n",
    "\n",
    "Метод `.readlines()` читает файл целиком и сразу создает список его строк."
   ]
  },
  {
   "cell_type": "code",
   "execution_count": 10,
   "id": "9a7496f3",
   "metadata": {},
   "outputs": [
    {
     "name": "stdout",
     "output_type": "stream",
     "text": [
      "4\n"
     ]
    }
   ],
   "source": [
    "log_file = open(\"shultais.education.log\", \"r\", encoding=\"utf-8\")\n",
    "\n",
    "\n",
    "blog = 0\n",
    "# Читаем файл целиком в список\n",
    "for line in log_file.readlines():\n",
    "    if \"GET /blog\" in line:\n",
    "        blog += 1\n",
    "\n",
    "print(blog)"
   ]
  },
  {
   "cell_type": "markdown",
   "id": "4d25542b",
   "metadata": {},
   "source": [
    "## Файловый итератор\n",
    "\n",
    "Позволяет читать файл построчно, что экономит оперативную память."
   ]
  },
  {
   "cell_type": "code",
   "execution_count": 11,
   "id": "528b1491",
   "metadata": {},
   "outputs": [
    {
     "name": "stdout",
     "output_type": "stream",
     "text": [
      "4\n"
     ]
    }
   ],
   "source": [
    "log_file = open(\"shultais.education.log\", \"r\", encoding=\"utf-8\")\n",
    "\n",
    "blog = 0\n",
    "for line in log_file:\n",
    "    if \"GET /blog\" in line:\n",
    "        blog += 1\n",
    "\n",
    "print(blog)"
   ]
  },
  {
   "cell_type": "code",
   "execution_count": 12,
   "id": "36025ea3",
   "metadata": {},
   "outputs": [
    {
     "name": "stdout",
     "output_type": "stream",
     "text": [
      "4\n"
     ]
    }
   ],
   "source": [
    "# Сокращенная запись без создания отдельно файловой переменной.\n",
    "blog = 0\n",
    "for line in open(\"shultais.education.log\", \"r\", encoding=\"utf-8\"):\n",
    "    if \"GET /blog\" in line:\n",
    "        blog += 1\n",
    "\n",
    "print(blog)"
   ]
  },
  {
   "cell_type": "markdown",
   "id": "881e4075",
   "metadata": {},
   "source": [
    "## Вывод строк файла\n",
    "\n",
    "Обратите внимание на двойной перенос строки, первый содержится в `line`, а второй добавляет `print()`."
   ]
  },
  {
   "cell_type": "code",
   "execution_count": 13,
   "id": "f98a1946",
   "metadata": {},
   "outputs": [
    {
     "name": "stdout",
     "output_type": "stream",
     "text": [
      "Строка 1\n",
      "\n",
      "Строка 2 GET /blog\n",
      "\n",
      "Строка 3 GET /blog\n",
      "\n",
      "Строка 4\n",
      "\n",
      "Строка 5 GET /blog\n",
      "\n",
      "Строка 6\n",
      "\n",
      "Строка 7 GET /blog\n",
      "\n",
      "Строка 8\n",
      "\n",
      "Строка 9\n",
      "\n",
      "Строка 10\n"
     ]
    }
   ],
   "source": [
    "# Вывод строк файла\n",
    "for line in open(\"shultais.education.log\", \"r\", encoding=\"utf-8\"):\n",
    "    print(line)\n"
   ]
  },
  {
   "cell_type": "code",
   "execution_count": 14,
   "id": "71b38c51",
   "metadata": {},
   "outputs": [
    {
     "name": "stdout",
     "output_type": "stream",
     "text": [
      "Строка 1\n",
      "Строка 2 GET /blog\n",
      "Строка 3 GET /blog\n",
      "Строка 4\n",
      "Строка 5 GET /blog\n",
      "Строка 6\n",
      "Строка 7 GET /blog\n",
      "Строка 8\n",
      "Строка 9\n",
      "Строка 10\n"
     ]
    }
   ],
   "source": [
    "# Очищаем строки от пробелов и переносов строк.\n",
    "for line in open(\"shultais.education.log\", \"r\", encoding=\"utf-8\"):\n",
    "    line = line.strip()\n",
    "    print(line)"
   ]
  },
  {
   "cell_type": "code",
   "execution_count": null,
   "id": "7b1d44c1",
   "metadata": {},
   "outputs": [],
   "source": []
  }
 ],
 "metadata": {
  "kernelspec": {
   "display_name": "Python 3 (ipykernel)",
   "language": "python",
   "name": "python3"
  },
  "language_info": {
   "codemirror_mode": {
    "name": "ipython",
    "version": 3
   },
   "file_extension": ".py",
   "mimetype": "text/x-python",
   "name": "python",
   "nbconvert_exporter": "python",
   "pygments_lexer": "ipython3",
   "version": "3.9.7"
  }
 },
 "nbformat": 4,
 "nbformat_minor": 5
}
