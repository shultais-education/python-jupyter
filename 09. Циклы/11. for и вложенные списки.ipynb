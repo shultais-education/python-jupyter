{
 "cells": [
  {
   "cell_type": "markdown",
   "id": "5fc5c5d2",
   "metadata": {},
   "source": [
    "# for и вложенные списки"
   ]
  },
  {
   "cell_type": "code",
   "execution_count": 8,
   "id": "02f88393",
   "metadata": {},
   "outputs": [],
   "source": [
    "revenues = [\n",
    "    [500, 500, 600, 600, 450, 500, 700, 600, 650, 700, 750, 700],\n",
    "    [600, 650, 300, 700, 750, 500, 800, 850, 900, 900, 750, 800],\n",
    "    [900, 800, 700, 600, 750, 850, 950, 900, 900, 700, 700, 600]\n",
    "]\n"
   ]
  },
  {
   "cell_type": "markdown",
   "id": "510d6f7a",
   "metadata": {},
   "source": [
    "Обход вложенных списков с выводом элементов:"
   ]
  },
  {
   "cell_type": "code",
   "execution_count": 9,
   "id": "132aa427",
   "metadata": {},
   "outputs": [
    {
     "name": "stdout",
     "output_type": "stream",
     "text": [
      "500\n",
      "500\n",
      "600\n",
      "600\n",
      "450\n",
      "500\n",
      "700\n",
      "600\n",
      "650\n",
      "700\n",
      "750\n",
      "700\n",
      "600\n",
      "650\n",
      "300\n",
      "700\n",
      "750\n",
      "500\n",
      "800\n",
      "850\n",
      "900\n",
      "900\n",
      "750\n",
      "800\n",
      "900\n",
      "800\n",
      "700\n",
      "600\n",
      "750\n",
      "850\n",
      "950\n",
      "900\n",
      "900\n",
      "700\n",
      "700\n",
      "600\n"
     ]
    }
   ],
   "source": [
    "for year_revenue in revenues:\n",
    "    for month_revenue in year_revenue:\n",
    "        print(month_revenue)"
   ]
  },
  {
   "cell_type": "markdown",
   "id": "63ae5637",
   "metadata": {},
   "source": [
    "Поиск минимального значения во вложенном списке:"
   ]
  },
  {
   "cell_type": "code",
   "execution_count": 10,
   "id": "d62febf8",
   "metadata": {},
   "outputs": [
    {
     "name": "stdout",
     "output_type": "stream",
     "text": [
      "300\n"
     ]
    }
   ],
   "source": [
    "min_month_revenue = None\n",
    "for year_revenue in revenues:\n",
    "    for month_revenue in year_revenue:\n",
    "        if min_month_revenue is None or min_month_revenue > month_revenue:\n",
    "            min_month_revenue = month_revenue\n",
    "\n",
    "print(min_month_revenue)"
   ]
  },
  {
   "cell_type": "markdown",
   "id": "737606e1",
   "metadata": {},
   "source": [
    "Упрощаем код с помощью `float(\"inf\")`:"
   ]
  },
  {
   "cell_type": "code",
   "execution_count": 11,
   "id": "09618f5c",
   "metadata": {},
   "outputs": [
    {
     "name": "stdout",
     "output_type": "stream",
     "text": [
      "300\n"
     ]
    }
   ],
   "source": [
    "min_month_revenue = float(\"inf\")\n",
    "for year_revenue in revenues:\n",
    "    for month_revenue in year_revenue:\n",
    "        if min_month_revenue > month_revenue:\n",
    "            min_month_revenue = month_revenue\n",
    "\n",
    "print(min_month_revenue)"
   ]
  },
  {
   "cell_type": "markdown",
   "id": "b4769744",
   "metadata": {},
   "source": [
    "Еще раз упрощаем код, на этот раз с помощью вложенной функции `min()` ищем минимальное значение среди всех месяцев текущего года, а затем внешней `min()` выбираем минимальное значение из двух элементов."
   ]
  },
  {
   "cell_type": "code",
   "execution_count": 12,
   "id": "ed82a3e1",
   "metadata": {},
   "outputs": [
    {
     "name": "stdout",
     "output_type": "stream",
     "text": [
      "300\n"
     ]
    }
   ],
   "source": [
    "min_month_revenue = float(\"inf\")\n",
    "for year_revenue in revenues:\n",
    "    min_month_revenue = min(min(year_revenue), min_month_revenue)\n",
    "    \n",
    "print(min_month_revenue)"
   ]
  },
  {
   "cell_type": "markdown",
   "id": "602d292c",
   "metadata": {},
   "source": [
    "Вывод всех кортежей из списка `revenue2022`:"
   ]
  },
  {
   "cell_type": "code",
   "execution_count": 17,
   "id": "fe1aecaf",
   "metadata": {},
   "outputs": [
    {
     "name": "stdout",
     "output_type": "stream",
     "text": [
      "('Январь', 500)\n",
      "('Февраль', 500)\n",
      "('Март', 600)\n",
      "('Апрель', 600)\n",
      "('Май', 450)\n",
      "('Июнь', 500)\n",
      "('Июль', 700)\n",
      "('Август', 600)\n",
      "('Сентябрь', 650)\n",
      "('Октябрь', 700)\n",
      "('Ноябрь', 750)\n",
      "('Декабрь', 700)\n"
     ]
    }
   ],
   "source": [
    "revenue2022 = [\n",
    "    (\"Январь\", 500), (\"Февраль\", 500), (\"Март\",    600), (\"Апрель\",  600), (\"Май\",  450),  (\"Июнь\",  500),\n",
    "    (\"Июль\",  700),  (\"Август\", 600), (\"Сентябрь\", 650), (\"Октябрь\", 700), (\"Ноябрь\", 750), (\"Декабрь\", 700)\n",
    "]\n",
    "\n",
    "for month_revenue in revenue2022:\n",
    "    print(month_revenue)"
   ]
  },
  {
   "cell_type": "markdown",
   "id": "39ce6442",
   "metadata": {},
   "source": [
    "Извлекаем данные из кортежей и выводим с форматированием:"
   ]
  },
  {
   "cell_type": "code",
   "execution_count": 18,
   "id": "9688d283",
   "metadata": {},
   "outputs": [
    {
     "name": "stdout",
     "output_type": "stream",
     "text": [
      "Январь       500\n",
      "Февраль      500\n",
      "Март         600\n",
      "Апрель       600\n",
      "Май          450\n",
      "Июнь         500\n",
      "Июль         700\n",
      "Август       600\n",
      "Сентябрь     650\n",
      "Октябрь      700\n",
      "Ноябрь       750\n",
      "Декабрь      700\n"
     ]
    }
   ],
   "source": [
    "for month_revenue in revenue2022:\n",
    "    month = month_revenue[0]\n",
    "    revenue = month_revenue[1]\n",
    "    print(f\"{month:<10}{revenue:>6}\")"
   ]
  },
  {
   "cell_type": "markdown",
   "id": "8b155519",
   "metadata": {},
   "source": [
    "Распаковываем кортеж в переменные:"
   ]
  },
  {
   "cell_type": "code",
   "execution_count": 19,
   "id": "849307e9",
   "metadata": {},
   "outputs": [
    {
     "name": "stdout",
     "output_type": "stream",
     "text": [
      "Январь       500\n",
      "Февраль      500\n",
      "Март         600\n",
      "Апрель       600\n",
      "Май          450\n",
      "Июнь         500\n",
      "Июль         700\n",
      "Август       600\n",
      "Сентябрь     650\n",
      "Октябрь      700\n",
      "Ноябрь       750\n",
      "Декабрь      700\n"
     ]
    }
   ],
   "source": [
    "for month_revenue in revenue2022:\n",
    "    month, revenue = month_revenue\n",
    "    print(f\"{month:<10}{revenue:>6}\")"
   ]
  },
  {
   "cell_type": "markdown",
   "id": "173fbcde",
   "metadata": {},
   "source": [
    "Распаковка сразу в цикле `for`:"
   ]
  },
  {
   "cell_type": "code",
   "execution_count": 20,
   "id": "208968f2",
   "metadata": {},
   "outputs": [
    {
     "name": "stdout",
     "output_type": "stream",
     "text": [
      "Январь       500\n",
      "Февраль      500\n",
      "Март         600\n",
      "Апрель       600\n",
      "Май          450\n",
      "Июнь         500\n",
      "Июль         700\n",
      "Август       600\n",
      "Сентябрь     650\n",
      "Октябрь      700\n",
      "Ноябрь       750\n",
      "Декабрь      700\n"
     ]
    }
   ],
   "source": [
    "for month, revenue in revenue2022:\n",
    "    print(f\"{month:<10}{revenue:>6}\")"
   ]
  },
  {
   "cell_type": "code",
   "execution_count": null,
   "id": "be529297",
   "metadata": {},
   "outputs": [],
   "source": []
  }
 ],
 "metadata": {
  "kernelspec": {
   "display_name": "Python 3 (ipykernel)",
   "language": "python",
   "name": "python3"
  },
  "language_info": {
   "codemirror_mode": {
    "name": "ipython",
    "version": 3
   },
   "file_extension": ".py",
   "mimetype": "text/x-python",
   "name": "python",
   "nbconvert_exporter": "python",
   "pygments_lexer": "ipython3",
   "version": "3.9.7"
  }
 },
 "nbformat": 4,
 "nbformat_minor": 5
}
