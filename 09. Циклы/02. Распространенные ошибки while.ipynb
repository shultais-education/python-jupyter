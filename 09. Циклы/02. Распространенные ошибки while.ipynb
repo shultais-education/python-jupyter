{
 "cells": [
  {
   "cell_type": "markdown",
   "id": "9e9a12d6",
   "metadata": {},
   "source": [
    "# Распространенные ошибки while\n",
    "\n",
    "Цикл с предусловием может как не выполнить ни одной итерации, так и выполнять итерации до бесконечности."
   ]
  },
  {
   "cell_type": "code",
   "execution_count": null,
   "id": "0cc65cd1",
   "metadata": {},
   "outputs": [],
   "source": [
    "# Начальное значение не позволяет войти в цикл и ни одна итерация не будет выполнена.\n",
    "i = -10\n",
    "while i >= -5:    \n",
    "    print(i)\n",
    "    i -= 1"
   ]
  },
  {
   "cell_type": "code",
   "execution_count": 1,
   "id": "6e5cfaa6",
   "metadata": {},
   "outputs": [
    {
     "ename": "NameError",
     "evalue": "name 'j' is not defined",
     "output_type": "error",
     "traceback": [
      "\u001b[0;31m---------------------------------------------------------------------------\u001b[0m",
      "\u001b[0;31mNameError\u001b[0m                                 Traceback (most recent call last)",
      "\u001b[0;32m/var/folders/06/yl2tjjzn0779079l4x8lq1y80000gn/T/ipykernel_95348/3132021887.py\u001b[0m in \u001b[0;36m<module>\u001b[0;34m\u001b[0m\n\u001b[1;32m      1\u001b[0m \u001b[0;31m# Начальное значение не задано, возникает ошибка NameError\u001b[0m\u001b[0;34m\u001b[0m\u001b[0;34m\u001b[0m\u001b[0m\n\u001b[0;32m----> 2\u001b[0;31m \u001b[0;32mwhile\u001b[0m \u001b[0mj\u001b[0m \u001b[0;34m>=\u001b[0m \u001b[0;34m-\u001b[0m\u001b[0;36m5\u001b[0m\u001b[0;34m:\u001b[0m\u001b[0;34m\u001b[0m\u001b[0;34m\u001b[0m\u001b[0m\n\u001b[0m\u001b[1;32m      3\u001b[0m     \u001b[0mprint\u001b[0m\u001b[0;34m(\u001b[0m\u001b[0mj\u001b[0m\u001b[0;34m)\u001b[0m\u001b[0;34m\u001b[0m\u001b[0;34m\u001b[0m\u001b[0m\n\u001b[1;32m      4\u001b[0m     \u001b[0mj\u001b[0m \u001b[0;34m-=\u001b[0m \u001b[0;36m1\u001b[0m\u001b[0;34m\u001b[0m\u001b[0;34m\u001b[0m\u001b[0m\n",
      "\u001b[0;31mNameError\u001b[0m: name 'j' is not defined"
     ]
    }
   ],
   "source": [
    "# Начальное значение не задано, возникает ошибка NameError\n",
    "while j >= -5:    \n",
    "    print(j)\n",
    "    j -= 1"
   ]
  },
  {
   "cell_type": "markdown",
   "id": "e1c5c17c",
   "metadata": {},
   "source": [
    "## <span style=\"color:red\">Опасная зона</span>\n",
    "\n",
    "Ниже пример бесконечного цикла. Запускайте код внимательно.<br>\n",
    "Чтобы остановить бесконечный цикл - нужно прервать работу ядра.\n",
    "\n",
    "![Прервать работу ядра](./inf-while.png \"Прервать работу ядра\")\n"
   ]
  },
  {
   "cell_type": "code",
   "execution_count": null,
   "id": "e2477788",
   "metadata": {},
   "outputs": [],
   "source": [
    "# Бесконечный цикл 1 (неверное изменение шага цикла).\n",
    "i = -10\n",
    "while i <= -5:    \n",
    "    print(i)\n",
    "    i -= 1"
   ]
  },
  {
   "cell_type": "code",
   "execution_count": null,
   "id": "36f92fc8",
   "metadata": {},
   "outputs": [],
   "source": [
    "# Бесконечный цикл 2 (без шага цикла).\n",
    "i = -10\n",
    "while i <= -5:    \n",
    "    print(i)"
   ]
  },
  {
   "cell_type": "code",
   "execution_count": null,
   "id": "07574c60",
   "metadata": {},
   "outputs": [],
   "source": []
  }
 ],
 "metadata": {
  "kernelspec": {
   "display_name": "Python 3 (ipykernel)",
   "language": "python",
   "name": "python3"
  },
  "language_info": {
   "codemirror_mode": {
    "name": "ipython",
    "version": 3
   },
   "file_extension": ".py",
   "mimetype": "text/x-python",
   "name": "python",
   "nbconvert_exporter": "python",
   "pygments_lexer": "ipython3",
   "version": "3.9.7"
  }
 },
 "nbformat": 4,
 "nbformat_minor": 5
}
