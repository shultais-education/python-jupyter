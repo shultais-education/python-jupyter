{
 "cells": [
  {
   "cell_type": "markdown",
   "id": "a1f16a40",
   "metadata": {},
   "source": [
    "# Цикл for"
   ]
  },
  {
   "cell_type": "markdown",
   "id": "0f66d655",
   "metadata": {},
   "source": [
    "Цикл **for** преднанзачен для перебора последовательностей (списков, строк и тд.)"
   ]
  },
  {
   "cell_type": "code",
   "execution_count": 18,
   "id": "6439f63b",
   "metadata": {},
   "outputs": [
    {
     "name": "stdout",
     "output_type": "stream",
     "text": [
      "Toyota\n",
      "Mercedes\n",
      "Hyundai\n",
      "BMW\n",
      "Skoda\n",
      "Lexus\n"
     ]
    }
   ],
   "source": [
    "cars = [\"Toyota\", \"Mercedes\", \"Hyundai\", \"BMW\", \"Skoda\", \"Lexus\"]\n",
    "\n",
    "# Вывод всех элементов списка car\n",
    "for car in cars:\n",
    "    print(car)\n"
   ]
  },
  {
   "cell_type": "code",
   "execution_count": 19,
   "id": "a0f01975",
   "metadata": {},
   "outputs": [
    {
     "name": "stdout",
     "output_type": "stream",
     "text": [
      "TOYOTA\n",
      "MERCEDES\n",
      "HYUNDAI\n",
      "BMW\n",
      "SKODA\n",
      "LEXUS\n",
      "['Toyota', 'Mercedes', 'Hyundai', 'BMW', 'Skoda', 'Lexus']\n"
     ]
    }
   ],
   "source": [
    "# Вывод всех элементов списка car в верхнем регистре.\n",
    "for car in cars:\n",
    "    # Меняем значение переменной car без изменения списка\n",
    "    car = car.upper()\n",
    "    print(car)\n",
    "    \n",
    "# Список остается не затронутым\n",
    "print(cars)"
   ]
  },
  {
   "cell_type": "markdown",
   "id": "309e4238",
   "metadata": {},
   "source": [
    "Переменная **car** продолжает существовать после работы цикла."
   ]
  },
  {
   "cell_type": "code",
   "execution_count": 20,
   "id": "90105734",
   "metadata": {},
   "outputs": [
    {
     "name": "stdout",
     "output_type": "stream",
     "text": [
      "LEXUS\n"
     ]
    }
   ],
   "source": [
    "for car in cars:\n",
    "    car = car.upper()\n",
    "    \n",
    "# car содержит последний элемент списка\n",
    "print(car)"
   ]
  },
  {
   "cell_type": "code",
   "execution_count": 21,
   "id": "3a638a1e",
   "metadata": {},
   "outputs": [
    {
     "name": "stdout",
     "output_type": "stream",
     "text": [
      "LEXUS\n"
     ]
    }
   ],
   "source": [
    "# Начальная переменная car\n",
    "car = \"Honda\"\n",
    "\n",
    "for car in cars:\n",
    "    car = car.upper()\n",
    "    \n",
    "# car по-прежнему будет содержать последний элемент списка.\n",
    "# Значение \"Honda\" безвозвратно потеряно.\n",
    "print(car)"
   ]
  },
  {
   "cell_type": "code",
   "execution_count": 24,
   "id": "0c95a7ec",
   "metadata": {},
   "outputs": [
    {
     "name": "stdout",
     "output_type": "stream",
     "text": [
      "TOYOTA\n",
      "MERCEDES\n",
      "HYUNDAI\n",
      "BMW\n",
      "None\n"
     ]
    }
   ],
   "source": [
    "# Прерывание цикла\n",
    "car = \"Honda\"\n",
    "\n",
    "cars = [\"Toyota\", \"Mercedes\", \"Hyundai\", \"BMW\", None, \"Skoda\", \"Lexus\"]\n",
    "\n",
    "for car in cars:\n",
    "    if car is None:\n",
    "        break\n",
    "\n",
    "    car = car.upper()\n",
    "    print(car)\n",
    "    \n",
    "print(car)"
   ]
  },
  {
   "cell_type": "code",
   "execution_count": 25,
   "id": "44d00487",
   "metadata": {},
   "outputs": [
    {
     "name": "stdout",
     "output_type": "stream",
     "text": [
      "TOYOTA\n",
      "MERCEDES\n",
      "HYUNDAI\n",
      "BMW\n",
      "SKODA\n",
      "LEXUS\n",
      "LEXUS\n"
     ]
    }
   ],
   "source": [
    "# Пропуск None\n",
    "car = \"Honda\"\n",
    "\n",
    "cars = [\"Toyota\", \"Mercedes\", \"Hyundai\", \"BMW\", None, \"Skoda\", \"Lexus\"]\n",
    "\n",
    "for car in cars:\n",
    "    if car is None:\n",
    "        continue\n",
    "\n",
    "    car = car.upper()\n",
    "    print(car)\n",
    "    \n",
    "print(car)"
   ]
  },
  {
   "cell_type": "code",
   "execution_count": null,
   "id": "41cf105c",
   "metadata": {},
   "outputs": [],
   "source": []
  }
 ],
 "metadata": {
  "kernelspec": {
   "display_name": "Python 3 (ipykernel)",
   "language": "python",
   "name": "python3"
  },
  "language_info": {
   "codemirror_mode": {
    "name": "ipython",
    "version": 3
   },
   "file_extension": ".py",
   "mimetype": "text/x-python",
   "name": "python",
   "nbconvert_exporter": "python",
   "pygments_lexer": "ipython3",
   "version": "3.9.7"
  }
 },
 "nbformat": 4,
 "nbformat_minor": 5
}
