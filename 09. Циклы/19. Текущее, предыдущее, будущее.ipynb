{
 "cells": [
  {
   "cell_type": "markdown",
   "id": "5ecefb32",
   "metadata": {},
   "source": [
    "# Текущее, предыдущее, будущее"
   ]
  },
  {
   "cell_type": "code",
   "execution_count": 1,
   "id": "4feb3e5b",
   "metadata": {},
   "outputs": [],
   "source": [
    "revenues = [100, 110, 120, 130, 140, 150, 160, 170, 180, 190, 200, 210]"
   ]
  },
  {
   "cell_type": "markdown",
   "id": "a24bf605",
   "metadata": {},
   "source": [
    "## Текущее"
   ]
  },
  {
   "cell_type": "code",
   "execution_count": 2,
   "id": "d7d41490",
   "metadata": {},
   "outputs": [
    {
     "name": "stdout",
     "output_type": "stream",
     "text": [
      "100\n",
      "110\n",
      "120\n",
      "130\n",
      "140\n",
      "150\n",
      "160\n",
      "170\n",
      "180\n",
      "190\n",
      "200\n",
      "210\n"
     ]
    }
   ],
   "source": [
    "for revenue in revenues:\n",
    "    print(revenue)"
   ]
  },
  {
   "cell_type": "markdown",
   "id": "b7da57bd",
   "metadata": {},
   "source": [
    "## Предыдущее\n",
    "Вывод предыдущего и текущего значений:"
   ]
  },
  {
   "cell_type": "code",
   "execution_count": 3,
   "id": "0e183008",
   "metadata": {},
   "outputs": [
    {
     "name": "stdout",
     "output_type": "stream",
     "text": [
      "None 100\n",
      "100 110\n",
      "110 120\n",
      "120 130\n",
      "130 140\n",
      "140 150\n",
      "150 160\n",
      "160 170\n",
      "170 180\n",
      "180 190\n",
      "190 200\n",
      "200 210\n"
     ]
    }
   ],
   "source": [
    "prev_revenue = None\n",
    "for revenue in revenues:\n",
    "    print(prev_revenue, revenue)\n",
    "    prev_revenue = revenue"
   ]
  },
  {
   "cell_type": "markdown",
   "id": "a0f6cd9d",
   "metadata": {},
   "source": [
    "Вывод разницы между текущим и предыдущим значением:"
   ]
  },
  {
   "cell_type": "code",
   "execution_count": 4,
   "id": "9b59f0f7",
   "metadata": {},
   "outputs": [
    {
     "name": "stdout",
     "output_type": "stream",
     "text": [
      "100\n",
      "10\n",
      "10\n",
      "10\n",
      "10\n",
      "10\n",
      "10\n",
      "10\n",
      "10\n",
      "10\n",
      "10\n",
      "10\n"
     ]
    }
   ],
   "source": [
    "prev_revenue = 0\n",
    "for revenue in revenues:\n",
    "    print(revenue - prev_revenue)\n",
    "    prev_revenue = revenue"
   ]
  },
  {
   "cell_type": "code",
   "execution_count": 5,
   "id": "0831a525",
   "metadata": {},
   "outputs": [
    {
     "name": "stdout",
     "output_type": "stream",
     "text": [
      "0\n",
      "10\n",
      "10\n",
      "10\n",
      "10\n",
      "10\n",
      "10\n",
      "10\n",
      "10\n",
      "10\n",
      "10\n",
      "10\n"
     ]
    }
   ],
   "source": [
    "prev_revenue = revenues[0]\n",
    "for revenue in revenues:\n",
    "    print(revenue - prev_revenue)\n",
    "    prev_revenue = revenue"
   ]
  },
  {
   "cell_type": "markdown",
   "id": "04a6941c",
   "metadata": {},
   "source": [
    "## Будущее\n",
    "\n",
    "Неудачная попытка получить все значения:"
   ]
  },
  {
   "cell_type": "code",
   "execution_count": 6,
   "id": "b5b4fd38",
   "metadata": {},
   "outputs": [
    {
     "name": "stdout",
     "output_type": "stream",
     "text": [
      "100 100 110\n",
      "100 110 120\n",
      "110 120 130\n",
      "120 130 140\n",
      "130 140 150\n",
      "140 150 160\n",
      "150 160 170\n",
      "160 170 180\n",
      "170 180 190\n",
      "180 190 200\n",
      "190 200 210\n"
     ]
    },
    {
     "ename": "IndexError",
     "evalue": "list index out of range",
     "output_type": "error",
     "traceback": [
      "\u001b[0;31m---------------------------------------------------------------------------\u001b[0m",
      "\u001b[0;31mIndexError\u001b[0m                                Traceback (most recent call last)",
      "\u001b[0;32m/var/folders/06/yl2tjjzn0779079l4x8lq1y80000gn/T/ipykernel_29256/2055900154.py\u001b[0m in \u001b[0;36m<module>\u001b[0;34m\u001b[0m\n\u001b[1;32m      1\u001b[0m \u001b[0mprev_revenue\u001b[0m \u001b[0;34m=\u001b[0m \u001b[0mrevenues\u001b[0m\u001b[0;34m[\u001b[0m\u001b[0;36m0\u001b[0m\u001b[0;34m]\u001b[0m\u001b[0;34m\u001b[0m\u001b[0;34m\u001b[0m\u001b[0m\n\u001b[1;32m      2\u001b[0m \u001b[0;32mfor\u001b[0m \u001b[0midx\u001b[0m\u001b[0;34m,\u001b[0m \u001b[0mrevenue\u001b[0m \u001b[0;32min\u001b[0m \u001b[0menumerate\u001b[0m\u001b[0;34m(\u001b[0m\u001b[0mrevenues\u001b[0m\u001b[0;34m)\u001b[0m\u001b[0;34m:\u001b[0m\u001b[0;34m\u001b[0m\u001b[0;34m\u001b[0m\u001b[0m\n\u001b[0;32m----> 3\u001b[0;31m     \u001b[0mnext_revenue\u001b[0m \u001b[0;34m=\u001b[0m \u001b[0mrevenues\u001b[0m\u001b[0;34m[\u001b[0m\u001b[0midx\u001b[0m \u001b[0;34m+\u001b[0m \u001b[0;36m1\u001b[0m\u001b[0;34m]\u001b[0m\u001b[0;34m\u001b[0m\u001b[0;34m\u001b[0m\u001b[0m\n\u001b[0m\u001b[1;32m      4\u001b[0m     \u001b[0mprint\u001b[0m\u001b[0;34m(\u001b[0m\u001b[0mprev_revenue\u001b[0m\u001b[0;34m,\u001b[0m \u001b[0mrevenue\u001b[0m\u001b[0;34m,\u001b[0m \u001b[0mnext_revenue\u001b[0m\u001b[0;34m)\u001b[0m\u001b[0;34m\u001b[0m\u001b[0;34m\u001b[0m\u001b[0m\n\u001b[1;32m      5\u001b[0m     \u001b[0mprev_revenue\u001b[0m \u001b[0;34m=\u001b[0m \u001b[0mrevenue\u001b[0m\u001b[0;34m\u001b[0m\u001b[0;34m\u001b[0m\u001b[0m\n",
      "\u001b[0;31mIndexError\u001b[0m: list index out of range"
     ]
    }
   ],
   "source": [
    "prev_revenue = revenues[0]\n",
    "for idx, revenue in enumerate(revenues):\n",
    "    next_revenue = revenues[idx + 1]\n",
    "    print(prev_revenue, revenue, next_revenue)\n",
    "    prev_revenue = revenue"
   ]
  },
  {
   "cell_type": "markdown",
   "id": "bfa46689",
   "metadata": {},
   "source": [
    "Ограничиваем итерации с помощью срезов:"
   ]
  },
  {
   "cell_type": "code",
   "execution_count": 7,
   "id": "4940e4af",
   "metadata": {},
   "outputs": [
    {
     "name": "stdout",
     "output_type": "stream",
     "text": [
      "100 100 110\n",
      "100 110 120\n",
      "110 120 130\n",
      "120 130 140\n",
      "130 140 150\n",
      "140 150 160\n",
      "150 160 170\n",
      "160 170 180\n",
      "170 180 190\n",
      "180 190 200\n",
      "190 200 210\n"
     ]
    }
   ],
   "source": [
    "prev_revenue = revenues[0]\n",
    "for idx, revenue in enumerate(revenues[:-1]):\n",
    "    next_revenue = revenues[idx + 1]\n",
    "    print(prev_revenue, revenue, next_revenue)\n",
    "    prev_revenue = revenue"
   ]
  },
  {
   "cell_type": "markdown",
   "id": "c31ccea7",
   "metadata": {},
   "source": [
    "Получаем все значения:"
   ]
  },
  {
   "cell_type": "code",
   "execution_count": 10,
   "id": "9bee7d1c",
   "metadata": {},
   "outputs": [
    {
     "name": "stdout",
     "output_type": "stream",
     "text": [
      "100 100 110\n",
      "100 110 120\n",
      "110 120 130\n",
      "120 130 140\n",
      "130 140 150\n",
      "140 150 160\n",
      "150 160 170\n",
      "160 170 180\n",
      "170 180 190\n",
      "180 190 200\n",
      "190 200 210\n",
      "200 210 210\n"
     ]
    }
   ],
   "source": [
    "prev_revenue = revenues[0]\n",
    "for idx, revenue in enumerate(revenues):\n",
    "    next_revenue = revenues[idx + 1] if idx < len(revenues) - 1 else revenue\n",
    "    print(prev_revenue, revenue, next_revenue)\n",
    "    prev_revenue = revenue"
   ]
  },
  {
   "cell_type": "code",
   "execution_count": 11,
   "id": "80fca3a8",
   "metadata": {},
   "outputs": [
    {
     "name": "stdout",
     "output_type": "stream",
     "text": [
      "0 100 110\n",
      "100 110 120\n",
      "110 120 130\n",
      "120 130 140\n",
      "130 140 150\n",
      "140 150 160\n",
      "150 160 170\n",
      "160 170 180\n",
      "170 180 190\n",
      "180 190 200\n",
      "190 200 210\n",
      "200 210 0\n"
     ]
    }
   ],
   "source": [
    "prev_revenue = 0\n",
    "for idx, revenue in enumerate(revenues):\n",
    "    next_revenue = revenues[idx + 1] if idx < len(revenues) - 1 else 0\n",
    "    print(prev_revenue, revenue, next_revenue)\n",
    "    prev_revenue = revenue"
   ]
  },
  {
   "cell_type": "markdown",
   "id": "76357212",
   "metadata": {},
   "source": [
    "\n",
    "Альтернативный способ получения предыдущего (с ошибкой):\n",
    "    "
   ]
  },
  {
   "cell_type": "code",
   "execution_count": 13,
   "id": "f64e80e1",
   "metadata": {},
   "outputs": [
    {
     "name": "stdout",
     "output_type": "stream",
     "text": [
      "210 100 110\n",
      "100 110 120\n",
      "110 120 130\n",
      "120 130 140\n",
      "130 140 150\n",
      "140 150 160\n",
      "150 160 170\n",
      "160 170 180\n",
      "170 180 190\n",
      "180 190 200\n",
      "190 200 210\n",
      "200 210 0\n"
     ]
    }
   ],
   "source": [
    "prev_revenue = 0\n",
    "for idx, revenue in enumerate(revenues):\n",
    "    next_revenue = revenues[idx + 1] if idx < len(revenues) - 1 else 0\n",
    "    prev_revenue = revenues[idx - 1]\n",
    "    print(prev_revenue, revenue, next_revenue)"
   ]
  },
  {
   "cell_type": "markdown",
   "id": "25ade064",
   "metadata": {},
   "source": [
    "Правильный способ получения предыдущего:"
   ]
  },
  {
   "cell_type": "code",
   "execution_count": 23,
   "id": "4d4d2761",
   "metadata": {},
   "outputs": [
    {
     "name": "stdout",
     "output_type": "stream",
     "text": [
      "0 100 110\n",
      "100 110 120\n",
      "110 120 130\n",
      "120 130 140\n",
      "130 140 150\n",
      "140 150 160\n",
      "150 160 170\n",
      "160 170 180\n",
      "170 180 190\n",
      "180 190 200\n",
      "190 200 210\n",
      "200 210 0\n"
     ]
    }
   ],
   "source": [
    "prev_revenue = 0\n",
    "for idx, revenue in enumerate(revenues):\n",
    "    next_revenue = revenues[idx + 1] if idx < len(revenues) - 1 else 0\n",
    "    prev_revenue = revenues[idx - 1] if idx > 0 else 0\n",
    "    print(prev_revenue, revenue, next_revenue)"
   ]
  },
  {
   "cell_type": "markdown",
   "id": "3a304cc8",
   "metadata": {},
   "source": [
    "## Скользящее среднее\n",
    "Неправильное вычисление скользящего среднего:"
   ]
  },
  {
   "cell_type": "code",
   "execution_count": 19,
   "id": "9031bab4",
   "metadata": {},
   "outputs": [
    {
     "name": "stdout",
     "output_type": "stream",
     "text": [
      "70.0\n",
      "110.0\n",
      "120.0\n",
      "130.0\n",
      "140.0\n",
      "150.0\n",
      "160.0\n",
      "170.0\n",
      "180.0\n",
      "190.0\n",
      "200.0\n",
      "136.66666666666666\n"
     ]
    }
   ],
   "source": [
    "prev_revenue = 0\n",
    "for idx, revenue in enumerate(revenues):\n",
    "    next_revenue = revenues[idx + 1] if idx < len(revenues) - 1 else 0\n",
    "    prev_revenue = revenues[idx - 1] if idx > 0 else 0\n",
    "    roll_avg = sum([prev_revenue, revenue, next_revenue]) / 3\n",
    "    print(roll_avg)"
   ]
  },
  {
   "cell_type": "markdown",
   "id": "75314528",
   "metadata": {},
   "source": [
    "Правильное вычисление скользящего среднего:"
   ]
  },
  {
   "cell_type": "code",
   "execution_count": 24,
   "id": "638116a6",
   "metadata": {},
   "outputs": [
    {
     "name": "stdout",
     "output_type": "stream",
     "text": [
      "105.0\n",
      "110.0\n",
      "120.0\n",
      "130.0\n",
      "140.0\n",
      "150.0\n",
      "160.0\n",
      "170.0\n",
      "180.0\n",
      "190.0\n",
      "200.0\n",
      "205.0\n"
     ]
    }
   ],
   "source": [
    "prev_revenue = 0\n",
    "for idx, revenue in enumerate(revenues):\n",
    "    next_revenue = revenues[idx + 1] if idx < len(revenues) - 1 else 0\n",
    "    prev_revenue = revenues[idx - 1] if idx > 0 else 0\n",
    "    roll_avg = sum([prev_revenue, revenue, next_revenue]) / (3 if idx > 0 and idx < len(revenues) -1 else 2)\n",
    "    print(roll_avg)"
   ]
  },
  {
   "cell_type": "markdown",
   "id": "6cb0e48a",
   "metadata": {},
   "source": [
    "Альтернативный способ вычисления скользящего среднего:"
   ]
  },
  {
   "cell_type": "code",
   "execution_count": 25,
   "id": "ec5521c6",
   "metadata": {},
   "outputs": [
    {
     "name": "stdout",
     "output_type": "stream",
     "text": [
      "105.0\n",
      "110.0\n",
      "120.0\n",
      "130.0\n",
      "140.0\n",
      "150.0\n",
      "160.0\n",
      "170.0\n",
      "180.0\n",
      "190.0\n",
      "200.0\n",
      "205.0\n"
     ]
    }
   ],
   "source": [
    "slices = []\n",
    "slices.append(tuple(revenues[:2]))\n",
    "for idx in range(1, len(revenues) - 1):\n",
    "    slices.append(tuple(revenues[idx - 1: idx + 2]))\n",
    "slices.append(tuple(revenues[-2:]))\n",
    "\n",
    "for slice in slices:\n",
    "    print(sum(slice) / len(slice))\n"
   ]
  },
  {
   "cell_type": "code",
   "execution_count": null,
   "id": "f7c3d918",
   "metadata": {},
   "outputs": [],
   "source": []
  }
 ],
 "metadata": {
  "kernelspec": {
   "display_name": "Python 3 (ipykernel)",
   "language": "python",
   "name": "python3"
  },
  "language_info": {
   "codemirror_mode": {
    "name": "ipython",
    "version": 3
   },
   "file_extension": ".py",
   "mimetype": "text/x-python",
   "name": "python",
   "nbconvert_exporter": "python",
   "pygments_lexer": "ipython3",
   "version": "3.9.7"
  }
 },
 "nbformat": 4,
 "nbformat_minor": 5
}
