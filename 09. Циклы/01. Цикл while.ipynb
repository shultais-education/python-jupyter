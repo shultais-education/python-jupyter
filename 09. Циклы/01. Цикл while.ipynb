{
 "cells": [
  {
   "cell_type": "markdown",
   "id": "9e9a12d6",
   "metadata": {},
   "source": [
    "# Цикл while\n",
    "\n",
    "Циклы предназначены для повтора одних и тех же действий, а также для перебора последовательностей (строк, списков и тд)."
   ]
  },
  {
   "cell_type": "code",
   "execution_count": 1,
   "id": "b0cd883b",
   "metadata": {},
   "outputs": [
    {
     "name": "stdout",
     "output_type": "stream",
     "text": [
      "1\n",
      "2\n",
      "3\n",
      "4\n",
      "5\n",
      "6\n",
      "7\n",
      "8\n",
      "9\n",
      "10\n"
     ]
    }
   ],
   "source": [
    "# Цикл от 1 до 10\n",
    "j = 1\n",
    "while j <= 10:\n",
    "    print(j)\n",
    "    j += 1"
   ]
  },
  {
   "cell_type": "code",
   "execution_count": null,
   "id": "2b9d7dd4",
   "metadata": {},
   "outputs": [],
   "source": []
  }
 ],
 "metadata": {
  "kernelspec": {
   "display_name": "Python 3 (ipykernel)",
   "language": "python",
   "name": "python3"
  },
  "language_info": {
   "codemirror_mode": {
    "name": "ipython",
    "version": 3
   },
   "file_extension": ".py",
   "mimetype": "text/x-python",
   "name": "python",
   "nbconvert_exporter": "python",
   "pygments_lexer": "ipython3",
   "version": "3.9.7"
  }
 },
 "nbformat": 4,
 "nbformat_minor": 5
}