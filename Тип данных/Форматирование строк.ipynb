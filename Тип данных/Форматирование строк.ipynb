{
 "cells": [
  {
   "cell_type": "markdown",
   "id": "ea45db33",
   "metadata": {},
   "source": [
    "# Форматирование строк"
   ]
  },
  {
   "cell_type": "code",
   "execution_count": 3,
   "id": "861ca54c",
   "metadata": {},
   "outputs": [
    {
     "name": "stdout",
     "output_type": "stream",
     "text": [
      "Привет. Мне N лет.\n"
     ]
    }
   ],
   "source": [
    "age = 18\n",
    "age_str = \"Привет. Мне N лет.\"\n",
    "\n",
    "print(age_str)"
   ]
  },
  {
   "cell_type": "markdown",
   "id": "bb2cf56e",
   "metadata": {},
   "source": [
    "## Выражение форматирования строк\n",
    "\n",
    "Данный способ считается **устаревшим** и вместо него нужно использовать либо метод `.format()`, либо `f-строки`, которые мы изучим позже. Однако в старых программах вам может встретится выражение форматирования строк, поэтому мы его изучаем.<br><br>\n",
    "\n",
    "Выражение форматирования строк состоит из трёх частей:\n",
    "1. Спецификатора: %s - строка, %f - вещественное число, %d - целое число и тд.\n",
    "2. Символа процента после строки.\n",
    "3. Набора переменных, значения которых нужно отрпавить в строку."
   ]
  },
  {
   "cell_type": "code",
   "execution_count": 2,
   "id": "44cf3c4e",
   "metadata": {},
   "outputs": [
    {
     "name": "stdout",
     "output_type": "stream",
     "text": [
      "Привет. Мне 18 лет.\n"
     ]
    }
   ],
   "source": [
    "# Вставляем в строку число (%d - decimal)\n",
    "age = 18\n",
    "age_str = \"Привет. Мне %d лет.\" % age\n",
    "\n",
    "print(age_str)"
   ]
  },
  {
   "cell_type": "code",
   "execution_count": 4,
   "id": "99257e88",
   "metadata": {},
   "outputs": [
    {
     "name": "stdout",
     "output_type": "stream",
     "text": [
      "Привет. Мне 18 лет.\n"
     ]
    }
   ],
   "source": [
    "# Вставляем в строку число (%d - decimal)\n",
    "age = 18.5\n",
    "age_str = \"Привет. Мне %d лет.\" % age\n",
    "\n",
    "print(age_str)"
   ]
  },
  {
   "cell_type": "code",
   "execution_count": 5,
   "id": "f6cbcb97",
   "metadata": {},
   "outputs": [
    {
     "ename": "TypeError",
     "evalue": "%d format: a number is required, not str",
     "output_type": "error",
     "traceback": [
      "\u001b[0;31m---------------------------------------------------------------------------\u001b[0m",
      "\u001b[0;31mTypeError\u001b[0m                                 Traceback (most recent call last)",
      "\u001b[0;32m/var/folders/4x/2537g_nd51d_lb51c66z1jzm0000gn/T/ipykernel_44860/2675053919.py\u001b[0m in \u001b[0;36m<module>\u001b[0;34m\u001b[0m\n\u001b[1;32m      1\u001b[0m \u001b[0;31m# Попытка вставки строки на место, предназначенное для числа.\u001b[0m\u001b[0;34m\u001b[0m\u001b[0;34m\u001b[0m\u001b[0m\n\u001b[1;32m      2\u001b[0m \u001b[0mage\u001b[0m \u001b[0;34m=\u001b[0m \u001b[0;34m\"18.5\"\u001b[0m\u001b[0;34m\u001b[0m\u001b[0;34m\u001b[0m\u001b[0m\n\u001b[0;32m----> 3\u001b[0;31m \u001b[0mage_str\u001b[0m \u001b[0;34m=\u001b[0m \u001b[0;34m\"Привет. Мне %d лет.\"\u001b[0m \u001b[0;34m%\u001b[0m \u001b[0mage\u001b[0m\u001b[0;34m\u001b[0m\u001b[0;34m\u001b[0m\u001b[0m\n\u001b[0m\u001b[1;32m      4\u001b[0m \u001b[0;34m\u001b[0m\u001b[0m\n\u001b[1;32m      5\u001b[0m \u001b[0mprint\u001b[0m\u001b[0;34m(\u001b[0m\u001b[0mage_str\u001b[0m\u001b[0;34m)\u001b[0m\u001b[0;34m\u001b[0m\u001b[0;34m\u001b[0m\u001b[0m\n",
      "\u001b[0;31mTypeError\u001b[0m: %d format: a number is required, not str"
     ]
    }
   ],
   "source": [
    "# Попытка вставки строки на место, предназначенное для числа.\n",
    "age = \"18.5\"\n",
    "age_str = \"Привет. Мне %d лет.\" % age\n",
    "\n",
    "print(age_str)"
   ]
  },
  {
   "cell_type": "markdown",
   "id": "47e6f55a",
   "metadata": {},
   "source": [
    "### Спецификатор строки `%s` (string)\n",
    "\n",
    "Универсальный спецификатор, который можно использовать для вывода как строк, так и чисел (вещественных или целых). В случае если переменная является числом, то Python сперва преобразует её к строке, а затем уже строковые данные вставит в шаблон."
   ]
  },
  {
   "cell_type": "code",
   "execution_count": 6,
   "id": "3f2bd233",
   "metadata": {},
   "outputs": [
    {
     "name": "stdout",
     "output_type": "stream",
     "text": [
      "Привет. Мне 18.5 лет.\n"
     ]
    }
   ],
   "source": [
    "# Вставка одной строки в другую\n",
    "age = \"18.5\"\n",
    "age_str = \"Привет. Мне %s лет.\" % age\n",
    "\n",
    "print(age_str)"
   ]
  },
  {
   "cell_type": "markdown",
   "id": "9a1c7ba8",
   "metadata": {},
   "source": [
    "### Спецификатор вещественного числа `%f` (float)"
   ]
  },
  {
   "cell_type": "code",
   "execution_count": 7,
   "id": "7e826141",
   "metadata": {},
   "outputs": [
    {
     "name": "stdout",
     "output_type": "stream",
     "text": [
      "Привет. Мне 18.500000 лет.\n"
     ]
    }
   ],
   "source": [
    "# Вставка вещественного числа в строку\n",
    "age = 18.5\n",
    "age_str = \"Привет. Мне %f лет.\" % age\n",
    "\n",
    "print(age_str)"
   ]
  },
  {
   "cell_type": "markdown",
   "id": "b7ee23b8",
   "metadata": {},
   "source": [
    "Чтобы задать точность вещественного числа, нужно между `%` и `f` поставить точку и число, которое будет отвечат за количество знаков после десятичной точки."
   ]
  },
  {
   "cell_type": "code",
   "execution_count": 8,
   "id": "67deb827",
   "metadata": {},
   "outputs": [
    {
     "name": "stdout",
     "output_type": "stream",
     "text": [
      "Привет. Мне 18.5 лет.\n"
     ]
    }
   ],
   "source": [
    "# Вставка вещественного числа с одним знаком после десятичной точки\n",
    "age = 18.5\n",
    "age_str = \"Привет. Мне %.1f лет.\" % age\n",
    "\n",
    "print(age_str)"
   ]
  },
  {
   "cell_type": "code",
   "execution_count": 11,
   "id": "9732c2f4",
   "metadata": {},
   "outputs": [
    {
     "name": "stdout",
     "output_type": "stream",
     "text": [
      "Привет. Мне 18.6 лет.\n",
      "Привет. Мне 18.5 лет.\n",
      "Привет. Мне 18.54 лет.\n"
     ]
    }
   ],
   "source": [
    "# Если количество знаков после деятичной точки больше, чем в спецификаторе, то происходит округление числа по правиалм математики.\n",
    "\n",
    "# Вариант 1 (округление в большую сторону)\n",
    "age = 18.55\n",
    "age_str = \"Привет. Мне %.1f лет.\" % age\n",
    "\n",
    "print(age_str)\n",
    "\n",
    "# Вариант 2 (округление в меньшую сторону)\n",
    "age = 18.54\n",
    "age_str = \"Привет. Мне %.1f лет.\" % age\n",
    "\n",
    "print(age_str)\n",
    "\n",
    "# Вариант 3 (вывод двух знаков после десятичной точк)\n",
    "age = 18.54\n",
    "age_str = \"Привет. Мне %.2f лет.\" % age\n",
    "\n",
    "print(age_str)\n"
   ]
  },
  {
   "cell_type": "markdown",
   "id": "9c8defe8",
   "metadata": {},
   "source": [
    "### Спецификатор целого числа `%d` (decimal)\n",
    "\n",
    "Если мы передаем вещественное число, но используем спецификатор `%d`, то дробная часть не округляется, а **отбрасывается**."
   ]
  },
  {
   "cell_type": "code",
   "execution_count": 12,
   "id": "2278e57c",
   "metadata": {},
   "outputs": [
    {
     "name": "stdout",
     "output_type": "stream",
     "text": [
      "Привет. Мне 18 лет.\n"
     ]
    }
   ],
   "source": [
    "# Вывод целой части числа\n",
    "age = 18.54\n",
    "age_str = \"Привет. Мне %d лет.\" % age\n",
    "\n",
    "print(age_str)"
   ]
  },
  {
   "cell_type": "markdown",
   "id": "8f6c6e11",
   "metadata": {},
   "source": [
    "## Вставка нескольких переменных\n",
    "\n",
    "Если в строке стоит несколько спецификаторов, то после процента нужно передать столько переменных, сколько используется спецфикаторов, и при этом порядок следования спецфикаторов и переменных должен совпадать."
   ]
  },
  {
   "cell_type": "code",
   "execution_count": 13,
   "id": "85fbe5da",
   "metadata": {},
   "outputs": [
    {
     "name": "stdout",
     "output_type": "stream",
     "text": [
      "Привет. Меня зовут Никита. Мне 18 лет.\n"
     ]
    }
   ],
   "source": [
    "# Вставляем сразу две переменные в строку\n",
    "age = 18.54\n",
    "name = \"Никита\"\n",
    "\n",
    "age_str = \"Привет. Меня зовут %s. Мне %d лет.\" % (name, age)\n",
    "\n",
    "print(age_str)"
   ]
  },
  {
   "cell_type": "code",
   "execution_count": 15,
   "id": "a960dc91",
   "metadata": {},
   "outputs": [
    {
     "name": "stdout",
     "output_type": "stream",
     "text": [
      "Привет. Меня зовут 18.54. Мне Никита лет.\n"
     ]
    }
   ],
   "source": [
    "# Логическая ошибка расстановки порядка следования переменных\n",
    "# Переменная age сперва будет преобразована в строку, а затем вставлена в шаблон.\n",
    "age = 18.54\n",
    "name = \"Никита\"\n",
    "\n",
    "age_str = \"Привет. Меня зовут %s. Мне %s лет.\" % (age, name)\n",
    "\n",
    "print(age_str)"
   ]
  },
  {
   "cell_type": "markdown",
   "id": "a607255a",
   "metadata": {},
   "source": [
    "## Формирование шаблона\n",
    "\n",
    "Строку со спецификаторами можно хранить в отдельной переменной, а затем, по мере необходимости, применять выражение форматирования к переменной."
   ]
  },
  {
   "cell_type": "code",
   "execution_count": 16,
   "id": "ec43b683",
   "metadata": {},
   "outputs": [
    {
     "name": "stdout",
     "output_type": "stream",
     "text": [
      "Привет. Меня зовут Никита. Мне 18 лет.\n"
     ]
    }
   ],
   "source": [
    "# Создаем шаблон строки со спецфикаторами\n",
    "hello_template = \"Привет. Меня зовут %s. Мне %d лет.\"\n",
    "\n",
    "# Определяем переменные\n",
    "age = 18.54\n",
    "name = \"Никита\"\n",
    "\n",
    "# Отправляем переменные в шаблон и выводим результат\n",
    "print(hello_template % (name, age))"
   ]
  },
  {
   "cell_type": "code",
   "execution_count": null,
   "id": "5ca54212",
   "metadata": {},
   "outputs": [],
   "source": []
  }
 ],
 "metadata": {
  "kernelspec": {
   "display_name": "Python 3 (ipykernel)",
   "language": "python",
   "name": "python3"
  },
  "language_info": {
   "codemirror_mode": {
    "name": "ipython",
    "version": 3
   },
   "file_extension": ".py",
   "mimetype": "text/x-python",
   "name": "python",
   "nbconvert_exporter": "python",
   "pygments_lexer": "ipython3",
   "version": "3.9.13"
  }
 },
 "nbformat": 4,
 "nbformat_minor": 5
}
