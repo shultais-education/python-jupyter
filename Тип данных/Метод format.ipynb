{
 "cells": [
  {
   "cell_type": "markdown",
   "id": "99a7b610",
   "metadata": {},
   "source": [
    "# Метод `.format()`\n",
    "\n",
    "С помощью метода `.format()` можно осуществлять расширенное форматирование строк."
   ]
  },
  {
   "cell_type": "code",
   "execution_count": 1,
   "id": "b1d1f340",
   "metadata": {},
   "outputs": [
    {
     "name": "stdout",
     "output_type": "stream",
     "text": [
      "Привет. Меня зовут Никита. Мне 18.54 лет.\n"
     ]
    }
   ],
   "source": [
    "age = 18.54\n",
    "name = \"Никита\"\n",
    "\n",
    "age_str = \"Привет. Меня зовут {}. Мне {} лет.\".format(name, age)\n",
    "print(age_str)"
   ]
  },
  {
   "cell_type": "code",
   "execution_count": 3,
   "id": "98f9fbe0",
   "metadata": {},
   "outputs": [
    {
     "name": "stdout",
     "output_type": "stream",
     "text": [
      "Привет. Меня зовут 18.54. Мне Никита лет.\n"
     ]
    }
   ],
   "source": [
    "# Гибкое управление номерами аргументов.\n",
    "# Внутри метода .format() агрумент name стоит на нулевой позиции, а age на первой.\n",
    "age_str = \"Привет. Меня зовут {1}. Мне {0} лет.\".format(name, age)\n",
    "print(age_str)"
   ]
  },
  {
   "cell_type": "markdown",
   "id": "2f856c71",
   "metadata": {},
   "source": [
    "Если не указать номер аргументов, то номера просавляются в порядке увеличения с нуля: 0, 1, 2 и тд."
   ]
  },
  {
   "cell_type": "code",
   "execution_count": 5,
   "id": "b5616030",
   "metadata": {},
   "outputs": [
    {
     "name": "stdout",
     "output_type": "stream",
     "text": [
      "Привет. Меня зовут Никита. Мне 18.54 лет.\n"
     ]
    }
   ],
   "source": [
    "# Используем именованные аргументы (атрибуты) метода.\n",
    "# Переменная name связывается с именем user_name, а age с именем user_age.\n",
    "# Далее данные вставляются в строку в соответствии с именами.\n",
    "age_str = \"Привет. Меня зовут {user_name}. Мне {user_age} лет.\".format(user_name=name, user_age=age)\n",
    "print(age_str)"
   ]
  },
  {
   "cell_type": "markdown",
   "id": "ae1a83e3",
   "metadata": {},
   "source": [
    "Именнованные аргументы **можно менять местами**."
   ]
  },
  {
   "cell_type": "code",
   "execution_count": 6,
   "id": "906db40a",
   "metadata": {},
   "outputs": [
    {
     "name": "stdout",
     "output_type": "stream",
     "text": [
      "Привет. Меня зовут Никита. Мне 18.54 лет.\n"
     ]
    }
   ],
   "source": [
    "age_str = \"Привет. Меня зовут {user_name}. Мне {user_age} лет.\".format(user_age=age, user_name=name)\n",
    "print(age_str)"
   ]
  },
  {
   "cell_type": "markdown",
   "id": "b1f9a1f9",
   "metadata": {},
   "source": [
    "## Возможности форматирования\n",
    "\n",
    "По умолчанию `.format()` преобразовывает все данные к **строковому типу** (str) и вставлет эти данные в строку *как есть*.<br><br>Мы всегда можем применить к данным дополнительное форматирование, для этого нуждо добавить в фигурные скобки двоеточие, после которого указываются спецификаторы `{:spec}`."
   ]
  },
  {
   "cell_type": "markdown",
   "id": "2737f3a7",
   "metadata": {},
   "source": [
    "### Форматирование вещественных чисел\n",
    "\n",
    "Спецификатор `:.Nf` позволяет округлять вещественные числа до **N** знаков после десятичной точки."
   ]
  },
  {
   "cell_type": "code",
   "execution_count": 7,
   "id": "4d026ab1",
   "metadata": {},
   "outputs": [
    {
     "name": "stdout",
     "output_type": "stream",
     "text": [
      "Привет. Меня зовут Никита. Мне 18.5 лет.\n"
     ]
    }
   ],
   "source": [
    "age_str = \"Привет. Меня зовут {user_name}. Мне {user_age:.1f} лет.\".format(user_age=age, user_name=name)\n",
    "print(age_str)"
   ]
  },
  {
   "cell_type": "code",
   "execution_count": 8,
   "id": "a7d1c59c",
   "metadata": {},
   "outputs": [
    {
     "name": "stdout",
     "output_type": "stream",
     "text": [
      "Привет. Меня зовут Никита. Мне 18 лет.\n"
     ]
    }
   ],
   "source": [
    "# Преобразовываем age к целому числу, а после отправляем в шаблон.\n",
    "age_str = \"Привет. Меня зовут {:s}. Мне {:d} лет.\".format(name, int(age))\n",
    "print(age_str)"
   ]
  },
  {
   "cell_type": "markdown",
   "id": "d9727371",
   "metadata": {},
   "source": [
    "## Создание шаблонов строк\n",
    "\n",
    "Сстроки со спецификаторами можно хранить в отдельных переменных, а после применять метод `.format()` к этим переменным."
   ]
  },
  {
   "cell_type": "code",
   "execution_count": 13,
   "id": "039e1e33",
   "metadata": {},
   "outputs": [
    {
     "name": "stdout",
     "output_type": "stream",
     "text": [
      "Привет. Меня зовут Никита. Мне 19 лет.\n"
     ]
    }
   ],
   "source": [
    "# Создаем переменную age_str, которая содержит спецификаторы.\n",
    "# .0f - округлит значение вещественной переменной по правилам округления.\n",
    "age_str = \"Привет. Меня зовут {}. Мне {:.0f} лет.\"\n",
    "\n",
    "# Применяем метод .format() к переменной\n",
    "print(age_str.format(name, age))"
   ]
  },
  {
   "cell_type": "code",
   "execution_count": null,
   "id": "0ec81827",
   "metadata": {},
   "outputs": [],
   "source": []
  }
 ],
 "metadata": {
  "kernelspec": {
   "display_name": "Python 3 (ipykernel)",
   "language": "python",
   "name": "python3"
  },
  "language_info": {
   "codemirror_mode": {
    "name": "ipython",
    "version": 3
   },
   "file_extension": ".py",
   "mimetype": "text/x-python",
   "name": "python",
   "nbconvert_exporter": "python",
   "pygments_lexer": "ipython3",
   "version": "3.9.13"
  }
 },
 "nbformat": 4,
 "nbformat_minor": 5
}
