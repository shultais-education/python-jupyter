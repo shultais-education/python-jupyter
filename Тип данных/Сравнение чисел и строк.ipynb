{
 "cells": [
  {
   "cell_type": "markdown",
   "id": "9f403c59",
   "metadata": {},
   "source": [
    "# Сравнение чисел и строк\n",
    "\n",
    "Данные в программу часто попадают в виде строк, и если вы ожидаете, что это будут числа, то нужно их дополнительно перобразовать к целому или вещественному с помощью `int()` или `float()`."
   ]
  },
  {
   "cell_type": "code",
   "execution_count": 1,
   "id": "1d33e123",
   "metadata": {},
   "outputs": [],
   "source": [
    "master_age = 13\n",
    "user_age = 18"
   ]
  },
  {
   "cell_type": "code",
   "execution_count": 3,
   "id": "3341a8b5",
   "metadata": {},
   "outputs": [
    {
     "name": "stdout",
     "output_type": "stream",
     "text": [
      "True\n"
     ]
    }
   ],
   "source": [
    "# Сравниваем два числа\n",
    "# Результат сравния всегда возвращает логическое значени: True или False.\n",
    "print(user_age > master_age)"
   ]
  },
  {
   "cell_type": "code",
   "execution_count": 4,
   "id": "90be663c",
   "metadata": {},
   "outputs": [
    {
     "name": "stdout",
     "output_type": "stream",
     "text": [
      "False\n"
     ]
    }
   ],
   "source": [
    "# Меняем возраст пользователя и еще раз сравниваем\n",
    "master_age = 13\n",
    "user_age = 8\n",
    "print(user_age > master_age)"
   ]
  },
  {
   "cell_type": "code",
   "execution_count": 5,
   "id": "bfe720f3",
   "metadata": {},
   "outputs": [
    {
     "name": "stdout",
     "output_type": "stream",
     "text": [
      "True\n"
     ]
    }
   ],
   "source": [
    "# Попытка сравнения двух чисел, которые представлены строками:\n",
    "master_age = \"13\"\n",
    "user_age = \"8\"\n",
    "print(user_age > master_age)"
   ]
  },
  {
   "cell_type": "markdown",
   "id": "a46da704",
   "metadata": {},
   "source": [
    "При сравнении **\"8\" > \"13\"** мы получаем `True`, хотя очевидно, что 8 меньше 13 как по значению, так и длина строки \"8\" меньше длины строки \"13\"."
   ]
  },
  {
   "cell_type": "code",
   "execution_count": 6,
   "id": "37fb26cf",
   "metadata": {},
   "outputs": [
    {
     "name": "stdout",
     "output_type": "stream",
     "text": [
      "True\n"
     ]
    }
   ],
   "source": [
    "# Заменим цифры на буквы в соответствии с их номерами\n",
    "# 1 - a, 2 - b, 3 - c, 4 - d, 5 - e, 6 - f, 7 - g, 8 - h\n",
    "master_age = \"ac\"\n",
    "user_age = \"h\"\n",
    "print(user_age > master_age)"
   ]
  },
  {
   "cell_type": "code",
   "execution_count": 7,
   "id": "f9860813",
   "metadata": {},
   "outputs": [
    {
     "name": "stdout",
     "output_type": "stream",
     "text": [
      "True\n"
     ]
    }
   ],
   "source": [
    "# Еще одно сравнение\n",
    "master_age = \"acz\"\n",
    "user_age = \"h\"\n",
    "print(user_age > master_age)"
   ]
  },
  {
   "cell_type": "markdown",
   "id": "f343d120",
   "metadata": {},
   "source": [
    "### Особенности сравнения строк\n",
    "\n",
    "Сравнение строк происходит слева направо посимвольно. Каждый символ по отдельности сравнивнивается в соответствии с его позицией в алфавите -  **чем дальше** символ в алфавите, **тем он больше**."
   ]
  },
  {
   "cell_type": "code",
   "execution_count": 8,
   "id": "66e15aed",
   "metadata": {},
   "outputs": [
    {
     "name": "stdout",
     "output_type": "stream",
     "text": [
      "True\n"
     ]
    }
   ],
   "source": [
    "# Сперва происходит сравнение первых символов, затем вторых и тд.\n",
    "# a сравнивается с a и они равны.\n",
    "# c сравнивается с h и h больше, а значит и user_age будет больше:\n",
    "master_age = \"acz\"\n",
    "user_age = \"ah\"\n",
    "print(user_age > master_age)"
   ]
  },
  {
   "cell_type": "code",
   "execution_count": 9,
   "id": "dbab5d8f",
   "metadata": {},
   "outputs": [
    {
     "name": "stdout",
     "output_type": "stream",
     "text": [
      "False\n"
     ]
    }
   ],
   "source": [
    "# Сперва происходит сравнение первых символов, затем вторых и тд.\n",
    "# a сравнивается с a и они равны.\n",
    "# c сравнивается с c и они равны.\n",
    "# z сравнивается с h и z больше, а значит и master_age будет больше:\n",
    "master_age = \"acz\"\n",
    "user_age = \"ach\"\n",
    "print(user_age > master_age)"
   ]
  },
  {
   "cell_type": "code",
   "execution_count": 10,
   "id": "903e7c08",
   "metadata": {},
   "outputs": [
    {
     "name": "stdout",
     "output_type": "stream",
     "text": [
      "True\n"
     ]
    }
   ],
   "source": [
    "# \"1\" будет сравниваться с \"8\", \"8\" больше \"1\", поэтому user_age больше master_age:\n",
    "master_age = \"13\"\n",
    "user_age = \"8\"\n",
    "print(user_age > master_age)"
   ]
  },
  {
   "cell_type": "code",
   "execution_count": 11,
   "id": "21fc99df",
   "metadata": {},
   "outputs": [
    {
     "name": "stdout",
     "output_type": "stream",
     "text": [
      "False\n"
     ]
    }
   ],
   "source": [
    "master_age = \"13\"\n",
    "user_age = \"8\"\n",
    "\n",
    "# Преобразовываем строковые переменные к числам\n",
    "master_age = int(master_age)\n",
    "user_age = int(user_age)\n",
    "print(user_age > master_age)"
   ]
  },
  {
   "cell_type": "code",
   "execution_count": null,
   "id": "1271255c",
   "metadata": {},
   "outputs": [],
   "source": []
  }
 ],
 "metadata": {
  "kernelspec": {
   "display_name": "Python 3 (ipykernel)",
   "language": "python",
   "name": "python3"
  },
  "language_info": {
   "codemirror_mode": {
    "name": "ipython",
    "version": 3
   },
   "file_extension": ".py",
   "mimetype": "text/x-python",
   "name": "python",
   "nbconvert_exporter": "python",
   "pygments_lexer": "ipython3",
   "version": "3.9.13"
  }
 },
 "nbformat": 4,
 "nbformat_minor": 5
}
