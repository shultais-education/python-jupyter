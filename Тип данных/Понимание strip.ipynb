{
 "cells": [
  {
   "cell_type": "markdown",
   "id": "2e1387d7",
   "metadata": {},
   "source": [
    "# Понимание `.strip()`\n",
    "\n",
    "Метод `.strip()` позволяет удалять не только невидимые глазу пробелы, табуляцию и переносы строки, но и любые другие символы."
   ]
  },
  {
   "cell_type": "code",
   "execution_count": 1,
   "id": "26515717",
   "metadata": {},
   "outputs": [
    {
     "name": "stdout",
     "output_type": "stream",
     "text": [
      "Понимание strip...\n"
     ]
    }
   ],
   "source": [
    "text = \"Понимание strip...\"\n",
    "text = text.strip()\n",
    "print(text)"
   ]
  },
  {
   "cell_type": "code",
   "execution_count": 2,
   "id": "1603e7b2",
   "metadata": {},
   "outputs": [
    {
     "name": "stdout",
     "output_type": "stream",
     "text": [
      "Понимание strip\n"
     ]
    }
   ],
   "source": [
    "text = \"Понимание strip...\"\n",
    "# Очищаем строку от точек\n",
    "text = text.strip(\".\")\n",
    "print(text)"
   ]
  },
  {
   "cell_type": "markdown",
   "id": "e307d220",
   "metadata": {},
   "source": [
    "Важно понимать, что метод `.strip()` удаляет символы по краям строки до тех пор, пока не встретит символы не из набора для удаления."
   ]
  },
  {
   "cell_type": "code",
   "execution_count": 3,
   "id": "1b5584d4",
   "metadata": {},
   "outputs": [
    {
     "name": "stdout",
     "output_type": "stream",
     "text": [
      "Понимание strip... \n"
     ]
    }
   ],
   "source": [
    "text = \"Понимание strip... \"\n",
    "# Точки удалены не будут, так как в строке справа стоит пробел.\n",
    "# .strip() встретит пробел и так как пробела нет в наборе символов для удаления (там только точка),\n",
    "# то .strip() прервет дальнейшую работу.\n",
    "text = text.strip(\".\")\n",
    "print(text)"
   ]
  },
  {
   "cell_type": "code",
   "execution_count": 5,
   "id": "4656b5b9",
   "metadata": {},
   "outputs": [
    {
     "name": "stdout",
     "output_type": "stream",
     "text": [
      "Понимание strip... \n"
     ]
    }
   ],
   "source": [
    "# Удаление крайних точек.\n",
    "# .strip() будет удалять точки до тех пор, пока не встретит слева символ \"П\", а справа пробел.\n",
    "text = \".Понимание strip... ..\"\n",
    "text = text.strip(\".\")\n",
    "print(text)"
   ]
  },
  {
   "cell_type": "code",
   "execution_count": 7,
   "id": "a8a49825",
   "metadata": {},
   "outputs": [
    {
     "name": "stdout",
     "output_type": "stream",
     "text": [
      "Понимание strip\n"
     ]
    }
   ],
   "source": [
    "# Удаляем и точки и пробелы:\n",
    "text = \".Понимание strip... ..\"\n",
    "text = text.strip(\". \")\n",
    "print(text)"
   ]
  },
  {
   "cell_type": "code",
   "execution_count": 8,
   "id": "750ebebc",
   "metadata": {},
   "outputs": [
    {
     "name": "stdout",
     "output_type": "stream",
     "text": [
      "Понимание strip\n"
     ]
    }
   ],
   "source": [
    "# Удаление большого числа символов:\n",
    "text = \".Понимание strip... ..?!\"\n",
    "text = text.strip(\"!. ?\")\n",
    "print(text)"
   ]
  },
  {
   "cell_type": "markdown",
   "id": "b50a7cc7",
   "metadata": {},
   "source": [
    "Метод `.strip()` рассматривает переданные в него символы **по отдельности**. `.strip(\"!. ?\")` удаляет справа и слева точку, пробел, восклицательный и вопросительный знаки и не важно, в какой последовательности они стоят в строке."
   ]
  },
  {
   "cell_type": "markdown",
   "id": "9d06d73e",
   "metadata": {},
   "source": [
    "## Опасности `.strip()`"
   ]
  },
  {
   "cell_type": "code",
   "execution_count": 9,
   "id": "6da58864",
   "metadata": {},
   "outputs": [
    {
     "name": "stdout",
     "output_type": "stream",
     "text": [
      "domain.com\n"
     ]
    }
   ],
   "source": [
    "# Попытка удалить www. в начале строки\n",
    "domain = \"www.domain.com\"\n",
    "print(domain.strip(\"w.\"))"
   ]
  },
  {
   "cell_type": "code",
   "execution_count": 10,
   "id": "b062902b",
   "metadata": {},
   "outputs": [
    {
     "name": "stdout",
     "output_type": "stream",
     "text": [
      "eekend.mosco\n"
     ]
    }
   ],
   "source": [
    "# Ошибка удаления www.\n",
    "domain = \"www.weekend.moscow\"\n",
    "print(domain.strip(\"w.\"))"
   ]
  },
  {
   "cell_type": "markdown",
   "id": "3ebdd14f",
   "metadata": {},
   "source": [
    "## Метод `.strip()` без параметров\n",
    "\n",
    "`.strip()` без параметров удаляет из строоки все начальные и конечные невидимые символы (пробелы, переносы строки, табуляцию и тд).<br>\n",
    "По аналогии со `.strip(\" \\t\\n\")`.<br><br>\n",
    "Однако для универсальной первичной очистики лучше использовать `.strip()` **без параметров**."
   ]
  },
  {
   "cell_type": "code",
   "execution_count": null,
   "id": "a4963df5",
   "metadata": {},
   "outputs": [],
   "source": []
  }
 ],
 "metadata": {
  "kernelspec": {
   "display_name": "Python 3 (ipykernel)",
   "language": "python",
   "name": "python3"
  },
  "language_info": {
   "codemirror_mode": {
    "name": "ipython",
    "version": 3
   },
   "file_extension": ".py",
   "mimetype": "text/x-python",
   "name": "python",
   "nbconvert_exporter": "python",
   "pygments_lexer": "ipython3",
   "version": "3.9.13"
  }
 },
 "nbformat": 4,
 "nbformat_minor": 5
}
