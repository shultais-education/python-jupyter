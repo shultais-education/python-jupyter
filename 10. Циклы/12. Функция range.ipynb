{
 "cells": [
  {
   "cell_type": "markdown",
   "id": "5dbfb949",
   "metadata": {},
   "source": [
    "# Функция range\n",
    "\n",
    "Функция **range** предназначена для генерации целых числе в дипазоне от *start* до *end* с шагом *step*:<br>\n",
    "`range(start, end, step)`<br><br>\n",
    "По умолчанию *start* равен нулю и если в функцию передается один параметр, то он отвечает за конечное значение (*end*).<br>\n",
    "`range(10)` - тоже самое, что `range(0, 10)`<br><br>\n",
    "\n",
    "Конечное значение (*end*) в диапазон не попадает.<br>\n",
    "range генерирует значения по одному, что позволяет работать с диапазонами любой величины."
   ]
  },
  {
   "cell_type": "markdown",
   "id": "a8913be8",
   "metadata": {},
   "source": [
    "## Базовое использование\n",
    "Вывод **целых** чисел от 0 до 9:"
   ]
  },
  {
   "cell_type": "code",
   "execution_count": 14,
   "id": "bf7e6e18",
   "metadata": {},
   "outputs": [
    {
     "name": "stdout",
     "output_type": "stream",
     "text": [
      "0 1 2 3 4 5 6 7 8 9 "
     ]
    }
   ],
   "source": [
    "for num in range(10):\n",
    "    print(num, end=\" \")"
   ]
  },
  {
   "cell_type": "markdown",
   "id": "4b61eb99",
   "metadata": {},
   "source": [
    "Вывод **целых** чисел от 1 до 10:"
   ]
  },
  {
   "cell_type": "code",
   "execution_count": 15,
   "id": "9757c4d0",
   "metadata": {},
   "outputs": [
    {
     "name": "stdout",
     "output_type": "stream",
     "text": [
      "1 2 3 4 5 6 7 8 9 10 "
     ]
    }
   ],
   "source": [
    "for num in range(1, 11):\n",
    "    print(num, end=\" \")"
   ]
  },
  {
   "cell_type": "markdown",
   "id": "fdae1aee",
   "metadata": {},
   "source": [
    "Вывод **нечетных** чисел от 1 до 9:"
   ]
  },
  {
   "cell_type": "code",
   "execution_count": 16,
   "id": "89dabef8",
   "metadata": {},
   "outputs": [
    {
     "name": "stdout",
     "output_type": "stream",
     "text": [
      "1 3 5 7 9 "
     ]
    }
   ],
   "source": [
    "for num in range(1, 11, 2):\n",
    "    print(num, end=\" \")"
   ]
  },
  {
   "cell_type": "markdown",
   "id": "59849ae6",
   "metadata": {},
   "source": [
    "Вывод **четных** чисел от 1 до 10:"
   ]
  },
  {
   "cell_type": "code",
   "execution_count": 17,
   "id": "dc7f1eec",
   "metadata": {},
   "outputs": [
    {
     "name": "stdout",
     "output_type": "stream",
     "text": [
      "2 4 6 8 10 "
     ]
    }
   ],
   "source": [
    "for num in range(2, 11, 2):\n",
    "    print(num, end=\" \")"
   ]
  },
  {
   "cell_type": "markdown",
   "id": "2e93c463",
   "metadata": {},
   "source": [
    "Вывод чисел от 5 до -5 в **обратном порядке**:"
   ]
  },
  {
   "cell_type": "code",
   "execution_count": 18,
   "id": "47907e55",
   "metadata": {},
   "outputs": [
    {
     "name": "stdout",
     "output_type": "stream",
     "text": [
      "5 4 3 2 1 0 -1 -2 -3 -4 -5 "
     ]
    }
   ],
   "source": [
    "for num in range(5, -6, -1):\n",
    "    print(num, end=\" \")"
   ]
  },
  {
   "cell_type": "markdown",
   "id": "51397b8d",
   "metadata": {},
   "source": [
    "## Перебор списков с помощью range и len\n",
    "\n",
    "Перебор списков с помощью range и len - популярная ошибка начинающих разработчиков:"
   ]
  },
  {
   "cell_type": "code",
   "execution_count": 19,
   "id": "c4a7f7bd",
   "metadata": {},
   "outputs": [
    {
     "name": "stdout",
     "output_type": "stream",
     "text": [
      "Иван\n",
      "Никита\n",
      "Илья\n",
      "Виктор\n",
      "Алена\n",
      "Светлана\n"
     ]
    }
   ],
   "source": [
    "names = [\"Иван\", \"Никита\", \"Илья\", \"Виктор\", \"Алена\", \"Светлана\"]\n",
    "for i in range(len(names)):\n",
    "    name = names[i]\n",
    "    print(name)"
   ]
  },
  {
   "cell_type": "markdown",
   "id": "c248d488",
   "metadata": {},
   "source": [
    "Правильный код - это перебор списка напрямую с помощью **for**:"
   ]
  },
  {
   "cell_type": "code",
   "execution_count": 20,
   "id": "ced6e033",
   "metadata": {},
   "outputs": [
    {
     "name": "stdout",
     "output_type": "stream",
     "text": [
      "Иван\n",
      "Никита\n",
      "Илья\n",
      "Виктор\n",
      "Алена\n",
      "Светлана\n"
     ]
    }
   ],
   "source": [
    "for name in names:\n",
    "    print(name)"
   ]
  },
  {
   "cell_type": "markdown",
   "id": "174c2c3c",
   "metadata": {},
   "source": [
    "## Перебор десятичных чисел с помощью range"
   ]
  },
  {
   "cell_type": "code",
   "execution_count": 21,
   "id": "7d99a47d",
   "metadata": {},
   "outputs": [
    {
     "name": "stdout",
     "output_type": "stream",
     "text": [
      "0.0 0.1 0.2 0.3 0.4 0.5 0.6 0.7 0.8 0.9 "
     ]
    }
   ],
   "source": [
    "for num in range(10):\n",
    "    num = num / 10\n",
    "    print(num, end=\" \")"
   ]
  },
  {
   "cell_type": "markdown",
   "id": "946e0ae8",
   "metadata": {},
   "source": [
    "## Получение списка чисел"
   ]
  },
  {
   "cell_type": "code",
   "execution_count": 22,
   "id": "586f12ed",
   "metadata": {},
   "outputs": [
    {
     "name": "stdout",
     "output_type": "stream",
     "text": [
      "range(0, 10)\n",
      "[0, 1, 2, 3, 4, 5, 6, 7, 8, 9]\n"
     ]
    }
   ],
   "source": [
    "numbers = range(10)\n",
    "\n",
    "# Вывод объекта range(0, 10)\n",
    "print(numbers)\n",
    "\n",
    "# Для получения списка чисел, нужно обернуть range в list\n",
    "print(list(numbers))\n"
   ]
  },
  {
   "cell_type": "code",
   "execution_count": null,
   "id": "64876c30",
   "metadata": {},
   "outputs": [],
   "source": []
  }
 ],
 "metadata": {
  "kernelspec": {
   "display_name": "Python 3 (ipykernel)",
   "language": "python",
   "name": "python3"
  },
  "language_info": {
   "codemirror_mode": {
    "name": "ipython",
    "version": 3
   },
   "file_extension": ".py",
   "mimetype": "text/x-python",
   "name": "python",
   "nbconvert_exporter": "python",
   "pygments_lexer": "ipython3",
   "version": "3.9.7"
  }
 },
 "nbformat": 4,
 "nbformat_minor": 5
}
