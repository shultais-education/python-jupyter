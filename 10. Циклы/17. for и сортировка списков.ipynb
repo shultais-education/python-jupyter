{
 "cells": [
  {
   "cell_type": "markdown",
   "id": "54659358",
   "metadata": {},
   "source": [
    "# for и сортировка списков"
   ]
  },
  {
   "cell_type": "code",
   "execution_count": 2,
   "id": "64589c3c",
   "metadata": {},
   "outputs": [],
   "source": [
    "populations = [12000000, 5300000, 1600000, 480000, 605000, 2900000, 2000000]"
   ]
  },
  {
   "cell_type": "markdown",
   "id": "097d6f82",
   "metadata": {},
   "source": [
    "Для обхода списков нужно использовать функцию `sorted()`.<br>\n",
    "Функция `sorted()` возвращает новый список и не меняет переданный в неё."
   ]
  },
  {
   "cell_type": "code",
   "execution_count": 3,
   "id": "c39bd779",
   "metadata": {},
   "outputs": [
    {
     "name": "stdout",
     "output_type": "stream",
     "text": [
      "480000 605000 1600000 2000000 2900000 5300000 12000000 \n",
      "[12000000, 5300000, 1600000, 480000, 605000, 2900000, 2000000]\n"
     ]
    }
   ],
   "source": [
    "for pop in sorted(populations):\n",
    "    print(pop, end=' ')\n",
    "\n",
    "print()\n",
    "print(populations)"
   ]
  },
  {
   "cell_type": "markdown",
   "id": "9e45e91a",
   "metadata": {},
   "source": [
    "Чтобы отсортировать сам список, а затем вывести его, нужно воспользоваться методом `.sort()`"
   ]
  },
  {
   "cell_type": "code",
   "execution_count": 4,
   "id": "015737c7",
   "metadata": {},
   "outputs": [
    {
     "name": "stdout",
     "output_type": "stream",
     "text": [
      "480000 605000 1600000 2000000 2900000 5300000 12000000 \n",
      "[480000, 605000, 1600000, 2000000, 2900000, 5300000, 12000000]\n"
     ]
    }
   ],
   "source": [
    "# Сортируем список\n",
    "populations.sort()\n",
    "\n",
    "# Выводим отсортированный списк\n",
    "for pop in populations:\n",
    "    print(pop, end=\" \")\n",
    "    \n",
    "print()\n",
    "print(populations)"
   ]
  },
  {
   "cell_type": "markdown",
   "id": "7786098c",
   "metadata": {},
   "source": [
    "## Использование sorted соместно с enumerate\n",
    "\n",
    "При использвании `enumerate()` совместно с `sorted()` нумерация не будет совпадать с индексами."
   ]
  },
  {
   "cell_type": "code",
   "execution_count": 7,
   "id": "83b21134",
   "metadata": {},
   "outputs": [
    {
     "name": "stdout",
     "output_type": "stream",
     "text": [
      "Нумерация совпадает с индексами:\n",
      "0 12000000\n",
      "1 5300000\n",
      "2 1600000\n",
      "3 480000\n",
      "4 605000\n",
      "5 2900000\n",
      "6 2000000\n",
      "\n",
      "Нумерация НЕ совпадает с индексами:\n",
      "0 480000\n",
      "1 605000\n",
      "2 1600000\n",
      "3 2000000\n",
      "4 2900000\n",
      "5 5300000\n",
      "6 12000000\n"
     ]
    }
   ],
   "source": [
    "populations = [12000000, 5300000, 1600000, 480000, 605000, 2900000, 2000000]\n",
    "\n",
    "print(\"Нумерация совпадает с индексами:\")\n",
    "for i, pop in enumerate(populations):\n",
    "    print(i, pop)\n",
    "\n",
    "print(\"\\nНумерация НЕ совпадает с индексами:\")\n",
    "for i, pop in enumerate(sorted(populations)):\n",
    "    print(i, pop)"
   ]
  },
  {
   "cell_type": "code",
   "execution_count": null,
   "id": "ecb977b3",
   "metadata": {},
   "outputs": [],
   "source": []
  }
 ],
 "metadata": {
  "kernelspec": {
   "display_name": "Python 3 (ipykernel)",
   "language": "python",
   "name": "python3"
  },
  "language_info": {
   "codemirror_mode": {
    "name": "ipython",
    "version": 3
   },
   "file_extension": ".py",
   "mimetype": "text/x-python",
   "name": "python",
   "nbconvert_exporter": "python",
   "pygments_lexer": "ipython3",
   "version": "3.9.7"
  }
 },
 "nbformat": 4,
 "nbformat_minor": 5
}
