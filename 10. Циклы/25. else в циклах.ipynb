{
 "cells": [
  {
   "cell_type": "markdown",
   "id": "773e5315",
   "metadata": {},
   "source": [
    "## else в циклах\n",
    "\n",
    "Ищем следующего дежурного:"
   ]
  },
  {
   "cell_type": "code",
   "execution_count": 7,
   "id": "a8df0d5b",
   "metadata": {},
   "outputs": [
    {
     "name": "stdout",
     "output_type": "stream",
     "text": [
      "Антонов Леонид\n"
     ]
    }
   ],
   "source": [
    "pupils = [\n",
    "    ('Иванов', 'Петр', True),\n",
    "    ('Васильвева', 'Мария', True),\n",
    "    ('Антонов', 'Леонид', False),\n",
    "    ('Смирнов', 'Денис', True),\n",
    "    ('Лебедева', 'Алиса', True),\n",
    "    ('Никитина', 'Вероника', True),\n",
    "    ('Широков', 'Виктор', True)\n",
    "]\n",
    "\n",
    "new_duty = ''\n",
    "for last_name, first_name, duty in pupils:\n",
    "    if not duty:\n",
    "        new_duty = f'{last_name} {first_name}'\n",
    "        break\n",
    "\n",
    "if new_duty:\n",
    "    print(new_duty)\n",
    "else:\n",
    "    print('Дежурный не найден')"
   ]
  },
  {
   "cell_type": "markdown",
   "id": "2fe7a4d6",
   "metadata": {},
   "source": [
    "Используем `for ... else`:"
   ]
  },
  {
   "cell_type": "code",
   "execution_count": 11,
   "id": "4adbbbd6",
   "metadata": {},
   "outputs": [
    {
     "name": "stdout",
     "output_type": "stream",
     "text": [
      "Дежурный не найден\n"
     ]
    }
   ],
   "source": [
    "pupils = [\n",
    "    ('Иванов', 'Петр', True),\n",
    "    ('Васильвева', 'Мария', True),\n",
    "    ('Антонов', 'Леонид', True),\n",
    "    ('Смирнов', 'Денис', True),\n",
    "    ('Лебедева', 'Алиса', True),\n",
    "    ('Никитина', 'Вероника', True),\n",
    "    ('Широков', 'Виктор', True)\n",
    "]\n",
    "\n",
    "new_duty = ''\n",
    "for last_name, first_name, duty in pupils:\n",
    "    if not duty:\n",
    "        new_duty = f'{last_name} {first_name}'\n",
    "        print(new_duty)\n",
    "        break\n",
    "else:\n",
    "    # Данный блок срабатывает если цикл прошелся по всем\n",
    "    # элементам и не встретил break.\n",
    "    print('Дежурный не найден')"
   ]
  },
  {
   "cell_type": "markdown",
   "id": "28e6176c",
   "metadata": {},
   "source": [
    "Упрощаем код:"
   ]
  },
  {
   "cell_type": "code",
   "execution_count": 18,
   "id": "0f876eb3",
   "metadata": {},
   "outputs": [
    {
     "name": "stdout",
     "output_type": "stream",
     "text": [
      "Антонов Леонид\n"
     ]
    }
   ],
   "source": [
    "pupils = [\n",
    "    ('Иванов', 'Петр', True),\n",
    "    ('Васильвева', 'Мария', True),\n",
    "    ('Антонов', 'Леонид', False),\n",
    "    ('Смирнов', 'Денис', True),\n",
    "    ('Лебедева', 'Алиса', True),\n",
    "    ('Никитина', 'Вероника', True),\n",
    "    ('Широков', 'Виктор', True)\n",
    "]\n",
    "\n",
    "for last_name, first_name, duty in pupils:\n",
    "    if not duty:        \n",
    "        print(f'{last_name} {first_name}')\n",
    "        break\n",
    "else:\n",
    "    print('Дежурный не найден')"
   ]
  },
  {
   "cell_type": "markdown",
   "id": "42548717",
   "metadata": {},
   "source": [
    "Присваивание значений:"
   ]
  },
  {
   "cell_type": "code",
   "execution_count": 23,
   "id": "80f922cb",
   "metadata": {},
   "outputs": [
    {
     "name": "stdout",
     "output_type": "stream",
     "text": [
      "Дежурный не найден\n"
     ]
    }
   ],
   "source": [
    "pupils = [\n",
    "    ('Иванов', 'Петр', True),\n",
    "    ('Васильвева', 'Мария', True),\n",
    "    ('Антонов', 'Леонид', True),\n",
    "    ('Смирнов', 'Денис', True),\n",
    "    ('Лебедева', 'Алиса', True),\n",
    "    ('Никитина', 'Вероника', True),\n",
    "    ('Широков', 'Виктор', True)\n",
    "]\n",
    "\n",
    "for last_name, first_name, duty in pupils:\n",
    "    if not duty:        \n",
    "        new_duty = f'{last_name} {first_name}'\n",
    "        break\n",
    "else:\n",
    "    new_duty = 'Дежурный не найден'\n",
    "    \n",
    "print(new_duty)"
   ]
  },
  {
   "cell_type": "code",
   "execution_count": null,
   "id": "d52d7430",
   "metadata": {},
   "outputs": [],
   "source": []
  }
 ],
 "metadata": {
  "kernelspec": {
   "display_name": "Python 3 (ipykernel)",
   "language": "python",
   "name": "python3"
  },
  "language_info": {
   "codemirror_mode": {
    "name": "ipython",
    "version": 3
   },
   "file_extension": ".py",
   "mimetype": "text/x-python",
   "name": "python",
   "nbconvert_exporter": "python",
   "pygments_lexer": "ipython3",
   "version": "3.9.7"
  }
 },
 "nbformat": 4,
 "nbformat_minor": 5
}
