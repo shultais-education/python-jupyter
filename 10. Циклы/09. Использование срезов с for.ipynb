{
 "cells": [
  {
   "cell_type": "markdown",
   "id": "75c79b86",
   "metadata": {},
   "source": [
    "# Использование срезов с for"
   ]
  },
  {
   "cell_type": "code",
   "execution_count": 1,
   "id": "333fda75",
   "metadata": {},
   "outputs": [],
   "source": [
    "cars = [\"Toyota\", \"Mercedes\", \"Hyundai\", \"BMW\", \"Skoda\", \"Lexus\"]"
   ]
  },
  {
   "cell_type": "markdown",
   "id": "49aa97ed",
   "metadata": {},
   "source": [
    "Вывод элементов списка с **четными** индексами (используем шаг 2):"
   ]
  },
  {
   "cell_type": "code",
   "execution_count": 2,
   "id": "e5e1646f",
   "metadata": {},
   "outputs": [
    {
     "name": "stdout",
     "output_type": "stream",
     "text": [
      "Toyota\n",
      "Hyundai\n",
      "Skoda\n"
     ]
    }
   ],
   "source": [
    "for car in cars[::2]:\n",
    "    print(car)"
   ]
  },
  {
   "cell_type": "markdown",
   "id": "525dca82",
   "metadata": {},
   "source": [
    "Вывод элементо списка с **нечетными** индексами:"
   ]
  },
  {
   "cell_type": "code",
   "execution_count": 3,
   "id": "70204d8b",
   "metadata": {},
   "outputs": [
    {
     "name": "stdout",
     "output_type": "stream",
     "text": [
      "Mercedes\n",
      "BMW\n",
      "Lexus\n"
     ]
    }
   ],
   "source": [
    "for car in cars[1::2]:\n",
    "    print(car)"
   ]
  },
  {
   "cell_type": "markdown",
   "id": "70c1c65e",
   "metadata": {},
   "source": [
    "Вывод элементов в **обратном порядке**:"
   ]
  },
  {
   "cell_type": "code",
   "execution_count": 4,
   "id": "20e23042",
   "metadata": {},
   "outputs": [
    {
     "name": "stdout",
     "output_type": "stream",
     "text": [
      "Lexus\n",
      "Skoda\n",
      "BMW\n",
      "Hyundai\n",
      "Mercedes\n",
      "Toyota\n"
     ]
    }
   ],
   "source": [
    "for car in cars[::-1]:\n",
    "    print(car)"
   ]
  },
  {
   "cell_type": "markdown",
   "id": "75aecbb5",
   "metadata": {},
   "source": [
    "Срезы в цикле for создают **копию списка** и не меняют исходных список:"
   ]
  },
  {
   "cell_type": "code",
   "execution_count": 5,
   "id": "cf0c47d0",
   "metadata": {},
   "outputs": [
    {
     "name": "stdout",
     "output_type": "stream",
     "text": [
      "['Toyota', 'Mercedes', 'Hyundai', 'BMW', 'Skoda', 'Lexus']\n"
     ]
    }
   ],
   "source": [
    "print(cars)"
   ]
  },
  {
   "cell_type": "code",
   "execution_count": null,
   "id": "5f23a4f7",
   "metadata": {},
   "outputs": [],
   "source": []
  }
 ],
 "metadata": {
  "kernelspec": {
   "display_name": "Python 3 (ipykernel)",
   "language": "python",
   "name": "python3"
  },
  "language_info": {
   "codemirror_mode": {
    "name": "ipython",
    "version": 3
   },
   "file_extension": ".py",
   "mimetype": "text/x-python",
   "name": "python",
   "nbconvert_exporter": "python",
   "pygments_lexer": "ipython3",
   "version": "3.9.7"
  }
 },
 "nbformat": 4,
 "nbformat_minor": 5
}
