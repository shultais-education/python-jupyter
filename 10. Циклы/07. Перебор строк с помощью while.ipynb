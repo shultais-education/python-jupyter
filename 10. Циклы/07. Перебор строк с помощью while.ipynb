{
 "cells": [
  {
   "cell_type": "markdown",
   "id": "0783d04c",
   "metadata": {},
   "source": [
    "# Перебор строк с помощью while"
   ]
  },
  {
   "cell_type": "code",
   "execution_count": 3,
   "id": "918c1bae",
   "metadata": {},
   "outputs": [
    {
     "name": "stdout",
     "output_type": "stream",
     "text": [
      "Я стану программистом на Python"
     ]
    }
   ],
   "source": [
    "text = \"Я стану программистом на Python\"\n",
    "i = 0\n",
    "while i < len(text):\n",
    "    print(text[i], end=\"\")\n",
    "    i += 1"
   ]
  },
  {
   "cell_type": "markdown",
   "id": "b4703ad2",
   "metadata": {},
   "source": [
    "Неудачная попытка изменить исходную строку:"
   ]
  },
  {
   "cell_type": "code",
   "execution_count": 4,
   "id": "fc810ed8",
   "metadata": {},
   "outputs": [
    {
     "ename": "TypeError",
     "evalue": "'str' object does not support item assignment",
     "output_type": "error",
     "traceback": [
      "\u001b[0;31m---------------------------------------------------------------------------\u001b[0m",
      "\u001b[0;31mTypeError\u001b[0m                                 Traceback (most recent call last)",
      "\u001b[0;32m/var/folders/06/yl2tjjzn0779079l4x8lq1y80000gn/T/ipykernel_15319/1807026614.py\u001b[0m in \u001b[0;36m<module>\u001b[0;34m\u001b[0m\n\u001b[1;32m      5\u001b[0m \u001b[0;32mwhile\u001b[0m \u001b[0mi\u001b[0m \u001b[0;34m<\u001b[0m \u001b[0mlen\u001b[0m\u001b[0;34m(\u001b[0m\u001b[0mtext\u001b[0m\u001b[0;34m)\u001b[0m\u001b[0;34m:\u001b[0m\u001b[0;34m\u001b[0m\u001b[0;34m\u001b[0m\u001b[0m\n\u001b[1;32m      6\u001b[0m     \u001b[0;32mif\u001b[0m \u001b[0mtext\u001b[0m\u001b[0;34m[\u001b[0m\u001b[0mi\u001b[0m\u001b[0;34m]\u001b[0m \u001b[0;32min\u001b[0m \u001b[0mascii_letters\u001b[0m\u001b[0;34m:\u001b[0m\u001b[0;34m\u001b[0m\u001b[0;34m\u001b[0m\u001b[0m\n\u001b[0;32m----> 7\u001b[0;31m         \u001b[0mtext\u001b[0m\u001b[0;34m[\u001b[0m\u001b[0mi\u001b[0m\u001b[0;34m]\u001b[0m \u001b[0;34m=\u001b[0m \u001b[0mtext\u001b[0m\u001b[0;34m[\u001b[0m\u001b[0mi\u001b[0m\u001b[0;34m]\u001b[0m\u001b[0;34m.\u001b[0m\u001b[0mupper\u001b[0m\u001b[0;34m(\u001b[0m\u001b[0;34m)\u001b[0m\u001b[0;34m\u001b[0m\u001b[0;34m\u001b[0m\u001b[0m\n\u001b[0m\u001b[1;32m      8\u001b[0m     \u001b[0mi\u001b[0m \u001b[0;34m+=\u001b[0m \u001b[0;36m1\u001b[0m\u001b[0;34m\u001b[0m\u001b[0;34m\u001b[0m\u001b[0m\n\u001b[1;32m      9\u001b[0m \u001b[0mprint\u001b[0m\u001b[0;34m(\u001b[0m\u001b[0mtext\u001b[0m\u001b[0;34m)\u001b[0m\u001b[0;34m\u001b[0m\u001b[0;34m\u001b[0m\u001b[0m\n",
      "\u001b[0;31mTypeError\u001b[0m: 'str' object does not support item assignment"
     ]
    }
   ],
   "source": [
    "from string import ascii_letters\n",
    "\n",
    "text = \"Я стану программистом на Python\"\n",
    "i = 0\n",
    "while i < len(text):\n",
    "    if text[i] in ascii_letters:\n",
    "        text[i] = text[i].upper()\n",
    "    i += 1\n",
    "print(text)"
   ]
  },
  {
   "cell_type": "markdown",
   "id": "f98d98b8",
   "metadata": {},
   "source": [
    "Изменение строки с формированием новой строки:"
   ]
  },
  {
   "cell_type": "code",
   "execution_count": 5,
   "id": "0a484b56",
   "metadata": {},
   "outputs": [
    {
     "name": "stdout",
     "output_type": "stream",
     "text": [
      "Я стану программистом на Python\n",
      "Я стану программистом на PYTHON\n"
     ]
    }
   ],
   "source": [
    "from string import ascii_letters\n",
    "\n",
    "text = \"Я стану программистом на Python\"\n",
    "new_text = \"\"\n",
    "i = 0\n",
    "while i < len(text):\n",
    "    if text[i] in ascii_letters:\n",
    "        new_text += text[i].upper()\n",
    "    else:\n",
    "        new_text += text[i]\n",
    "    i += 1\n",
    "print(text)\n",
    "print(new_text)"
   ]
  },
  {
   "cell_type": "markdown",
   "id": "e7e2b2d7",
   "metadata": {},
   "source": [
    "Измеенние текста через промежуточный список:"
   ]
  },
  {
   "cell_type": "code",
   "execution_count": 7,
   "id": "2be2f950",
   "metadata": {},
   "outputs": [
    {
     "name": "stdout",
     "output_type": "stream",
     "text": [
      "Я стану программистом на PYTHON\n"
     ]
    }
   ],
   "source": [
    "from string import ascii_letters\n",
    "\n",
    "text = \"Я стану программистом на Python\"\n",
    "text = list(text)\n",
    "i = 0\n",
    "while i < len(text):\n",
    "    if text[i] in ascii_letters:\n",
    "        text[i] = text[i].upper()\n",
    "    i += 1\n",
    "text = \"\".join(text)\n",
    "print(text)"
   ]
  },
  {
   "cell_type": "code",
   "execution_count": null,
   "id": "4a870140",
   "metadata": {},
   "outputs": [],
   "source": []
  }
 ],
 "metadata": {
  "kernelspec": {
   "display_name": "Python 3 (ipykernel)",
   "language": "python",
   "name": "python3"
  },
  "language_info": {
   "codemirror_mode": {
    "name": "ipython",
    "version": 3
   },
   "file_extension": ".py",
   "mimetype": "text/x-python",
   "name": "python",
   "nbconvert_exporter": "python",
   "pygments_lexer": "ipython3",
   "version": "3.9.7"
  }
 },
 "nbformat": 4,
 "nbformat_minor": 5
}
