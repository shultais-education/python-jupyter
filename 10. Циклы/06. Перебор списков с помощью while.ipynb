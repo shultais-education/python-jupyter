{
 "cells": [
  {
   "cell_type": "markdown",
   "id": "cf969aec",
   "metadata": {},
   "source": [
    "# Перебор списков с помощью while"
   ]
  },
  {
   "cell_type": "code",
   "execution_count": 1,
   "id": "6c102661",
   "metadata": {},
   "outputs": [],
   "source": [
    "cars = [\"Toyota\", \"Mercedes\", \"Hyundai\", \"BMW\", \"Skoda\", \"Lexus\"]"
   ]
  },
  {
   "cell_type": "markdown",
   "id": "ef3831f1",
   "metadata": {},
   "source": [
    "Заглушка цикла:"
   ]
  },
  {
   "cell_type": "code",
   "execution_count": 2,
   "id": "cdf5f0f7",
   "metadata": {},
   "outputs": [],
   "source": [
    "i = 0\n",
    "while i < len(cars):\n",
    "    i += 1"
   ]
  },
  {
   "cell_type": "markdown",
   "id": "039768ea",
   "metadata": {},
   "source": [
    "Перебор и вывод всех элементов списка:"
   ]
  },
  {
   "cell_type": "code",
   "execution_count": 3,
   "id": "14d9aa04",
   "metadata": {},
   "outputs": [
    {
     "name": "stdout",
     "output_type": "stream",
     "text": [
      "TOYOTA\n",
      "MERCEDES\n",
      "HYUNDAI\n",
      "BMW\n",
      "SKODA\n",
      "LEXUS\n"
     ]
    }
   ],
   "source": [
    "i = 0\n",
    "while i < len(cars):\n",
    "    car = cars[i]\n",
    "    print(car.upper())\n",
    "    i += 1"
   ]
  },
  {
   "cell_type": "markdown",
   "id": "9934bdb7",
   "metadata": {},
   "source": [
    "Неудачная попытка изменить элементы списка:"
   ]
  },
  {
   "cell_type": "code",
   "execution_count": 4,
   "id": "464c1019",
   "metadata": {},
   "outputs": [
    {
     "name": "stdout",
     "output_type": "stream",
     "text": [
      "['Toyota', 'Mercedes', 'Hyundai', 'BMW', 'Skoda', 'Lexus']\n"
     ]
    }
   ],
   "source": [
    "i = 0\n",
    "while i < len(cars):\n",
    "    car = cars[i]\n",
    "    car = car.upper()\n",
    "    i += 1\n",
    "    \n",
    "print(cars)"
   ]
  },
  {
   "cell_type": "markdown",
   "id": "ae530358",
   "metadata": {},
   "source": [
    "Реальное изменение элементов списка:"
   ]
  },
  {
   "cell_type": "code",
   "execution_count": 5,
   "id": "04c646e9",
   "metadata": {},
   "outputs": [
    {
     "name": "stdout",
     "output_type": "stream",
     "text": [
      "['TOYOTA', 'MERCEDES', 'HYUNDAI', 'BMW', 'SKODA', 'LEXUS']\n"
     ]
    }
   ],
   "source": [
    "i = 0\n",
    "while i < len(cars):\n",
    "    cars[i] = cars[i].upper()\n",
    "    i += 1\n",
    "    \n",
    "print(cars)"
   ]
  },
  {
   "cell_type": "markdown",
   "id": "fe83a4d8",
   "metadata": {},
   "source": [
    "Изменение типа данных элементов списка со строк (**str**) на целые числа (**int**):"
   ]
  },
  {
   "cell_type": "code",
   "execution_count": 6,
   "id": "b6452c6f",
   "metadata": {},
   "outputs": [
    {
     "name": "stdout",
     "output_type": "stream",
     "text": [
      "[12, 134, 1, 17]\n"
     ]
    }
   ],
   "source": [
    "# Список строк:\n",
    "values = [\"12\", \"134\", \"1\", \"17\"]\n",
    "i = 0\n",
    "while i < len(values):\n",
    "    values[i] = int(values[i])\n",
    "    i += 1\n",
    "\n",
    "# Список чисел:\n",
    "print(values)"
   ]
  },
  {
   "cell_type": "markdown",
   "id": "98186c6a",
   "metadata": {},
   "source": [
    "Перебор списков с опустошением:"
   ]
  },
  {
   "cell_type": "code",
   "execution_count": 4,
   "id": "c4e6fc6c",
   "metadata": {},
   "outputs": [
    {
     "name": "stdout",
     "output_type": "stream",
     "text": [
      "Lexus\n",
      "Skoda\n",
      "BMW\n",
      "Hyundai\n",
      "Mercedes\n",
      "Toyota\n",
      "[]\n"
     ]
    }
   ],
   "source": [
    "cars = [\"Toyota\", \"Mercedes\", \"Hyundai\", \"BMW\", \"Skoda\", \"Lexus\"]\n",
    "while cars:\n",
    "    car = cars.pop()\n",
    "    print(car)\n",
    "print(cars)"
   ]
  },
  {
   "cell_type": "code",
   "execution_count": 5,
   "id": "a1ced776",
   "metadata": {},
   "outputs": [
    {
     "name": "stdout",
     "output_type": "stream",
     "text": [
      "Toyota\n",
      "Mercedes\n",
      "Hyundai\n",
      "BMW\n",
      "Skoda\n",
      "Lexus\n",
      "[]\n"
     ]
    }
   ],
   "source": [
    "cars = [\"Toyota\", \"Mercedes\", \"Hyundai\", \"BMW\", \"Skoda\", \"Lexus\"]\n",
    "while cars:\n",
    "    car = cars.pop(0)\n",
    "    print(car)\n",
    "print(cars)"
   ]
  },
  {
   "cell_type": "code",
   "execution_count": null,
   "id": "61eee043",
   "metadata": {},
   "outputs": [],
   "source": []
  }
 ],
 "metadata": {
  "kernelspec": {
   "display_name": "Python 3 (ipykernel)",
   "language": "python",
   "name": "python3"
  },
  "language_info": {
   "codemirror_mode": {
    "name": "ipython",
    "version": 3
   },
   "file_extension": ".py",
   "mimetype": "text/x-python",
   "name": "python",
   "nbconvert_exporter": "python",
   "pygments_lexer": "ipython3",
   "version": "3.9.7"
  }
 },
 "nbformat": 4,
 "nbformat_minor": 5
}
