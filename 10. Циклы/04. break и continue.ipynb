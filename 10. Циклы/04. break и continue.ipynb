{
 "cells": [
  {
   "cell_type": "markdown",
   "id": "436ab331",
   "metadata": {},
   "source": [
    "# Операторы break и continue"
   ]
  },
  {
   "cell_type": "code",
   "execution_count": 1,
   "id": "d0628e28",
   "metadata": {},
   "outputs": [
    {
     "name": "stdout",
     "output_type": "stream",
     "text": [
      "1\n",
      "2\n",
      "3\n",
      "4\n",
      "5\n",
      "6\n",
      "7\n",
      "8\n",
      "9\n"
     ]
    }
   ],
   "source": [
    "# Прерывание цикла с помощью break\n",
    "i = 1\n",
    "while True:\n",
    "    print(i)\n",
    "    i += 1\n",
    "    \n",
    "    if i == 10:\n",
    "        break"
   ]
  },
  {
   "cell_type": "code",
   "execution_count": 10,
   "id": "aa77095f",
   "metadata": {},
   "outputs": [
    {
     "name": "stdout",
     "output_type": "stream",
     "text": [
      "1\n",
      "3\n",
      "5\n",
      "7\n",
      "9\n",
      "11\n"
     ]
    }
   ],
   "source": [
    "# Вывод всех нечетных чисел о 1 до 11\n",
    "i = 0\n",
    "while True:\n",
    "    i += 1\n",
    "    \n",
    "    if i % 2 == 0:\n",
    "        continue\n",
    "    \n",
    "    print(i)\n",
    "\n",
    "    if i >= 10:\n",
    "        break"
   ]
  },
  {
   "cell_type": "markdown",
   "id": "cf7f228f",
   "metadata": {},
   "source": [
    "## <span style=\"color:red\">Бесконечный цикл</span>"
   ]
  },
  {
   "cell_type": "code",
   "execution_count": 4,
   "id": "d9f0be31",
   "metadata": {},
   "outputs": [
    {
     "ename": "KeyboardInterrupt",
     "evalue": "",
     "output_type": "error",
     "traceback": [
      "\u001b[0;31m---------------------------------------------------------------------------\u001b[0m",
      "\u001b[0;31mKeyboardInterrupt\u001b[0m                         Traceback (most recent call last)",
      "\u001b[0;32m/var/folders/06/yl2tjjzn0779079l4x8lq1y80000gn/T/ipykernel_82077/2455091159.py\u001b[0m in \u001b[0;36m<module>\u001b[0;34m\u001b[0m\n\u001b[1;32m      4\u001b[0m \u001b[0;34m\u001b[0m\u001b[0m\n\u001b[1;32m      5\u001b[0m \u001b[0;34m\u001b[0m\u001b[0m\n\u001b[0;32m----> 6\u001b[0;31m     \u001b[0;32mif\u001b[0m \u001b[0mi\u001b[0m \u001b[0;34m%\u001b[0m \u001b[0;36m2\u001b[0m \u001b[0;34m==\u001b[0m \u001b[0;36m0\u001b[0m\u001b[0;34m:\u001b[0m\u001b[0;34m\u001b[0m\u001b[0;34m\u001b[0m\u001b[0m\n\u001b[0m\u001b[1;32m      7\u001b[0m         \u001b[0;32mcontinue\u001b[0m\u001b[0;34m\u001b[0m\u001b[0;34m\u001b[0m\u001b[0m\n\u001b[1;32m      8\u001b[0m \u001b[0;34m\u001b[0m\u001b[0m\n",
      "\u001b[0;31mKeyboardInterrupt\u001b[0m: "
     ]
    }
   ],
   "source": [
    "i = 0\n",
    "while True:\n",
    "    if i % 2 == 0:\n",
    "        continue\n",
    "    \n",
    "    print(i)\n",
    "\n",
    "    if i >= 10:\n",
    "        break\n",
    "        \n",
    "    i += 1  "
   ]
  },
  {
   "cell_type": "code",
   "execution_count": 14,
   "id": "88e36656",
   "metadata": {},
   "outputs": [
    {
     "name": "stdout",
     "output_type": "stream",
     "text": [
      "1\n",
      "2\n",
      "3\n",
      "4\n",
      "5\n",
      "6\n",
      "7\n",
      "8\n",
      "9\n",
      "10\n",
      "11\n"
     ]
    }
   ],
   "source": [
    "# continue не оказыает влияния на вывод, так как стоит после print\n",
    "i = 0\n",
    "while True:\n",
    "    i += 1 \n",
    "    \n",
    "    print(i)\n",
    "    \n",
    "    if i % 2 == 0:\n",
    "        continue\n",
    "    \n",
    "    if i >= 10:\n",
    "        break"
   ]
  },
  {
   "cell_type": "code",
   "execution_count": 16,
   "id": "380cb6c6",
   "metadata": {},
   "outputs": [
    {
     "name": "stdout",
     "output_type": "stream",
     "text": [
      "1\n",
      "3\n",
      "5\n",
      "7\n",
      "9\n"
     ]
    }
   ],
   "source": [
    "# Вывод нечетных чисел от 1 до 9\n",
    "i = 0\n",
    "while True:\n",
    "    if i >= 10:\n",
    "        break\n",
    "        \n",
    "    i += 1 \n",
    "    \n",
    "    if i % 2 == 0:\n",
    "        continue\n",
    "        \n",
    "    print(i)"
   ]
  },
  {
   "cell_type": "markdown",
   "id": "8cda4c4f",
   "metadata": {},
   "source": [
    "## <span style=\"color:red\">Бесконечный цикл</span>"
   ]
  },
  {
   "cell_type": "code",
   "execution_count": null,
   "id": "cb30a3cf",
   "metadata": {},
   "outputs": [],
   "source": [
    "# braeak не сработает\n",
    "i = 0\n",
    "while True:    \n",
    "    i += 1 \n",
    "    \n",
    "    if i % 2 == 0:\n",
    "        continue\n",
    "        \n",
    "    print(i)\n",
    "    \n",
    "    if i == 10:\n",
    "        break\n",
    "    "
   ]
  },
  {
   "cell_type": "code",
   "execution_count": 18,
   "id": "e90b9dc0",
   "metadata": {},
   "outputs": [
    {
     "name": "stdout",
     "output_type": "stream",
     "text": [
      "1\n",
      "3\n",
      "5\n",
      "7\n",
      "9\n",
      "11\n",
      "13\n"
     ]
    }
   ],
   "source": [
    "# Вывод нечетных чисел от 1 до 3\n",
    "i = 0\n",
    "while True:    \n",
    "    i += 1 \n",
    "    \n",
    "    if i % 2 == 0:\n",
    "        continue\n",
    "        \n",
    "    print(i)\n",
    "    \n",
    "    if i == 13:\n",
    "        break"
   ]
  },
  {
   "cell_type": "code",
   "execution_count": null,
   "id": "eb6e52c8",
   "metadata": {},
   "outputs": [],
   "source": []
  }
 ],
 "metadata": {
  "kernelspec": {
   "display_name": "Python 3 (ipykernel)",
   "language": "python",
   "name": "python3"
  },
  "language_info": {
   "codemirror_mode": {
    "name": "ipython",
    "version": 3
   },
   "file_extension": ".py",
   "mimetype": "text/x-python",
   "name": "python",
   "nbconvert_exporter": "python",
   "pygments_lexer": "ipython3",
   "version": "3.9.7"
  }
 },
 "nbformat": 4,
 "nbformat_minor": 5
}
