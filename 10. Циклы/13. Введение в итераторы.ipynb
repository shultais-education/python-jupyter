{
 "cells": [
  {
   "cell_type": "markdown",
   "id": "a9374260",
   "metadata": {},
   "source": [
    "# Введение в итераторы\n",
    "\n",
    "Классический перебор списка `names` с помощью цикла `for`:"
   ]
  },
  {
   "cell_type": "code",
   "execution_count": 1,
   "id": "516bfac4",
   "metadata": {},
   "outputs": [
    {
     "name": "stdout",
     "output_type": "stream",
     "text": [
      "Иван Никита Илья Виктор Алена Светлана "
     ]
    }
   ],
   "source": [
    "names = [\"Иван\", \"Никита\", \"Илья\", \"Виктор\", \"Алена\", \"Светлана\"]\n",
    "\n",
    "for name in names:\n",
    "    print(name, end=\" \")"
   ]
  },
  {
   "cell_type": "markdown",
   "id": "b63ac0d5",
   "metadata": {},
   "source": [
    "Объект-итератор возвращает элементы по одному с помощью функции `next()` или метода `__next__()`<br>\n",
    "Чтобы его создать, нужно вызвать функцию `iter()` или метод `__iter__()`."
   ]
  },
  {
   "cell_type": "code",
   "execution_count": 12,
   "id": "72c2c004",
   "metadata": {},
   "outputs": [
    {
     "name": "stdout",
     "output_type": "stream",
     "text": [
      "<list_iterator object at 0x7fdce03cdfd0>\n",
      "Иван\n",
      "Никита\n",
      "Илья\n",
      "Виктор\n",
      "Алена\n",
      "Светлана\n"
     ]
    },
    {
     "ename": "StopIteration",
     "evalue": "",
     "output_type": "error",
     "traceback": [
      "\u001b[0;31m---------------------------------------------------------------------------\u001b[0m",
      "\u001b[0;31mStopIteration\u001b[0m                             Traceback (most recent call last)",
      "\u001b[0;32m/var/folders/06/yl2tjjzn0779079l4x8lq1y80000gn/T/ipykernel_97406/401607909.py\u001b[0m in \u001b[0;36m<module>\u001b[0;34m\u001b[0m\n\u001b[1;32m      8\u001b[0m \u001b[0mprint\u001b[0m\u001b[0;34m(\u001b[0m\u001b[0mnames_iter\u001b[0m\u001b[0;34m.\u001b[0m\u001b[0m__next__\u001b[0m\u001b[0;34m(\u001b[0m\u001b[0;34m)\u001b[0m\u001b[0;34m)\u001b[0m  \u001b[0;31m# Алена\u001b[0m\u001b[0;34m\u001b[0m\u001b[0;34m\u001b[0m\u001b[0m\n\u001b[1;32m      9\u001b[0m \u001b[0mprint\u001b[0m\u001b[0;34m(\u001b[0m\u001b[0mnames_iter\u001b[0m\u001b[0;34m.\u001b[0m\u001b[0m__next__\u001b[0m\u001b[0;34m(\u001b[0m\u001b[0;34m)\u001b[0m\u001b[0;34m)\u001b[0m  \u001b[0;31m# Светлана - используем метод __next__(), аналог функции next()\u001b[0m\u001b[0;34m\u001b[0m\u001b[0;34m\u001b[0m\u001b[0m\n\u001b[0;32m---> 10\u001b[0;31m \u001b[0mprint\u001b[0m\u001b[0;34m(\u001b[0m\u001b[0mnames_iter\u001b[0m\u001b[0;34m.\u001b[0m\u001b[0m__next__\u001b[0m\u001b[0;34m(\u001b[0m\u001b[0;34m)\u001b[0m\u001b[0;34m)\u001b[0m  \u001b[0;31m# StopIteration\u001b[0m\u001b[0;34m\u001b[0m\u001b[0;34m\u001b[0m\u001b[0m\n\u001b[0m",
      "\u001b[0;31mStopIteration\u001b[0m: "
     ]
    }
   ],
   "source": [
    "names_iter = names.__iter__()\n",
    "print(names_iter)             # Объект list iterator\n",
    "\n",
    "print(names_iter.__next__())  # Иван\n",
    "print(names_iter.__next__())  # Никита\n",
    "print(names_iter.__next__())  # Илья\n",
    "print(names_iter.__next__())  # Виктор\n",
    "print(names_iter.__next__())  # Алена\n",
    "print(names_iter.__next__())  # Светлана - используем метод __next__(), аналог функции next()\n",
    "print(names_iter.__next__())  # StopIteration"
   ]
  },
  {
   "cell_type": "markdown",
   "id": "953badf6",
   "metadata": {},
   "source": [
    "## Функция range\n",
    "\n",
    "Функция `range()` также может возвращать объект-итератор, но она устроена [немного сложнее](https://webdevblog.ru/python-range-ne-yavlyaetsya-iteratorom/), чем обычные списки."
   ]
  },
  {
   "cell_type": "code",
   "execution_count": 14,
   "id": "f90254d6",
   "metadata": {},
   "outputs": [
    {
     "name": "stdout",
     "output_type": "stream",
     "text": [
      "0\n",
      "1\n",
      "2\n",
      "3\n",
      "4\n"
     ]
    },
    {
     "ename": "StopIteration",
     "evalue": "",
     "output_type": "error",
     "traceback": [
      "\u001b[0;31m---------------------------------------------------------------------------\u001b[0m",
      "\u001b[0;31mStopIteration\u001b[0m                             Traceback (most recent call last)",
      "\u001b[0;32m/var/folders/06/yl2tjjzn0779079l4x8lq1y80000gn/T/ipykernel_97406/1331346959.py\u001b[0m in \u001b[0;36m<module>\u001b[0;34m\u001b[0m\n\u001b[1;32m     11\u001b[0m \u001b[0mprint\u001b[0m\u001b[0;34m(\u001b[0m\u001b[0mnext\u001b[0m\u001b[0;34m(\u001b[0m\u001b[0mdigits_iter\u001b[0m\u001b[0;34m)\u001b[0m\u001b[0;34m)\u001b[0m\u001b[0;34m\u001b[0m\u001b[0;34m\u001b[0m\u001b[0m\n\u001b[1;32m     12\u001b[0m \u001b[0mprint\u001b[0m\u001b[0;34m(\u001b[0m\u001b[0mnext\u001b[0m\u001b[0;34m(\u001b[0m\u001b[0mdigits_iter\u001b[0m\u001b[0;34m)\u001b[0m\u001b[0;34m)\u001b[0m\u001b[0;34m\u001b[0m\u001b[0;34m\u001b[0m\u001b[0m\n\u001b[0;32m---> 13\u001b[0;31m \u001b[0mprint\u001b[0m\u001b[0;34m(\u001b[0m\u001b[0mnext\u001b[0m\u001b[0;34m(\u001b[0m\u001b[0mdigits_iter\u001b[0m\u001b[0;34m)\u001b[0m\u001b[0;34m)\u001b[0m\u001b[0;34m\u001b[0m\u001b[0;34m\u001b[0m\u001b[0m\n\u001b[0m",
      "\u001b[0;31mStopIteration\u001b[0m: "
     ]
    }
   ],
   "source": [
    "# Сперва создаем объект range:\n",
    "digits = range(5)\n",
    "\n",
    "# После на базе объекта-range создадим объект-итератор:\n",
    "digits_iter = iter(digits)\n",
    "\n",
    "# А далее воспользвемся функцией next:\n",
    "print(next(digits_iter))\n",
    "print(next(digits_iter))\n",
    "print(next(digits_iter))\n",
    "print(next(digits_iter))\n",
    "print(next(digits_iter))\n",
    "print(next(digits_iter))"
   ]
  },
  {
   "cell_type": "code",
   "execution_count": null,
   "id": "3c8bc11d",
   "metadata": {},
   "outputs": [],
   "source": []
  }
 ],
 "metadata": {
  "kernelspec": {
   "display_name": "Python 3 (ipykernel)",
   "language": "python",
   "name": "python3"
  },
  "language_info": {
   "codemirror_mode": {
    "name": "ipython",
    "version": 3
   },
   "file_extension": ".py",
   "mimetype": "text/x-python",
   "name": "python",
   "nbconvert_exporter": "python",
   "pygments_lexer": "ipython3",
   "version": "3.9.7"
  }
 },
 "nbformat": 4,
 "nbformat_minor": 5
}
