{
 "cells": [
  {
   "cell_type": "markdown",
   "id": "8da120a4",
   "metadata": {},
   "source": [
    "# enumerate"
   ]
  },
  {
   "cell_type": "code",
   "execution_count": 1,
   "id": "9b3a448b",
   "metadata": {},
   "outputs": [
    {
     "name": "stdout",
     "output_type": "stream",
     "text": [
      "январь\n",
      "февраль\n",
      "март\n",
      "апрель\n",
      "май\n",
      "июнь\n",
      "июль\n",
      "август\n",
      "сентябрь\n",
      "октябрь\n",
      "ноябрь\n",
      "декабрь\n"
     ]
    }
   ],
   "source": [
    "months = [\"январь\", \"февраль\", \"март\", \"апрель\", \"май\", \"июнь\",\n",
    "          \"июль\", \"август\", \"сентябрь\", \"октябрь\", \"ноябрь\", \"декабрь\"]\n",
    "\n",
    "for month in months:\n",
    "    print(month)"
   ]
  },
  {
   "cell_type": "markdown",
   "id": "a48e4dc2",
   "metadata": {},
   "source": [
    "Получение индексов элементов через переменную `counter`:"
   ]
  },
  {
   "cell_type": "code",
   "execution_count": 2,
   "id": "f6da693b",
   "metadata": {},
   "outputs": [
    {
     "name": "stdout",
     "output_type": "stream",
     "text": [
      "0 январь\n",
      "1 февраль\n",
      "2 март\n",
      "3 апрель\n",
      "4 май\n",
      "5 июнь\n",
      "6 июль\n",
      "7 август\n",
      "8 сентябрь\n",
      "9 октябрь\n",
      "10 ноябрь\n",
      "11 декабрь\n"
     ]
    }
   ],
   "source": [
    "counter = 0\n",
    "for month in months:\n",
    "    print(counter, month)\n",
    "    counter += 1"
   ]
  },
  {
   "cell_type": "markdown",
   "id": "e8c64ee5",
   "metadata": {},
   "source": [
    "Получение номеров месяцев с помощью `range()`:"
   ]
  },
  {
   "cell_type": "code",
   "execution_count": 4,
   "id": "81d6ecbb",
   "metadata": {},
   "outputs": [
    {
     "name": "stdout",
     "output_type": "stream",
     "text": [
      "1 январь\n",
      "2 февраль\n",
      "3 март\n",
      "4 апрель\n",
      "5 май\n",
      "6 июнь\n",
      "7 июль\n",
      "8 август\n",
      "9 сентябрь\n",
      "10 октябрь\n",
      "11 ноябрь\n",
      "12 декабрь\n"
     ]
    }
   ],
   "source": [
    "for month_idx in range(len(months)):\n",
    "    month = months[month_idx]\n",
    "    print(month_idx + 1, month)"
   ]
  },
  {
   "cell_type": "markdown",
   "id": "df400714",
   "metadata": {},
   "source": [
    "Получение индексов и месяцев с помощью `enumerate()`:"
   ]
  },
  {
   "cell_type": "code",
   "execution_count": 5,
   "id": "794a9622",
   "metadata": {},
   "outputs": [
    {
     "name": "stdout",
     "output_type": "stream",
     "text": [
      "(0, 'январь')\n",
      "(1, 'февраль')\n",
      "(2, 'март')\n",
      "(3, 'апрель')\n",
      "(4, 'май')\n",
      "(5, 'июнь')\n",
      "(6, 'июль')\n",
      "(7, 'август')\n",
      "(8, 'сентябрь')\n",
      "(9, 'октябрь')\n",
      "(10, 'ноябрь')\n",
      "(11, 'декабрь')\n"
     ]
    }
   ],
   "source": [
    "for month_idx in enumerate(months):\n",
    "    print(month_idx)"
   ]
  },
  {
   "cell_type": "markdown",
   "id": "98d3e241",
   "metadata": {},
   "source": [
    "Получение индексов и месяцев с помощью `enumerate()` с распаковкой кортежа:"
   ]
  },
  {
   "cell_type": "code",
   "execution_count": 6,
   "id": "50a2b417",
   "metadata": {},
   "outputs": [
    {
     "name": "stdout",
     "output_type": "stream",
     "text": [
      "0 январь\n",
      "1 февраль\n",
      "2 март\n",
      "3 апрель\n",
      "4 май\n",
      "5 июнь\n",
      "6 июль\n",
      "7 август\n",
      "8 сентябрь\n",
      "9 октябрь\n",
      "10 ноябрь\n",
      "11 декабрь\n"
     ]
    }
   ],
   "source": [
    "for counter, month in enumerate(months):\n",
    "    print(counter, month)"
   ]
  },
  {
   "cell_type": "markdown",
   "id": "5a0ca762",
   "metadata": {},
   "source": [
    "Вывод номера и названия месяца с помощью `enumerate()`:"
   ]
  },
  {
   "cell_type": "code",
   "execution_count": 7,
   "id": "ae73e733",
   "metadata": {},
   "outputs": [
    {
     "name": "stdout",
     "output_type": "stream",
     "text": [
      "1 январь\n",
      "2 февраль\n",
      "3 март\n",
      "4 апрель\n",
      "5 май\n",
      "6 июнь\n",
      "7 июль\n",
      "8 август\n",
      "9 сентябрь\n",
      "10 октябрь\n",
      "11 ноябрь\n",
      "12 декабрь\n"
     ]
    }
   ],
   "source": [
    "for counter, month in enumerate(months, start=1):\n",
    "    print(counter, month)"
   ]
  },
  {
   "cell_type": "markdown",
   "id": "cc647e4c",
   "metadata": {},
   "source": [
    "Разбиваем данные по кварталам:"
   ]
  },
  {
   "cell_type": "code",
   "execution_count": 8,
   "id": "201a03a6",
   "metadata": {},
   "outputs": [
    {
     "name": "stdout",
     "output_type": "stream",
     "text": [
      "Квартал 1\n",
      "    январь\n",
      "    февраль\n",
      "    март\n",
      "Квартал 2\n",
      "    апрель\n",
      "    май\n",
      "    июнь\n",
      "Квартал 3\n",
      "    июль\n",
      "    август\n",
      "    сентябрь\n",
      "Квартал 4\n",
      "    октябрь\n",
      "    ноябрь\n",
      "    декабрь\n"
     ]
    }
   ],
   "source": [
    "for counter, month in enumerate(months, start=1):\n",
    "    if counter % 3 == 1:\n",
    "        print(\"Квартал\", counter // 3 + 1)\n",
    "    print(\"    {}\".format(month))"
   ]
  },
  {
   "cell_type": "code",
   "execution_count": null,
   "id": "9499d466",
   "metadata": {},
   "outputs": [],
   "source": []
  }
 ],
 "metadata": {
  "kernelspec": {
   "display_name": "Python 3 (ipykernel)",
   "language": "python",
   "name": "python3"
  },
  "language_info": {
   "codemirror_mode": {
    "name": "ipython",
    "version": 3
   },
   "file_extension": ".py",
   "mimetype": "text/x-python",
   "name": "python",
   "nbconvert_exporter": "python",
   "pygments_lexer": "ipython3",
   "version": "3.9.7"
  }
 },
 "nbformat": 4,
 "nbformat_minor": 5
}
