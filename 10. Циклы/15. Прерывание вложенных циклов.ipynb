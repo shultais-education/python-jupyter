{
 "cells": [
  {
   "cell_type": "markdown",
   "id": "710535df",
   "metadata": {},
   "source": [
    "# Прерывание вложенных циклов"
   ]
  },
  {
   "cell_type": "code",
   "execution_count": 1,
   "id": "f31b9869",
   "metadata": {},
   "outputs": [],
   "source": [
    "employees = [\n",
    "    [\n",
    "        {\"name\": \"Иванов И. И.\", \"busy\": True},\n",
    "        {\"name\": \"Петров П. П.\", \"busy\": True},\n",
    "        {\"name\": \"Сидоров С. С.\", \"busy\": True}\n",
    "    ],\n",
    "    [\n",
    "        {\"name\": \"Соколов А. А.\", \"busy\": True},\n",
    "        {\"name\": \"Уткин В. В.\", \"busy\": False},\n",
    "        {\"name\": \"Лебедев А. Т.\", \"busy\": False}\n",
    "    ],\n",
    "    [\n",
    "        {\"name\": \"Медведев Д. А.\", \"busy\": False},\n",
    "        {\"name\": \"Волков А. Е.\", \"busy\": True},\n",
    "        {\"name\": \"Козлов А. С.\", \"busy\": False}\n",
    "    ]\n",
    "]"
   ]
  },
  {
   "cell_type": "markdown",
   "id": "f7f8c46d",
   "metadata": {},
   "source": [
    "Вывод **всех** сотрудников (из каждого отдела):"
   ]
  },
  {
   "cell_type": "code",
   "execution_count": 2,
   "id": "6a4c98f9",
   "metadata": {},
   "outputs": [
    {
     "name": "stdout",
     "output_type": "stream",
     "text": [
      "{'name': 'Иванов И. И.', 'busy': True}\n",
      "{'name': 'Петров П. П.', 'busy': True}\n",
      "{'name': 'Сидоров С. С.', 'busy': True}\n",
      "{'name': 'Соколов А. А.', 'busy': True}\n",
      "{'name': 'Уткин В. В.', 'busy': False}\n",
      "{'name': 'Лебедев А. Т.', 'busy': False}\n",
      "{'name': 'Медведев Д. А.', 'busy': False}\n",
      "{'name': 'Волков А. Е.', 'busy': True}\n",
      "{'name': 'Козлов А. С.', 'busy': False}\n"
     ]
    }
   ],
   "source": [
    "for dep in employees:\n",
    "    for emp in dep:\n",
    "        print(emp)"
   ]
  },
  {
   "cell_type": "markdown",
   "id": "806e75d3",
   "metadata": {},
   "source": [
    "Вывод **активных** сотрудников:"
   ]
  },
  {
   "cell_type": "code",
   "execution_count": 3,
   "id": "36900c6e",
   "metadata": {},
   "outputs": [
    {
     "name": "stdout",
     "output_type": "stream",
     "text": [
      "{'name': 'Уткин В. В.', 'busy': False}\n",
      "{'name': 'Лебедев А. Т.', 'busy': False}\n",
      "{'name': 'Медведев Д. А.', 'busy': False}\n",
      "{'name': 'Козлов А. С.', 'busy': False}\n"
     ]
    }
   ],
   "source": [
    "for dep in employees:\n",
    "    for emp in dep:\n",
    "        if not emp[\"busy\"]:\n",
    "            print(emp)"
   ]
  },
  {
   "cell_type": "markdown",
   "id": "eea95ba9",
   "metadata": {},
   "source": [
    "Поиск первого незанятого сотрудника (вариант с ошибкой - выбор **последнего** сотрудника):"
   ]
  },
  {
   "cell_type": "code",
   "execution_count": 5,
   "id": "217cdbe3",
   "metadata": {},
   "outputs": [
    {
     "name": "stdout",
     "output_type": "stream",
     "text": [
      "Козлов А. С.\n"
     ]
    }
   ],
   "source": [
    "candidate = None\n",
    "for dep in employees:\n",
    "    for emp in dep:\n",
    "        if not emp[\"busy\"]:\n",
    "            candidate = emp[\"name\"]\n",
    "            \n",
    "print(candidate)"
   ]
  },
  {
   "cell_type": "markdown",
   "id": "712af8c0",
   "metadata": {},
   "source": [
    "Поиск первого незанятого сотрудника (вариант с ошибкой - выбор первого незанятого **в последнем** списке):"
   ]
  },
  {
   "cell_type": "code",
   "execution_count": 6,
   "id": "044f77e9",
   "metadata": {},
   "outputs": [
    {
     "name": "stdout",
     "output_type": "stream",
     "text": [
      "Медведев Д. А.\n"
     ]
    }
   ],
   "source": [
    "candidate = None\n",
    "for dep in employees:\n",
    "    for emp in dep:\n",
    "        if not emp[\"busy\"]:\n",
    "            candidate = emp[\"name\"]\n",
    "            break\n",
    "            \n",
    "print(candidate)"
   ]
  },
  {
   "cell_type": "markdown",
   "id": "0349d902",
   "metadata": {},
   "source": [
    "Поиск первого незанятого сотрудника (**правильный вариант**):"
   ]
  },
  {
   "cell_type": "code",
   "execution_count": 7,
   "id": "74095530",
   "metadata": {},
   "outputs": [
    {
     "name": "stdout",
     "output_type": "stream",
     "text": [
      "Уткин В. В.\n"
     ]
    }
   ],
   "source": [
    "candidate = None\n",
    "for dep in employees:\n",
    "    for emp in dep:\n",
    "        if not emp[\"busy\"]:\n",
    "            candidate = emp[\"name\"]\n",
    "            break\n",
    "    if candidate:\n",
    "        break\n",
    "            \n",
    "print(candidate)"
   ]
  },
  {
   "cell_type": "markdown",
   "id": "606c813f",
   "metadata": {},
   "source": [
    "Альтернативный способ решения с более сложным условием.\n",
    "Недостаток решения - циклы будут перебирать всех сотрудников, даже если уже нашли нужного."
   ]
  },
  {
   "cell_type": "code",
   "execution_count": 8,
   "id": "7ef39099",
   "metadata": {},
   "outputs": [
    {
     "name": "stdout",
     "output_type": "stream",
     "text": [
      "Уткин В. В.\n"
     ]
    }
   ],
   "source": [
    "candidate = None\n",
    "for dep in employees:\n",
    "    for emp in dep:\n",
    "        if not candidate and not emp[\"busy\"]:\n",
    "            candidate = emp[\"name\"]            \n",
    "print(candidate)"
   ]
  },
  {
   "cell_type": "code",
   "execution_count": null,
   "id": "5814ba13",
   "metadata": {},
   "outputs": [],
   "source": []
  }
 ],
 "metadata": {
  "kernelspec": {
   "display_name": "Python 3 (ipykernel)",
   "language": "python",
   "name": "python3"
  },
  "language_info": {
   "codemirror_mode": {
    "name": "ipython",
    "version": 3
   },
   "file_extension": ".py",
   "mimetype": "text/x-python",
   "name": "python",
   "nbconvert_exporter": "python",
   "pygments_lexer": "ipython3",
   "version": "3.9.7"
  }
 },
 "nbformat": 4,
 "nbformat_minor": 5
}
