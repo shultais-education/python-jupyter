{
 "cells": [
  {
   "cell_type": "markdown",
   "id": "ccb1bf17",
   "metadata": {},
   "source": [
    "# Бесконечный while"
   ]
  },
  {
   "cell_type": "code",
   "execution_count": 2,
   "id": "3d349809",
   "metadata": {},
   "outputs": [
    {
     "name": "stdout",
     "output_type": "stream",
     "text": [
      "Введите число: 10\n",
      "Введите число: 15\n",
      "Введите число: 30\n",
      "Введите число: stop\n",
      "55\n"
     ]
    }
   ],
   "source": [
    "result = 0\n",
    "while True:\n",
    "    number = input(\"Введите число: \")\n",
    "    if number == \"stop\":\n",
    "        break\n",
    "    else:\n",
    "        number = int(number)\n",
    "        result += number\n",
    "\n",
    "print(result)"
   ]
  },
  {
   "cell_type": "markdown",
   "id": "67f7a8b0",
   "metadata": {},
   "source": [
    "**Исходные коды не для запуска в Jupyter**\n",
    "\n",
    "Сперва создаем начальный файл:\n",
    "```Python\n",
    "counter_file = open(\"counter.txt\", \"w+\")\n",
    "counter_file.wirte(\"5\")\n",
    "counter_file.close()\n",
    "```\n",
    "\n",
    "Далее идет текст программы:\n",
    "```Python\n",
    "users = 0\n",
    "while True:\n",
    "    counter_file = open(\"counter.txt\")\n",
    "    current_users = int(counter_file.read().strip())\n",
    "    if users != current_users:\n",
    "        users = current_users\n",
    "        print(f\"Посетителей на сайте: {users}\")\n",
    "    counter_file.close()\n",
    "```"
   ]
  },
  {
   "cell_type": "code",
   "execution_count": null,
   "id": "2da5f445",
   "metadata": {},
   "outputs": [],
   "source": []
  }
 ],
 "metadata": {
  "kernelspec": {
   "display_name": "Python 3 (ipykernel)",
   "language": "python",
   "name": "python3"
  },
  "language_info": {
   "codemirror_mode": {
    "name": "ipython",
    "version": 3
   },
   "file_extension": ".py",
   "mimetype": "text/x-python",
   "name": "python",
   "nbconvert_exporter": "python",
   "pygments_lexer": "ipython3",
   "version": "3.9.7"
  }
 },
 "nbformat": 4,
 "nbformat_minor": 5
}
