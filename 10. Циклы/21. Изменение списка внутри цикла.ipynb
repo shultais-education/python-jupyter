{
 "cells": [
  {
   "cell_type": "markdown",
   "id": "d682dd21",
   "metadata": {},
   "source": [
    "# Изменение списка внутри цикла"
   ]
  },
  {
   "cell_type": "code",
   "execution_count": 1,
   "id": "3969a7ba",
   "metadata": {},
   "outputs": [
    {
     "name": "stdout",
     "output_type": "stream",
     "text": [
      "[28, 34, 17, 18, 21, 28, 12, 45, 16, 15]\n"
     ]
    }
   ],
   "source": [
    "ages = [28, 34, 17, 18, 21, 28, 12, 45, 16, 15]\n",
    "print(ages)"
   ]
  },
  {
   "cell_type": "markdown",
   "id": "69b8b62e",
   "metadata": {},
   "source": [
    "Удаление элемента с помощью `del()`"
   ]
  },
  {
   "cell_type": "code",
   "execution_count": 2,
   "id": "bef8574d",
   "metadata": {},
   "outputs": [
    {
     "name": "stdout",
     "output_type": "stream",
     "text": [
      "[28, 34, 18, 21, 28, 12, 45, 16, 15]\n"
     ]
    }
   ],
   "source": [
    "del ages[2]\n",
    "print(ages)"
   ]
  },
  {
   "cell_type": "markdown",
   "id": "c10c8b98",
   "metadata": {},
   "source": [
    "Удаление элементов с пропусками:"
   ]
  },
  {
   "cell_type": "code",
   "execution_count": 3,
   "id": "fc63e191",
   "metadata": {},
   "outputs": [
    {
     "name": "stdout",
     "output_type": "stream",
     "text": [
      "[28, 34, 18, 21, 28, 45, 15]\n"
     ]
    }
   ],
   "source": [
    "ages = [28, 34, 17, 18, 21, 28, 12, 45, 16, 15]\n",
    "age_index = 0\n",
    "for age in ages:\n",
    "    if age < 21:\n",
    "        del ages[age_index]\n",
    "    age_index += 1\n",
    "print(ages)"
   ]
  },
  {
   "cell_type": "markdown",
   "id": "7dfccae0",
   "metadata": {},
   "source": [
    "Отладочная печать:"
   ]
  },
  {
   "cell_type": "code",
   "execution_count": 4,
   "id": "82e79090",
   "metadata": {},
   "outputs": [
    {
     "name": "stdout",
     "output_type": "stream",
     "text": [
      "0 28 [28, 34, 17, 18, 21, 28, 12, 45, 16, 15]\n",
      "1 34 [28, 34, 17, 18, 21, 28, 12, 45, 16, 15]\n",
      "2 17 [28, 34, 17, 18, 21, 28, 12, 45, 16, 15]\n",
      "3 21 [28, 34, 18, 21, 28, 12, 45, 16, 15]\n",
      "4 28 [28, 34, 18, 21, 28, 12, 45, 16, 15]\n",
      "5 12 [28, 34, 18, 21, 28, 12, 45, 16, 15]\n",
      "6 16 [28, 34, 18, 21, 28, 45, 16, 15]\n",
      "[28, 34, 18, 21, 28, 45, 15]\n"
     ]
    }
   ],
   "source": [
    "ages = [28, 34, 17, 18, 21, 28, 12, 45, 16, 15]\n",
    "age_index = 0\n",
    "for age in ages:\n",
    "    print(age_index, age, ages)\n",
    "    if age < 21:\n",
    "        del ages[age_index]\n",
    "    age_index += 1\n",
    "print(ages)"
   ]
  },
  {
   "cell_type": "markdown",
   "id": "89938546",
   "metadata": {},
   "source": [
    "Формирование нового списка вместо удаления элементов из старого:"
   ]
  },
  {
   "cell_type": "code",
   "execution_count": 5,
   "id": "affeb794",
   "metadata": {},
   "outputs": [
    {
     "name": "stdout",
     "output_type": "stream",
     "text": [
      "[28, 34, 21, 28, 45]\n"
     ]
    }
   ],
   "source": [
    "ages = [28, 34, 17, 18, 21, 28, 12, 45, 16, 15]\n",
    "av_ages = []\n",
    "for age in ages:\n",
    "    if age >= 21:\n",
    "        av_ages.append(age)\n",
    "ages = av_ages\n",
    "print(ages)"
   ]
  },
  {
   "cell_type": "markdown",
   "id": "dae41b50",
   "metadata": {},
   "source": [
    "## <span style=\"color:red\">Внимание! Бесконечный цикл</span>\n",
    "Увеличиваем список в процессе его перебора."
   ]
  },
  {
   "cell_type": "code",
   "execution_count": 6,
   "id": "54ac9809",
   "metadata": {},
   "outputs": [
    {
     "ename": "KeyboardInterrupt",
     "evalue": "",
     "output_type": "error",
     "traceback": [
      "\u001b[0;31m---------------------------------------------------------------------------\u001b[0m",
      "\u001b[0;31mKeyboardInterrupt\u001b[0m                         Traceback (most recent call last)",
      "\u001b[0;32m/var/folders/06/yl2tjjzn0779079l4x8lq1y80000gn/T/ipykernel_41315/1632331698.py\u001b[0m in \u001b[0;36m<module>\u001b[0;34m\u001b[0m\n\u001b[1;32m      3\u001b[0m \u001b[0;32mfor\u001b[0m \u001b[0mage\u001b[0m \u001b[0;32min\u001b[0m \u001b[0mages\u001b[0m\u001b[0;34m:\u001b[0m\u001b[0;34m\u001b[0m\u001b[0;34m\u001b[0m\u001b[0m\n\u001b[1;32m      4\u001b[0m     \u001b[0;32mif\u001b[0m \u001b[0mage\u001b[0m \u001b[0;34m>=\u001b[0m \u001b[0;36m21\u001b[0m\u001b[0;34m:\u001b[0m\u001b[0;34m\u001b[0m\u001b[0;34m\u001b[0m\u001b[0m\n\u001b[0;32m----> 5\u001b[0;31m         \u001b[0mages\u001b[0m\u001b[0;34m.\u001b[0m\u001b[0mappend\u001b[0m\u001b[0;34m(\u001b[0m\u001b[0mage\u001b[0m\u001b[0;34m)\u001b[0m\u001b[0;34m\u001b[0m\u001b[0;34m\u001b[0m\u001b[0m\n\u001b[0m\u001b[1;32m      6\u001b[0m \u001b[0mages\u001b[0m \u001b[0;34m=\u001b[0m \u001b[0mav_ages\u001b[0m\u001b[0;34m\u001b[0m\u001b[0;34m\u001b[0m\u001b[0m\n\u001b[1;32m      7\u001b[0m \u001b[0mprint\u001b[0m\u001b[0;34m(\u001b[0m\u001b[0mages\u001b[0m\u001b[0;34m)\u001b[0m\u001b[0;34m\u001b[0m\u001b[0;34m\u001b[0m\u001b[0m\n",
      "\u001b[0;31mKeyboardInterrupt\u001b[0m: "
     ]
    }
   ],
   "source": [
    "ages = [28, 34, 17, 18, 21, 28, 12, 45, 16, 15]\n",
    "av_ages = []\n",
    "for age in ages:\n",
    "    if age >= 21:\n",
    "        ages.append(age)\n",
    "ages = av_ages\n",
    "print(ages)"
   ]
  },
  {
   "cell_type": "code",
   "execution_count": null,
   "id": "cbf33c86",
   "metadata": {},
   "outputs": [],
   "source": []
  }
 ],
 "metadata": {
  "kernelspec": {
   "display_name": "Python 3 (ipykernel)",
   "language": "python",
   "name": "python3"
  },
  "language_info": {
   "codemirror_mode": {
    "name": "ipython",
    "version": 3
   },
   "file_extension": ".py",
   "mimetype": "text/x-python",
   "name": "python",
   "nbconvert_exporter": "python",
   "pygments_lexer": "ipython3",
   "version": "3.9.7"
  }
 },
 "nbformat": 4,
 "nbformat_minor": 5
}
