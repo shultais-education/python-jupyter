{
 "cells": [
  {
   "cell_type": "markdown",
   "id": "9e9a12d6",
   "metadata": {},
   "source": [
    "# Цикл while\n",
    "\n",
    "Циклы предназначены для повтора одних и тех же действий, а также для перебора последовательностей (строк, списков и тд).<br>\n",
    "Цикл *while* состоит из начального значения, условия проверки и шага.<br><br>\n",
    "\n",
    "## Термины\n",
    "**Итерация** (повторение) – один проход цикла.<br>\n",
    "**Инкремент** – увеличение значения. Обычно на единицу, но можно и на большую величину.<br>\n",
    "**Декремент** – уменьшение значения. Также, обычно на единицу, но можно и больше."
   ]
  },
  {
   "cell_type": "code",
   "execution_count": null,
   "id": "b0cd883b",
   "metadata": {},
   "outputs": [],
   "source": [
    "i = 1           # Создание переменной-счетчика\n",
    "while i <= 10:  # Проверка условия\n",
    "    print(i)    # Инструкции цикла\n",
    "    i += 1      # Шаг цикла"
   ]
  },
  {
   "cell_type": "code",
   "execution_count": null,
   "id": "2b9d7dd4",
   "metadata": {},
   "outputs": [],
   "source": [
    "# Вывод нечетных чисел от 1 до 9\n",
    "i = 1           \n",
    "while i <= 10:  \n",
    "    print(i)    \n",
    "    i += 2      # Шаг цикла - 2"
   ]
  },
  {
   "cell_type": "code",
   "execution_count": null,
   "id": "d5c45aff",
   "metadata": {
    "scrolled": true
   },
   "outputs": [],
   "source": [
    "# Вывод четных чисел от 2 до 10\n",
    "i = 2           \n",
    "while i <= 10:  \n",
    "    print(i)    \n",
    "    i += 2      # Шаг цикла - 2"
   ]
  },
  {
   "cell_type": "code",
   "execution_count": null,
   "id": "7e580a3e",
   "metadata": {},
   "outputs": [],
   "source": [
    "# Вывод четных чисел от 4 до 12\n",
    "i = 2           \n",
    "while i <= 10:\n",
    "    i += 2      # Изменение шага цикла в начале итерации\n",
    "    print(i)    "
   ]
  },
  {
   "cell_type": "code",
   "execution_count": null,
   "id": "e1779592",
   "metadata": {},
   "outputs": [],
   "source": [
    "# Вывод четных чисел от 2 до 10\n",
    "i = 0           \n",
    "while i <= 8:\n",
    "    i += 2      # Изменение шага цикла в начале итерации\n",
    "    print(i)"
   ]
  },
  {
   "cell_type": "code",
   "execution_count": null,
   "id": "ad0d68f4",
   "metadata": {},
   "outputs": [],
   "source": [
    "# Вывод нечетных чисел от 1 до 9\n",
    "i = 1           \n",
    "while i <= 10:    \n",
    "    print(i)\n",
    "    i += 2"
   ]
  },
  {
   "cell_type": "code",
   "execution_count": null,
   "id": "98410417",
   "metadata": {},
   "outputs": [],
   "source": [
    "# Вывод чисел от 5 до -5 в обратном порядке\n",
    "i = 5          \n",
    "while i >= -5:    \n",
    "    print(i)\n",
    "    i -= 1"
   ]
  },
  {
   "cell_type": "code",
   "execution_count": null,
   "id": "07574c60",
   "metadata": {},
   "outputs": [],
   "source": []
  }
 ],
 "metadata": {
  "kernelspec": {
   "display_name": "Python 3 (ipykernel)",
   "language": "python",
   "name": "python3"
  },
  "language_info": {
   "codemirror_mode": {
    "name": "ipython",
    "version": 3
   },
   "file_extension": ".py",
   "mimetype": "text/x-python",
   "name": "python",
   "nbconvert_exporter": "python",
   "pygments_lexer": "ipython3",
   "version": "3.9.7"
  }
 },
 "nbformat": 4,
 "nbformat_minor": 5
}
