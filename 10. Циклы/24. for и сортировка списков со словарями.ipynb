{
 "cells": [
  {
   "cell_type": "markdown",
   "id": "7ae5aada",
   "metadata": {},
   "source": [
    "# for и сортировка списков со словарями"
   ]
  },
  {
   "cell_type": "code",
   "execution_count": 1,
   "id": "1a0a808f",
   "metadata": {},
   "outputs": [],
   "source": [
    "cities_t = [\n",
    "    (\"Каир\", 16_925_000),\n",
    "    (\"Токио\", 38_505_000),\n",
    "    (\"Дакка\", 18_595_000),\n",
    "    (\"Шанхай\", 22_125_000),\n",
    "    (\"Мехико\", 20_395_000),\n",
    "    (\"Пекин\", 19_430_000),\n",
    "    (\"Мумбаи\", 23_645_000),\n",
    "    (\"Дели\", 28_125_000),\n",
    "    (\"Осака\", 19_281_000),\n",
    "    (\"Сан-Паулу\", 20_935_000)\n",
    "]\n",
    "\n",
    "cities_d = [\n",
    "    {\"name\": \"Каир\", \"population\": 16_925_000},\n",
    "    {\"name\": \"Токио\", \"population\": 38_505_000},\n",
    "    {\"name\": \"Дакка\", \"population\": 18_595_000},\n",
    "    {\"name\": \"Шанхай\", \"population\": 22_125_000},\n",
    "    {\"name\": \"Мехико\", \"population\": 20_395_000},\n",
    "    {\"name\": \"Пекин\", \"population\": 19_430_000},\n",
    "    {\"name\": \"Мумбаи\", \"population\": 23_645_000},\n",
    "    {\"name\": \"Дели\", \"population\": 28_125_000},\n",
    "    {\"name\": \"Осака\", \"population\": 19_281_000},\n",
    "    {\"name\": \"Сан-Паулу\", \"population\": 20_935_000}\n",
    "]\n"
   ]
  },
  {
   "cell_type": "markdown",
   "id": "5974d205",
   "metadata": {},
   "source": [
    "Сортировка списка с кортежами (по возрастанию населения)."
   ]
  },
  {
   "cell_type": "code",
   "execution_count": 2,
   "id": "971c6891",
   "metadata": {},
   "outputs": [
    {
     "name": "stdout",
     "output_type": "stream",
     "text": [
      "Каир        16,925,000\n",
      "Дакка       18,595,000\n",
      "Осака       19,281,000\n",
      "Пекин       19,430,000\n",
      "Мехико      20,395,000\n",
      "Сан-Паулу   20,935,000\n",
      "Шанхай      22,125,000\n",
      "Мумбаи      23,645,000\n",
      "Дели        28,125,000\n",
      "Токио       38,505,000\n"
     ]
    }
   ],
   "source": [
    "for city in sorted(cities_t, key=lambda c: c[1]):\n",
    "    name = city[0]\n",
    "    population = city[1]\n",
    "    print(f\"{name:<10}{population:>12,}\")"
   ]
  },
  {
   "cell_type": "markdown",
   "id": "71973f1c",
   "metadata": {},
   "source": [
    "Сортировка списка со словарямии (по возрастанию населения):"
   ]
  },
  {
   "cell_type": "code",
   "execution_count": 3,
   "id": "bc46e613",
   "metadata": {},
   "outputs": [
    {
     "name": "stdout",
     "output_type": "stream",
     "text": [
      "Каир        16,925,000\n",
      "Дакка       18,595,000\n",
      "Осака       19,281,000\n",
      "Пекин       19,430,000\n",
      "Мехико      20,395,000\n",
      "Сан-Паулу   20,935,000\n",
      "Шанхай      22,125,000\n",
      "Мумбаи      23,645,000\n",
      "Дели        28,125,000\n",
      "Токио       38,505,000\n"
     ]
    }
   ],
   "source": [
    "for city in sorted(cities_d, key=lambda c: c[\"population\"]):\n",
    "    name = city[\"name\"]\n",
    "    population = city[\"population\"]\n",
    "    print(f\"{name:<10}{population:>12,}\")"
   ]
  },
  {
   "cell_type": "markdown",
   "id": "0798d6bc",
   "metadata": {},
   "source": [
    "Список сотрудников:"
   ]
  },
  {
   "cell_type": "code",
   "execution_count": 4,
   "id": "3b0bfb87",
   "metadata": {},
   "outputs": [],
   "source": [
    "employees = [\n",
    "    {\"name\": \"Иван Иванов\",    \"job\": {\"role\": \"Программист\", \"salary\": 150_000}},\n",
    "    {\"name\": \"Дмитрий Петров\", \"job\": {\"role\": \"Менеджер\",    \"salary\": 120_000}},\n",
    "    {\"name\": \"Олег Осипов\",    \"job\": {\"role\": \"Дизайнер\",    \"salary\": 140_000}},\n",
    "    {\"name\": \"Ирина Смирнова\", \"job\": {\"role\": \"Программист\", \"salary\": 160_000}},\n",
    "    {\"name\": \"Юлия Соколова\",  \"job\": {\"role\": \"Дизайнер\",    \"salary\": 150_000}},\n",
    "    {\"name\": \"Семен Сорокин\",  \"job\": {\"role\": \"Архитектор\",  \"salary\": 130_000}}\n",
    "]"
   ]
  },
  {
   "cell_type": "markdown",
   "id": "bc62a7a4",
   "metadata": {},
   "source": [
    "Сортировка списка в порядке увеличения зарплаты сотрудников:"
   ]
  },
  {
   "cell_type": "code",
   "execution_count": 5,
   "id": "e8c8ab42",
   "metadata": {},
   "outputs": [
    {
     "name": "stdout",
     "output_type": "stream",
     "text": [
      "Дмитрий Петров           120,000\n",
      "Семен Сорокин            130,000\n",
      "Олег Осипов              140,000\n",
      "Иван Иванов              150,000\n",
      "Юлия Соколова            150,000\n",
      "Ирина Смирнова           160,000\n"
     ]
    }
   ],
   "source": [
    "for employee in sorted(employees, key=lambda e: e[\"job\"][\"salary\"]):\n",
    "    name = employee[\"name\"]\n",
    "    salary = employee[\"job\"][\"salary\"]\n",
    "    print(f\"{name:<20}{salary:>12,}\")"
   ]
  },
  {
   "cell_type": "code",
   "execution_count": null,
   "id": "1178a69a",
   "metadata": {},
   "outputs": [],
   "source": []
  }
 ],
 "metadata": {
  "kernelspec": {
   "display_name": "Python 3 (ipykernel)",
   "language": "python",
   "name": "python3"
  },
  "language_info": {
   "codemirror_mode": {
    "name": "ipython",
    "version": 3
   },
   "file_extension": ".py",
   "mimetype": "text/x-python",
   "name": "python",
   "nbconvert_exporter": "python",
   "pygments_lexer": "ipython3",
   "version": "3.9.7"
  }
 },
 "nbformat": 4,
 "nbformat_minor": 5
}
