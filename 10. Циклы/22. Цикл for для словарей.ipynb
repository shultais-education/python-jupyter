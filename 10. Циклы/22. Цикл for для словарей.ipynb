{
 "cells": [
  {
   "cell_type": "markdown",
   "id": "548f84e3",
   "metadata": {},
   "source": [
    "# Цикл `for` для словарей"
   ]
  },
  {
   "cell_type": "code",
   "execution_count": 1,
   "id": "c8fbd83c",
   "metadata": {},
   "outputs": [],
   "source": [
    "countries = {\n",
    "    \"Россия\":    145_478_097,\n",
    "    \"Казахстан\":  19_125_620,\n",
    "    \"Беларусь\":    9_349_645,\n",
    "    \"Германия\":   83_019_200,\n",
    "    \"Украина\":    40_997_699\n",
    "}"
   ]
  },
  {
   "cell_type": "code",
   "execution_count": 2,
   "id": "31f91a27",
   "metadata": {},
   "outputs": [
    {
     "name": "stdout",
     "output_type": "stream",
     "text": [
      "Россия\n",
      "Казахстан\n",
      "Беларусь\n",
      "Германия\n",
      "Украина\n"
     ]
    }
   ],
   "source": [
    "# Перебор ключей\n",
    "for country in countries.keys():\n",
    "    print(country)"
   ]
  },
  {
   "cell_type": "code",
   "execution_count": 3,
   "id": "8543cdd2",
   "metadata": {},
   "outputs": [
    {
     "name": "stdout",
     "output_type": "stream",
     "text": [
      "Россия\n",
      "Казахстан\n",
      "Беларусь\n",
      "Германия\n",
      "Украина\n"
     ]
    }
   ],
   "source": [
    "# Перебор ключей (вариант 2)\n",
    "for country in countries:\n",
    "    print(country)"
   ]
  },
  {
   "cell_type": "code",
   "execution_count": 4,
   "id": "3231364e",
   "metadata": {},
   "outputs": [
    {
     "name": "stdout",
     "output_type": "stream",
     "text": [
      "145478097\n",
      "19125620\n",
      "9349645\n",
      "83019200\n",
      "40997699\n"
     ]
    }
   ],
   "source": [
    "# Перебор значений\n",
    "for population in countries.values():\n",
    "    print(population)"
   ]
  },
  {
   "cell_type": "code",
   "execution_count": 5,
   "id": "2eeb1464",
   "metadata": {},
   "outputs": [
    {
     "name": "stdout",
     "output_type": "stream",
     "text": [
      "('Россия', 145478097)\n",
      "('Казахстан', 19125620)\n",
      "('Беларусь', 9349645)\n",
      "('Германия', 83019200)\n",
      "('Украина', 40997699)\n"
     ]
    }
   ],
   "source": [
    "# Перебор элементов словаря\n",
    "for country in countries.items():\n",
    "    print(country)"
   ]
  },
  {
   "cell_type": "code",
   "execution_count": 6,
   "id": "8f6f3298",
   "metadata": {},
   "outputs": [
    {
     "name": "stdout",
     "output_type": "stream",
     "text": [
      "Россия 145478097\n",
      "Казахстан 19125620\n",
      "Беларусь 9349645\n",
      "Германия 83019200\n",
      "Украина 40997699\n"
     ]
    }
   ],
   "source": [
    "# Перебор элементов словаря с распаковкой кортежа\n",
    "for country, population in countries.items():\n",
    "    print(country, population)"
   ]
  },
  {
   "cell_type": "code",
   "execution_count": 7,
   "id": "1e1342dd",
   "metadata": {},
   "outputs": [
    {
     "name": "stdout",
     "output_type": "stream",
     "text": [
      "Россия     145478097\n",
      "Казахстан   19125620\n",
      "Беларусь     9349645\n",
      "Германия    83019200\n",
      "Украина     40997699\n",
      "Итого      297970261\n"
     ]
    }
   ],
   "source": [
    "template = \"{:<10}{:>10}\"\n",
    "total = 0\n",
    "# Перебор элементов словаря с форматированием и подсчетом общего населения\n",
    "for country, population in countries.items():\n",
    "    total += population\n",
    "    print(template.format(country, population))\n",
    "    \n",
    "print(template.format(\"Итого\", total))"
   ]
  },
  {
   "cell_type": "code",
   "execution_count": 8,
   "id": "70f83380",
   "metadata": {},
   "outputs": [
    {
     "name": "stdout",
     "output_type": "stream",
     "text": [
      "Россия           145\n",
      "Казахстан         19\n",
      "Беларусь           9\n",
      "Германия          83\n",
      "Украина           41\n",
      "Итого            297\n",
      "{'Россия': 145478097, 'Казахстан': 19125620, 'Беларусь': 9349645, 'Германия': 83019200, 'Украина': 40997699}\n"
     ]
    }
   ],
   "source": [
    "template = \"{:<10}{:>10}\"\n",
    "total = 0\n",
    "# Перебор элементов словаря с форматированием и подсчетом общего населения\n",
    "for country, population in countries.items():\n",
    "    # Приводим население к млн. человек\n",
    "    population = round(population / 1_000_000)\n",
    "    total += population\n",
    "    print(template.format(country, population))\n",
    "    \n",
    "print(template.format(\"Итого\", total))\n",
    "print(countries)"
   ]
  },
  {
   "cell_type": "markdown",
   "id": "8bf28982",
   "metadata": {},
   "source": [
    "## Изменение словаря"
   ]
  },
  {
   "cell_type": "code",
   "execution_count": 9,
   "id": "f48fb6f7",
   "metadata": {},
   "outputs": [
    {
     "name": "stdout",
     "output_type": "stream",
     "text": [
      "Россия           145\n",
      "Казахстан         19\n",
      "Беларусь           9\n",
      "Германия          83\n",
      "Украина           41\n",
      "Итого            297\n",
      "{'Россия': 145, 'Казахстан': 19, 'Беларусь': 9, 'Германия': 83, 'Украина': 41}\n"
     ]
    }
   ],
   "source": [
    "template = \"{:<10}{:>10}\"\n",
    "total = 0\n",
    "for country, population in countries.items():\n",
    "    population = round(population / 1_000_000)\n",
    "    \n",
    "    # Изменяем словарь по ключу\n",
    "    countries[country] = population\n",
    "    total += population\n",
    "    print(template.format(country, population))\n",
    "    \n",
    "print(template.format(\"Итого\", total))\n",
    "print(countries)"
   ]
  },
  {
   "cell_type": "code",
   "execution_count": null,
   "id": "8e63a4cf",
   "metadata": {},
   "outputs": [],
   "source": []
  }
 ],
 "metadata": {
  "kernelspec": {
   "display_name": "Python 3 (ipykernel)",
   "language": "python",
   "name": "python3"
  },
  "language_info": {
   "codemirror_mode": {
    "name": "ipython",
    "version": 3
   },
   "file_extension": ".py",
   "mimetype": "text/x-python",
   "name": "python",
   "nbconvert_exporter": "python",
   "pygments_lexer": "ipython3",
   "version": "3.9.7"
  }
 },
 "nbformat": 4,
 "nbformat_minor": 5
}
