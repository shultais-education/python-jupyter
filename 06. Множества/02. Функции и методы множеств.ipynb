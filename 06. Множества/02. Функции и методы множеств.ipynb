{
 "cells": [
  {
   "cell_type": "markdown",
   "id": "72adaae0",
   "metadata": {},
   "source": [
    "# Функции и методы множеств"
   ]
  },
  {
   "cell_type": "markdown",
   "id": "f254acda",
   "metadata": {},
   "source": [
    "## Создание пустого множества\n",
    "\n",
    "Пустое множество создается с помощью функции `set()`, которую нужно вызвать с пустыми скобками.<br>\n",
    "**set** с английского переводится как \"множество\". \n",
    "\n",
    "> PS. Формально `set` - это встроенный класс, вызов которого создаёт объект-множество.<br>\n",
    "> Но классы и объекты мы пока не проходили :)"
   ]
  },
  {
   "cell_type": "code",
   "execution_count": null,
   "id": "f706a4aa",
   "metadata": {},
   "outputs": [],
   "source": [
    "# Создание пустого словаря\n",
    "numbers_dict = {}\n",
    "\n",
    "# Создание пустого множества\n",
    "numbers_set = set()\n",
    "\n",
    "# Вывод данных\n",
    "print(numbers_dict)\n",
    "print(numbers_set)"
   ]
  },
  {
   "cell_type": "markdown",
   "id": "a7e913d7",
   "metadata": {},
   "source": [
    "## Добавление данных с помощью метода `.add()`\n",
    "\n",
    "С помощью метода `.add()` можно добавить во множество новый элемент.<br>\n",
    "Если добавляемый элемент уже существует, то `.add()` просто проигнорирует добавление."
   ]
  },
  {
   "cell_type": "code",
   "execution_count": null,
   "id": "7bd769bc",
   "metadata": {},
   "outputs": [],
   "source": [
    "# Создание пустого множества\n",
    "numbers = set()\n",
    "\n",
    "# Добавление элементов\n",
    "numbers.add(5)\n",
    "numbers.add(21)\n",
    "numbers.add(5)\n",
    "\n",
    "# Вывод данных\n",
    "print(numbers)"
   ]
  },
  {
   "cell_type": "markdown",
   "id": "53e20db7",
   "metadata": {},
   "source": [
    "## Определение типа данных\n",
    "\n",
    "Распознать множество можно двумя способами: визуально и с помощью функции `type()`.<br>\n",
    "Функция `type()` возвращает тип объекта и для множества это будет **set**.<br>\n",
    "\n",
    "> PS. Формально `type()` возвращает класс объекта и для множества это будет `<class 'set'>`.<br>\n",
    "> Но при этом для проверки, множество ли перед нами, надо сравнить с помощью **is** возвращаемый результат с **set**."
   ]
  },
  {
   "cell_type": "code",
   "execution_count": null,
   "id": "c0d403f4",
   "metadata": {},
   "outputs": [],
   "source": [
    "# Создание пустого множества\n",
    "numbers = set()\n",
    "\n",
    "# Добавление элементов\n",
    "numbers.add(5)\n",
    "numbers.add(21)\n",
    "numbers.add(5)\n",
    "\n",
    "# Выводим тип данных\n",
    "print(type(numbers))\n",
    "\n",
    "# Проверяем, множество ли перед нами\n",
    "print(type(numbers) is set)  # True\n",
    "\n",
    "# Проверяем, словарь ли перед нами\n",
    "print(type(numbers) is dict)  # False\n",
    "\n",
    "# Ошибка сравнения - с set со скобками, так писать нельзя\n",
    "print(type(numbers) is set())  # False"
   ]
  },
  {
   "cell_type": "markdown",
   "id": "7d80c61a",
   "metadata": {},
   "source": [
    "## Определение размера множства с помощью функции `len()`\n",
    "\n",
    "С помощью функции `len()` можно получить количество элементов во множестве."
   ]
  },
  {
   "cell_type": "code",
   "execution_count": null,
   "id": "16d845ce",
   "metadata": {},
   "outputs": [],
   "source": [
    "# Создание пустого множества\n",
    "numbers = set()\n",
    "\n",
    "# Добавление элементов\n",
    "numbers.add(5)\n",
    "numbers.add(21)\n",
    "numbers.add(5)\n",
    "\n",
    "# Выводим количество элементов \n",
    "print(len(numbers))  # 2"
   ]
  },
  {
   "cell_type": "markdown",
   "id": "776d8d90",
   "metadata": {},
   "source": [
    "## Удаление элементов с помощью `.remove()`\n",
    "\n",
    "С помощью метода `.remove()` можно удалить из множества существующий элемент.<br>\n",
    "Если элемента не будет, `.remove()` возбудит исключение **KeyError**. *Точно такое же как и у словарей при попытке получить доступ к элементу по несуществующему ключу.*<br><br>\n",
    "\n",
    "Ключи словаря и элементы множеств обладают двумя общими свойствами:\n",
    "1. Они могут быть только **уникальными**.\n",
    "2. Они могут принимать только **hashable-данные**."
   ]
  },
  {
   "cell_type": "code",
   "execution_count": null,
   "id": "b9303438",
   "metadata": {},
   "outputs": [],
   "source": [
    "# Создание множества\n",
    "numbers = {5, 21, 5}\n",
    "\n",
    "# Попытка удалить несуществующие данные\n",
    "numbers.remove(12)"
   ]
  },
  {
   "cell_type": "code",
   "execution_count": null,
   "id": "e7614599",
   "metadata": {},
   "outputs": [],
   "source": [
    "# Создание множества\n",
    "numbers = {5, 21, 5}\n",
    "\n",
    "# Удаление существующего значения\n",
    "numbers.remove(21)\n",
    "\n",
    "# Выводим данные\n",
    "print(numbers)"
   ]
  },
  {
   "cell_type": "markdown",
   "id": "dce09804",
   "metadata": {},
   "source": [
    "## Удаление элементов с помощью `.discard()`\n",
    "\n",
    "С помощью метода `.discard()` также можно удалить из множества существующий элемент.<br>\n",
    "Если элемента не будет, `.discard()` не будет вызывать ошибки."
   ]
  },
  {
   "cell_type": "code",
   "execution_count": null,
   "id": "6443e7c9",
   "metadata": {},
   "outputs": [],
   "source": [
    "# Создание множества\n",
    "numbers = {5, 21, 5}\n",
    "\n",
    "# Попытка удалить несуществующие данные\n",
    "numbers.discard(12)\n",
    "\n",
    "# Удаление существующего значения\n",
    "numbers.discard(5)\n",
    "\n",
    "# Выводим данные\n",
    "print(numbers)"
   ]
  },
  {
   "cell_type": "markdown",
   "id": "c98f6b27",
   "metadata": {},
   "source": [
    "## Извлечение элементов с помощью `.pop()`\n",
    "\n",
    "С помощью метода `.pop()` можно извлечь из множества случайный элемент.<br>\n",
    "Сам метод возвращает обратно в программу извлеченный элемент."
   ]
  },
  {
   "cell_type": "code",
   "execution_count": null,
   "id": "29ec56bd",
   "metadata": {},
   "outputs": [],
   "source": [
    "# Создание множества\n",
    "numbers = {5, 21, 7}\n",
    "\n",
    "# Извлекаем из множества произвольный элемент\n",
    "el = numbers.pop()\n",
    "\n",
    "# Выводим данные\n",
    "print(\"Извлекли:\", el)\n",
    "print(\"Осталось:\", numbers)"
   ]
  },
  {
   "cell_type": "markdown",
   "id": "13bac274",
   "metadata": {},
   "source": [
    "## Очистка множества с помощью `.clear()`\n",
    "\n",
    "С помощью метода `.clear()` можно очистить множество."
   ]
  },
  {
   "cell_type": "code",
   "execution_count": null,
   "id": "e2007469",
   "metadata": {},
   "outputs": [],
   "source": [
    "# Создание множества\n",
    "numbers = {5, 21, 7, '7'}\n",
    "\n",
    "# Добавление элементов\n",
    "numbers.add(33)\n",
    "numbers.add('семь')\n",
    "\n",
    "# Выводим данные\n",
    "print(numbers)\n",
    "\n",
    "# Очищаем множество\n",
    "numbers.clear()\n",
    "\n",
    "# Выводим данные\n",
    "print(numbers)"
   ]
  },
  {
   "cell_type": "code",
   "execution_count": null,
   "id": "3f279ef8",
   "metadata": {},
   "outputs": [],
   "source": []
  }
 ],
 "metadata": {
  "kernelspec": {
   "display_name": "Python 3 (ipykernel)",
   "language": "python",
   "name": "python3"
  },
  "language_info": {
   "codemirror_mode": {
    "name": "ipython",
    "version": 3
   },
   "file_extension": ".py",
   "mimetype": "text/x-python",
   "name": "python",
   "nbconvert_exporter": "python",
   "pygments_lexer": "ipython3",
   "version": "3.9.13"
  }
 },
 "nbformat": 4,
 "nbformat_minor": 5
}
