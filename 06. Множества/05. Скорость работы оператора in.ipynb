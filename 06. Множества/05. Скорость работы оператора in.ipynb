{
 "cells": [
  {
   "cell_type": "markdown",
   "id": "a3c8a18a",
   "metadata": {},
   "source": [
    "# Скорость работы оператора `in`"
   ]
  },
  {
   "cell_type": "code",
   "execution_count": null,
   "id": "e43bc0c2",
   "metadata": {},
   "outputs": [],
   "source": [
    "# Создаем три одинаковые коллекции данных: список, множество и словарь\n",
    "names_list = [\"Иван\", \"Виктор\", \"Дмитрий\", \"Олег\", \"Ольга\", \"Яна\", \"Никита\"]\n",
    "names_set =  {\"Иван\", \"Виктор\", \"Дмитрий\", \"Олег\", \"Ольга\", \"Яна\", \"Никита\"}\n",
    "names_dict = {\"Иван\": 1, \"Виктор\": 1, \"Дмитрий\": 1, \"Олег\": 1, \"Ольга\": 1, \"Яна\": 1, \"Никита\": 1}"
   ]
  },
  {
   "cell_type": "markdown",
   "id": "e7aff0fd",
   "metadata": {},
   "source": [
    "## Список\n",
    "\n",
    "Проверяем скорость работы оператора `in` совместно со списками.<br>\n",
    "Используем четыре имени:\n",
    "1. `\"Иван\"` - первый элемент (самая быстрая проверка).\n",
    "2. `\"Олег\"` - средний элемент (нужно больше времени на проверку).\n",
    "3. `\"Никита\"` - последний элемент (максимальное время проверки).\n",
    "4. `\"Семён\"` - отсутствующий элемент (максимальное время проверки - нужно просмотреть весь список).\n",
    "\n",
    "`%timeit -o -n 1_000_000` - магическая комманда Jupyter. Запуск кода 1 млн. раз.\n",
    "\n",
    "`l1-l4` переменные, которые содержат данные о запусках магической команды.<br>\n",
    "`l1.average` - среднее время, которое ушло на одну проверку.<br>"
   ]
  },
  {
   "cell_type": "code",
   "execution_count": null,
   "id": "2953c1f0",
   "metadata": {},
   "outputs": [],
   "source": [
    "l1 = %timeit -o -n 1_000_000 'Иван'   in names_list\n",
    "l2 = %timeit -o -n 1_000_000 'Олег'   in names_list\n",
    "l3 = %timeit -o -n 1_000_000 'Никита' in names_list\n",
    "l4 = %timeit -o -n 1_000_000 'Семён'  in names_list\n",
    "\n",
    "list_times = [l1.average, l2.average, l3.average, l4.average]"
   ]
  },
  {
   "cell_type": "markdown",
   "id": "60654058",
   "metadata": {},
   "source": [
    "## Словарь\n",
    "\n",
    "Для словаря то же самое, что и для списка, только проверяем в `names_dict`."
   ]
  },
  {
   "cell_type": "code",
   "execution_count": null,
   "id": "f6c09ec3",
   "metadata": {},
   "outputs": [],
   "source": [
    "d1 = %timeit -o -n 1_000_000 'Иван'   in names_dict\n",
    "d2 = %timeit -o -n 1_000_000 'Олег'   in names_dict\n",
    "d3 = %timeit -o -n 1_000_000 'Никита' in names_dict\n",
    "d4 = %timeit -o -n 1_000_000 'Семён'  in names_dict\n",
    "\n",
    "dict_times = [d1.average, d2.average, d3.average, d4.average]"
   ]
  },
  {
   "cell_type": "markdown",
   "id": "221bf6b7",
   "metadata": {},
   "source": [
    "## Множество\n",
    "\n",
    "Для множества то же самое, что для списка и словаря, только проверяем в `names_set`."
   ]
  },
  {
   "cell_type": "code",
   "execution_count": null,
   "id": "4d02d814",
   "metadata": {},
   "outputs": [],
   "source": [
    "s1 = %timeit -o -n 1_000_000 'Иван'   in names_set\n",
    "s2 = %timeit -o -n 1_000_000 'Олег'   in names_set\n",
    "s3 = %timeit -o -n 1_000_000 'Никита' in names_set\n",
    "s4 = %timeit -o -n 1_000_000 'Семён'  in names_set\n",
    "\n",
    "set_times = [s1.average, s2.average, s3.average, s4.average]"
   ]
  },
  {
   "cell_type": "markdown",
   "id": "f63ba521",
   "metadata": {},
   "source": [
    "## График\n",
    "\n",
    "Для постороения графика я использовал [пример из официальной документации](https://matplotlib.org/stable/gallery/lines_bars_and_markers/barchart.html#sphx-glr-gallery-lines-bars-and-markers-barchart-py)."
   ]
  },
  {
   "cell_type": "code",
   "execution_count": null,
   "id": "789b7b65",
   "metadata": {},
   "outputs": [],
   "source": [
    "# Импортируем нужные библиотеки\n",
    "import matplotlib.pyplot as plt\n",
    "import numpy as np\n",
    "\n",
    "# Список имён для формирования столбцов\n",
    "names =  ['Иван', 'Олег', 'Никита', 'Семён']\n",
    "\n",
    "# Преобразуем все элементы к наносекундам\n",
    "list_times_mes =  tuple(map(lambda x: round(x * 10e8, 1), list_times))\n",
    "dict_times_mes =  tuple(map(lambda x: round(x * 10e8, 1), dict_times))\n",
    "set_times_mes =  tuple(map(lambda x: round(x * 10e8, 1), set_times))\n",
    "\n",
    "# Вычисляем высоту графика (+20% к самому большому значению)\n",
    "height = int(max(list_times_mes + dict_times_mes + set_times_mes) * 1.2)\n",
    "\n",
    "# Формируем словарь для графика\n",
    "results = {\n",
    "    'Списки': list_times_mes,\n",
    "    'Словари': dict_times_mes,\n",
    "    'Множества': set_times_mes,\n",
    "}\n",
    "\n",
    "# Этот код я просто скопировал из офицальной документации и немного его изменил.\n",
    "fig, ax = plt.subplots(layout='constrained')\n",
    "x = np.arange(len(names))\n",
    "width = 0.25\n",
    "multiplier = 0\n",
    "\n",
    "for attribute, measurement in results.items():\n",
    "    offset = width * multiplier\n",
    "    rects = ax.bar(x + offset, measurement, width, label=attribute)\n",
    "    ax.bar_label(rects, padding=3)\n",
    "    multiplier += 1\n",
    "\n",
    "\n",
    "# Добавляем на график всякие украшательства.\n",
    "ax.set_ylabel('Время (нс)')\n",
    "ax.set_title('Сравнение времени выполнения оператора in')\n",
    "ax.set_xticks(x + width, names)\n",
    "ax.legend(loc='upper left')\n",
    "ax.set_ylim(0, height)\n",
    "\n",
    "# Выводим график прямо в блокнот (красота).\n",
    "plt.show()"
   ]
  }
 ],
 "metadata": {
  "kernelspec": {
   "display_name": "Python 3 (ipykernel)",
   "language": "python",
   "name": "python3"
  },
  "language_info": {
   "codemirror_mode": {
    "name": "ipython",
    "version": 3
   },
   "file_extension": ".py",
   "mimetype": "text/x-python",
   "name": "python",
   "nbconvert_exporter": "python",
   "pygments_lexer": "ipython3",
   "version": "3.9.13"
  }
 },
 "nbformat": 4,
 "nbformat_minor": 5
}
