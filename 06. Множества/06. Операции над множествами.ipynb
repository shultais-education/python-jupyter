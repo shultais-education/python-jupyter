{
 "cells": [
  {
   "cell_type": "markdown",
   "id": "d77065f2",
   "metadata": {},
   "source": [
    "# Операции над множествами\n",
    "\n",
    "Множества в Python пришли из математики и вместе с собой они принесли специфические операции, которые и делают множества полезными."
   ]
  },
  {
   "cell_type": "markdown",
   "id": "186d496e",
   "metadata": {},
   "source": [
    "## Сравнение множеств"
   ]
  },
  {
   "cell_type": "code",
   "execution_count": null,
   "id": "a9845a99",
   "metadata": {},
   "outputs": [],
   "source": [
    "# Создаем два одинаковых множества\n",
    "names1 = {\"Иванов\", \"Лунин\", \"Варламов\"}\n",
    "names2 = {\"Лунин\", \"Варламов\", \"Иванов\"}\n",
    "\n",
    "# Сравниваем\n",
    "print(names1 == names2)\n",
    "\n",
    "# Добавляем в первое множество еще один элемент\n",
    "names1.add(\"Орлов\")\n",
    "\n",
    "print(names1 == names2)"
   ]
  },
  {
   "cell_type": "markdown",
   "id": "f20e5cab",
   "metadata": {},
   "source": [
    "## Разность множеств\n",
    "\n",
    "Вычесть одно множество из другого можно с помощью оператора `-` или с помощью метода `.difference()`\n",
    "\n",
    "\n",
    "<img align=\"left\" src=\"http://shultais.education/static/jupyter/sets/difference.png?v3\" width=\"800\" alt=\"Разность множеств\"/>"
   ]
  },
  {
   "cell_type": "code",
   "execution_count": null,
   "id": "291a01c2",
   "metadata": {},
   "outputs": [],
   "source": [
    "# Создаем два множества\n",
    "names1 = {\"Иванов\", \"Лунин\", \"Варламов\", \"Орлов\"}\n",
    "names2 = {\"Лунин\", \"Варламов\", \"Иванов\"}\n",
    "\n",
    "# Используем оператор -\n",
    "print(names1 - names2)\n",
    "\n",
    "# Используем метод .difference()\n",
    "uniq_names1 = names1.difference(names2)\n",
    "print(uniq_names1)"
   ]
  },
  {
   "cell_type": "markdown",
   "id": "7577bffc",
   "metadata": {},
   "source": [
    "## Пересечение множеств\n",
    "\n",
    "Получить общие элементы двух множеств можно с помощью оператора `&` или с помощью метода `.intersection()`\n",
    "\n",
    "<img align=\"left\" src=\"http://shultais.education/static/jupyter/sets/intersection.png?v2\" width=\"800\" alt=\"Пересечение множеств\"/>"
   ]
  },
  {
   "cell_type": "code",
   "execution_count": null,
   "id": "a2143d3d",
   "metadata": {},
   "outputs": [],
   "source": [
    "# Создаем два множества\n",
    "names1 = {\"Иванов\", \"Лунин\", \"Варламов\", \"Орлов\"}\n",
    "names2 = {\"Лунин\", \"Варламов\", \"Иванов\", \"Греков\"}\n",
    "\n",
    "# Используем оператор &\n",
    "print(names1 & names2)\n",
    "\n",
    "# Перечечение через метод\n",
    "common_names = names1.intersection(names2)\n",
    "print(common_names)"
   ]
  },
  {
   "cell_type": "markdown",
   "id": "06b17eb2",
   "metadata": {},
   "source": [
    "## Объединение множеств\n",
    "\n",
    "Получить все элементы двух множеств можно с помощью оператора `|` или с помощью метода `.union()`\n",
    "\n",
    "<img align=\"left\" src=\"http://shultais.education/static/jupyter/sets/union.png?v2\" width=\"800\" alt=\"Объединение множеств\"/>"
   ]
  },
  {
   "cell_type": "code",
   "execution_count": null,
   "id": "9934ea22",
   "metadata": {},
   "outputs": [],
   "source": [
    "# Создаем два множества\n",
    "names1 = {\"Иванов\", \"Лунин\", \"Варламов\", \"Орлов\"}\n",
    "names2 = {\"Лунин\", \"Варламов\", \"Иванов\", \"Греков\"}\n",
    "\n",
    "# Используем оператор |\n",
    "print(names1 | names2)\n",
    "\n",
    "# Объединение через метод\n",
    "all_names = names1.union(names2)\n",
    "print(all_names)"
   ]
  },
  {
   "cell_type": "markdown",
   "id": "c4c41b94",
   "metadata": {},
   "source": [
    "## Симметричная разность\n",
    "\n",
    "Получить уникальные элементы двух множеств можно с помощью оператора `^` или с помощью метода `.symmetric_difference()`.<br>\n",
    "Также для этих целей можно воспользоваться разностью и объединением. \n",
    "\n",
    "<img align=\"left\" src=\"http://shultais.education/static/jupyter/sets/symmetric_difference.png?v2\" width=\"800\" alt=\"Симметричная разность множеств\"/>"
   ]
  },
  {
   "cell_type": "code",
   "execution_count": null,
   "id": "f851f44f",
   "metadata": {},
   "outputs": [],
   "source": [
    "# Создаем два множества\n",
    "names1 = {\"Иванов\", \"Лунин\", \"Варламов\", \"Орлов\"}\n",
    "names2 = {\"Лунин\", \"Варламов\", \"Иванов\", \"Греков\", \"Россум\"}\n",
    "\n",
    "# Симметричная разность через объединение двух разностей\n",
    "print(names1 - names2 | names2 - names1)\n",
    "\n",
    "# Симметричная разность через ^\n",
    "print(names1 ^ names2)\n",
    "\n",
    "# Симметричная разность через метод\n",
    "uniq_names = names1.symmetric_difference(names2)\n",
    "print(uniq_names)\n"
   ]
  }
 ],
 "metadata": {
  "kernelspec": {
   "display_name": "Python 3 (ipykernel)",
   "language": "python",
   "name": "python3"
  },
  "language_info": {
   "codemirror_mode": {
    "name": "ipython",
    "version": 3
   },
   "file_extension": ".py",
   "mimetype": "text/x-python",
   "name": "python",
   "nbconvert_exporter": "python",
   "pygments_lexer": "ipython3",
   "version": "3.9.13"
  }
 },
 "nbformat": 4,
 "nbformat_minor": 5
}
