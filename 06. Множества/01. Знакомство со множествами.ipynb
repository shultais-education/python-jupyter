{
 "cells": [
  {
   "cell_type": "markdown",
   "id": "f074dc17",
   "metadata": {},
   "source": [
    "# Знакомство со множествами\n",
    "\n",
    "**Множество** - это набор (коллекция) уникальных элементов, которые не имеют какого-то порядка.<br>\n",
    "У множеств нет индексов и срезов, а также многих методов, которые есть у списков.<br>\n",
    "Множества могут хранить только **hashable** типы данных: числа, строки, логические типы, кортежи."
   ]
  },
  {
   "cell_type": "code",
   "execution_count": null,
   "id": "ed03be84",
   "metadata": {},
   "outputs": [],
   "source": [
    "# Список\n",
    "names = [\"Иван\", \"Юрий\", \"Олег\", \"Иван\", \"Виктор\"]\n",
    "\n",
    "# Словарь\n",
    "person = {\"first_name\": \"Иван\", \"age\": 25}\n",
    "\n",
    "print(names)\n",
    "print(person)"
   ]
  },
  {
   "cell_type": "markdown",
   "id": "2e2f4b0a",
   "metadata": {},
   "source": [
    "## Первое множество"
   ]
  },
  {
   "cell_type": "code",
   "execution_count": null,
   "id": "5d416e27",
   "metadata": {},
   "outputs": [],
   "source": [
    "# Список\n",
    "names = [\"Иван\", \"Юрий\", \"Олег\", \"Иван\", \"Виктор\"]\n",
    "\n",
    "# Множество\n",
    "names2 = {\"Иван\", \"Юрий\", \"Олег\", \"Иван\", \"Виктор\"}\n",
    "\n",
    "# Выводим данные\n",
    "print(names)\n",
    "print(names2)"
   ]
  },
  {
   "cell_type": "markdown",
   "id": "11ea37ac",
   "metadata": {},
   "source": [
    "## Ошибки при работе со множествами"
   ]
  },
  {
   "cell_type": "markdown",
   "id": "034f77cd",
   "metadata": {},
   "source": [
    "### 1. Попытка получить элемент по индексу\n",
    "\n",
    "Множества не поддерживают индексы."
   ]
  },
  {
   "cell_type": "code",
   "execution_count": null,
   "id": "e5bfb225",
   "metadata": {},
   "outputs": [],
   "source": [
    "# Множество\n",
    "names = {\"Иван\", \"Юрий\", \"Олег\", \"Иван\", \"Виктор\"}\n",
    "\n",
    "# Получаем ошибку TypeError\n",
    "print(names[0])"
   ]
  },
  {
   "cell_type": "markdown",
   "id": "e1a0beff",
   "metadata": {},
   "source": [
    "### 2. Попытка добавить во множество не hashable данные\n",
    "\n",
    "Множества могут принимать только hashable типы данных.<br>\n",
    "Добавление списка или словаря приведет к ошибке **TypeError**."
   ]
  },
  {
   "cell_type": "code",
   "execution_count": null,
   "id": "17cef07c",
   "metadata": {},
   "outputs": [],
   "source": [
    "# Пытаемся добавить во множество список.\n",
    "names = {\"Иван\", \"Юрий\", \"Олег\", \"Иван\", \"Виктор\", [\"Анна\", \"Мария\"]}"
   ]
  },
  {
   "cell_type": "markdown",
   "id": "8ea693c7",
   "metadata": {},
   "source": [
    "## Поддерживаемые типы\n",
    "\n",
    "Множества могут принимать числа, строки, логичекие данные (True/False), кортежи."
   ]
  },
  {
   "cell_type": "code",
   "execution_count": null,
   "id": "e8a8af83",
   "metadata": {},
   "outputs": [],
   "source": [
    "# Успешно добавляем во множество кортеж, а также число.\n",
    "names = {\"Иван\", \"Юрий\", \"Олег\", \"Иван\", \"Виктор\", (\"Анна\", \"Мария\"), 503}\n",
    "\n",
    "# Выводим \n",
    "print(names)"
   ]
  },
  {
   "cell_type": "code",
   "execution_count": null,
   "id": "e61ca1b5",
   "metadata": {},
   "outputs": [],
   "source": []
  }
 ],
 "metadata": {
  "kernelspec": {
   "display_name": "Python 3 (ipykernel)",
   "language": "python",
   "name": "python3"
  },
  "language_info": {
   "codemirror_mode": {
    "name": "ipython",
    "version": 3
   },
   "file_extension": ".py",
   "mimetype": "text/x-python",
   "name": "python",
   "nbconvert_exporter": "python",
   "pygments_lexer": "ipython3",
   "version": "3.9.13"
  }
 },
 "nbformat": 4,
 "nbformat_minor": 5
}
