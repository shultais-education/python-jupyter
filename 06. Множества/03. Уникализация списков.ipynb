{
 "cells": [
  {
   "cell_type": "markdown",
   "id": "adaac714",
   "metadata": {},
   "source": [
    "# Уникализация списков\n",
    "\n",
    "Одна из задач, которую можно решить с помощью множеств - это уникализация списков.<br>\n",
    "Для этого список нужно преобразовать во множество, а затем обратно.<br>\n",
    "Минус такой уникализации - это потеря порядка следования элементов в списке. Если порядок вам не важен, то можно использовать этот метод."
   ]
  },
  {
   "cell_type": "code",
   "execution_count": 1,
   "id": "c02f9f85",
   "metadata": {},
   "outputs": [
    {
     "name": "stdout",
     "output_type": "stream",
     "text": [
      "Виктор, Никита, Олег, София, Ян\n"
     ]
    }
   ],
   "source": [
    "# Изначальный список\n",
    "names = [\"Олег\", \"Никита\", \"Ян\", \"Олег\", \"София\", \"Ян\", \"Олег\", \"Виктор\"]\n",
    "\n",
    "# Преобразуем во множество\n",
    "names = set(names)\n",
    "\n",
    "# Обратно преобразуем в список\n",
    "names = list(names)\n",
    "\n",
    "# Сортируем и выводим имена\n",
    "names.sort()\n",
    "print(\", \".join(names))"
   ]
  },
  {
   "cell_type": "code",
   "execution_count": null,
   "id": "f18f5044",
   "metadata": {},
   "outputs": [],
   "source": []
  }
 ],
 "metadata": {
  "kernelspec": {
   "display_name": "Python 3 (ipykernel)",
   "language": "python",
   "name": "python3"
  },
  "language_info": {
   "codemirror_mode": {
    "name": "ipython",
    "version": 3
   },
   "file_extension": ".py",
   "mimetype": "text/x-python",
   "name": "python",
   "nbconvert_exporter": "python",
   "pygments_lexer": "ipython3",
   "version": "3.9.13"
  }
 },
 "nbformat": 4,
 "nbformat_minor": 5
}
