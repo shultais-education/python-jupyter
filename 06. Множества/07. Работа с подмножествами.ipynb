{
 "cells": [
  {
   "cell_type": "markdown",
   "id": "735368e6",
   "metadata": {},
   "source": [
    "# Работа с подмножествами"
   ]
  },
  {
   "cell_type": "markdown",
   "id": "ddb9d734",
   "metadata": {},
   "source": [
    "Подмножество - это какая-то часть множества.<br>\n",
    "С помощью операторов сравнения, а также с помощью методов мы можем проверять:\n",
    "1. Является ли одно множество частью другого.\n",
    "2. Является ли одно множество супермножеством (родителем, вместилещем) для другого."
   ]
  },
  {
   "cell_type": "code",
   "execution_count": null,
   "id": "7aec517b",
   "metadata": {},
   "outputs": [],
   "source": [
    "# Множество HTML-тегов\n",
    "html_tags = {'a', 'b', 'strong', 'br', 'div', 'span', 'h1', 'h2', 'h3', 'head', 'body', 'meta', 'link'}"
   ]
  },
  {
   "cell_type": "markdown",
   "id": "3a0f1fe7",
   "metadata": {},
   "source": [
    "## Проверяем, является ли множество супермножеством\n",
    "\n",
    "Проверяем, являются ли документы **page1** и **page2** валидными HTML-документами.<br>\n",
    "Если документ содержит теги из набора **html_tags**, то значит это валидный документ."
   ]
  },
  {
   "cell_type": "code",
   "execution_count": 1,
   "id": "a8ae4103",
   "metadata": {},
   "outputs": [
    {
     "name": "stdout",
     "output_type": "stream",
     "text": [
      "Валидность документа 1: True\n",
      "Валидность документа 2: False\n",
      "\n",
      "Валидность документа 1: True\n",
      "Валидность документа 2: False\n"
     ]
    }
   ],
   "source": [
    "# Множество HTML-тегов\n",
    "html_tags = {'a', 'b', 'strong', 'br', 'div', 'span', 'h1', 'h2', 'h3', 'head', 'body', 'meta', 'link'}\n",
    "\n",
    "# Документы\n",
    "page1 = {'strong', 'body', 'br', 'div', 'span'}\n",
    "page2 = {'body', 'h1', 'rb', 'div', 'span', 'head'}\n",
    "\n",
    "# Проверка через оператор >=\n",
    "print(\"Валидность документа 1:\", html_tags >= page1)\n",
    "print(\"Валидность документа 2:\", html_tags >= page2)\n",
    "\n",
    "print()\n",
    "\n",
    "# Проверка через метод\n",
    "print(\"Валидность документа 1:\", html_tags.issuperset(page1))\n",
    "print(\"Валидность документа 2:\", html_tags.issuperset(page2))\n"
   ]
  },
  {
   "cell_type": "markdown",
   "id": "4746cb42",
   "metadata": {},
   "source": [
    "## Проверяем, является ли множество подмножеством\n",
    "\n",
    "Проверяем, работаем мы с HTML-документом или чем-то другим.<br>\n",
    "Если документ содержит теги из набора **html_tags** (является подмножеством), то значит это HTML-документ."
   ]
  },
  {
   "cell_type": "code",
   "execution_count": null,
   "id": "d5433a5d",
   "metadata": {},
   "outputs": [],
   "source": [
    "# Множество HTML-тегов\n",
    "html_tags = {'a', 'b', 'strong', 'br', 'div', 'span', 'h1', 'h2', 'h3', 'head', 'body', 'meta', 'link'}\n",
    "\n",
    "# Документы\n",
    "page1 = {'strong', 'body', 'br', 'div', 'span'}\n",
    "page2 = {'svg', 'rect', 'circle', 'g', 'polygon'}\n",
    "\n",
    "# Проверка через оператор >=\n",
    "print(\"Это HTML-документ:\", page1 <= html_tags)\n",
    "print(\"Это HTML-документ:\", page2 <= html_tags)\n",
    "\n",
    "print()\n",
    "\n",
    "# Проверка через метод\n",
    "print(\"Это HTML-документ:\", page1.issubset(html_tags))\n",
    "print(\"Это HTML-документ:\", page2.issubset(html_tags))\n"
   ]
  },
  {
   "cell_type": "code",
   "execution_count": null,
   "id": "9545dc64",
   "metadata": {},
   "outputs": [],
   "source": []
  }
 ],
 "metadata": {
  "kernelspec": {
   "display_name": "Python 3 (ipykernel)",
   "language": "python",
   "name": "python3"
  },
  "language_info": {
   "codemirror_mode": {
    "name": "ipython",
    "version": 3
   },
   "file_extension": ".py",
   "mimetype": "text/x-python",
   "name": "python",
   "nbconvert_exporter": "python",
   "pygments_lexer": "ipython3",
   "version": "3.11.7"
  }
 },
 "nbformat": 4,
 "nbformat_minor": 5
}
