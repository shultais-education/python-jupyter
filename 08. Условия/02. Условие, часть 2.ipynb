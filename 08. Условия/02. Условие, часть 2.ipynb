{
 "cells": [
  {
   "cell_type": "markdown",
   "id": "7c52395c",
   "metadata": {},
   "source": [
    "# Условия, часть 2"
   ]
  },
  {
   "cell_type": "code",
   "execution_count": null,
   "id": "cc9cddae",
   "metadata": {},
   "outputs": [],
   "source": [
    "age = 12\n",
    "if age >= 18:\n",
    "    print(\"Доступ разрешен\")\n",
    "else:\n",
    "    print(\"Доступ запрещен\")"
   ]
  },
  {
   "cell_type": "markdown",
   "id": "06fb27ec",
   "metadata": {},
   "source": [
    "## Вложенные условия\n",
    "\n",
    "Условия можно вкладывать друг в друга, создавая более сложную логику выбора."
   ]
  },
  {
   "cell_type": "code",
   "execution_count": null,
   "id": "6f1ff105",
   "metadata": {},
   "outputs": [],
   "source": [
    "age = 14\n",
    "\n",
    "# Первое условие пропускает всех, кому исполнилось 14 лет\n",
    "if age >= 14:\n",
    "    # Второе условие, только для тех, кому исполнилось 14 лет\n",
    "    if age >= 18:\n",
    "        print(\"Доступ разрешен\")\n",
    "    else:\n",
    "        print(\"Доступ разрешен с согласия родитилей\")\n",
    "else:\n",
    "    print(\"Доступ запрещен\")"
   ]
  },
  {
   "cell_type": "markdown",
   "id": "c27c7700",
   "metadata": {},
   "source": [
    "## Условия с несколькими блоками\n",
    "\n",
    "Одна условная конструкция может содержать несколько условий с помощью `if ... elif`.\n",
    "Все условия проверяются друг за другом до тех пор, пока какое-либо из условий не окажется верным или мы не дойдем до блока `else`."
   ]
  },
  {
   "cell_type": "code",
   "execution_count": null,
   "id": "59fb9ddf",
   "metadata": {},
   "outputs": [],
   "source": [
    "age = 14\n",
    "\n",
    "# Первое условие пропускает всех, кому исполнилось 18 лет\n",
    "if age >= 18:\n",
    "    print(\"Доступ разрешен\")\n",
    "# Второе условие пропускает всех, кому больше 13 лет и кто не подошел под первое условие\n",
    "elif age > 13:\n",
    "    print(\"Доступ разрешен с согласия родитилей\")\n",
    "else:\n",
    "    print(\"Доступ запрещен\")"
   ]
  },
  {
   "cell_type": "code",
   "execution_count": null,
   "id": "4daa8235",
   "metadata": {},
   "outputs": [],
   "source": []
  }
 ],
 "metadata": {
  "kernelspec": {
   "display_name": "Python 3 (ipykernel)",
   "language": "python",
   "name": "python3"
  },
  "language_info": {
   "codemirror_mode": {
    "name": "ipython",
    "version": 3
   },
   "file_extension": ".py",
   "mimetype": "text/x-python",
   "name": "python",
   "nbconvert_exporter": "python",
   "pygments_lexer": "ipython3",
   "version": "3.9.13"
  }
 },
 "nbformat": 4,
 "nbformat_minor": 5
}
