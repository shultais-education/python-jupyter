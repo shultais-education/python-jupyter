{
 "cells": [
  {
   "cell_type": "markdown",
   "id": "ae6e1cf5",
   "metadata": {},
   "source": [
    "# Условия"
   ]
  },
  {
   "cell_type": "markdown",
   "id": "d229ffd0",
   "metadata": {},
   "source": [
    "Условная инструкция позволяет управлять потоком выполнения программы.<br>\n",
    "Код, который нужно выполнить если условие верное, нужно записывать с отступами **в 4 пробела**."
   ]
  },
  {
   "cell_type": "markdown",
   "id": "63c55a7e",
   "metadata": {},
   "source": [
    "## Условие <span style=\"color: red\">не выполняется</span>"
   ]
  },
  {
   "cell_type": "code",
   "execution_count": null,
   "id": "a7a681f7",
   "metadata": {},
   "outputs": [],
   "source": [
    "age = 15\n",
    "if age >= 18:\n",
    "    # Код в этом блоке выполнится только если условие будет верным.\n",
    "    print(f\"Ваш возраст {age} лет. Доступ разрешен.\")"
   ]
  },
  {
   "cell_type": "markdown",
   "id": "94a9c102",
   "metadata": {},
   "source": [
    "## Условие <span style=\"color: green\">выполняется</span>"
   ]
  },
  {
   "cell_type": "code",
   "execution_count": null,
   "id": "1072a27a",
   "metadata": {},
   "outputs": [],
   "source": [
    "age = 18\n",
    "if age >= 18:\n",
    "    # Код в этом блоке выполнится только если условие будет верным.\n",
    "    print(f\"Ваш возраст {age} лет. Доступ разрешен.\")"
   ]
  },
  {
   "cell_type": "markdown",
   "id": "beee7a6a",
   "metadata": {},
   "source": [
    "## Отступы важны"
   ]
  },
  {
   "cell_type": "code",
   "execution_count": null,
   "id": "780bd739",
   "metadata": {},
   "outputs": [],
   "source": [
    "age = 15\n",
    "if age >= 18:\n",
    "    # Код в этом блоке выполнится только если условие будет верным.\n",
    "    print(f\"Ваш возраст {age} лет. Доступ разрешен.\")\n",
    "\n",
    "# Код ниже будет выполнен в любом случае, так как он находится на \n",
    "# одном уровне с основным кодом программы и не зависит от условия.\n",
    "print(\"Конец\")"
   ]
  },
  {
   "cell_type": "markdown",
   "id": "98b17f00",
   "metadata": {},
   "source": [
    "## `else`\n",
    "\n",
    "Если нам нужно выполнить код, когда условие **неверно**, то надо воспользоваться `else`:"
   ]
  },
  {
   "cell_type": "code",
   "execution_count": null,
   "id": "06f3ee04",
   "metadata": {},
   "outputs": [],
   "source": [
    "age = 15\n",
    "if age >= 18:\n",
    "    # Код в этом блоке выполнится только если условие будет верным.\n",
    "    print(f\"Ваш возраст {age} лет. Доступ разрешен.\")\n",
    "else:\n",
    "    # Код в этом блоке выполнится только если условие будет НЕ верным.\n",
    "    print(f\"Доступ запрещен.\")\n",
    "    \n",
    "print(\"Конец\")"
   ]
  },
  {
   "cell_type": "markdown",
   "id": "d8fc77a3",
   "metadata": {},
   "source": [
    "## Блоки инструкций\n",
    "\n",
    "Условие может содерждать любое количество инструкций."
   ]
  },
  {
   "cell_type": "code",
   "execution_count": null,
   "id": "07f65117",
   "metadata": {},
   "outputs": [],
   "source": [
    "age = 20\n",
    "if age >= 18:\n",
    "    # Если условие будет верным, то выполнится весь код в данном блоке.\n",
    "    full_name = \" петров иван иванович  \"\n",
    "    full_name = full_name.strip().title()\n",
    "    print(f\"Здравствуйте, {full_name}. Ваш возраст {age} лет. Доступ разрешен.\")\n",
    "else:\n",
    "    # Код в этом блоке выполнится только если условие будет НЕ верным.\n",
    "    print(f\"Доступ запрещен.\")\n",
    "    \n",
    "print(\"Конец\")"
   ]
  },
  {
   "cell_type": "code",
   "execution_count": null,
   "id": "3c464339",
   "metadata": {},
   "outputs": [],
   "source": []
  }
 ],
 "metadata": {
  "kernelspec": {
   "display_name": "Python 3 (ipykernel)",
   "language": "python",
   "name": "python3"
  },
  "language_info": {
   "codemirror_mode": {
    "name": "ipython",
    "version": 3
   },
   "file_extension": ".py",
   "mimetype": "text/x-python",
   "name": "python",
   "nbconvert_exporter": "python",
   "pygments_lexer": "ipython3",
   "version": "3.9.13"
  }
 },
 "nbformat": 4,
 "nbformat_minor": 5
}
