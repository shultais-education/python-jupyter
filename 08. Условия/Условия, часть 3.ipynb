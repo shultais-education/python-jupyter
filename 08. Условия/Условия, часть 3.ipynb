{
 "cells": [
  {
   "cell_type": "markdown",
   "id": "2a4f5ab9",
   "metadata": {},
   "source": [
    "# Условия, часть 3\n",
    "\n",
    "Когда Python выполняет программу, он сперва вычисляет логическое выражение, что получить **True** либо **False**, а после на основе этих данных решает, заходить в блок инструкций (True) или нет (False)."
   ]
  },
  {
   "cell_type": "code",
   "execution_count": null,
   "id": "6c19e881",
   "metadata": {},
   "outputs": [],
   "source": [
    "age = 14\n",
    "\n",
    "if age >= 18:\n",
    "    print(\"Доступ разрешен\")\n",
    "elif age > 13:\n",
    "    print(\"Доступ разрешен с согласия родителей\")\n",
    "else:\n",
    "    print(\"Доступ запрещен\")"
   ]
  },
  {
   "cell_type": "markdown",
   "id": "8656e8a6",
   "metadata": {},
   "source": [
    "## False - это не только `False`\n",
    "\n",
    "Пустой список, словарь, множество и пустая строка в логичесокм выражении возвращают **False**.<br>\n",
    "Также к **False** отностися объект **None** и число **0**.\n",
    "\n",
    "Проверить, что какое логическое значение возвращает выражение можно с помощью функции `bool()`:"
   ]
  },
  {
   "cell_type": "code",
   "execution_count": null,
   "id": "4f6eee1b",
   "metadata": {},
   "outputs": [],
   "source": [
    "print(\"False как есть:     \", bool(False))\n",
    "print(\"Пустая строка:       \", bool(\"\"))\n",
    "print(\"Ноль (0)           \", bool(0))\n",
    "print(\"Пустой список:       \", bool([]))\n",
    "print(\"Пустой словарь:      \", bool({}))\n",
    "print(\"Пустое множество:    \", bool(set()))\n",
    "print(\"Объект None (ничего):\", bool(None))"
   ]
  },
  {
   "cell_type": "markdown",
   "id": "08ce4621",
   "metadata": {},
   "source": [
    "## True - это не только `True`\n",
    "\n",
    "Любая непустая строка, список, словарь или множество, а также число отличное от нуля в логическом выражении возвращают **True**:"
   ]
  },
  {
   "cell_type": "code",
   "execution_count": null,
   "id": "d97999b2",
   "metadata": {},
   "outputs": [],
   "source": [
    "print(\"True как есть:       \", bool(True))\n",
    "print(\"Строка с пробелом:    \", bool(\" \"))\n",
    "print(\"Отрицательное число:   \", bool(-5))\n",
    "print(\"Положительное число:  \", bool(1))\n",
    "print(\"Вещественное число:    \", bool(0.0001))\n",
    "print(\"Непустой список:      \", bool([0]))\n",
    "print(\"Непустой словарь:     \", bool({0: 0}))\n",
    "print(\"Неустое множество:    \", bool({0}))"
   ]
  },
  {
   "cell_type": "markdown",
   "id": "e5fd0cd5",
   "metadata": {},
   "source": [
    "## Методы, возвращающие True/False\n",
    "\n",
    "Многие методы в Python возвращают логическое значение: True или False, поэтому их можно использовать в условиях."
   ]
  },
  {
   "cell_type": "code",
   "execution_count": null,
   "id": "48ea34d9",
   "metadata": {},
   "outputs": [],
   "source": [
    "age = \"десять\"\n",
    "\n",
    "# Проверяем, содержит ли строка age числа\n",
    "if age.isdigit():\n",
    "    print(f\"Ваш возвраст {age} лет.\")\n",
    "\n",
    "    \n",
    "age = \"10\"\n",
    "\n",
    "# Проверяем, содержит ли строка age числа\n",
    "if age.isdigit():\n",
    "    print(f\"Ваш возвраст {age} лет.\")"
   ]
  },
  {
   "cell_type": "code",
   "execution_count": null,
   "id": "06e5e01e",
   "metadata": {},
   "outputs": [],
   "source": []
  }
 ],
 "metadata": {
  "kernelspec": {
   "display_name": "Python 3 (ipykernel)",
   "language": "python",
   "name": "python3"
  },
  "language_info": {
   "codemirror_mode": {
    "name": "ipython",
    "version": 3
   },
   "file_extension": ".py",
   "mimetype": "text/x-python",
   "name": "python",
   "nbconvert_exporter": "python",
   "pygments_lexer": "ipython3",
   "version": "3.9.13"
  }
 },
 "nbformat": 4,
 "nbformat_minor": 5
}
