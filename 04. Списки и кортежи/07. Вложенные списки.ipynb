{
 "cells": [
  {
   "cell_type": "markdown",
   "id": "0e34d082",
   "metadata": {},
   "source": [
    "# Вложенные списки\n",
    "\n",
    "Списки могут хранить значени любых типов, в том числе и другие списки."
   ]
  },
  {
   "cell_type": "code",
   "execution_count": 1,
   "id": "1bf615d6",
   "metadata": {},
   "outputs": [
    {
     "name": "stdout",
     "output_type": "stream",
     "text": [
      "[[1, 2, 3], [4, 5, 6], [7, 8, 9], [10, 11, 12]]\n"
     ]
    }
   ],
   "source": [
    "matrix = [[1, 2, 3], [4, 5, 6], [7, 8, 9], [10, 11, 12]]\n",
    "print(matrix)"
   ]
  },
  {
   "cell_type": "code",
   "execution_count": 3,
   "id": "47bddc4a",
   "metadata": {},
   "outputs": [
    {
     "name": "stdout",
     "output_type": "stream",
     "text": [
      "[4, 5, 6]\n"
     ]
    }
   ],
   "source": [
    "# Получаем 1 элемент (по индексу) из списка matrix.\n",
    "# Это будет вложенный список [4, 5, 6]\n",
    "print(matrix[1])"
   ]
  },
  {
   "cell_type": "code",
   "execution_count": 5,
   "id": "11d8c3b6",
   "metadata": {},
   "outputs": [
    {
     "name": "stdout",
     "output_type": "stream",
     "text": [
      "6\n"
     ]
    }
   ],
   "source": [
    "# Сперва (первая пара квадратных скобок) получаем 1 элемент из списка matrix - это будет список [4, 5, 6].\n",
    "# Далее (вторая пара квадратрых скобок) получаем последний элемент из вложенного списка, это будет 6.\n",
    "print(matrix[1][-1])"
   ]
  },
  {
   "cell_type": "code",
   "execution_count": 7,
   "id": "df59aeda",
   "metadata": {},
   "outputs": [
    {
     "name": "stdout",
     "output_type": "stream",
     "text": [
      "[[1, 2, 3], [4, 5, 6], [7, 8.5, 9], [10, 11, 12]]\n"
     ]
    }
   ],
   "source": [
    "# Изменяем элемент вложенного списка\n",
    "matrix[2][1] = 8.5\n",
    "print(matrix)"
   ]
  },
  {
   "cell_type": "code",
   "execution_count": 8,
   "id": "9bcaf781",
   "metadata": {},
   "outputs": [
    {
     "name": "stdout",
     "output_type": "stream",
     "text": [
      "[[1, 2, 3], [4, 5, 6], 8.5, [10, 11, 12]]\n"
     ]
    }
   ],
   "source": [
    "# Ошибка, замента элемента списка целиком\n",
    "matrix[2] = 8.5\n",
    "print(matrix)"
   ]
  },
  {
   "cell_type": "code",
   "execution_count": 9,
   "id": "82224178",
   "metadata": {},
   "outputs": [
    {
     "name": "stdout",
     "output_type": "stream",
     "text": [
      "[[1, 2, 3], [4, 5, 6], [7, [8.5, 8.7, 8.9], 9], [10, 11, 12]]\n"
     ]
    }
   ],
   "source": [
    "# Создание вложенности в три уровня\n",
    "matrix = [[1, 2, 3], [4, 5, 6], [7, 8, 9], [10, 11, 12]]\n",
    "# Помещаем вместо числа 8 список [8.5, 8.7, 8.9]\n",
    "matrix[2][1] = [8.5, 8.7, 8.9]\n",
    "print(matrix)"
   ]
  },
  {
   "cell_type": "code",
   "execution_count": 10,
   "id": "7cab35c6",
   "metadata": {},
   "outputs": [
    {
     "name": "stdout",
     "output_type": "stream",
     "text": [
      "[[1, 2, 3], [4, 5, 6], [7, [8.5, 8.7, 8.9], 9], [10, 11, 12]]\n",
      "8.9\n"
     ]
    }
   ],
   "source": [
    "matrix = [[1, 2, 3], [4, 5, 6], [7, 8, 9], [10, 11, 12]]\n",
    "# Помещаем вместо числа 8 список [8.5, 8.7, 8.9]\n",
    "matrix[2][1] = [8.5, 8.7, 8.9]\n",
    "print(matrix)\n",
    "\n",
    "# Обращаемся к списку на третьем уровне\n",
    "print(matrix[2][1][-1])"
   ]
  },
  {
   "cell_type": "code",
   "execution_count": 13,
   "id": "1792938c",
   "metadata": {},
   "outputs": [
    {
     "name": "stdout",
     "output_type": "stream",
     "text": [
      "[[1, 2, 3], [4, 5, 6], [7, [8.5, 8.7, 8.9], 9], [10, 11, 12]]\n",
      "26.1\n",
      "3\n",
      "4\n"
     ]
    }
   ],
   "source": [
    "matrix = [[1, 2, 3], [4, 5, 6], [7, 8, 9], [10, 11, 12]]\n",
    "# Помещаем вместо числа 8 список [8.5, 8.7, 8.9]\n",
    "matrix[2][1] = [8.5, 8.7, 8.9]\n",
    "print(matrix)\n",
    "\n",
    "# Считаем сумму списка на третьем уровне\n",
    "print(sum(matrix[2][1]))\n",
    "\n",
    "# Выводим длину списка на третьем уровне\n",
    "print(len(matrix[2][1]))\n",
    "\n",
    "# Выводим длину исходного списка\n",
    "print(len(matrix))"
   ]
  },
  {
   "cell_type": "code",
   "execution_count": 15,
   "id": "69009074",
   "metadata": {},
   "outputs": [
    {
     "name": "stdout",
     "output_type": "stream",
     "text": [
      "False\n",
      "True\n"
     ]
    }
   ],
   "source": [
    "matrix = [[1, 2, 3], [4, 5, 6], [7, 8, 9], [10, 11, 12]]\n",
    "matrix[2][1] = [8.5, 8.7, 8.9]\n",
    "\n",
    "# Ищем 12 в списке matrix \n",
    "print(12 in matrix)\n",
    "\n",
    "# Ищем 12 в списке [10, 11, 12] \n",
    "print(12 in matrix[3])\n"
   ]
  },
  {
   "cell_type": "code",
   "execution_count": 16,
   "id": "7df2a64a",
   "metadata": {},
   "outputs": [
    {
     "name": "stdout",
     "output_type": "stream",
     "text": [
      "True\n",
      "True\n"
     ]
    }
   ],
   "source": [
    "matrix = [[1, 2, 3], 12, [4, 5, 6], [7, 8, 9], [10, 11, 12]]\n",
    "matrix[2][1] = [8.5, 8.7, 8.9]\n",
    "\n",
    "# Ищем 12 в списке matrix \n",
    "print(12 in matrix)\n",
    "\n",
    "# Ищем 12 в списке [10, 11, 12] \n",
    "print(12 in matrix[-1])\n"
   ]
  },
  {
   "cell_type": "code",
   "execution_count": null,
   "id": "0aaf00ca",
   "metadata": {},
   "outputs": [],
   "source": []
  }
 ],
 "metadata": {
  "kernelspec": {
   "display_name": "Python 3 (ipykernel)",
   "language": "python",
   "name": "python3"
  },
  "language_info": {
   "codemirror_mode": {
    "name": "ipython",
    "version": 3
   },
   "file_extension": ".py",
   "mimetype": "text/x-python",
   "name": "python",
   "nbconvert_exporter": "python",
   "pygments_lexer": "ipython3",
   "version": "3.9.13"
  }
 },
 "nbformat": 4,
 "nbformat_minor": 5
}
