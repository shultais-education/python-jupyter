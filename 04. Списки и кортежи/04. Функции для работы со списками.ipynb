{
 "cells": [
  {
   "cell_type": "markdown",
   "id": "51e09803",
   "metadata": {},
   "source": [
    "# Функции для работы со списками"
   ]
  },
  {
   "cell_type": "markdown",
   "id": "a6b1ce97",
   "metadata": {},
   "source": [
    "## Длина списка с помощью `len()`\n",
    "\n",
    "С помощью функции `len()` можно получить длину списка или другими словами количество элементов, которое он содержит."
   ]
  },
  {
   "cell_type": "code",
   "execution_count": 2,
   "id": "77183177",
   "metadata": {},
   "outputs": [
    {
     "name": "stdout",
     "output_type": "stream",
     "text": [
      "12\n"
     ]
    }
   ],
   "source": [
    "revenue = [211_000, 135_000, 155_000, 120_000, 78_000, 160_000,\n",
    "           209_000, 164_000, 169_000, 236_000, 188_000, 193_000]\n",
    "\n",
    "print(len(revenue))"
   ]
  },
  {
   "cell_type": "markdown",
   "id": "eda3a2e2",
   "metadata": {},
   "source": [
    "## Функции `min()`, `max()` и `sum()`\n",
    "\n",
    "Функция `min()` возвращает **минимальный** элемент списка.<br>\n",
    "Функция `max()` возвращает **максимальный** элемент списка.<br>\n",
    "Функция `sum()` возвращает вычисляет **сумму** всех элементов списка.<br>\n",
    "Данные функции ведут себя предсказуемо, только если список содержит числа."
   ]
  },
  {
   "cell_type": "code",
   "execution_count": 4,
   "id": "3b1fb247",
   "metadata": {},
   "outputs": [
    {
     "name": "stdout",
     "output_type": "stream",
     "text": [
      "Минимум: 78000\n",
      "Максимум: 236000\n",
      "Сумма: 2018000\n"
     ]
    }
   ],
   "source": [
    "revenue = [211_000, 135_000, 155_000, 120_000, 78_000, 160_000,\n",
    "           209_000, 164_000, 169_000, 236_000, 188_000, 193_000]\n",
    "\n",
    "print(\"Минимум:\", min(revenue))\n",
    "print(\"Максимум:\", max(revenue))\n",
    "print(\"Сумма:\", sum(revenue))"
   ]
  },
  {
   "cell_type": "code",
   "execution_count": 6,
   "id": "d2a0e60c",
   "metadata": {},
   "outputs": [
    {
     "name": "stdout",
     "output_type": "stream",
     "text": [
      "Доход за 1-е полугодие: 859000\n",
      "Доход за 2-е полугодие: 1159000\n"
     ]
    }
   ],
   "source": [
    "revenue = [211_000, 135_000, 155_000, 120_000, 78_000, 160_000,\n",
    "           209_000, 164_000, 169_000, 236_000, 188_000, 193_000]\n",
    "\n",
    "print(\"Доход за 1-е полугодие:\", sum(revenue[:6]))\n",
    "print(\"Доход за 2-е полугодие:\", sum(revenue[6:]))"
   ]
  },
  {
   "cell_type": "markdown",
   "id": "c79c790b",
   "metadata": {},
   "source": [
    "## Списки, содержащие строки\n",
    "\n",
    "Если список содержит строки, то функции `min()` и `max()` будут искать минимум и максимум по правилам сравнения строк.<br>\n",
    "Функция `sum()` в этом случае не будет работать и завершит программу ошибкой **TypeError**."
   ]
  },
  {
   "cell_type": "code",
   "execution_count": 10,
   "id": "36a2899e",
   "metadata": {},
   "outputs": [
    {
     "name": "stdout",
     "output_type": "stream",
     "text": [
      "Минимум: 120_000\n",
      "Максимум: 78_000\n"
     ]
    }
   ],
   "source": [
    "revenue = [\"211_000\", \"135_000\", \"155_000\", \"120_000\", \"78_000\", \"160_000\",\n",
    "           \"209_000\", \"164_000\", \"169_000\", \"236_000\", \"188_000\", \"193_000\"]\n",
    "\n",
    "# Ищем минимальную и максимальную строку\n",
    "print(\"Минимум:\", min(revenue))\n",
    "print(\"Максимум:\", max(revenue))"
   ]
  },
  {
   "cell_type": "markdown",
   "id": "75b10c4e",
   "metadata": {},
   "source": [
    "### Хак: быстрое преобразование списка строк в список чисел\n",
    "\n",
    "Чтобы быстро преобразовать все элементы списка в числа используйте следующий код:"
   ]
  },
  {
   "cell_type": "code",
   "execution_count": 8,
   "id": "8a2c274f",
   "metadata": {},
   "outputs": [
    {
     "name": "stdout",
     "output_type": "stream",
     "text": [
      "Минимум: 78000\n",
      "Максимум: 236000\n"
     ]
    }
   ],
   "source": [
    "revenue = [\"211_000\", \"135_000\", \"155_000\", \"120_000\", \"78_000\", \"160_000\",\n",
    "           \"209_000\", \"164_000\", \"169_000\", \"236_000\", \"188_000\", \"193_000\"]\n",
    "\n",
    "# Вариант 1: функция map\n",
    "revenue = list(map(int, revenue))\n",
    "\n",
    "print(\"Минимум:\", min(revenue))\n",
    "print(\"Максимум:\", max(revenue))"
   ]
  },
  {
   "cell_type": "code",
   "execution_count": 9,
   "id": "6f601932",
   "metadata": {},
   "outputs": [
    {
     "name": "stdout",
     "output_type": "stream",
     "text": [
      "Минимум: 78000\n",
      "Максимум: 236000\n"
     ]
    }
   ],
   "source": [
    "revenue = [\"211_000\", \"135_000\", \"155_000\", \"120_000\", \"78_000\", \"160_000\",\n",
    "           \"209_000\", \"164_000\", \"169_000\", \"236_000\", \"188_000\", \"193_000\"]\n",
    "\n",
    "# Вариант 2: списковые включения\n",
    "revenue = [int(e) for e in revenue]\n",
    "\n",
    "print(\"Минимум:\", min(revenue))\n",
    "print(\"Максимум:\", max(revenue))"
   ]
  },
  {
   "cell_type": "markdown",
   "id": "d2f8acf6",
   "metadata": {},
   "source": [
    "Подробнее функцию `map()` и списковые включения мы изучаем в курсе по функциональному программированию."
   ]
  },
  {
   "cell_type": "code",
   "execution_count": null,
   "id": "c5ee7f61",
   "metadata": {},
   "outputs": [],
   "source": []
  }
 ],
 "metadata": {
  "kernelspec": {
   "display_name": "Python 3 (ipykernel)",
   "language": "python",
   "name": "python3"
  },
  "language_info": {
   "codemirror_mode": {
    "name": "ipython",
    "version": 3
   },
   "file_extension": ".py",
   "mimetype": "text/x-python",
   "name": "python",
   "nbconvert_exporter": "python",
   "pygments_lexer": "ipython3",
   "version": "3.9.13"
  }
 },
 "nbformat": 4,
 "nbformat_minor": 5
}
