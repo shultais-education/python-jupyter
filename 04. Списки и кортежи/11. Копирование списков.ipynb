{
 "cells": [
  {
   "cell_type": "markdown",
   "id": "80ab9931",
   "metadata": {},
   "source": [
    "# Копирование списков"
   ]
  },
  {
   "cell_type": "code",
   "execution_count": 1,
   "id": "c19a349b",
   "metadata": {},
   "outputs": [
    {
     "name": "stdout",
     "output_type": "stream",
     "text": [
      "['Москва', 'Санкт-Петербург', 'Новосибирск', 'Калининград', 'Владивосток', 'Киев', 'Минск']\n"
     ]
    }
   ],
   "source": [
    "cities = [\"Москва\", \"Санкт-Петербург\", \"Новосибирск\", \"Калининград\", \"Владивосток\", \"Киев\", \"Минск\"]\n",
    "\n",
    "# Выводим данные\n",
    "print(cities)"
   ]
  },
  {
   "cell_type": "markdown",
   "id": "2a086c07",
   "metadata": {},
   "source": [
    "## Копирование через присваивание\n",
    "\n",
    "Присваивание создает не копию списка, а псевдоним (alias) для уже существующего списка."
   ]
  },
  {
   "cell_type": "code",
   "execution_count": 6,
   "id": "5bd13cb7",
   "metadata": {},
   "outputs": [
    {
     "name": "stdout",
     "output_type": "stream",
     "text": [
      "['Moscow', 'Санкт-Петербург', 'Новосибирск', 'Калининград', 'Владивосток', 'Киев', 'Minsk']\n",
      "['Moscow', 'Санкт-Петербург', 'Новосибирск', 'Калининград', 'Владивосток', 'Киев', 'Minsk']\n"
     ]
    }
   ],
   "source": [
    "cities = [\"Москва\", \"Санкт-Петербург\", \"Новосибирск\", \"Калининград\", \"Владивосток\", \"Киев\", \"Минск\"]\n",
    "\n",
    "# cities_copy и cities - это один и тот же список, но с разными именами\n",
    "cities_copy = cities\n",
    "\n",
    "# Изменение в одном списке затрагивает и другой\n",
    "cities[0] = \"Moscow\"\n",
    "cities_copy[-1] = \"Minsk\"\n",
    "\n",
    "# Выводим данные\n",
    "print(cities)\n",
    "print(cities_copy)"
   ]
  },
  {
   "cell_type": "markdown",
   "id": "d2d37c9b",
   "metadata": {},
   "source": [
    "## Метод `.copy()`\n",
    "\n",
    "Метод `.copy()` создает реальную копию списка."
   ]
  },
  {
   "cell_type": "code",
   "execution_count": 7,
   "id": "e33fa56e",
   "metadata": {},
   "outputs": [
    {
     "name": "stdout",
     "output_type": "stream",
     "text": [
      "['Moscow', 'Санкт-Петербург', 'Новосибирск', 'Калининград', 'Владивосток', 'Киев', 'Минск']\n",
      "['Москва', 'Санкт-Петербург', 'Новосибирск', 'Калининград', 'Владивосток', 'Киев', 'Minsk']\n"
     ]
    }
   ],
   "source": [
    "cities = [\"Москва\", \"Санкт-Петербург\", \"Новосибирск\", \"Калининград\", \"Владивосток\", \"Киев\", \"Минск\"]\n",
    "\n",
    "# Создаем копию списка в переменногй cities_copy\n",
    "cities_copy = cities.copy()\n",
    "\n",
    "# Теперь изменение в одном списке не затрагивает другой\n",
    "cities[0] = \"Moscow\"\n",
    "cities_copy[-1] = \"Minsk\"\n",
    "\n",
    "# Выводим данные\n",
    "print(cities)\n",
    "print(cities_copy)"
   ]
  },
  {
   "cell_type": "markdown",
   "id": "c584f1e2",
   "metadata": {},
   "source": [
    "## Копирование с помощью среза `[:]`\n",
    "\n",
    "Срез `[:]` создает копию списка по аналогии с методом `.copy()`."
   ]
  },
  {
   "cell_type": "code",
   "execution_count": 8,
   "id": "b8f1c156",
   "metadata": {},
   "outputs": [
    {
     "name": "stdout",
     "output_type": "stream",
     "text": [
      "['Moscow', 'Санкт-Петербург', 'Новосибирск', 'Калининград', 'Владивосток', 'Киев', 'Минск']\n",
      "['Москва', 'Санкт-Петербург', 'Новосибирск', 'Калининград', 'Владивосток', 'Киев', 'Minsk']\n"
     ]
    }
   ],
   "source": [
    "cities = [\"Москва\", \"Санкт-Петербург\", \"Новосибирск\", \"Калининград\", \"Владивосток\", \"Киев\", \"Минск\"]\n",
    "\n",
    "# Создаем копию списка в переменногй cities_copy\n",
    "cities_copy = cities[:]\n",
    "\n",
    "# Теперь изменение в одном списке не затрагивает другой\n",
    "cities[0] = \"Moscow\"\n",
    "cities_copy[-1] = \"Minsk\"\n",
    "\n",
    "# Выводим данные\n",
    "print(cities)\n",
    "print(cities_copy)"
   ]
  },
  {
   "cell_type": "markdown",
   "id": "5e61187d",
   "metadata": {},
   "source": [
    "## Сравнение списков"
   ]
  },
  {
   "cell_type": "code",
   "execution_count": 12,
   "id": "93740f09",
   "metadata": {},
   "outputs": [
    {
     "name": "stdout",
     "output_type": "stream",
     "text": [
      "True\n",
      "True\n",
      "- - - - - - - - - - - - - - - - - - - - - - - - - \n",
      "False\n",
      "True\n"
     ]
    }
   ],
   "source": [
    "cities = [\"Москва\", \"Санкт-Петербург\", \"Новосибирск\", \"Калининград\", \"Владивосток\", \"Киев\", \"Минск\"]\n",
    "\n",
    "# Создаем копию списка в переменногй cities_copy\n",
    "cities_copy = cities[:]\n",
    "\n",
    "# Создаем псевдоним (cities_alias и cities - это один и тот же список, но с разными именами).\n",
    "cities_alias = cities\n",
    "\n",
    "# Сравниваем значения в списках с помощью оператора равенства ==\n",
    "print(cities == cities_copy)\n",
    "print(cities == cities_alias)\n",
    "\n",
    "print(\"- \" * 25)\n",
    "\n",
    "# Проверяем на псевдоним (сопоставление объектов) с помощью оператора is\n",
    "print(cities is cities_copy)\n",
    "print(cities is cities_alias)"
   ]
  },
  {
   "cell_type": "code",
   "execution_count": null,
   "id": "1d1a6638",
   "metadata": {},
   "outputs": [],
   "source": []
  }
 ],
 "metadata": {
  "kernelspec": {
   "display_name": "Python 3 (ipykernel)",
   "language": "python",
   "name": "python3"
  },
  "language_info": {
   "codemirror_mode": {
    "name": "ipython",
    "version": 3
   },
   "file_extension": ".py",
   "mimetype": "text/x-python",
   "name": "python",
   "nbconvert_exporter": "python",
   "pygments_lexer": "ipython3",
   "version": "3.9.13"
  }
 },
 "nbformat": 4,
 "nbformat_minor": 5
}
