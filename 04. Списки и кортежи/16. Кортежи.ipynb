{
 "cells": [
  {
   "cell_type": "markdown",
   "id": "a3846174",
   "metadata": {},
   "source": [
    "# Кортежи\n",
    "\n",
    "Кортежи - это последовательности элементов, которые **нельзя изменять**.<br>\n",
    "Кортежи создаются с помощью пары круглых скобок, в которых через запятую перечисляются объекты (элементы).<br>\n",
    "Доступ к элементам кортежа осуществляется через индексы.<br><br>\n",
    "Кортежи могут использоваться в роли констант для избежания случайных изменений."
   ]
  },
  {
   "cell_type": "code",
   "execution_count": 2,
   "id": "3ff13fa2",
   "metadata": {},
   "outputs": [
    {
     "name": "stdout",
     "output_type": "stream",
     "text": [
      "Кошка\n",
      "('Хомяк', 'Кошка', 'Хорек', 'Крыса')\n"
     ]
    }
   ],
   "source": [
    "animals = (\"Хомяк\", \"Кошка\", \"Хорек\", \"Крыса\")\n",
    "print(animals[1])\n",
    "print(animals)"
   ]
  },
  {
   "cell_type": "code",
   "execution_count": 3,
   "id": "4e260330",
   "metadata": {},
   "outputs": [
    {
     "ename": "TypeError",
     "evalue": "'tuple' object does not support item assignment",
     "output_type": "error",
     "traceback": [
      "\u001b[0;31m---------------------------------------------------------------------------\u001b[0m",
      "\u001b[0;31mTypeError\u001b[0m                                 Traceback (most recent call last)",
      "\u001b[0;32m/var/folders/4x/2537g_nd51d_lb51c66z1jzm0000gn/T/ipykernel_66370/1454883130.py\u001b[0m in \u001b[0;36m<module>\u001b[0;34m\u001b[0m\n\u001b[1;32m      1\u001b[0m \u001b[0;31m# Неудачная попытка изменить элемент кортежа\u001b[0m\u001b[0;34m\u001b[0m\u001b[0;34m\u001b[0m\u001b[0m\n\u001b[1;32m      2\u001b[0m \u001b[0manimals\u001b[0m \u001b[0;34m=\u001b[0m \u001b[0;34m(\u001b[0m\u001b[0;34m\"Хомяк\"\u001b[0m\u001b[0;34m,\u001b[0m \u001b[0;34m\"Кошка\"\u001b[0m\u001b[0;34m,\u001b[0m \u001b[0;34m\"Хорек\"\u001b[0m\u001b[0;34m,\u001b[0m \u001b[0;34m\"Крыса\"\u001b[0m\u001b[0;34m)\u001b[0m\u001b[0;34m\u001b[0m\u001b[0;34m\u001b[0m\u001b[0m\n\u001b[0;32m----> 3\u001b[0;31m \u001b[0manimals\u001b[0m\u001b[0;34m[\u001b[0m\u001b[0;36m1\u001b[0m\u001b[0;34m]\u001b[0m \u001b[0;34m=\u001b[0m \u001b[0;34m\"Собака\"\u001b[0m\u001b[0;34m\u001b[0m\u001b[0;34m\u001b[0m\u001b[0m\n\u001b[0m\u001b[1;32m      4\u001b[0m \u001b[0mprint\u001b[0m\u001b[0;34m(\u001b[0m\u001b[0manimals\u001b[0m\u001b[0;34m)\u001b[0m\u001b[0;34m\u001b[0m\u001b[0;34m\u001b[0m\u001b[0m\n",
      "\u001b[0;31mTypeError\u001b[0m: 'tuple' object does not support item assignment"
     ]
    }
   ],
   "source": [
    "# Неудачная попытка изменить элемент кортежа\n",
    "animals = (\"Хомяк\", \"Кошка\", \"Хорек\", \"Крыса\")\n",
    "animals[1] = \"Собака\"\n",
    "print(animals)"
   ]
  },
  {
   "cell_type": "markdown",
   "id": "8d40f57a",
   "metadata": {},
   "source": [
    "## Кортеж, который содержит списки"
   ]
  },
  {
   "cell_type": "code",
   "execution_count": 4,
   "id": "90e29e9d",
   "metadata": {},
   "outputs": [
    {
     "name": "stdout",
     "output_type": "stream",
     "text": [
      "('Хомяк', ['Собака'], 'Хорек', 'Крыса')\n"
     ]
    }
   ],
   "source": [
    "animals = (\"Хомяк\", [\"Кошка\"], \"Хорек\", \"Крыса\")\n",
    "\n",
    "# Меняем не кортеж, а список.\n",
    "animals[1][0] = \"Собака\"\n",
    "print(animals)"
   ]
  },
  {
   "cell_type": "markdown",
   "id": "de0ffe40",
   "metadata": {},
   "source": [
    "# Кортеж из одного элемента"
   ]
  },
  {
   "cell_type": "code",
   "execution_count": 5,
   "id": "dc3c2986",
   "metadata": {},
   "outputs": [
    {
     "name": "stdout",
     "output_type": "stream",
     "text": [
      "Никита\n",
      "35\n"
     ]
    }
   ],
   "source": [
    "# Так как в круглых скобках только один элемент, то Python будет игнорировать круглые скобки.\n",
    "name = (\"Никита\")\n",
    "age = (35)\n",
    "\n",
    "print(name)\n",
    "print(age)"
   ]
  },
  {
   "cell_type": "code",
   "execution_count": 6,
   "id": "87060720",
   "metadata": {},
   "outputs": [
    {
     "name": "stdout",
     "output_type": "stream",
     "text": [
      "('Никита',)\n",
      "(35,)\n"
     ]
    }
   ],
   "source": [
    "# Чтобы это был кортеж, нужно после значения добавить запятую\n",
    "name = (\"Никита\",)\n",
    "age = (35,)\n",
    "\n",
    "print(name)\n",
    "print(age)"
   ]
  },
  {
   "cell_type": "code",
   "execution_count": 8,
   "id": "924d4646",
   "metadata": {},
   "outputs": [
    {
     "ename": "IndexError",
     "evalue": "tuple index out of range",
     "output_type": "error",
     "traceback": [
      "\u001b[0;31m---------------------------------------------------------------------------\u001b[0m",
      "\u001b[0;31mIndexError\u001b[0m                                Traceback (most recent call last)",
      "\u001b[0;32m/var/folders/4x/2537g_nd51d_lb51c66z1jzm0000gn/T/ipykernel_66370/882257177.py\u001b[0m in \u001b[0;36m<module>\u001b[0;34m\u001b[0m\n\u001b[1;32m      4\u001b[0m \u001b[0;34m\u001b[0m\u001b[0m\n\u001b[1;32m      5\u001b[0m \u001b[0;31m# Неудачная попытка получить элемент по индексу 1 (его не существует)\u001b[0m\u001b[0;34m\u001b[0m\u001b[0;34m\u001b[0m\u001b[0m\n\u001b[0;32m----> 6\u001b[0;31m \u001b[0mprint\u001b[0m\u001b[0;34m(\u001b[0m\u001b[0mname\u001b[0m\u001b[0;34m[\u001b[0m\u001b[0;36m0\u001b[0m\u001b[0;34m]\u001b[0m\u001b[0;34m,\u001b[0m \u001b[0mname\u001b[0m\u001b[0;34m[\u001b[0m\u001b[0;36m1\u001b[0m\u001b[0;34m]\u001b[0m\u001b[0;34m)\u001b[0m\u001b[0;34m\u001b[0m\u001b[0;34m\u001b[0m\u001b[0m\n\u001b[0m\u001b[1;32m      7\u001b[0m \u001b[0mprint\u001b[0m\u001b[0;34m(\u001b[0m\u001b[0mage\u001b[0m\u001b[0;34m)\u001b[0m\u001b[0;34m\u001b[0m\u001b[0;34m\u001b[0m\u001b[0m\n",
      "\u001b[0;31mIndexError\u001b[0m: tuple index out of range"
     ]
    }
   ],
   "source": [
    "# При этом кортежи по прежнему содержат один элемент\n",
    "name = (\"Никита\",)\n",
    "age = (35,)\n",
    "\n",
    "# Неудачная попытка получить элемент по индексу 1 (его не существует)\n",
    "print(name[0], name[1])\n",
    "print(age)"
   ]
  },
  {
   "cell_type": "markdown",
   "id": "b9282983",
   "metadata": {},
   "source": [
    "## Преобразование списков и строк в кортежи\n",
    "\n",
    "Для преобразование списков и строк в кортежи нужно использовать функцию `tuple()`"
   ]
  },
  {
   "cell_type": "code",
   "execution_count": 11,
   "id": "d27e9ec9",
   "metadata": {},
   "outputs": [
    {
     "name": "stdout",
     "output_type": "stream",
     "text": [
      "('Н', 'и', 'к', 'и', 'т', 'а')\n",
      "('Хомяк', 'Кошка', 'Хорек', 'Крыса')\n"
     ]
    }
   ],
   "source": [
    "# Создаем строку\n",
    "name = \"Никита\"\n",
    "\n",
    "# Создаем список\n",
    "animals = [\"Хомяк\", \"Кошка\", \"Хорек\", \"Крыса\"]\n",
    "\n",
    "# Преобразовываем строку и список в кортежи\n",
    "name = tuple(name)\n",
    "animals = tuple(animals)\n",
    "\n",
    "# Теперь ним можно обращаться, но нельзя менять\n",
    "print(name)\n",
    "print(animals)"
   ]
  },
  {
   "cell_type": "code",
   "execution_count": null,
   "id": "34824cf6",
   "metadata": {},
   "outputs": [],
   "source": []
  }
 ],
 "metadata": {
  "kernelspec": {
   "display_name": "Python 3 (ipykernel)",
   "language": "python",
   "name": "python3"
  },
  "language_info": {
   "codemirror_mode": {
    "name": "ipython",
    "version": 3
   },
   "file_extension": ".py",
   "mimetype": "text/x-python",
   "name": "python",
   "nbconvert_exporter": "python",
   "pygments_lexer": "ipython3",
   "version": "3.9.13"
  }
 },
 "nbformat": 4,
 "nbformat_minor": 5
}
