{
 "cells": [
  {
   "cell_type": "markdown",
   "id": "26458d32",
   "metadata": {},
   "source": [
    "# Преобразование строк в списки"
   ]
  },
  {
   "cell_type": "code",
   "execution_count": 11,
   "id": "8c80aa0b",
   "metadata": {},
   "outputs": [],
   "source": [
    "phone = \"89513658483\"\n",
    "full_name = \"Иванов Андрей Петрович\"\n",
    "ip = \"127.0.0.1\""
   ]
  },
  {
   "cell_type": "markdown",
   "id": "b9ba4a66",
   "metadata": {},
   "source": [
    "## Функция `list()`\n",
    "\n",
    "С помощью функции `list()` можно преобразовать строку в список так, что каждый символ строки станет отдельным элементом списка."
   ]
  },
  {
   "cell_type": "code",
   "execution_count": 4,
   "id": "63bfaeec",
   "metadata": {},
   "outputs": [
    {
     "name": "stdout",
     "output_type": "stream",
     "text": [
      "['8', '9', '5', '1', '3', '6', '5', '8', '4', '8', '3']\n"
     ]
    }
   ],
   "source": [
    "phone_list = list(phone)\n",
    "print(phone_list)"
   ]
  },
  {
   "cell_type": "markdown",
   "id": "d7d21757",
   "metadata": {},
   "source": [
    "## Метод `.split()`\n",
    "\n",
    "Метод `.split()` разбивает строку на отдельные элементы. По умолчанию разбитие происходит по пробелам, а также табуляции и символу переноса строки."
   ]
  },
  {
   "cell_type": "code",
   "execution_count": 5,
   "id": "2496f46d",
   "metadata": {},
   "outputs": [
    {
     "name": "stdout",
     "output_type": "stream",
     "text": [
      "['Иванов', 'Андрей', 'Петрович']\n"
     ]
    }
   ],
   "source": [
    "# Разбиваем full_name на отдельные элементы, используя пробел в качестве разделителя\n",
    "fio = full_name.split()\n",
    "print(fio)"
   ]
  },
  {
   "cell_type": "code",
   "execution_count": 7,
   "id": "42e9322e",
   "metadata": {},
   "outputs": [
    {
     "name": "stdout",
     "output_type": "stream",
     "text": [
      "['Иванов', 'Андрей', 'Петрович']\n"
     ]
    }
   ],
   "source": [
    "# Даже если в строку добавить дополнительные пробелы (табуляцию и перенос строки), \n",
    "# то мы всё равно получим правильное разбитие.\n",
    "full_name = \"Иванов\\t   Андрей     \\nПетрович\"\n",
    "fio = full_name.split()\n",
    "print(fio)"
   ]
  },
  {
   "cell_type": "markdown",
   "id": "5bce282e",
   "metadata": {},
   "source": [
    "Метод `.split()` может принимать дополнительный аргумент - разделитель, с помощью которого можно разбить строку по любому символу. Однако это меняет и поведение самого метода. `.split()` без параметров объединяет все пробелы в один, а с параметрами считает их по отдельности."
   ]
  },
  {
   "cell_type": "code",
   "execution_count": 9,
   "id": "07887321",
   "metadata": {},
   "outputs": [
    {
     "name": "stdout",
     "output_type": "stream",
     "text": [
      "['Иванов\\t', '', '', 'Андрей', '', '', '', '', '\\nПетрович']\n"
     ]
    }
   ],
   "source": [
    "full_name = \"Иванов\\t   Андрей     \\nПетрович\"\n",
    "# Разбиваем по пробелу (будут учитываться все пробелы)\n",
    "fio = full_name.split(\" \")\n",
    "print(fio)"
   ]
  },
  {
   "cell_type": "code",
   "execution_count": 10,
   "id": "7edc0b5e",
   "metadata": {},
   "outputs": [
    {
     "name": "stdout",
     "output_type": "stream",
     "text": [
      "['127', '0', '0', '1']\n"
     ]
    }
   ],
   "source": [
    "# Получаем каждую часть IP-адреса по отдельности\n",
    "ip = ip.split(\".\")\n",
    "print(ip)"
   ]
  },
  {
   "cell_type": "markdown",
   "id": "3cc9bcf2",
   "metadata": {},
   "source": [
    "## Распаковка списка в отдельные переменные\n",
    "\n",
    "Распаковка списка позволяет поместить элементы списка в отдельные переменные. Главно соблюдать два правила:\n",
    "1. Количество переменных слева от присваивания должно совпадать с количеством элементов в списке;\n",
    "2. Порядок следования переменных должен совпадать с порядком следования элементов в списке."
   ]
  },
  {
   "cell_type": "code",
   "execution_count": 12,
   "id": "58a4882f",
   "metadata": {},
   "outputs": [
    {
     "name": "stdout",
     "output_type": "stream",
     "text": [
      "Фамилия: Иванов\n",
      "Имя: Андрей\n",
      "Отчество: Петрович\n"
     ]
    }
   ],
   "source": [
    "full_name = \"Иванов Андрей Петрович\"\n",
    "last_name, first_name, patronymic = full_name.split()\n",
    "\n",
    "print(\"Фамилия:\", last_name)\n",
    "print(\"Имя:\", first_name)\n",
    "print(\"Отчество:\", patronymic)"
   ]
  },
  {
   "cell_type": "code",
   "execution_count": 13,
   "id": "076885ab",
   "metadata": {},
   "outputs": [
    {
     "name": "stdout",
     "output_type": "stream",
     "text": [
      "Фамилия: Иванов\n",
      "Имя: Андрей\n",
      "Отчество: Петрович\n"
     ]
    }
   ],
   "source": [
    "# Эквивалент записи выше:\n",
    "last_name, first_name, patronymic = [\"Иванов\", \"Андрей\", \"Петрович\"]\n",
    "\n",
    "print(\"Фамилия:\", last_name)\n",
    "print(\"Имя:\", first_name)\n",
    "print(\"Отчество:\", patronymic)"
   ]
  },
  {
   "cell_type": "code",
   "execution_count": 14,
   "id": "8c6b19a4",
   "metadata": {},
   "outputs": [
    {
     "name": "stdout",
     "output_type": "stream",
     "text": [
      "Фамилия: Иванов\n",
      "Имя: Андрей\n"
     ]
    }
   ],
   "source": [
    "full_name = \"Иванов Андрей Петрович\"\n",
    "\n",
    "# Сокращаем список до двух элементов\n",
    "last_name, first_name = full_name.split()[:2]\n",
    "\n",
    "print(\"Фамилия:\", last_name)\n",
    "print(\"Имя:\", first_name)"
   ]
  },
  {
   "cell_type": "code",
   "execution_count": null,
   "id": "18e76d0c",
   "metadata": {},
   "outputs": [],
   "source": []
  }
 ],
 "metadata": {
  "kernelspec": {
   "display_name": "Python 3 (ipykernel)",
   "language": "python",
   "name": "python3"
  },
  "language_info": {
   "codemirror_mode": {
    "name": "ipython",
    "version": 3
   },
   "file_extension": ".py",
   "mimetype": "text/x-python",
   "name": "python",
   "nbconvert_exporter": "python",
   "pygments_lexer": "ipython3",
   "version": "3.9.13"
  }
 },
 "nbformat": 4,
 "nbformat_minor": 5
}
