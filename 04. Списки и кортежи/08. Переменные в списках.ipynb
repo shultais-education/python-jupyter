{
 "cells": [
  {
   "cell_type": "markdown",
   "id": "f02dd17a",
   "metadata": {},
   "source": [
    "# Переменные в списках\n",
    "\n",
    "При добавлении переменных в список, происходит копирование их значений. Но только если переменные содержат обычные значения: строки, числа, логические **True** или **False**."
   ]
  },
  {
   "cell_type": "code",
   "execution_count": 1,
   "id": "24e60b9b",
   "metadata": {},
   "outputs": [
    {
     "name": "stdout",
     "output_type": "stream",
     "text": [
      "['Иван', 'Алёна', 'Михаил', 'Сергей', 'Лиза']\n"
     ]
    }
   ],
   "source": [
    "first_name = \"Михаил\"\n",
    "names = [\"Иван\", \"Алёна\", first_name, \"Сергей\", \"Лиза\"]\n",
    "print(names)"
   ]
  },
  {
   "cell_type": "code",
   "execution_count": 2,
   "id": "239ffce4",
   "metadata": {},
   "outputs": [
    {
     "name": "stdout",
     "output_type": "stream",
     "text": [
      "['Иван', 'Алёна', 'Олег', 'Сергей', 'Лиза']\n",
      "Михаил\n"
     ]
    }
   ],
   "source": [
    "first_name = \"Михаил\"\n",
    "names = [\"Иван\", \"Алёна\", first_name, \"Сергей\", \"Лиза\"]\n",
    "\n",
    "# Изменяем второй элемент списка\n",
    "names[2] = \"Олег\"\n",
    "\n",
    "print(names)\n",
    "print(first_name)"
   ]
  },
  {
   "cell_type": "markdown",
   "id": "1b761ae6",
   "metadata": {},
   "source": [
    "## Изменение вложенных списков\n",
    "\n",
    "Если мы с помощью переменной добавляем в список другой список, то при его изменении меняется и значение в переменной."
   ]
  },
  {
   "cell_type": "code",
   "execution_count": 3,
   "id": "102cbc36",
   "metadata": {},
   "outputs": [
    {
     "name": "stdout",
     "output_type": "stream",
     "text": [
      "['Иван', 'Алёна', ['Олег'], 'Сергей', 'Лиза']\n",
      "['Олег']\n"
     ]
    }
   ],
   "source": [
    "first_name = [\"Михаил\"]\n",
    "\n",
    "# Помещаем в names вложенный список.\n",
    "names = [\"Иван\", \"Алёна\", first_name, \"Сергей\", \"Лиза\"]\n",
    "\n",
    "# Изменяем значение вложенного списка (это также влечет изменение списка first_names)\n",
    "names[2][0] = \"Олег\"\n",
    "\n",
    "print(names)\n",
    "print(first_name)"
   ]
  },
  {
   "cell_type": "code",
   "execution_count": 4,
   "id": "b0dd2886",
   "metadata": {},
   "outputs": [
    {
     "name": "stdout",
     "output_type": "stream",
     "text": [
      "['Иван', 'Алёна', ['Светлана'], 'Сергей', 'Лиза']\n",
      "['Светлана']\n"
     ]
    }
   ],
   "source": [
    "first_name = [\"Михаил\"]\n",
    "\n",
    "# Помещаем в names вложенный список.\n",
    "names = [\"Иван\", \"Алёна\", first_name, \"Сергей\", \"Лиза\"]\n",
    "\n",
    "# Изменяем значения в списке first_name также затрагивает и вложенный список в names\n",
    "first_name[0] = \"Светлана\"\n",
    "\n",
    "print(names)\n",
    "print(first_name)"
   ]
  },
  {
   "cell_type": "code",
   "execution_count": 8,
   "id": "a03e69e1",
   "metadata": {},
   "outputs": [
    {
     "name": "stdout",
     "output_type": "stream",
     "text": [
      "['Иван', 'Алёна', 'Олег', 'Сергей', 'Лиза']\n",
      "['Михаил']\n"
     ]
    }
   ],
   "source": [
    "first_name = [\"Михаил\"]\n",
    "\n",
    "# Помещаем в names вложенный список.\n",
    "names = [\"Иван\", \"Алёна\", first_name, \"Сергей\", \"Лиза\"]\n",
    "\n",
    "# Далее целиком меняем значение в списке names.\n",
    "# Это разрывает связь между names и first_name.\n",
    "names[2] = \"Олег\"\n",
    "\n",
    "print(names)\n",
    "print(first_name)"
   ]
  },
  {
   "cell_type": "code",
   "execution_count": null,
   "id": "927b04b4",
   "metadata": {},
   "outputs": [],
   "source": []
  }
 ],
 "metadata": {
  "kernelspec": {
   "display_name": "Python 3 (ipykernel)",
   "language": "python",
   "name": "python3"
  },
  "language_info": {
   "codemirror_mode": {
    "name": "ipython",
    "version": 3
   },
   "file_extension": ".py",
   "mimetype": "text/x-python",
   "name": "python",
   "nbconvert_exporter": "python",
   "pygments_lexer": "ipython3",
   "version": "3.9.13"
  }
 },
 "nbformat": 4,
 "nbformat_minor": 5
}
