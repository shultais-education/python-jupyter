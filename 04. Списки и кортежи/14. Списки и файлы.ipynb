{
 "cells": [
  {
   "cell_type": "markdown",
   "id": "f4dc9262",
   "metadata": {},
   "source": [
    "# Списки и файлы"
   ]
  },
  {
   "cell_type": "markdown",
   "id": "6a2ad7fc",
   "metadata": {},
   "source": [
    "## Создание файла из урока"
   ]
  },
  {
   "cell_type": "code",
   "execution_count": 3,
   "id": "3006a417",
   "metadata": {},
   "outputs": [],
   "source": [
    "# Код для создания файла - сперва нужно выполнить его\n",
    "with open(\"users.txt\", \"w+\") as users_file:\n",
    "    users_file.write(\"Иванов Дмитрий, 42\\nВасильва Светлана, 18\\nВарламов Семен, 22\\nШмидт Татьяна, 31\\n\" \\\n",
    "                     \"Анисимов Виталий, 22\\nАнтонов Денис, 27\")"
   ]
  },
  {
   "cell_type": "markdown",
   "id": "106ceb60",
   "metadata": {},
   "source": [
    "## Преобразование файла в список с помощью `.split()`"
   ]
  },
  {
   "cell_type": "code",
   "execution_count": 6,
   "id": "11475239",
   "metadata": {},
   "outputs": [
    {
     "name": "stdout",
     "output_type": "stream",
     "text": [
      "['Анисимов Виталий, 22', 'Антонов Денис, 27', 'Варламов Семен, 22', 'Васильва Светлана, 18', 'Иванов Дмитрий, 42', 'Шмидт Татьяна, 31']\n"
     ]
    }
   ],
   "source": [
    "users_file = open(\"users.txt\")\n",
    "\n",
    "# Помещаем каждую строку файла в отдельный элемент списка\n",
    "users = users_file.read().split(\"\\n\")\n",
    "\n",
    "# Сортируем данные\n",
    "users.sort()\n",
    "\n",
    "print(users)\n",
    "users_file.close()"
   ]
  },
  {
   "cell_type": "markdown",
   "id": "f3cc48f3",
   "metadata": {},
   "source": [
    "## Преобразование файла в список с помощью `.readlines()`\n",
    "\n",
    "Метод `.readlines()` преобразует каждую строку файла в отдельный элемент списка и при этом символ переноса строки `\\n` также попадает в строку."
   ]
  },
  {
   "cell_type": "code",
   "execution_count": 7,
   "id": "aa4ce550",
   "metadata": {},
   "outputs": [
    {
     "name": "stdout",
     "output_type": "stream",
     "text": [
      "['Иванов Дмитрий, 42\\n', 'Васильва Светлана, 18\\n', 'Варламов Семен, 22\\n', 'Шмидт Татьяна, 31\\n', 'Анисимов Виталий, 22\\n', 'Антонов Денис, 27']\n"
     ]
    }
   ],
   "source": [
    "users_file = open(\"users.txt\")\n",
    "\n",
    "# Помещаем каждую строку файла в отдельный элемент списка\n",
    "users = users_file.readlines()\n",
    "\n",
    "print(users)\n",
    "users_file.close()"
   ]
  },
  {
   "cell_type": "code",
   "execution_count": null,
   "id": "62801296",
   "metadata": {},
   "outputs": [],
   "source": []
  }
 ],
 "metadata": {
  "kernelspec": {
   "display_name": "Python 3 (ipykernel)",
   "language": "python",
   "name": "python3"
  },
  "language_info": {
   "codemirror_mode": {
    "name": "ipython",
    "version": 3
   },
   "file_extension": ".py",
   "mimetype": "text/x-python",
   "name": "python",
   "nbconvert_exporter": "python",
   "pygments_lexer": "ipython3",
   "version": "3.9.13"
  }
 },
 "nbformat": 4,
 "nbformat_minor": 5
}
