{
 "cells": [
  {
   "cell_type": "markdown",
   "id": "a64206eb",
   "metadata": {},
   "source": [
    "# Преобразование списков в строки"
   ]
  },
  {
   "cell_type": "code",
   "execution_count": 1,
   "id": "29eb037a",
   "metadata": {},
   "outputs": [],
   "source": [
    "products = [\"молоко\", \"масло\", \"сметана\", \"сливки\", \"кефир\", \"сыр\"]"
   ]
  },
  {
   "cell_type": "markdown",
   "id": "38100c1d",
   "metadata": {},
   "source": [
    "## Метод `.join()`\n",
    "\n",
    "Метод `.join()` позволяет склеивать элементы списка в одну строку с помощью соединителя.<br>\n",
    "Соединитель - это строка, которая будет помещаться между всеми элементами списка.<br>\n",
    "Преобразовать в строку можно только список, который содержит строки."
   ]
  },
  {
   "cell_type": "code",
   "execution_count": 2,
   "id": "50a6e170",
   "metadata": {},
   "outputs": [
    {
     "name": "stdout",
     "output_type": "stream",
     "text": [
      "молоко, масло, сметана, сливки, кефир, сыр\n"
     ]
    }
   ],
   "source": [
    "# Создаем соединитель \", \" и применяем к нему метод .join()\n",
    "s_products = \", \".join(products)\n",
    "print(s_products)"
   ]
  },
  {
   "cell_type": "code",
   "execution_count": 3,
   "id": "48b690ac",
   "metadata": {},
   "outputs": [
    {
     "name": "stdout",
     "output_type": "stream",
     "text": [
      "молоко\n",
      "масло\n",
      "сметана\n",
      "сливки\n",
      "кефир\n",
      "сыр\n"
     ]
    }
   ],
   "source": [
    "# Создаем соединитель \"\\n\" и применяем к нему метод .join()\n",
    "s_products = \"\\n\".join(products)\n",
    "print(s_products)"
   ]
  },
  {
   "cell_type": "markdown",
   "id": "ccf242de",
   "metadata": {},
   "source": [
    "## Разбиваем и склеиваем"
   ]
  },
  {
   "cell_type": "code",
   "execution_count": 6,
   "id": "318e60c0",
   "metadata": {},
   "outputs": [
    {
     "name": "stdout",
     "output_type": "stream",
     "text": [
      "['п', 'р', 'о', 'д', 'у', 'к', 'т', 'ы']\n",
      "Продукты\n"
     ]
    }
   ],
   "source": [
    "# Создаем строку\n",
    "name = \"продукты\"\n",
    "\n",
    "# Преобразуем строку в список\n",
    "name = list(name)\n",
    "\n",
    "# Выводим список\n",
    "print(name)\n",
    "\n",
    "# Меняем в списке нулевой элемент\n",
    "name[0] = \"П\"\n",
    "\n",
    "# Склеиваем список обратно в строку\n",
    "name = \"\".join(name)\n",
    "\n",
    "# Выводим строку\n",
    "print(name)"
   ]
  },
  {
   "cell_type": "code",
   "execution_count": 8,
   "id": "a0ce2439",
   "metadata": {},
   "outputs": [
    {
     "name": "stdout",
     "output_type": "stream",
     "text": [
      "П Р О Д У К Т Ы\n"
     ]
    }
   ],
   "source": [
    "name = [\"п\", \"р\", \"о\", \"д\", \"у\", \"к\", \"т\", \"ы\"]\n",
    "# Склейка через пробел + приводим строку к верхнему регистру\n",
    "print(\" \".join(name).upper())"
   ]
  },
  {
   "cell_type": "code",
   "execution_count": null,
   "id": "3d9b2121",
   "metadata": {},
   "outputs": [],
   "source": []
  }
 ],
 "metadata": {
  "kernelspec": {
   "display_name": "Python 3 (ipykernel)",
   "language": "python",
   "name": "python3"
  },
  "language_info": {
   "codemirror_mode": {
    "name": "ipython",
    "version": 3
   },
   "file_extension": ".py",
   "mimetype": "text/x-python",
   "name": "python",
   "nbconvert_exporter": "python",
   "pygments_lexer": "ipython3",
   "version": "3.9.13"
  }
 },
 "nbformat": 4,
 "nbformat_minor": 5
}
