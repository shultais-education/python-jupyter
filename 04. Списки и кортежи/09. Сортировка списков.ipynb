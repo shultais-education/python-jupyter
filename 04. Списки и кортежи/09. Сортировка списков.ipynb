{
 "cells": [
  {
   "cell_type": "markdown",
   "id": "8d5eaf1e",
   "metadata": {},
   "source": [
    "# Сортировка списков"
   ]
  },
  {
   "cell_type": "code",
   "execution_count": 2,
   "id": "8fbddb6f",
   "metadata": {},
   "outputs": [
    {
     "name": "stdout",
     "output_type": "stream",
     "text": [
      "['Москва', 'Санкт-Петербург', 'Новосибирск', 'Калининград', 'Владивосток', 'Киев', 'Минск']\n",
      "[12000000, 5300000, 1600000, 480000, 605000, 2900000, 2000000]\n"
     ]
    }
   ],
   "source": [
    "cities = [\"Москва\", \"Санкт-Петербург\", \"Новосибирск\", \"Калининград\", \"Владивосток\", \"Киев\", \"Минск\"]\n",
    "populations = [12000000, 5300000, 1600000, 480000, 605000, 2900000, 2000000]\n",
    "\n",
    "# Выводим данные\n",
    "print(cities)\n",
    "print(populations)"
   ]
  },
  {
   "cell_type": "markdown",
   "id": "21f6f30e",
   "metadata": {},
   "source": [
    "## Метод `.sort()`\n",
    "\n",
    "Метод `.sort()` производит сортировку списков на месте (внутри текущего списка) и не возвращает значения. "
   ]
  },
  {
   "cell_type": "code",
   "execution_count": 4,
   "id": "3afa5a64",
   "metadata": {},
   "outputs": [
    {
     "name": "stdout",
     "output_type": "stream",
     "text": [
      "['Владивосток', 'Калининград', 'Киев', 'Минск', 'Москва', 'Новосибирск', 'Санкт-Петербург']\n",
      "[480000, 605000, 1600000, 2000000, 2900000, 5300000, 12000000]\n"
     ]
    }
   ],
   "source": [
    "cities = [\"Москва\", \"Санкт-Петербург\", \"Новосибирск\", \"Калининград\", \"Владивосток\", \"Киев\", \"Минск\"]\n",
    "populations = [12000000, 5300000, 1600000, 480000, 605000, 2900000, 2000000]\n",
    "\n",
    "# Сортируем города по алфавиту\n",
    "cities.sort()\n",
    "\n",
    "# Сортируем население по возрастанию\n",
    "populations.sort()\n",
    "\n",
    "# Выводим данные\n",
    "print(cities)\n",
    "print(populations)"
   ]
  },
  {
   "cell_type": "markdown",
   "id": "c92ef2b1",
   "metadata": {},
   "source": [
    "### Сортировка списка строк (по алфавиту)"
   ]
  },
  {
   "cell_type": "code",
   "execution_count": 6,
   "id": "5b08cf95",
   "metadata": {},
   "outputs": [
    {
     "name": "stdout",
     "output_type": "stream",
     "text": [
      "['Владивосток', 'Калининград', 'Киев', 'Минск', 'Новосибирск', 'Санкт-Петербург', 'москва']\n"
     ]
    }
   ],
   "source": [
    "cities = [\"москва\", \"Санкт-Петербург\", \"Новосибирск\", \"Калининград\", \"Владивосток\", \"Киев\", \"Минск\"]\n",
    "\n",
    "# Сортируем города по алфавиту.\n",
    "# \"москва\" попадает в конец, так как строчная \"м\" в таблице символово находится дальше, чем любая заглавная буква.\n",
    "cities.sort()\n",
    "print(cities)"
   ]
  },
  {
   "cell_type": "code",
   "execution_count": 7,
   "id": "05843380",
   "metadata": {},
   "outputs": [
    {
     "name": "stdout",
     "output_type": "stream",
     "text": [
      "['Владивосток', 'Калининград', 'Киев', 'Минск', 'москва', 'Новосибирск', 'Санкт-Петербург']\n"
     ]
    }
   ],
   "source": [
    "cities = [\"москва\", \"Санкт-Петербург\", \"Новосибирск\", \"Калининград\", \"Владивосток\", \"Киев\", \"Минск\"]\n",
    "\n",
    "# Сортируем города по алфавиту с предварительным преобразованием к верхнему регистру.\n",
    "cities.sort(key=str.upper)\n",
    "print(cities)"
   ]
  },
  {
   "cell_type": "code",
   "execution_count": 8,
   "id": "16dcb1d2",
   "metadata": {},
   "outputs": [
    {
     "name": "stdout",
     "output_type": "stream",
     "text": [
      "['Киев', 'Минск', 'москва', 'Новосибирск', 'Калининград', 'Владивосток', 'Санкт-Петербург']\n"
     ]
    }
   ],
   "source": [
    "cities = [\"москва\", \"Санкт-Петербург\", \"Новосибирск\", \"Калининград\", \"Владивосток\", \"Киев\", \"Минск\"]\n",
    "\n",
    "# Сортируем города по длине строки\n",
    "cities.sort(key=len)\n",
    "print(cities)"
   ]
  },
  {
   "cell_type": "code",
   "execution_count": 9,
   "id": "7138c5d0",
   "metadata": {},
   "outputs": [
    {
     "name": "stdout",
     "output_type": "stream",
     "text": [
      "['Санкт-Петербург', 'Новосибирск', 'Калининград', 'Владивосток', 'москва', 'Минск', 'Киев']\n"
     ]
    }
   ],
   "source": [
    "cities = [\"москва\", \"Санкт-Петербург\", \"Новосибирск\", \"Калининград\", \"Владивосток\", \"Киев\", \"Минск\"]\n",
    "\n",
    "# Сортируем города по длине строки в обратном порядке\n",
    "cities.sort(key=len, reverse=True)\n",
    "print(cities)"
   ]
  },
  {
   "cell_type": "code",
   "execution_count": 10,
   "id": "aeec7dc3",
   "metadata": {},
   "outputs": [
    {
     "name": "stdout",
     "output_type": "stream",
     "text": [
      "[12000000, 5300000, 2900000, 2000000, 1600000, 605000, 480000]\n"
     ]
    }
   ],
   "source": [
    "populations = [12000000, 5300000, 1600000, 480000, 605000, 2900000, 2000000]\n",
    "\n",
    "# Сортируем население по убыванию\n",
    "populations.sort(reverse=True)\n",
    "\n",
    "# Выводим данные\n",
    "print(populations)"
   ]
  },
  {
   "cell_type": "code",
   "execution_count": 11,
   "id": "c570d84c",
   "metadata": {},
   "outputs": [
    {
     "name": "stdout",
     "output_type": "stream",
     "text": [
      "None\n"
     ]
    }
   ],
   "source": [
    "cities = [\"москва\", \"Санкт-Петербург\", \"Новосибирск\", \"Калининград\", \"Владивосток\", \"Киев\", \"Минск\"]\n",
    "\n",
    "# Ошибка использования метода .sort() - попытка присвоить результат его работы обратно в список\n",
    "cities = cities.sort(key=len, reverse=True)\n",
    "\n",
    "# Выводим данные\n",
    "print(cities)"
   ]
  },
  {
   "cell_type": "markdown",
   "id": "70593e5d",
   "metadata": {},
   "source": [
    "## Функция `sorted()`\n",
    "\n",
    "Функция `sorted()` также сортирует список, но возвращает значение. Фактически она делает **копию списка**, которую сотрирует и возвращает."
   ]
  },
  {
   "cell_type": "code",
   "execution_count": 13,
   "id": "6374b3bd",
   "metadata": {},
   "outputs": [
    {
     "name": "stdout",
     "output_type": "stream",
     "text": [
      "['Санкт-Петербург', 'Новосибирск', 'Калининград', 'Владивосток', 'москва', 'Минск', 'Киев']\n"
     ]
    }
   ],
   "source": [
    "cities = [\"москва\", \"Санкт-Петербург\", \"Новосибирск\", \"Калининград\", \"Владивосток\", \"Киев\", \"Минск\"]\n",
    "\n",
    "# Сортируем список с помощью функции sorted\n",
    "cities = sorted(cities, key=len, reverse=True)\n",
    "\n",
    "# Выводим данные\n",
    "print(cities)"
   ]
  },
  {
   "cell_type": "code",
   "execution_count": 14,
   "id": "9a0d90f6",
   "metadata": {},
   "outputs": [
    {
     "name": "stdout",
     "output_type": "stream",
     "text": [
      "['москва', 'Санкт-Петербург', 'Новосибирск', 'Калининград', 'Владивосток', 'Киев', 'Минск']\n",
      "['Санкт-Петербург', 'Новосибирск', 'Калининград', 'Владивосток', 'москва', 'Минск', 'Киев']\n"
     ]
    }
   ],
   "source": [
    "cities = [\"москва\", \"Санкт-Петербург\", \"Новосибирск\", \"Калининград\", \"Владивосток\", \"Киев\", \"Минск\"]\n",
    "\n",
    "# Сортируем список с помощью функции sorted\n",
    "# Исходный список cities не меняется. Создается его копия, которая сортируется\n",
    "# и затем присваивается в переменную sorted_cities\n",
    "sorted_cities = sorted(cities, key=len, reverse=True)\n",
    "\n",
    "# Выводим данные\n",
    "print(cities)\n",
    "print(sorted_cities)"
   ]
  },
  {
   "cell_type": "code",
   "execution_count": null,
   "id": "a75f6204",
   "metadata": {},
   "outputs": [],
   "source": []
  }
 ],
 "metadata": {
  "kernelspec": {
   "display_name": "Python 3 (ipykernel)",
   "language": "python",
   "name": "python3"
  },
  "language_info": {
   "codemirror_mode": {
    "name": "ipython",
    "version": 3
   },
   "file_extension": ".py",
   "mimetype": "text/x-python",
   "name": "python",
   "nbconvert_exporter": "python",
   "pygments_lexer": "ipython3",
   "version": "3.9.13"
  }
 },
 "nbformat": 4,
 "nbformat_minor": 5
}
