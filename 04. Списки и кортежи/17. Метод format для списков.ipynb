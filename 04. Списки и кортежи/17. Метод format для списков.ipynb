{
 "cells": [
  {
   "cell_type": "markdown",
   "id": "15a07f7c",
   "metadata": {},
   "source": [
    "# Метод `.format()` для списков"
   ]
  },
  {
   "cell_type": "code",
   "execution_count": 1,
   "id": "6a293259",
   "metadata": {},
   "outputs": [],
   "source": [
    "# Импортируем функцию для работы с датой\n",
    "from datetime import date\n",
    "\n",
    "# Получаем текущую дату\n",
    "today = date.today()\n",
    "\n",
    "# Формируем список из разных элементов: строка, число, дата\n",
    "data = [\"ОЛ-17.12\", 12000, today]\n",
    "\n",
    "# Формируем шаблон со спецификаторами\n",
    "product_template = \"Счет: {}\\n\" \\\n",
    "                   \"Сумма: {}\\n\" \\\n",
    "                   \"Дата: {}\""
   ]
  },
  {
   "cell_type": "markdown",
   "id": "a12d6ed3",
   "metadata": {},
   "source": [
    "## Передача элементов списка по индексам"
   ]
  },
  {
   "cell_type": "code",
   "execution_count": 4,
   "id": "8b33c7fc",
   "metadata": {},
   "outputs": [
    {
     "name": "stdout",
     "output_type": "stream",
     "text": [
      "Счет: ОЛ-17.12\n",
      "Сумма: 12000\n",
      "Дата: 2022-11-29\n"
     ]
    }
   ],
   "source": [
    "product_str = product_template.format(data[0], data[1], data[2])\n",
    "print(product_str)"
   ]
  },
  {
   "cell_type": "markdown",
   "id": "45556138",
   "metadata": {},
   "source": [
    "## Передача списка в шаблон"
   ]
  },
  {
   "cell_type": "code",
   "execution_count": 5,
   "id": "53092ba2",
   "metadata": {},
   "outputs": [
    {
     "name": "stdout",
     "output_type": "stream",
     "text": [
      "Счет: ОЛ-17.12\n",
      "Сумма: 12000\n",
      "Дата: 2022-11-29\n"
     ]
    }
   ],
   "source": [
    "# Формируем шаблон со спецификаторами - список с индексами\n",
    "product_template = \"Счет: {d[0]}\\n\" \\\n",
    "                   \"Сумма: {d[1]}\\n\" \\\n",
    "                   \"Дата: {d[2]}\"\n",
    "\n",
    "# Передаем список data в шаблон под псевдонимом d\n",
    "product_str = product_template.format(d=data)\n",
    "print(product_str)"
   ]
  },
  {
   "cell_type": "code",
   "execution_count": 6,
   "id": "6ee215c7",
   "metadata": {},
   "outputs": [
    {
     "name": "stdout",
     "output_type": "stream",
     "text": [
      "Счет: ОЛ-17.12\n",
      "Сумма: 12000\n",
      "Дата: 29.11.2022\n"
     ]
    }
   ],
   "source": [
    "# Формируем шаблон со спецификаторами - список с индексами + форматирование даты\n",
    "product_template = \"Счет: {d[0]}\\n\" \\\n",
    "                   \"Сумма: {d[1]}\\n\" \\\n",
    "                   \"Дата: {d[2]:%d.%m.%Y}\"\n",
    "\n",
    "# Передаем список data в шаблон под псевдонимом d\n",
    "product_str = product_template.format(d=data)\n",
    "print(product_str)"
   ]
  },
  {
   "cell_type": "markdown",
   "id": "b165af8f",
   "metadata": {},
   "source": [
    "## Распаковка списка"
   ]
  },
  {
   "cell_type": "code",
   "execution_count": 8,
   "id": "37baed44",
   "metadata": {},
   "outputs": [
    {
     "name": "stdout",
     "output_type": "stream",
     "text": [
      "Счет: ОЛ-17.12\n",
      "Сумма: 12000\n",
      "Дата: 29.11.2022\n"
     ]
    }
   ],
   "source": [
    "# Формируем шаблон со спецификаторами\n",
    "product_template = \"Счет: {}\\n\" \\\n",
    "                   \"Сумма: {}\\n\" \\\n",
    "                   \"Дата: {:%d.%m.%Y}\"\n",
    "\n",
    "# Передаем список data в шаблон\n",
    "# Такая запись равносильна .format(\"ОЛ-17.12\", 12000, today)\n",
    "product_str = product_template.format(*data)\n",
    "print(product_str)"
   ]
  },
  {
   "cell_type": "code",
   "execution_count": 9,
   "id": "dd433e8f",
   "metadata": {},
   "outputs": [
    {
     "name": "stdout",
     "output_type": "stream",
     "text": [
      "Счет: 12000\n",
      "Сумма: ОЛ-17.12\n",
      "Дата: 29.11.2022\n"
     ]
    }
   ],
   "source": [
    "# Формируем шаблон со спецификаторами, расставляем порядок элементов вручную.\n",
    "product_template = \"Счет: {1}\\n\" \\\n",
    "                   \"Сумма: {0}\\n\" \\\n",
    "                   \"Дата: {2:%d.%m.%Y}\"\n",
    "\n",
    "# Передаем список data в шаблон\n",
    "product_str = product_template.format(*data)\n",
    "print(product_str)"
   ]
  },
  {
   "cell_type": "code",
   "execution_count": null,
   "id": "9a7a0035",
   "metadata": {},
   "outputs": [],
   "source": []
  }
 ],
 "metadata": {
  "kernelspec": {
   "display_name": "Python 3 (ipykernel)",
   "language": "python",
   "name": "python3"
  },
  "language_info": {
   "codemirror_mode": {
    "name": "ipython",
    "version": 3
   },
   "file_extension": ".py",
   "mimetype": "text/x-python",
   "name": "python",
   "nbconvert_exporter": "python",
   "pygments_lexer": "ipython3",
   "version": "3.9.13"
  }
 },
 "nbformat": 4,
 "nbformat_minor": 5
}
