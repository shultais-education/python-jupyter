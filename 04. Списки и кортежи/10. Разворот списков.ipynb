{
 "cells": [
  {
   "cell_type": "markdown",
   "id": "9de99c5b",
   "metadata": {},
   "source": [
    "# Разворот списков"
   ]
  },
  {
   "cell_type": "code",
   "execution_count": 1,
   "id": "9a1c467b",
   "metadata": {},
   "outputs": [
    {
     "name": "stdout",
     "output_type": "stream",
     "text": [
      "['Москва', 'Санкт-Петербург', 'Новосибирск', 'Калининград', 'Владивосток', 'Киев', 'Минск']\n",
      "[12000000, 5300000, 1600000, 480000, 605000, 2900000, 2000000]\n"
     ]
    }
   ],
   "source": [
    "cities = [\"Москва\", \"Санкт-Петербург\", \"Новосибирск\", \"Калининград\", \"Владивосток\", \"Киев\", \"Минск\"]\n",
    "populations = [12000000, 5300000, 1600000, 480000, 605000, 2900000, 2000000]\n",
    "\n",
    "# Выводим данные\n",
    "print(cities)\n",
    "print(populations)"
   ]
  },
  {
   "cell_type": "markdown",
   "id": "bc67f4ae",
   "metadata": {},
   "source": [
    "## Метод `.reverse()`\n",
    "\n",
    "Метод `.reverse()` разворачивает список на месте (меняет элементы местами) без возврата значения."
   ]
  },
  {
   "cell_type": "code",
   "execution_count": 3,
   "id": "407e245b",
   "metadata": {},
   "outputs": [
    {
     "name": "stdout",
     "output_type": "stream",
     "text": [
      "['Минск', 'Киев', 'Владивосток', 'Калининград', 'Новосибирск', 'Санкт-Петербург', 'Москва']\n"
     ]
    }
   ],
   "source": [
    "cities = [\"Москва\", \"Санкт-Петербург\", \"Новосибирск\", \"Калининград\", \"Владивосток\", \"Киев\", \"Минск\"]\n",
    "\n",
    "# Разворатичиваем список городов\n",
    "cities.reverse()\n",
    "\n",
    "# Выводим данные\n",
    "print(cities)"
   ]
  },
  {
   "cell_type": "markdown",
   "id": "71569144",
   "metadata": {},
   "source": [
    "## Функция `reversed()`\n",
    "\n",
    "Функция `reversed()` создает развернутую копию исходного списка. При этом она возвращает не список, а его итератор. Чтобы получить из итератора список, нужно дополнительно обернуть `reversed()` в функцию `list()`."
   ]
  },
  {
   "cell_type": "code",
   "execution_count": 5,
   "id": "aeafd7ce",
   "metadata": {},
   "outputs": [
    {
     "name": "stdout",
     "output_type": "stream",
     "text": [
      "[12000000, 5300000, 1600000, 480000, 605000, 2900000, 2000000]\n",
      "[2000000, 2900000, 605000, 480000, 1600000, 5300000, 12000000]\n"
     ]
    }
   ],
   "source": [
    "populations = [12000000, 5300000, 1600000, 480000, 605000, 2900000, 2000000]\n",
    "\n",
    "# Создаем развернутую копию списка:\n",
    "reversed_populations = list(reversed(populations))\n",
    "\n",
    "# Выводим данные\n",
    "print(populations)\n",
    "print(reversed_populations)"
   ]
  },
  {
   "cell_type": "markdown",
   "id": "ad752e23",
   "metadata": {},
   "source": [
    "## Срез `[::-1]`\n",
    "\n",
    "Срез `[::-1]` фактически означает \"получить полную копию списка в обратном порядке\"."
   ]
  },
  {
   "cell_type": "code",
   "execution_count": 6,
   "id": "c996ae43",
   "metadata": {},
   "outputs": [
    {
     "name": "stdout",
     "output_type": "stream",
     "text": [
      "[12000000, 5300000, 1600000, 480000, 605000, 2900000, 2000000]\n",
      "[2000000, 2900000, 605000, 480000, 1600000, 5300000, 12000000]\n",
      "[12000000, 5300000, 1600000, 480000, 605000, 2900000, 2000000]\n"
     ]
    }
   ],
   "source": [
    "populations = [12000000, 5300000, 1600000, 480000, 605000, 2900000, 2000000]\n",
    "\n",
    "# Создаем развернутую копию списка:\n",
    "reversed_populations = list(reversed(populations))\n",
    "\n",
    "# Создаем еще одну развернутую копию списка с помощью среза\n",
    "reversed_reversed_populations = reversed_populations[::-1]\n",
    "\n",
    "# Выводим данные\n",
    "print(populations)\n",
    "print(reversed_populations)\n",
    "print(reversed_reversed_populations)"
   ]
  },
  {
   "cell_type": "code",
   "execution_count": null,
   "id": "bad72fb3",
   "metadata": {},
   "outputs": [],
   "source": []
  }
 ],
 "metadata": {
  "kernelspec": {
   "display_name": "Python 3 (ipykernel)",
   "language": "python",
   "name": "python3"
  },
  "language_info": {
   "codemirror_mode": {
    "name": "ipython",
    "version": 3
   },
   "file_extension": ".py",
   "mimetype": "text/x-python",
   "name": "python",
   "nbconvert_exporter": "python",
   "pygments_lexer": "ipython3",
   "version": "3.9.13"
  }
 },
 "nbformat": 4,
 "nbformat_minor": 5
}
