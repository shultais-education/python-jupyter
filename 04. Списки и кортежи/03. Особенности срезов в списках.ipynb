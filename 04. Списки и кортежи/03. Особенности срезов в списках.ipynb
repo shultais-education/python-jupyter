{
 "cells": [
  {
   "cell_type": "markdown",
   "id": "f5ddc7e9",
   "metadata": {},
   "source": [
    "# Особенности срезов в списках\n",
    "\n",
    "Списки как и строки поддерживают механизм срезов, с помощью которых можно получить часть списка.<br>\n",
    "Срезы всегда возвращают списки - **копии** исходного списка.<br>\n",
    "С помощью срезов можно не только получать данные, но и изменять их, а также удалять."
   ]
  },
  {
   "cell_type": "code",
   "execution_count": 2,
   "id": "9637068e",
   "metadata": {},
   "outputs": [
    {
     "name": "stdout",
     "output_type": "stream",
     "text": [
      "Апельсин\n"
     ]
    }
   ],
   "source": [
    "fruits = [\"Банан\", \"Яблоко\", \"Апельсин\", \"Ананас\", \"Груша\", \"Мандарин\", \"Киви\"]\n",
    "\n",
    "# Получаем элемент с индексом 2\n",
    "print(fruits[2])"
   ]
  },
  {
   "cell_type": "code",
   "execution_count": 3,
   "id": "b6bfc202",
   "metadata": {},
   "outputs": [
    {
     "name": "stdout",
     "output_type": "stream",
     "text": [
      "['Апельсин', 'Ананас', 'Груша']\n"
     ]
    }
   ],
   "source": [
    "# Получаем срез из трёх фруктов, начиная со 2-го и заканчивая 5-м (не включая)\n",
    "print(fruits[2:5])"
   ]
  },
  {
   "cell_type": "markdown",
   "id": "93cf1701",
   "metadata": {},
   "source": [
    "## Изменение списка"
   ]
  },
  {
   "cell_type": "code",
   "execution_count": 4,
   "id": "c0ed15b7",
   "metadata": {},
   "outputs": [
    {
     "name": "stdout",
     "output_type": "stream",
     "text": [
      "['Банан', 'Яблоко', 'Апельсин', 'Лимон', 'Груша', 'Мандарин', 'Киви']\n"
     ]
    }
   ],
   "source": [
    "fruits = [\"Банан\", \"Яблоко\", \"Апельсин\", \"Ананас\", \"Груша\", \"Мандарин\", \"Киви\"]\n",
    "\n",
    "# Меняем элемент с индексом 3\n",
    "fruits[3] = \"Лимон\"\n",
    "print(fruits)"
   ]
  },
  {
   "cell_type": "markdown",
   "id": "46faeae1",
   "metadata": {},
   "source": [
    "### Замена нескольких элементов"
   ]
  },
  {
   "cell_type": "code",
   "execution_count": 19,
   "id": "c1467f0a",
   "metadata": {},
   "outputs": [
    {
     "name": "stdout",
     "output_type": "stream",
     "text": [
      "['Банан', 'Яблоко', 'Апельсин', 'Лимон', 'Грейпфрут', 'Лайм', 'Персик', 'Мандарин', 'Киви']\n"
     ]
    }
   ],
   "source": [
    "fruits = [\"Банан\", \"Яблоко\", \"Апельсин\", \"Ананас\", \"Груша\", \"Мандарин\", \"Киви\"]\n",
    "\n",
    "# Меняем два элемента на четыре (происходит увеличение списка)\n",
    "fruits[3:5] = [\"Лимон\", \"Грейпфрут\", \"Лайм\", \"Персик\"]\n",
    "print(fruits)"
   ]
  },
  {
   "cell_type": "code",
   "execution_count": 20,
   "id": "6caf54e4",
   "metadata": {},
   "outputs": [
    {
     "name": "stdout",
     "output_type": "stream",
     "text": [
      "['Банан', 'Яблоко', 'Апельсин', 'Лимон', 'Мандарин', 'Киви']\n"
     ]
    }
   ],
   "source": [
    "fruits = [\"Банан\", \"Яблоко\", \"Апельсин\", \"Ананас\", \"Груша\", \"Мандарин\", \"Киви\"]\n",
    "\n",
    "# Меняем два элемента на один (происходит уменьшение списка)\n",
    "fruits[3:5] = [\"Лимон\"]\n",
    "print(fruits)"
   ]
  },
  {
   "cell_type": "code",
   "execution_count": 9,
   "id": "9eee00ae",
   "metadata": {},
   "outputs": [
    {
     "name": "stdout",
     "output_type": "stream",
     "text": [
      "['Банан', 'Яблоко', 'Апельсин', 'Л', 'и', 'м', 'о', 'н', 'Мандарин', 'Киви']\n"
     ]
    }
   ],
   "source": [
    "fruits = [\"Банан\", \"Яблоко\", \"Апельсин\", \"Ананас\", \"Груша\", \"Мандарин\", \"Киви\"]\n",
    "\n",
    "# Ошибка обновления данных в списке\n",
    "# Меняем 2 элемента на строку, которая будет разбира на 5 отдельных элементов [\"Л\", \"и\", \"м\", \"о\", \"н\"]\n",
    "fruits[3:5] = \"Лимон\"\n",
    "print(fruits)"
   ]
  },
  {
   "cell_type": "code",
   "execution_count": 13,
   "id": "eb89b4b3",
   "metadata": {},
   "outputs": [
    {
     "name": "stdout",
     "output_type": "stream",
     "text": [
      "['Банан', 'Яблоко', 'Апельсин', 'Ананас', 'Лимон', 'Лайм', 'Мандарин', 'Киви']\n"
     ]
    }
   ],
   "source": [
    "fruits = [\"Банан\", \"Яблоко\", \"Апельсин\", \"Ананас\", \"Груша\", \"Мандарин\", \"Киви\"]\n",
    "\n",
    "# Замена одного элемента на позиции 4\n",
    "fruits[4:5] = [\"Лимон\", \"Лайм\"]\n",
    "print(fruits)"
   ]
  },
  {
   "cell_type": "markdown",
   "id": "19fcc4dd",
   "metadata": {},
   "source": [
    "### Удаление нескольких элементов"
   ]
  },
  {
   "cell_type": "code",
   "execution_count": 10,
   "id": "e716f7c2",
   "metadata": {},
   "outputs": [
    {
     "name": "stdout",
     "output_type": "stream",
     "text": [
      "['Банан', 'Яблоко', 'Апельсин', 'Мандарин', 'Киви']\n"
     ]
    }
   ],
   "source": [
    "fruits = [\"Банан\", \"Яблоко\", \"Апельсин\", \"Ананас\", \"Груша\", \"Мандарин\", \"Киви\"]\n",
    "\n",
    "# Вариант 1: присваиваем срезу пустой список\n",
    "fruits[3:5] = []\n",
    "print(fruits)"
   ]
  },
  {
   "cell_type": "code",
   "execution_count": 12,
   "id": "b7859e97",
   "metadata": {},
   "outputs": [
    {
     "name": "stdout",
     "output_type": "stream",
     "text": [
      "['Банан', 'Яблоко', 'Апельсин', 'Мандарин', 'Киви']\n"
     ]
    }
   ],
   "source": [
    "fruits = [\"Банан\", \"Яблоко\", \"Апельсин\", \"Ананас\", \"Груша\", \"Мандарин\", \"Киви\"]\n",
    "\n",
    "# Вариант 2: используем инструкцию del слева от среза\n",
    "del fruits[3:5]\n",
    "print(fruits)"
   ]
  },
  {
   "cell_type": "markdown",
   "id": "f56bed2a",
   "metadata": {},
   "source": [
    "### Расширение списка"
   ]
  },
  {
   "cell_type": "code",
   "execution_count": 15,
   "id": "286e6d72",
   "metadata": {},
   "outputs": [
    {
     "name": "stdout",
     "output_type": "stream",
     "text": [
      "['Банан', 'Яблоко', 'Апельсин', 'Ананас', 'Лимон', 'Лайм', 'Груша', 'Мандарин', 'Киви']\n"
     ]
    }
   ],
   "source": [
    "fruits = [\"Банан\", \"Яблоко\", \"Апельсин\", \"Ананас\", \"Груша\", \"Мандарин\", \"Киви\"]\n",
    "\n",
    "# Вставка двух элементов начиная с 4-го индекса (без замены)\n",
    "fruits[4:4] = [\"Лимон\", \"Лайм\"]\n",
    "print(fruits)"
   ]
  },
  {
   "cell_type": "code",
   "execution_count": 18,
   "id": "a61281ac",
   "metadata": {},
   "outputs": [
    {
     "name": "stdout",
     "output_type": "stream",
     "text": [
      "['Банан', 'Яблоко', 'Апельсин', 'Ананас', ['Лимон', 'Лайм'], 'Мандарин', 'Киви']\n",
      "['Лимон', 'Лайм']\n"
     ]
    }
   ],
   "source": [
    "fruits = [\"Банан\", \"Яблоко\", \"Апельсин\", \"Ананас\", \"Груша\", \"Мандарин\", \"Киви\"]\n",
    "\n",
    "# Ошибка!\n",
    "# Вставка среза из двух элементов элементов на 4-ю позицию (вместо Груши)\n",
    "fruits[4] = [\"Лимон\", \"Лайм\"]\n",
    "print(fruits)\n",
    "\n",
    "# Получаем вложенный список\n",
    "print(fruits[4])  "
   ]
  },
  {
   "cell_type": "code",
   "execution_count": null,
   "id": "af77f64d",
   "metadata": {},
   "outputs": [],
   "source": []
  }
 ],
 "metadata": {
  "kernelspec": {
   "display_name": "Python 3 (ipykernel)",
   "language": "python",
   "name": "python3"
  },
  "language_info": {
   "codemirror_mode": {
    "name": "ipython",
    "version": 3
   },
   "file_extension": ".py",
   "mimetype": "text/x-python",
   "name": "python",
   "nbconvert_exporter": "python",
   "pygments_lexer": "ipython3",
   "version": "3.9.13"
  }
 },
 "nbformat": 4,
 "nbformat_minor": 5
}
