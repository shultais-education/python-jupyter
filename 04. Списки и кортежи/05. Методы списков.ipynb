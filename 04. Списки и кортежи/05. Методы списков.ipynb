{
 "cells": [
  {
   "cell_type": "markdown",
   "id": "30ae4411",
   "metadata": {},
   "source": [
    "# Методы списков"
   ]
  },
  {
   "cell_type": "code",
   "execution_count": 2,
   "id": "8bf7a281",
   "metadata": {},
   "outputs": [
    {
     "name": "stdout",
     "output_type": "stream",
     "text": [
      "['Москва', 'Санкт-Петербург', 'Калининград']\n",
      "[12000000, 5300000, 480000]\n"
     ]
    }
   ],
   "source": [
    "cities = [\"Москва\", \"Санкт-Петербург\", \"Калининград\"]\n",
    "populations = [12000000, 5300000, 480000]\n",
    "\n",
    "print(cities)\n",
    "print(populations)"
   ]
  },
  {
   "cell_type": "markdown",
   "id": "3a30c2c5",
   "metadata": {},
   "source": [
    "## `.append()`\n",
    "\n",
    "С помощью метода `.append()` можно добавить в конец списка еще один элемент.<br>\n",
    "Метод `.append()` воздействует напрямую на список и не возвращает значения."
   ]
  },
  {
   "cell_type": "code",
   "execution_count": 3,
   "id": "30b0a8d0",
   "metadata": {},
   "outputs": [
    {
     "name": "stdout",
     "output_type": "stream",
     "text": [
      "['Москва', 'Санкт-Петербург', 'Калининград', 'Новосибирск']\n",
      "[12000000, 5300000, 480000, 1600000]\n"
     ]
    }
   ],
   "source": [
    "cities = [\"Москва\", \"Санкт-Петербург\", \"Калининград\"]\n",
    "populations = [12000000, 5300000, 480000]\n",
    "\n",
    "# Добавляем в списки еще один город\n",
    "cities.append(\"Новосибирск\")\n",
    "populations.append(1600000)\n",
    "\n",
    "print(cities)\n",
    "print(populations)"
   ]
  },
  {
   "cell_type": "code",
   "execution_count": 4,
   "id": "1e619261",
   "metadata": {},
   "outputs": [
    {
     "name": "stdout",
     "output_type": "stream",
     "text": [
      "None\n",
      "None\n"
     ]
    }
   ],
   "source": [
    "cities = [\"Москва\", \"Санкт-Петербург\", \"Калининград\"]\n",
    "populations = [12000000, 5300000, 480000]\n",
    "\n",
    "# Ошибка использования метода .append()\n",
    "cities = cities.append(\"Новосибирск\")\n",
    "populations = populations.append(1600000)\n",
    "\n",
    "print(cities)\n",
    "print(populations)"
   ]
  },
  {
   "cell_type": "markdown",
   "id": "a65523b2",
   "metadata": {},
   "source": [
    "## `.insert()`\n",
    "\n",
    "С помощью метода `.insert()` можно вставить новый элемент в произвольное место списка.<br>\n",
    "Метод принимает два аргумента: индекс, на который нужно вставить новый элемент и сам элемент."
   ]
  },
  {
   "cell_type": "code",
   "execution_count": 6,
   "id": "ea9a237a",
   "metadata": {},
   "outputs": [
    {
     "name": "stdout",
     "output_type": "stream",
     "text": [
      "['Москва', 'Санкт-Петербург', 'Новосибирск', 'Калининград']\n",
      "[12000000, 5300000, 1600000, 480000]\n"
     ]
    }
   ],
   "source": [
    "cities = [\"Москва\", \"Санкт-Петербург\", \"Калининград\"]\n",
    "populations = [12000000, 5300000, 480000]\n",
    "\n",
    "# Вставляем Новосибирск на вторую по индексу позицию со сдвигом всех элементов вправо.\n",
    "cities.insert(2, \"Новосибирск\")\n",
    "populations.insert(2, 1600000)\n",
    "\n",
    "print(cities)\n",
    "print(populations)"
   ]
  },
  {
   "cell_type": "markdown",
   "id": "2462dff4",
   "metadata": {},
   "source": [
    "## `.extend()`\n",
    "\n",
    "С помощью метода `.extend()` можно расширить один список другим.<br>\n",
    "Другими словами `.extend()` склеивает два списка."
   ]
  },
  {
   "cell_type": "code",
   "execution_count": 8,
   "id": "ad19a1d0",
   "metadata": {},
   "outputs": [
    {
     "name": "stdout",
     "output_type": "stream",
     "text": [
      "['Москва', 'Санкт-Петербург', 'Новосибирск', 'Калининград', 'Владивосток', 'Киев', 'Москва', 'Минск']\n",
      "[12000000, 5300000, 1600000, 480000, 605000, 2900000, 12000000, 2000000]\n"
     ]
    }
   ],
   "source": [
    "cities = [\"Москва\", \"Санкт-Петербург\", \"Калининград\"]\n",
    "populations = [12000000, 5300000, 480000]\n",
    "\n",
    "new_cities = [\"Владивосток\", \"Киев\", \"Москва\", \"Минск\"]\n",
    "new_populations = [605000, 2900000, 12000000, 2000000]\n",
    "\n",
    "# Вставляем Новосибирск на вторую по индексу позицию со сдвигом всех элементов вправо.\n",
    "cities.insert(2, \"Новосибирск\")\n",
    "populations.insert(2, 1600000)\n",
    "\n",
    "# Расширяем списки новыми данными\n",
    "cities.extend(new_cities)\n",
    "populations.extend(new_populations)\n",
    "\n",
    "print(cities)\n",
    "print(populations)"
   ]
  },
  {
   "cell_type": "code",
   "execution_count": 9,
   "id": "08cc515d",
   "metadata": {},
   "outputs": [
    {
     "name": "stdout",
     "output_type": "stream",
     "text": [
      "['Москва', 'Санкт-Петербург', 'Новосибирск', 'Калининград', 'Владивосток', 'Киев', 'Москва', 'Минск', 'П', 'е', 'р', 'м', 'ь']\n",
      "[12000000, 5300000, 1600000, 480000, 605000, 2900000, 12000000, 2000000]\n"
     ]
    }
   ],
   "source": [
    "cities = [\"Москва\", \"Санкт-Петербург\", \"Калининград\"]\n",
    "populations = [12000000, 5300000, 480000]\n",
    "\n",
    "new_cities = [\"Владивосток\", \"Киев\", \"Москва\", \"Минск\"]\n",
    "new_populations = [605000, 2900000, 12000000, 2000000]\n",
    "\n",
    "# Вставляем Новосибирск на вторую по индексу позицию со сдвигом всех элементов вправо.\n",
    "cities.insert(2, \"Новосибирск\")\n",
    "populations.insert(2, 1600000)\n",
    "\n",
    "# Расширяем списки новыми данными\n",
    "cities.extend(new_cities)\n",
    "populations.extend(new_populations)\n",
    "\n",
    "# Ошибка расширения (попытка расширить список строкой)\n",
    "cities.extend(\"Пермь\")\n",
    "\n",
    "print(cities)\n",
    "print(populations)"
   ]
  },
  {
   "cell_type": "code",
   "execution_count": 10,
   "id": "a7986724",
   "metadata": {},
   "outputs": [
    {
     "name": "stdout",
     "output_type": "stream",
     "text": [
      "['Москва', 'Санкт-Петербург', 'Новосибирск', 'Калининград', 'Владивосток', 'Киев', 'Москва', 'Минск', 'Пермь', 'Казань']\n",
      "[12000000, 5300000, 1600000, 480000, 605000, 2900000, 12000000, 2000000]\n"
     ]
    }
   ],
   "source": [
    "cities = [\"Москва\", \"Санкт-Петербург\", \"Калининград\"]\n",
    "populations = [12000000, 5300000, 480000]\n",
    "\n",
    "new_cities = [\"Владивосток\", \"Киев\", \"Москва\", \"Минск\"]\n",
    "new_populations = [605000, 2900000, 12000000, 2000000]\n",
    "\n",
    "# Вставляем Новосибирск на вторую по индексу позицию со сдвигом всех элементов вправо.\n",
    "cities.insert(2, \"Новосибирск\")\n",
    "populations.insert(2, 1600000)\n",
    "\n",
    "# Расширяем списки новыми данными\n",
    "cities.extend(new_cities)\n",
    "populations.extend(new_populations)\n",
    "\n",
    "# \n",
    "# Правильное расширение\n",
    "# \n",
    "\n",
    "# Вариант 1 - через append\n",
    "cities.append(\"Пермь\")\n",
    "\n",
    "# Вариант 2 - через extend, но передавать надо список, а не строку\n",
    "cities.extend([\"Казань\"])\n",
    "\n",
    "print(cities)\n",
    "print(populations)"
   ]
  },
  {
   "cell_type": "markdown",
   "id": "8cbe5759",
   "metadata": {},
   "source": [
    "## `.remove()`\n",
    "\n",
    "С помощью метода `.remove()` можно удалить элемент из списка по его значению.<br>\n",
    "Если список содерджит несколько одинаковых элементов, то будет удален только первый из них. Чтобы удалить все элементы, нужно вызвать `remove()` несколько раз.<br>\n",
    "Если элемента в списке нет, то метод возбудит исключение **ValueError**."
   ]
  },
  {
   "cell_type": "code",
   "execution_count": 14,
   "id": "c81a3da3",
   "metadata": {},
   "outputs": [
    {
     "name": "stdout",
     "output_type": "stream",
     "text": [
      "['Санкт-Петербург', 'Новосибирск', 'Калининград', 'Владивосток', 'Киев', 'Москва', 'Минск']\n",
      "[12000000, 5300000, 1600000, 480000, 605000, 2900000, 12000000, 2000000]\n"
     ]
    }
   ],
   "source": [
    "cities = [\"Москва\", \"Санкт-Петербург\", \"Калининград\"]\n",
    "populations = [12000000, 5300000, 480000]\n",
    "\n",
    "new_cities = [\"Владивосток\", \"Киев\", \"Москва\", \"Минск\"]\n",
    "new_populations = [605000, 2900000, 12000000, 2000000]\n",
    "\n",
    "# Вставляем Новосибирск на вторую по индексу позицию со сдвигом всех элементов вправо.\n",
    "cities.insert(2, \"Новосибирск\")\n",
    "populations.insert(2, 1600000)\n",
    "\n",
    "# Расширяем списки новыми данными\n",
    "cities.extend(new_cities)\n",
    "populations.extend(new_populations)\n",
    "\n",
    "# Удаляем Москву\n",
    "cities.remove(\"Москва\")\n",
    "\n",
    "print(cities)\n",
    "print(populations)"
   ]
  },
  {
   "cell_type": "code",
   "execution_count": 15,
   "id": "f71acd71",
   "metadata": {},
   "outputs": [
    {
     "ename": "ValueError",
     "evalue": "list.remove(x): x not in list",
     "output_type": "error",
     "traceback": [
      "\u001b[0;31m---------------------------------------------------------------------------\u001b[0m",
      "\u001b[0;31mValueError\u001b[0m                                Traceback (most recent call last)",
      "\u001b[0;32m/var/folders/4x/2537g_nd51d_lb51c66z1jzm0000gn/T/ipykernel_49044/3076989545.py\u001b[0m in \u001b[0;36m<module>\u001b[0;34m\u001b[0m\n\u001b[1;32m     14\u001b[0m \u001b[0;34m\u001b[0m\u001b[0m\n\u001b[1;32m     15\u001b[0m \u001b[0;31m# Неудачная попытка удаления, так как элемента \"москва\" (строные буквы) в списке нет\u001b[0m\u001b[0;34m\u001b[0m\u001b[0;34m\u001b[0m\u001b[0m\n\u001b[0;32m---> 16\u001b[0;31m \u001b[0mcities\u001b[0m\u001b[0;34m.\u001b[0m\u001b[0mremove\u001b[0m\u001b[0;34m(\u001b[0m\u001b[0;34m\"москва\"\u001b[0m\u001b[0;34m)\u001b[0m\u001b[0;34m\u001b[0m\u001b[0;34m\u001b[0m\u001b[0m\n\u001b[0m\u001b[1;32m     17\u001b[0m \u001b[0;34m\u001b[0m\u001b[0m\n\u001b[1;32m     18\u001b[0m \u001b[0mprint\u001b[0m\u001b[0;34m(\u001b[0m\u001b[0mcities\u001b[0m\u001b[0;34m)\u001b[0m\u001b[0;34m\u001b[0m\u001b[0;34m\u001b[0m\u001b[0m\n",
      "\u001b[0;31mValueError\u001b[0m: list.remove(x): x not in list"
     ]
    }
   ],
   "source": [
    "cities = [\"Москва\", \"Санкт-Петербург\", \"Калининград\"]\n",
    "populations = [12000000, 5300000, 480000]\n",
    "\n",
    "new_cities = [\"Владивосток\", \"Киев\", \"Москва\", \"Минск\"]\n",
    "new_populations = [605000, 2900000, 12000000, 2000000]\n",
    "\n",
    "# Вставляем Новосибирск на вторую по индексу позицию со сдвигом всех элементов вправо.\n",
    "cities.insert(2, \"Новосибирск\")\n",
    "populations.insert(2, 1600000)\n",
    "\n",
    "# Расширяем списки новыми данными\n",
    "cities.extend(new_cities)\n",
    "populations.extend(new_populations)\n",
    "\n",
    "# Неудачная попытка удаления, так как элемента \"москва\" (строные буквы) в списке нет\n",
    "cities.remove(\"москва\")\n",
    "\n",
    "print(cities)\n",
    "print(populations)"
   ]
  },
  {
   "cell_type": "markdown",
   "id": "8e8972c1",
   "metadata": {},
   "source": [
    "## `.clear()`\n",
    "\n",
    "С помощью метода `.clear()` можно очистить список целиком."
   ]
  },
  {
   "cell_type": "code",
   "execution_count": 20,
   "id": "a26f40e7",
   "metadata": {},
   "outputs": [
    {
     "name": "stdout",
     "output_type": "stream",
     "text": [
      "[]\n",
      "[]\n"
     ]
    }
   ],
   "source": [
    "cities = [\"Москва\", \"Санкт-Петербург\", \"Калининград\"]\n",
    "populations = [12000000, 5300000, 480000]\n",
    "\n",
    "# Очищаем оба списка\n",
    "cities.clear()\n",
    "populations.clear()\n",
    "\n",
    "print(cities)\n",
    "print(populations)"
   ]
  },
  {
   "cell_type": "markdown",
   "id": "9c9d09f5",
   "metadata": {},
   "source": [
    "## Методы, которые не возвращают значений\n",
    "\n",
    "Методы,которые мы изучили в этом уроке, не возвращают значений, а значит с помощью них **нельзя** составить цепочку вызовов."
   ]
  },
  {
   "cell_type": "code",
   "execution_count": 16,
   "id": "305e2ad0",
   "metadata": {},
   "outputs": [
    {
     "ename": "AttributeError",
     "evalue": "'NoneType' object has no attribute 'remove'",
     "output_type": "error",
     "traceback": [
      "\u001b[0;31m---------------------------------------------------------------------------\u001b[0m",
      "\u001b[0;31mAttributeError\u001b[0m                            Traceback (most recent call last)",
      "\u001b[0;32m/var/folders/4x/2537g_nd51d_lb51c66z1jzm0000gn/T/ipykernel_49044/1732072285.py\u001b[0m in \u001b[0;36m<module>\u001b[0;34m\u001b[0m\n\u001b[1;32m     14\u001b[0m \u001b[0;34m\u001b[0m\u001b[0m\n\u001b[1;32m     15\u001b[0m \u001b[0;31m# Первый .remove() вернет None, и второй .remove() будет применен к None, а это ошибка.\u001b[0m\u001b[0;34m\u001b[0m\u001b[0;34m\u001b[0m\u001b[0m\n\u001b[0;32m---> 16\u001b[0;31m \u001b[0mcities\u001b[0m\u001b[0;34m.\u001b[0m\u001b[0mremove\u001b[0m\u001b[0;34m(\u001b[0m\u001b[0;34m\"Москва\"\u001b[0m\u001b[0;34m)\u001b[0m\u001b[0;34m.\u001b[0m\u001b[0mremove\u001b[0m\u001b[0;34m(\u001b[0m\u001b[0;34m\"Москва\"\u001b[0m\u001b[0;34m)\u001b[0m\u001b[0;34m\u001b[0m\u001b[0;34m\u001b[0m\u001b[0m\n\u001b[0m\u001b[1;32m     17\u001b[0m \u001b[0;34m\u001b[0m\u001b[0m\n\u001b[1;32m     18\u001b[0m \u001b[0mprint\u001b[0m\u001b[0;34m(\u001b[0m\u001b[0mcities\u001b[0m\u001b[0;34m)\u001b[0m\u001b[0;34m\u001b[0m\u001b[0;34m\u001b[0m\u001b[0m\n",
      "\u001b[0;31mAttributeError\u001b[0m: 'NoneType' object has no attribute 'remove'"
     ]
    }
   ],
   "source": [
    "cities = [\"Москва\", \"Санкт-Петербург\", \"Калининград\"]\n",
    "populations = [12000000, 5300000, 480000]\n",
    "\n",
    "new_cities = [\"Владивосток\", \"Киев\", \"Москва\", \"Минск\"]\n",
    "new_populations = [605000, 2900000, 12000000, 2000000]\n",
    "\n",
    "# Вставляем Новосибирск на вторую по индексу позицию со сдвигом всех элементов вправо.\n",
    "cities.insert(2, \"Новосибирск\")\n",
    "populations.insert(2, 1600000)\n",
    "\n",
    "# Расширяем списки новыми данными\n",
    "cities.extend(new_cities)\n",
    "populations.extend(new_populations)\n",
    "\n",
    "# Первый .remove() вернет None, и второй .remove() будет применен к None, а это ошибка.\n",
    "cities.remove(\"Москва\").remove(\"Москва\")\n",
    "\n",
    "print(cities)\n",
    "print(populations)"
   ]
  },
  {
   "cell_type": "markdown",
   "id": "a2612f98",
   "metadata": {},
   "source": [
    "Методы, которые не возвращают значений нужно вызвывать **по отдельности**."
   ]
  },
  {
   "cell_type": "code",
   "execution_count": 17,
   "id": "00abdc2f",
   "metadata": {},
   "outputs": [
    {
     "name": "stdout",
     "output_type": "stream",
     "text": [
      "['Санкт-Петербург', 'Новосибирск', 'Калининград', 'Владивосток', 'Киев', 'Минск']\n",
      "[12000000, 5300000, 1600000, 480000, 605000, 2900000, 12000000, 2000000]\n"
     ]
    }
   ],
   "source": [
    "cities = [\"Москва\", \"Санкт-Петербург\", \"Калининград\"]\n",
    "populations = [12000000, 5300000, 480000]\n",
    "\n",
    "new_cities = [\"Владивосток\", \"Киев\", \"Москва\", \"Минск\"]\n",
    "new_populations = [605000, 2900000, 12000000, 2000000]\n",
    "\n",
    "# Вставляем Новосибирск на вторую по индексу позицию со сдвигом всех элементов вправо.\n",
    "cities.insert(2, \"Новосибирск\")\n",
    "populations.insert(2, 1600000)\n",
    "\n",
    "# Расширяем списки новыми данными\n",
    "cities.extend(new_cities)\n",
    "populations.extend(new_populations)\n",
    "\n",
    "# Удаляем все вхождения слова \"Москва\"\n",
    "cities.remove(\"Москва\")\n",
    "cities.remove(\"Москва\")\n",
    "\n",
    "print(cities)\n",
    "print(populations)"
   ]
  },
  {
   "cell_type": "markdown",
   "id": "05d0dc94",
   "metadata": {},
   "source": [
    "## Удаление элемента по индексу\n",
    "\n",
    "Для удаления элемента списка по индексу, нужно воспользоваться инструкцией `del`"
   ]
  },
  {
   "cell_type": "code",
   "execution_count": 18,
   "id": "91bbd32f",
   "metadata": {},
   "outputs": [
    {
     "name": "stdout",
     "output_type": "stream",
     "text": [
      "['Москва', 'Санкт-Петербург', 'Новосибирск', 'Калининград', 'Владивосток', 'Киев', 'Минск']\n",
      "[12000000, 5300000, 1600000, 480000, 605000, 2900000, 12000000, 2000000]\n"
     ]
    }
   ],
   "source": [
    "cities = [\"Москва\", \"Санкт-Петербург\", \"Калининград\"]\n",
    "populations = [12000000, 5300000, 480000]\n",
    "\n",
    "new_cities = [\"Владивосток\", \"Киев\", \"Москва\", \"Минск\"]\n",
    "new_populations = [605000, 2900000, 12000000, 2000000]\n",
    "\n",
    "# Вставляем Новосибирск на вторую по индексу позицию со сдвигом всех элементов вправо.\n",
    "cities.insert(2, \"Новосибирск\")\n",
    "populations.insert(2, 1600000)\n",
    "\n",
    "# Расширяем списки новыми данными\n",
    "cities.extend(new_cities)\n",
    "populations.extend(new_populations)\n",
    "\n",
    "# Удаляем элемент по его индексу\n",
    "del cities[6]\n",
    "\n",
    "print(cities)\n",
    "print(populations)"
   ]
  },
  {
   "cell_type": "code",
   "execution_count": null,
   "id": "064489fe",
   "metadata": {},
   "outputs": [],
   "source": []
  }
 ],
 "metadata": {
  "kernelspec": {
   "display_name": "Python 3 (ipykernel)",
   "language": "python",
   "name": "python3"
  },
  "language_info": {
   "codemirror_mode": {
    "name": "ipython",
    "version": 3
   },
   "file_extension": ".py",
   "mimetype": "text/x-python",
   "name": "python",
   "nbconvert_exporter": "python",
   "pygments_lexer": "ipython3",
   "version": "3.9.13"
  }
 },
 "nbformat": 4,
 "nbformat_minor": 5
}
