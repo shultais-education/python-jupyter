{
 "cells": [
  {
   "cell_type": "markdown",
   "id": "46589a07",
   "metadata": {},
   "source": [
    "# f-строки в списках\n",
    "\n",
    "Вы можете использовать f-строки для вывода элементов списка точно так же как и в методе `.format()`.<br>\n",
    "Главное - это указать правильные имена переменных.<br>\n",
    "f-строки нельзя использовать в качестве шаблонов, но зато вы можете применять в них методы, функции, спецификаторы, а также арифметические операции."
   ]
  },
  {
   "cell_type": "code",
   "execution_count": null,
   "id": "e2178ba1",
   "metadata": {},
   "outputs": [],
   "source": [
    "# Импортируем функцию для работы с датой\n",
    "from datetime import date\n",
    "\n",
    "# Получаем текущую дату\n",
    "today = date.today()\n",
    "\n",
    "# Формируем список из разных элементов: строка, число, дата\n",
    "data = [\"ОЛ-17.12\", 12000, today]\n",
    "\n",
    "# Используем список data внутри f-строк\n",
    "product_template = f\"Счет: {data[0]}\\n\" \\\n",
    "                   f\"Сумма: {data[1]}\\n\" \\\n",
    "                   f\"Дата: {data[2]}\"\n",
    "\n",
    "print(product_template)"
   ]
  },
  {
   "cell_type": "code",
   "execution_count": null,
   "id": "7ae6ee1f",
   "metadata": {},
   "outputs": [],
   "source": [
    "# Импортируем функцию для работы с датой\n",
    "from datetime import date\n",
    "\n",
    "# Получаем текущую дату\n",
    "today = date.today()\n",
    "\n",
    "# Формируем список из разных элементов: строка, число, дата\n",
    "data = [\"ОЛ-17.12\", 12000, today]\n",
    "\n",
    "# Скидка 10%\n",
    "sale = 0.1\n",
    "\n",
    "# Приводим счет к нижнему регистру\n",
    "# Уменьшаем цену на 10% и округляем до целого с помощью форматирования\n",
    "product_template = f\"Счет: {data[0].lower()}\\n\" \\\n",
    "                   f\"Сумма: {data[1] * (1 - sale):.0f}\\n\" \\\n",
    "                   f\"Дата: {data[2]}\"\n",
    "\n",
    "print(product_template)"
   ]
  },
  {
   "cell_type": "code",
   "execution_count": null,
   "id": "17f9586b",
   "metadata": {},
   "outputs": [],
   "source": [
    "# Импортируем функцию для работы с датой\n",
    "from datetime import date\n",
    "\n",
    "# Получаем текущую дату\n",
    "today = date.today()\n",
    "\n",
    "# Формируем список из разных элементов: строка, число, дата\n",
    "data = [\"ОЛ-17.12\", 12000, today]\n",
    "\n",
    "# Скидка 10%\n",
    "sale = 0.1\n",
    "\n",
    "# Приводим счет к нижнему регистру\n",
    "# Уменьшаем цену на 10% и округляем до целого с помощью функции round()\n",
    "product_template = f\"Счет: {data[0].lower()}\\n\" \\\n",
    "                   f\"Сумма: {round(data[1] * (1 - sale))}\\n\" \\\n",
    "                   f\"Дата: {data[2]}\"\n",
    "\n",
    "print(product_template)"
   ]
  },
  {
   "cell_type": "code",
   "execution_count": null,
   "id": "e3e578d2",
   "metadata": {},
   "outputs": [],
   "source": [
    "# Импортируем функцию для работы с датой\n",
    "from datetime import date\n",
    "\n",
    "# Получаем текущую дату\n",
    "today = date.today()\n",
    "\n",
    "# Формируем список из разных элементов: строка, число, дата\n",
    "data = [\"ОЛ-17.12\", 12000, today]\n",
    "\n",
    "# Скидка 10%\n",
    "sale = 0.1\n",
    "\n",
    "# Приводим счет к нижнему регистру\n",
    "# Уменьшаем цену на 10% и округляем до целого с помощью функции round(), разбиваем на классы и делаем замену\n",
    "product_template = f\"Счет: {data[0].lower()}\\n\" + \\\n",
    "                   f\"Сумма: {round(data[1] * (1 - sale)):,}\\n\".replace(\",\", \" \") + \\\n",
    "                   f\"Дата: {data[2]}\"\n",
    "\n",
    "print(product_template)"
   ]
  },
  {
   "cell_type": "code",
   "execution_count": null,
   "id": "d6f7c5fc",
   "metadata": {},
   "outputs": [],
   "source": [
    "# Импортируем функцию для работы с датой\n",
    "from datetime import date\n",
    "\n",
    "# Получаем текущую дату\n",
    "today = date.today()\n",
    "\n",
    "# Формируем список из разных элементов: строка, число, дата\n",
    "data = [\"ОЛ-17.12\", 12000, today]\n",
    "\n",
    "# Скидка 10%\n",
    "sale = 0.1\n",
    "\n",
    "# Формируем финальную цену\n",
    "final_price = round(data[1] * (1 - sale))\n",
    "\n",
    "# Приводим счет к нижнему регистру\n",
    "# Разбиваем финальную цену на классы и делаем замену\n",
    "product_template = f\"Счет: {data[0].lower()}\\n\" + \\\n",
    "                   f\"Сумма: {final_price:,}\\n\".replace(\",\", \" \") + \\\n",
    "                   f\"Дата: {data[2]}\"\n",
    "\n",
    "print(product_template)"
   ]
  },
  {
   "cell_type": "code",
   "execution_count": null,
   "id": "99ff2b3c",
   "metadata": {},
   "outputs": [],
   "source": []
  }
 ],
 "metadata": {
  "kernelspec": {
   "display_name": "Python 3 (ipykernel)",
   "language": "python",
   "name": "python3"
  },
  "language_info": {
   "codemirror_mode": {
    "name": "ipython",
    "version": 3
   },
   "file_extension": ".py",
   "mimetype": "text/x-python",
   "name": "python",
   "nbconvert_exporter": "python",
   "pygments_lexer": "ipython3",
   "version": "3.9.13"
  }
 },
 "nbformat": 4,
 "nbformat_minor": 5
}
