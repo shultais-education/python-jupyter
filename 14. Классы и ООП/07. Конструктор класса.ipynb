{
 "cells": [
  {
   "cell_type": "markdown",
   "id": "aaf39cb1",
   "metadata": {},
   "source": [
    "# Конструктор класса\n",
    "\n",
    "Метод `__init__()` - это конструктор класса. Он автоматически вызывается при создании объекта (экземпляра) класса."
   ]
  },
  {
   "cell_type": "code",
   "execution_count": null,
   "id": "dd17a609",
   "metadata": {},
   "outputs": [],
   "source": [
    "class Auto:\n",
    "    def __init__(self):\n",
    "        self.number = \"\"  # номер автомобиля\n",
    "\n",
    "\n",
    "# Создание объекта класса Auto.\n",
    "# Именно тут происходит вызов метода __init__()\n",
    "auto = Auto()\n",
    "\n",
    "# Устанавливаем номер\n",
    "auto.number = \"a111aa\"\n",
    "\n",
    "# Выводим номер\n",
    "print(\"Номер:\", auto.number)"
   ]
  },
  {
   "cell_type": "markdown",
   "id": "08c35183",
   "metadata": {},
   "source": [
    "## Аргументы конструктора\n",
    "\n",
    "Так как конструктор - это метод, то мы можем определить в нём дополнительные аргументы, которые можно передать при создании класса."
   ]
  },
  {
   "cell_type": "code",
   "execution_count": null,
   "id": "4f9cc89a",
   "metadata": {},
   "outputs": [],
   "source": [
    "class Auto:\n",
    "    def __init__(self, number):\n",
    "        self.number = number\n",
    "\n",
    "\n",
    "# Создание объекта класса Auto.\n",
    "# Именно тут происходит вызов метода __init__() с передачей в него номера.\n",
    "# То есть номер автомобиля заполняется в момент создания объекта.\n",
    "auto = Auto(\"a111aa\")\n",
    "\n",
    "\n",
    "# Выводим номер\n",
    "print(\"Номер:\", auto.number)"
   ]
  },
  {
   "cell_type": "markdown",
   "id": "bf49fd64",
   "metadata": {},
   "source": [
    "## Более сложный пример\n",
    "\n",
    "Устанавливаем номер автомобиля, через метод `.set_number()`."
   ]
  },
  {
   "cell_type": "code",
   "execution_count": null,
   "id": "19b44166",
   "metadata": {},
   "outputs": [],
   "source": [
    "class Auto:\n",
    "    \n",
    "    def __init__(self, number):\n",
    "        # Создаём атрибут объекта (пустой список).\n",
    "        self.number = []\n",
    "        \n",
    "        # Сразу устанавливаем номер через метод .set_number\n",
    "        self.set_number(number)\n",
    "        \n",
    "    def get_number(self):\n",
    "        \"\"\"\n",
    "        Возвращает номер автомобиля.\n",
    "        \"\"\"\n",
    "        return \"\".join(self.number)\n",
    "    \n",
    "    def set_number(self, number):\n",
    "        \"\"\"\n",
    "        Устанавливает номер автомобиля.\n",
    "        \"\"\"\n",
    "        \n",
    "        # Проверка длины номера.\n",
    "        if len(number) != 6:\n",
    "            print(\"Номер должен состоять из 6 символов\")\n",
    "        else:\n",
    "            # Преобразуем номер в список.\n",
    "            self.number = list(number)\n",
    "        \n",
    "# Создаём объект класса.\n",
    "auto = Auto(\"a111aa\")\n",
    "\n",
    "# Выводим номер автомобиля\n",
    "print(\"auto.number:\", auto.get_number())"
   ]
  },
  {
   "cell_type": "markdown",
   "id": "da9d5124",
   "metadata": {},
   "source": [
    "## Еще более сложный пример\n",
    "\n",
    "Устанавливаем номер через свойства, которые реализованы с помощью декораторов."
   ]
  },
  {
   "cell_type": "code",
   "execution_count": null,
   "id": "1d37dd71",
   "metadata": {},
   "outputs": [],
   "source": [
    "class Auto:\n",
    "    \n",
    "    def __init__(self, number=\"\"):\n",
    "        # Создаём атрибут объекта (пустой список) для хранения номера.\n",
    "        self._number = []\n",
    "        \n",
    "        # Будет использовано свойство number, которое вызовет метод number, перед которым\n",
    "        # стоит декоратор @number.setter\n",
    "        if number:\n",
    "            self.number = number\n",
    "        \n",
    "    @property\n",
    "    def number(self):\n",
    "        \"\"\"\n",
    "        Возвращает номер автомобиля.\n",
    "        \"\"\"\n",
    "        return \"\".join(self._number).upper()\n",
    "    \n",
    "    @number.setter\n",
    "    def number(self, new_number):\n",
    "        \"\"\"\n",
    "        Устанавливает номер автомобиля.\n",
    "        \"\"\"\n",
    "        \n",
    "        # Проверка длины номера.\n",
    "        if len(new_number) != 6:\n",
    "            print(\"Номер должен состоять из 6 символов\")\n",
    "        else:\n",
    "            # Преобразуем номер в список.\n",
    "            self._number = list(new_number)\n",
    "            \n",
    "    @number.deleter\n",
    "    def number(self):\n",
    "        \"\"\"\n",
    "        Удаляет номер автомобиля.\n",
    "        \"\"\"\n",
    "        self._number = []\n",
    "        \n",
    "# Создаём объект класса с НЕправильным номером\n",
    "auto1 = Auto(\"a111aaa\")\n",
    "\n",
    "# Выводим свойство auto1.number.\n",
    "# Фактически будет вызыван метод .number(), перед которым стоит @property\n",
    "print(\"auto1.number:\", auto1.number)\n",
    "\n",
    "\n",
    "# Создаём объект класса с правильным номером\n",
    "auto2 = Auto(\"a111aa\")\n",
    "\n",
    "# Выводим свойство auto2.number.\n",
    "print(\"auto2.number:\", auto2.number)\n",
    "\n",
    "# Создаём объект класса БЕЗ номер\n",
    "auto3 = Auto(\"\")\n",
    "\n",
    "# Выводим свойство auto3.number.\n",
    "print(\"auto3.number:\", auto3.number)"
   ]
  }
 ],
 "metadata": {
  "kernelspec": {
   "display_name": "Python 3 (ipykernel)",
   "language": "python",
   "name": "python3"
  },
  "language_info": {
   "codemirror_mode": {
    "name": "ipython",
    "version": 3
   },
   "file_extension": ".py",
   "mimetype": "text/x-python",
   "name": "python",
   "nbconvert_exporter": "python",
   "pygments_lexer": "ipython3",
   "version": "3.9.13"
  }
 },
 "nbformat": 4,
 "nbformat_minor": 5
}
