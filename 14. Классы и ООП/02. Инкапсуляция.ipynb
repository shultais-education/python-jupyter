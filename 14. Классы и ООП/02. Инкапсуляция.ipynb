{
 "cells": [
  {
   "cell_type": "markdown",
   "id": "b88b3bc0",
   "metadata": {},
   "source": [
    "# Инкапсуляция\n",
    "\n",
    "Доступ к атрибутам напрямую - не самый лучший способ взаимодействия с объектом.<br>\n",
    "Вместо этого лучше использовать методы для получения (get) и установки значения (set).<br>\n",
    "\n",
    "**Инакпсуляция** - это скрытие внутреннего устройства атрибутов от пользователей класса.<br>\n",
    "Конечный пользователь класса (программист) получает только интерфейс для взаимодействия с объектом.<br>\n",
    "\n",
    "**Интерфейс** - это набор методов, которыми он (программист) может пользоваться."
   ]
  },
  {
   "cell_type": "code",
   "execution_count": null,
   "id": "c015e24e",
   "metadata": {},
   "outputs": [],
   "source": [
    "# Создаём класс\n",
    "class Auto:\n",
    "    \n",
    "    def __init__(self):\n",
    "        # Создаём атрибут объекта с пустой строкой.\n",
    "        self.number = \"\"\n",
    "        \n",
    "# Создаём объект класса.\n",
    "auto1 = Auto()\n",
    "\n",
    "# Меняем данные в атрибуте number объекта auto1.\n",
    "# Доступ к атрибуту напрямую!\n",
    "auto1.number = \"a111aa\"\n",
    "\n",
    "# Выводим значение атрибута.\n",
    "print(\"auto1.number:\", auto1.number)"
   ]
  },
  {
   "cell_type": "markdown",
   "id": "ec04ea03",
   "metadata": {},
   "source": [
    "## Создаем get_ и set_ методы"
   ]
  },
  {
   "cell_type": "code",
   "execution_count": null,
   "id": "e628cd12",
   "metadata": {},
   "outputs": [],
   "source": [
    "# Создаём класс\n",
    "class Auto:\n",
    "    \n",
    "    def __init__(self):\n",
    "        # Создаём атрибут объекта с пустой строкой.\n",
    "        self.number = \"\"\n",
    "        \n",
    "    def get_number(self):\n",
    "        \"\"\"\n",
    "        Возвращает номер автомобиля.\n",
    "        \"\"\"\n",
    "        return self.number\n",
    "    \n",
    "    def set_number(self, number):\n",
    "        \"\"\"\n",
    "        Устанавливает номер автомобиля.\n",
    "        \"\"\"\n",
    "        self.number = number\n",
    "        \n",
    "# Создаём объект класса.\n",
    "auto1 = Auto()\n",
    "\n",
    "# Меняем данные в атрибуте number объекта auto1 через set_number()\n",
    "auto1.set_number(\"a111aa\")\n",
    "\n",
    "# Выводим значение атрибута через get_number()\n",
    "print(\"auto1.number:\", auto1.get_number())"
   ]
  },
  {
   "cell_type": "markdown",
   "id": "c2274388",
   "metadata": {},
   "source": [
    "## Расширяем поведение методов"
   ]
  },
  {
   "cell_type": "code",
   "execution_count": null,
   "id": "4df6dce3",
   "metadata": {},
   "outputs": [],
   "source": [
    "class Auto:\n",
    "    \n",
    "    def __init__(self):\n",
    "        # Создаём атрибут объекта (пустой список).\n",
    "        self.number = []\n",
    "        \n",
    "    def get_number(self):\n",
    "        \"\"\"\n",
    "        Возвращает номер автомобиля.\n",
    "        \"\"\"\n",
    "        return \"\".join(self.number)\n",
    "    \n",
    "    def set_number(self, number):\n",
    "        \"\"\"\n",
    "        Устанавливает номер автомобиля.\n",
    "        \"\"\"\n",
    "        \n",
    "        # Проверка длины номера.\n",
    "        if len(number) != 6:\n",
    "            print(\"Номер должен состоять из 6 символов\")\n",
    "        else:\n",
    "            # Преобразуем номер в список.\n",
    "            self.number = list(number)\n",
    "        \n",
    "# Создаём объект класса.\n",
    "auto1 = Auto()\n",
    "\n",
    "# Устанавливаем НЕПРАВИЛЬНЫЙ номер автомобиля.\n",
    "auto1.set_number(\"a111aaa\")\n",
    "\n",
    "# Устанавливаем правильный номер автомобиля.\n",
    "auto1.set_number(\"a111aa\")\n",
    "\n",
    "# Выводим номер автомобиля.\n",
    "print(\"Номер auto1:\", auto1.get_number())\n",
    "\n",
    "# Выводим реальное значение атрибута number.\n",
    "print(\"auto1.number:\", auto1.number)"
   ]
  },
  {
   "cell_type": "code",
   "execution_count": null,
   "id": "2f53c4f9",
   "metadata": {},
   "outputs": [],
   "source": []
  }
 ],
 "metadata": {
  "kernelspec": {
   "display_name": "Python 3 (ipykernel)",
   "language": "python",
   "name": "python3"
  },
  "language_info": {
   "codemirror_mode": {
    "name": "ipython",
    "version": 3
   },
   "file_extension": ".py",
   "mimetype": "text/x-python",
   "name": "python",
   "nbconvert_exporter": "python",
   "pygments_lexer": "ipython3",
   "version": "3.9.13"
  }
 },
 "nbformat": 4,
 "nbformat_minor": 5
}
