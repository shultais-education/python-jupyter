{
 "cells": [
  {
   "cell_type": "markdown",
   "id": "db1998df",
   "metadata": {},
   "source": [
    "# Полиморфизм"
   ]
  },
  {
   "cell_type": "code",
   "execution_count": null,
   "id": "d35bfb3c",
   "metadata": {},
   "outputs": [],
   "source": [
    "class Auto:\n",
    "    def __init__(self):\n",
    "        self.number = \"\"  # номер автомобиля\n",
    "        self.power = 0    # мощность двигателя\n",
    "        \n",
    "    def get_tax(self):\n",
    "        \"\"\"\n",
    "        Возвращает налог на автомобиль в зависимости от его мощности.\n",
    "        \"\"\"\n",
    "        \n",
    "        rate = 12  # налоговая ставка\n",
    "        if self.power > 100:\n",
    "            rate = 25\n",
    "\n",
    "        return rate * self.power \n",
    "\n",
    "    \n",
    "class Bus(Auto):\n",
    "    \n",
    "    # Переопределяем метод get_tax()\n",
    "    def get_tax(self):\n",
    "        \"\"\"\n",
    "        Возвращает налог на автобус в зависимости от его мощности.\n",
    "        \"\"\"        \n",
    "        rate = 15  # налоговая ставка\n",
    "\n",
    "        return rate * self.power \n",
    "        \n",
    "auto = Auto()\n",
    "\n",
    "# Устанавливаем мощность автомобиля\n",
    "auto.power = 101\n",
    "\n",
    "# Получаем налог\n",
    "print(\"Налог автомобиля (101 лс):\", auto.get_tax())\n",
    "\n",
    "# Создаём автобус\n",
    "bus = Bus()\n",
    "\n",
    "# Устанавливаем мощность автобуса\n",
    "bus.power = 101\n",
    "\n",
    "# Получаем налог\n",
    "# Будет вызван метод .get_tax() из класса Bus\n",
    "print(\"Налог автобуса (101 лс):\", bus.get_tax())"
   ]
  },
  {
   "cell_type": "markdown",
   "id": "02204934",
   "metadata": {},
   "source": [
    "## Создаём универсальный метод `.get_tax()`"
   ]
  },
  {
   "cell_type": "code",
   "execution_count": null,
   "id": "cab23b7a",
   "metadata": {},
   "outputs": [],
   "source": [
    "class Auto:\n",
    "    def __init__(self):\n",
    "        self.number = \"\"  # номер автомобиля\n",
    "        self.power = 0    # мощность двигателя\n",
    "        \n",
    "    def get_tax(self, min_rate=12, max_rate=25):\n",
    "        \"\"\"\n",
    "        Возвращает налог на автомобиль в зависимости от его мощности.\n",
    "        \"\"\"\n",
    "        \n",
    "        rate = min_rate  # налоговая ставка\n",
    "        if self.power > 100:\n",
    "            rate = max_rate\n",
    "\n",
    "        return rate * self.power * 1.2\n",
    "\n",
    "    \n",
    "class Bus(Auto):\n",
    "    \n",
    "    # Переопределяем метод get_tax()\n",
    "    def get_tax(self, min_rate=15, max_rate=15):\n",
    "        \"\"\"\n",
    "        Возвращает налог на автобус в зависимости от его мощности.\n",
    "        \"\"\"        \n",
    "\n",
    "        # Вызываем метод .get_tax() из класса Auto\n",
    "        return super().get_tax(min_rate, max_rate)\n",
    "        \n",
    "auto = Auto()\n",
    "\n",
    "# Устанавливаем мощность автомобиля\n",
    "auto.power = 101\n",
    "\n",
    "# Получаем налог\n",
    "print(\"Налог автомобиля (101 лс):\", auto.get_tax())\n",
    "\n",
    "# Создаём автобус\n",
    "bus = Bus()\n",
    "\n",
    "# Устанавливаем мощность автобуса\n",
    "bus.power = 101\n",
    "\n",
    "# Получаем налог\n",
    "# Будет вызван метод .get_tax() из класса Bus,\n",
    "# который в свою очередь вызовет .get_tax() из класса Auto\n",
    "print(\"Налог автобуса (101 лс):\", bus.get_tax())"
   ]
  },
  {
   "cell_type": "code",
   "execution_count": null,
   "id": "e6525fe4",
   "metadata": {},
   "outputs": [],
   "source": []
  }
 ],
 "metadata": {
  "kernelspec": {
   "display_name": "Python 3 (ipykernel)",
   "language": "python",
   "name": "python3"
  },
  "language_info": {
   "codemirror_mode": {
    "name": "ipython",
    "version": 3
   },
   "file_extension": ".py",
   "mimetype": "text/x-python",
   "name": "python",
   "nbconvert_exporter": "python",
   "pygments_lexer": "ipython3",
   "version": "3.9.13"
  }
 },
 "nbformat": 4,
 "nbformat_minor": 5
}
