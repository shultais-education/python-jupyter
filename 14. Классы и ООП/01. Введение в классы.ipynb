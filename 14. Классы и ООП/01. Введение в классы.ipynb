{
 "cells": [
  {
   "cell_type": "markdown",
   "id": "d9cf75e0",
   "metadata": {},
   "source": [
    "# Введение в классы"
   ]
  },
  {
   "cell_type": "markdown",
   "id": "b221660b",
   "metadata": {},
   "source": [
    "В Python всё является объектами: числа, строки, списки и тд. - это всё объекты неких классов."
   ]
  },
  {
   "cell_type": "code",
   "execution_count": 2,
   "id": "3e7cba2a",
   "metadata": {},
   "outputs": [
    {
     "name": "stdout",
     "output_type": "stream",
     "text": [
      "<class 'int'>\n",
      "<class 'str'>\n",
      "<class 'list'>\n"
     ]
    }
   ],
   "source": [
    "print(type(1))       # Объект класса int\n",
    "print(type(\"Один\"))  # Объект класса str\n",
    "print(type([1, 2]))  # Объект класса list"
   ]
  },
  {
   "cell_type": "markdown",
   "id": "211dfab4",
   "metadata": {},
   "source": [
    "## Создание собственных классов"
   ]
  },
  {
   "cell_type": "code",
   "execution_count": 11,
   "id": "291552ac",
   "metadata": {},
   "outputs": [],
   "source": [
    "# Создаём собственный класс Auto\n",
    "class Auto:\n",
    "    ...\n",
    "    \n",
    "    \n",
    "# Создаём объекты класса Auto\n",
    "auto1 = Auto()\n",
    "auto2 = Auto()"
   ]
  },
  {
   "cell_type": "markdown",
   "id": "31648dbe",
   "metadata": {},
   "source": [
    "## Конструктор класса\n",
    "\n",
    "Функции, которые мы создаём (определяем) внутри класса, называются **методами** класса.<br>\n",
    "\n",
    "Метод `__init__()` внутри класса назыается **конструктором**.<br>\n",
    "Конструктор автоматически вызывается при создании объекта."
   ]
  },
  {
   "cell_type": "code",
   "execution_count": 5,
   "id": "25a450f0",
   "metadata": {},
   "outputs": [
    {
     "name": "stdout",
     "output_type": "stream",
     "text": [
      "Создание объекта\n",
      "Создание объекта\n"
     ]
    }
   ],
   "source": [
    "# Создаём собственный класс Auto\n",
    "class Auto:\n",
    "    \n",
    "    def __init__(self):\n",
    "        self.number = \"\"\n",
    "        print(\"Создание объекта\")\n",
    "    \n",
    "    \n",
    "# Создаём объекты класса Auto\n",
    "auto1 = Auto()\n",
    "auto2 = Auto()"
   ]
  },
  {
   "cell_type": "markdown",
   "id": "7e538f21",
   "metadata": {},
   "source": [
    "## Доступ к атрибутам объекта\n",
    "\n",
    "**self** внутри класса ссылается на объект, который был создан с помощью класса.<br>\n",
    "Каждый объект, созданный с помощью класса, содержит собственное пространство имён.<br>\n",
    "Иными словами, атрибуты объектов привязаны именно к объектам и не пересекаются между собой."
   ]
  },
  {
   "cell_type": "code",
   "execution_count": 10,
   "id": "a558f65e",
   "metadata": {},
   "outputs": [
    {
     "name": "stdout",
     "output_type": "stream",
     "text": [
      "Создание объекта\n",
      "Создание объекта\n",
      "Номер машины auto1: \n",
      "Номер машины auto1: a111aa\n",
      "Номер машины auto2: \n",
      "Номер машины auto2: a222aa\n"
     ]
    }
   ],
   "source": [
    "class Auto:\n",
    "    \n",
    "    def __init__(self):\n",
    "        # number - это атрибут объекта\n",
    "        self.number = \"\"\n",
    "        print(\"Создание объекта\")\n",
    "    \n",
    "    \n",
    "# Создаём объекты класса Auto\n",
    "auto1 = Auto()\n",
    "auto2 = Auto()\n",
    "\n",
    "# Выводим атрибут number объекта auto1\n",
    "print(\"Номер машины auto1:\", auto1.number)\n",
    "\n",
    "# Меняем атрибут number объекта auto1\n",
    "auto1.number = \"a111aa\"\n",
    "\n",
    "# Выводим атрибут number объекта auto1\n",
    "print(\"Номер машины auto1:\", auto1.number)\n",
    "\n",
    "# Выводим атрибут number объекта auto2\n",
    "print(\"Номер машины auto2:\", auto2.number)\n",
    "\n",
    "# Меняем атрибут number объекта auto2\n",
    "auto2.number = \"a222aa\"\n",
    "\n",
    "# Выводим атрибут number объекта auto2\n",
    "print(\"Номер машины auto2:\", auto2.number)"
   ]
  },
  {
   "cell_type": "code",
   "execution_count": null,
   "id": "e27b022e",
   "metadata": {},
   "outputs": [],
   "source": []
  }
 ],
 "metadata": {
  "kernelspec": {
   "display_name": "Python 3 (ipykernel)",
   "language": "python",
   "name": "python3"
  },
  "language_info": {
   "codemirror_mode": {
    "name": "ipython",
    "version": 3
   },
   "file_extension": ".py",
   "mimetype": "text/x-python",
   "name": "python",
   "nbconvert_exporter": "python",
   "pygments_lexer": "ipython3",
   "version": "3.9.13"
  }
 },
 "nbformat": 4,
 "nbformat_minor": 5
}
