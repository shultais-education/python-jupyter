{
 "cells": [
  {
   "cell_type": "markdown",
   "id": "06451827-06d0-4956-ba6a-6eb6b76d162e",
   "metadata": {},
   "source": [
    "# Функция str()\n",
    "\n",
    "Функция `str()` неявно вызывает магический `.__str__()` объекта:\n",
    "\n",
    "> `str(object)` = `object.__str__()`\n",
    "\n",
    "В случае, если у красса нет метода `.__str__()`, то будет использоваться `.__str__()` который встроен в Python по умолчанию."
   ]
  },
  {
   "cell_type": "code",
   "execution_count": null,
   "id": "a046ca4e-0bac-44d6-b7e6-e457dd57c9b6",
   "metadata": {},
   "outputs": [],
   "source": [
    "class Product:\n",
    "    def __init__(self, name, price, quantity=0):\n",
    "        self.name = name\n",
    "        self.price = price\n",
    "        self.quantity = quantity\n",
    "\n",
    "    def amount(self):\n",
    "        return self.price * self.quantity\n",
    "\n",
    "    def __str__(self):\n",
    "        return self.name\n",
    "\n",
    "# Создаем объект класса Product\n",
    "snickers = Product(\"Сникерс\", 109, 12)\n",
    "\n",
    "# Выводим объект\n",
    "print(snickers)\n",
    "\n",
    "# Запуск .__str__() напрямую\n",
    "print(snickers.__str__())\n",
    "\n",
    "# Использование f-строки\n",
    "print(f\"{snickers}\")"
   ]
  },
  {
   "cell_type": "markdown",
   "id": "922c79d5-ad92-4c62-a2f7-42e8bb42ce3a",
   "metadata": {},
   "source": [
    "## Склейка (конкатенация) строк"
   ]
  },
  {
   "cell_type": "code",
   "execution_count": null,
   "id": "2d53b9a7-436f-4cab-b540-5207ef53ab5c",
   "metadata": {},
   "outputs": [],
   "source": [
    "class Product:\n",
    "    def __init__(self, name, price, quantity=0):\n",
    "        self.name = name\n",
    "        self.price = price\n",
    "        self.quantity = quantity\n",
    "\n",
    "    def amount(self):\n",
    "        return self.price * self.quantity\n",
    "\n",
    "    def __str__(self):\n",
    "        return self.name\n",
    "\n",
    "# Создаем объект класса Product\n",
    "snickers = Product(\"Сникерс\", 109, 12)\n",
    "\n",
    "# Вызываем метод .__str__() с помощью функции\n",
    "print(\"Товар: \" + str(snickers))\n",
    "\n",
    "# Вызываем .__str__() напрямую\n",
    "print(\"Товар: \" + snickers.__str__())\n",
    "\n",
    "# Вызываем .__str__() внутри f-строки\n",
    "print(f\"Товар: {snickers}\")"
   ]
  },
  {
   "cell_type": "markdown",
   "id": "f3fd75c3-46ee-4ef8-b513-f45622956c08",
   "metadata": {},
   "source": [
    "## Пример с Марсом\n",
    "\n",
    "Числа - это такие же объекты, как и объекты, которые мы создаём сами. Числа также имеют метод `.__str__()`"
   ]
  },
  {
   "cell_type": "code",
   "execution_count": null,
   "id": "8fde50ca-398f-40ad-bc5f-e11420ee2b7f",
   "metadata": {},
   "outputs": [],
   "source": [
    "# Создаем переменную mars, которая содержит 10\n",
    "mars = 10\n",
    "\n",
    "# Вызываем метод .__str__() с помощью функции\n",
    "print(\"Марс: \" + str(mars))\n",
    "\n",
    "# Вызываем .__str__() напрямую\n",
    "print(\"Марс: \" + mars.__str__())\n",
    "\n",
    "# Вызываем .__str__() внутри f-строки\n",
    "print(f\"Марс: {mars}\")"
   ]
  },
  {
   "cell_type": "code",
   "execution_count": null,
   "id": "beb57cbe-d9d8-44a7-aaa5-2392545a1048",
   "metadata": {},
   "outputs": [],
   "source": []
  }
 ],
 "metadata": {
  "kernelspec": {
   "display_name": "Python 3 (ipykernel)",
   "language": "python",
   "name": "python3"
  },
  "language_info": {
   "codemirror_mode": {
    "name": "ipython",
    "version": 3
   },
   "file_extension": ".py",
   "mimetype": "text/x-python",
   "name": "python",
   "nbconvert_exporter": "python",
   "pygments_lexer": "ipython3",
   "version": "3.11.7"
  }
 },
 "nbformat": 4,
 "nbformat_minor": 5
}
