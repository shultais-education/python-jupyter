{
 "cells": [
  {
   "cell_type": "markdown",
   "id": "5b77685d",
   "metadata": {},
   "source": [
    "# Свойства классов\n",
    "\n",
    "Свойства связывают имя атрибута с методами для получения и установки значений."
   ]
  },
  {
   "cell_type": "code",
   "execution_count": null,
   "id": "eaab1d5b",
   "metadata": {},
   "outputs": [],
   "source": [
    "class Auto:\n",
    "    \n",
    "    def __init__(self):\n",
    "        # Создаём атрибут объекта (пустой список).\n",
    "        self.number = []\n",
    "        \n",
    "    def get_number(self):\n",
    "        \"\"\"\n",
    "        Возвращает номер автомобиля.\n",
    "        \"\"\"\n",
    "        return \"\".join(self.number)\n",
    "    \n",
    "    def set_number(self, number):\n",
    "        \"\"\"\n",
    "        Устанавливает номер автомобиля.\n",
    "        \"\"\"\n",
    "        \n",
    "        # Проверка длины номера.\n",
    "        if len(number) != 6:\n",
    "            print(\"Номер должен состоять из 6 символов\")\n",
    "        else:\n",
    "            # Преобразуем номер в список.\n",
    "            self.number = list(number)\n",
    "        \n",
    "# Создаём объект класса.\n",
    "auto1 = Auto()\n",
    "\n",
    "# Меняем атрибут напрямую (указываем НЕПРАВИЛЬНЫЙ номер)\n",
    "auto1.number = \"a111aaa\"\n",
    "\n",
    "# Выводим реальное значение атрибута number.\n",
    "print(\"auto1.number:\", auto1.number)"
   ]
  },
  {
   "cell_type": "markdown",
   "id": "3374bb0a",
   "metadata": {},
   "source": [
    "## Первое свойство"
   ]
  },
  {
   "cell_type": "code",
   "execution_count": null,
   "id": "cdccb152",
   "metadata": {},
   "outputs": [],
   "source": [
    "class Auto:\n",
    "    \n",
    "    def __init__(self):\n",
    "        # Создаём атрибут объекта (пустой список).\n",
    "        # Имена с одинарным подчеркиванием не предназначены для внешнего использования.\n",
    "        # Их следует использовать только внутри класса.\n",
    "        self._number = []\n",
    "        \n",
    "    def get_number(self):\n",
    "        \"\"\"\n",
    "        Возвращает номер автомобиля.\n",
    "        \"\"\"\n",
    "        return \"\".join(self._number).upper()\n",
    "    \n",
    "    def set_number(self, new_number):\n",
    "        \"\"\"\n",
    "        Устанавливает номер автомобиля.\n",
    "        \"\"\"\n",
    "        \n",
    "        # Проверка длины номера.\n",
    "        if len(new_number) != 6:\n",
    "            print(\"Номер должен состоять из 6 символов\")\n",
    "        else:\n",
    "            # Преобразуем номер в список.\n",
    "            self._number = list(new_number)\n",
    "            \n",
    "    # Создаём свойство number\n",
    "    number = property(get_number, set_number)\n",
    "        \n",
    "# Создаём объект класса.\n",
    "auto1 = Auto()\n",
    "\n",
    "# Устанавливаем атрибут через свойство.\n",
    "# Фактически будет вызыван метод .set_number(\"a111aaa\").\n",
    "auto1.number = \"a111aaa\"\n",
    "\n",
    "# Устанавливаем правильное значение атрибут через свойство.\n",
    "# Также будет вызван метод .set_number(\"a111aa\").\n",
    "auto1.number = \"a111aa\"\n",
    "\n",
    "# Выводим свойство auto1.number.\n",
    "# Фактически будет вызыван метод .get_number()\n",
    "print(\"auto1.number:\", auto1.number)"
   ]
  },
  {
   "cell_type": "code",
   "execution_count": null,
   "id": "21fa1076",
   "metadata": {},
   "outputs": [],
   "source": []
  }
 ],
 "metadata": {
  "kernelspec": {
   "display_name": "Python 3 (ipykernel)",
   "language": "python",
   "name": "python3"
  },
  "language_info": {
   "codemirror_mode": {
    "name": "ipython",
    "version": 3
   },
   "file_extension": ".py",
   "mimetype": "text/x-python",
   "name": "python",
   "nbconvert_exporter": "python",
   "pygments_lexer": "ipython3",
   "version": "3.9.13"
  }
 },
 "nbformat": 4,
 "nbformat_minor": 5
}
