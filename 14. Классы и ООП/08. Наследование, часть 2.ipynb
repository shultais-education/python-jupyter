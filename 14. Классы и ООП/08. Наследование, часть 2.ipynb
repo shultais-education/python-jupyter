{
 "cells": [
  {
   "cell_type": "markdown",
   "id": "d23e0602",
   "metadata": {},
   "source": [
    "# Наследование, часть 2"
   ]
  },
  {
   "cell_type": "code",
   "execution_count": 4,
   "id": "b56a4e62",
   "metadata": {},
   "outputs": [
    {
     "name": "stdout",
     "output_type": "stream",
     "text": [
      "Налог автомобиля (100 лс): 1200\n",
      "Налог автобуса (300 лс): 4500\n",
      "Налог междогороднего автобуса (300 лс): 3000\n",
      "Автобус в город Светлогорск\n"
     ]
    },
    {
     "ename": "AttributeError",
     "evalue": "'Bus' object has no attribute 'get_city'",
     "output_type": "error",
     "traceback": [
      "\u001b[0;31m---------------------------------------------------------------------------\u001b[0m",
      "\u001b[0;31mAttributeError\u001b[0m                            Traceback (most recent call last)",
      "\u001b[0;32m/var/folders/06/yl2tjjzn0779079l4x8lq1y80000gn/T/ipykernel_29572/814017896.py\u001b[0m in \u001b[0;36m<module>\u001b[0;34m\u001b[0m\n\u001b[1;32m     76\u001b[0m \u001b[0;31m# Неудачная попытка использовать get_city из суперкласса\u001b[0m\u001b[0;34m\u001b[0m\u001b[0;34m\u001b[0m\u001b[0m\n\u001b[1;32m     77\u001b[0m \u001b[0mbus\u001b[0m\u001b[0;34m.\u001b[0m\u001b[0mcity\u001b[0m \u001b[0;34m=\u001b[0m \u001b[0;34m\"Зеленоградск\"\u001b[0m\u001b[0;34m\u001b[0m\u001b[0;34m\u001b[0m\u001b[0m\n\u001b[0;32m---> 78\u001b[0;31m \u001b[0mprint\u001b[0m\u001b[0;34m(\u001b[0m\u001b[0;34m\"Автобус в город\"\u001b[0m\u001b[0;34m,\u001b[0m \u001b[0mbus\u001b[0m\u001b[0;34m.\u001b[0m\u001b[0mget_city\u001b[0m\u001b[0;34m(\u001b[0m\u001b[0;34m)\u001b[0m\u001b[0;34m)\u001b[0m\u001b[0;34m\u001b[0m\u001b[0;34m\u001b[0m\u001b[0m\n\u001b[0m",
      "\u001b[0;31mAttributeError\u001b[0m: 'Bus' object has no attribute 'get_city'"
     ]
    }
   ],
   "source": [
    "class Auto:\n",
    "    def __init__(self):\n",
    "        self.number = \"\"  # номер автомобиля\n",
    "        self.power = 0    # мощность двигателя\n",
    "        \n",
    "    def get_tax(self):\n",
    "        \"\"\"\n",
    "        Возвращает налог на автомобиль в зависимости от его мощности.\n",
    "        \"\"\"\n",
    "        \n",
    "        rate = 12  # налоговая ставка\n",
    "        if self.power > 100:\n",
    "            rate = 25\n",
    "\n",
    "        return rate * self.power \n",
    "\n",
    "    \n",
    "class Bus(Auto):\n",
    "    \n",
    "    # Переопределяем метод get_tax() из класса Auto\n",
    "    def get_tax(self):\n",
    "        \"\"\"\n",
    "        Возвращает налог на автобус в зависимости от его мощности.\n",
    "        \"\"\"        \n",
    "        rate = 15  # налоговая ставка\n",
    "\n",
    "        return rate * self.power\n",
    "    \n",
    "    \n",
    "class InterCityBus(Bus):\n",
    "    def __init__(self):\n",
    "        self.city = \"\"\n",
    "        super().__init__()\n",
    "        \n",
    "    # Расширяем класс InterCityBus новым методом\n",
    "    def get_city(self):\n",
    "        return self.city\n",
    "    \n",
    "\n",
    "# Создаём автомобиль\n",
    "auto = Auto()\n",
    "\n",
    "# Устанавливаем мощность автомобиля.\n",
    "auto.power = 100\n",
    "\n",
    "# Получаем налог.\n",
    "print(\"Налог автомобиля (100 лс):\", auto.get_tax())\n",
    "\n",
    "# Создаём автобус.\n",
    "bus = Bus()\n",
    "\n",
    "# Устанавливаем мощность автобуса.\n",
    "bus.power = 300\n",
    "\n",
    "# Получаем налог.\n",
    "# Будет вызван метод .get_tax() из класса Bus.\n",
    "print(\"Налог автобуса (300 лс):\", bus.get_tax())\n",
    "\n",
    "# Создаём междугородний автобус.\n",
    "ic_bus = InterCityBus()\n",
    "\n",
    "# Устанавливаем мощность автобуса.\n",
    "ic_bus.power = 200\n",
    "\n",
    "# Получаем налог.\n",
    "# Будет вызван метод .get_tax() из класса Bus.\n",
    "print(\"Налог междогороднего автобуса (300 лс):\", ic_bus.get_tax())\n",
    "\n",
    "# Заполняем город.\n",
    "ic_bus.city = \"Светлогорск\"\n",
    "\n",
    "# Выводим город с помощью метода get_city().\n",
    "print(\"Автобус в город\", ic_bus.get_city())\n",
    "\n",
    "# Неудачная попытка использовать .get_city() в суперклассе Bus.\n",
    "bus.city = \"Зеленоградск\"\n",
    "print(\"Автобус в город\", bus.get_city())"
   ]
  },
  {
   "cell_type": "code",
   "execution_count": null,
   "id": "8cf89212",
   "metadata": {},
   "outputs": [],
   "source": []
  }
 ],
 "metadata": {
  "kernelspec": {
   "display_name": "Python 3 (ipykernel)",
   "language": "python",
   "name": "python3"
  },
  "language_info": {
   "codemirror_mode": {
    "name": "ipython",
    "version": 3
   },
   "file_extension": ".py",
   "mimetype": "text/x-python",
   "name": "python",
   "nbconvert_exporter": "python",
   "pygments_lexer": "ipython3",
   "version": "3.9.13"
  }
 },
 "nbformat": 4,
 "nbformat_minor": 5
}
