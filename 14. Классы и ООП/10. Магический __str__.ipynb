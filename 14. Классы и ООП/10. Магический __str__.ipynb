{
 "cells": [
  {
   "cell_type": "markdown",
   "id": "f28e1f4e-5cb6-462d-84f7-1ac1061addfa",
   "metadata": {},
   "source": [
    "# 01. Магический `.__str__()`\n",
    "\n",
    "**Магическием методы** - это специальные методы в Python-классах, которые расширяют возможности классов и делают работу с объектами более удобными, простыми и интуитивно понятными. \n",
    "\n",
    "Магическием методы начинаются и заканчиваются двойным подчеркиванием `__` и имеют имена, зарезервированные Питоном.\n",
    "\n",
    "Нередко магическием методы называют **дандер**-методами (Dunder от *Double Underline* - двойное подчеркивание)."
   ]
  },
  {
   "cell_type": "markdown",
   "id": "aee5e4c1-5d4d-4812-be1f-7e54b93feade",
   "metadata": {},
   "source": [
    "## Вывод объекта без использования `.__str__()`"
   ]
  },
  {
   "cell_type": "code",
   "execution_count": null,
   "id": "08cea43d-e4f9-4440-b537-c3360eaf51f5",
   "metadata": {},
   "outputs": [],
   "source": [
    "class Product:\n",
    "    \"\"\"\n",
    "    Класс для работы с товарами.\n",
    "    \"\"\"\n",
    "    \n",
    "    def __init__(self, name, price, quantity=0):\n",
    "        self.name = name\n",
    "        self.price = price\n",
    "        self.quantity = quantity\n",
    "\n",
    "    def amount(self):\n",
    "        return self.price * self.quantity\n",
    "\n",
    "\n",
    "# Создаём объект класса Product\n",
    "snickers = Product(\"Сникерс\", 109, 12)\n",
    "\n",
    "# Выводим объект\n",
    "print(snickers)"
   ]
  },
  {
   "cell_type": "markdown",
   "id": "5cc7d222-7091-44db-9221-550439e94cd8",
   "metadata": {},
   "source": [
    "## Создаём простейший `.__str__()`\n",
    "\n",
    "Метод `.__str__()` всегда должен возвращать строку."
   ]
  },
  {
   "cell_type": "code",
   "execution_count": null,
   "id": "90f7a87e-8246-4ef4-9414-c697e3719409",
   "metadata": {},
   "outputs": [],
   "source": [
    "class Product:\n",
    "    \n",
    "    def __init__(self, name, price, quantity=0):\n",
    "        self.name = name\n",
    "        self.price = price\n",
    "        self.quantity = quantity\n",
    "\n",
    "    def amount(self):\n",
    "        return self.price * self.quantity\n",
    "\n",
    "    def __str__(self):\n",
    "        # Возвращаем название товара\n",
    "        return self.name\n",
    "\n",
    "\n",
    "# Создаём объект класса Product\n",
    "snickers = Product(\"Сникерс\", 109, 12)\n",
    "\n",
    "# Выводим объект (выведется название товара)\n",
    "print(snickers)"
   ]
  },
  {
   "cell_type": "markdown",
   "id": "d1d9dbbb-89ff-40b4-b7ea-f8a3ea347fbe",
   "metadata": {},
   "source": [
    "## (Ошикба) Возврат числа"
   ]
  },
  {
   "cell_type": "code",
   "execution_count": null,
   "id": "13b209ca-3d31-49d8-9bf2-d8644924a7db",
   "metadata": {},
   "outputs": [],
   "source": [
    "class Product:\n",
    "    \n",
    "    def __init__(self, name, price, quantity=0):\n",
    "        self.name = name\n",
    "        self.price = price\n",
    "        self.quantity = quantity\n",
    "\n",
    "    def amount(self):\n",
    "        return self.price * self.quantity\n",
    "\n",
    "    def __str__(self):\n",
    "        # Возвращаем цену товара\n",
    "        return self.price\n",
    "\n",
    "\n",
    "# Создаём объект класса Product\n",
    "snickers = Product(\"Сникерс\", 109, 12)\n",
    "\n",
    "# Выводим объект (Ошибка! Метод .__str__() должен возвращать ТОЛЬКО СТРОКОВЫЕ ДАННЫЕ)\n",
    "print(snickers)"
   ]
  },
  {
   "cell_type": "markdown",
   "id": "9b2bcbdf-f852-497f-a0ad-2ee68603208b",
   "metadata": {},
   "source": [
    "## Правильный возврат числа\n",
    "\n",
    "Чтобы `.__str__()` вывел число без ошибки, нужно число преобразовать к строке. \n",
    "\n",
    "Например, с помощью функции `str()` или с использованием f-строк."
   ]
  },
  {
   "cell_type": "markdown",
   "id": "307d142d-e843-4ce9-bdb2-d03f5e5273cb",
   "metadata": {},
   "source": [
    "### Используем функцию `str()`"
   ]
  },
  {
   "cell_type": "code",
   "execution_count": null,
   "id": "44634467-b031-4fd9-9703-310b89b4db59",
   "metadata": {},
   "outputs": [],
   "source": [
    "class Product:\n",
    "    \n",
    "    def __init__(self, name, price, quantity=0):\n",
    "        self.name = name\n",
    "        self.price = price\n",
    "        self.quantity = quantity\n",
    "\n",
    "    def amount(self):\n",
    "        return self.price * self.quantity\n",
    "\n",
    "    def __str__(self):\n",
    "        # Возвращаем цену товара, предварительно приведя к строке.\n",
    "        return str(self.price)\n",
    "\n",
    "\n",
    "# Создаём объект класса Product\n",
    "snickers = Product(\"Сникерс\", 109, 12)\n",
    "\n",
    "# Выводим объект (выведется цена товара)\n",
    "print(snickers)"
   ]
  },
  {
   "cell_type": "markdown",
   "id": "5bfba903-639f-4f0a-8cb3-3f29553d8afd",
   "metadata": {},
   "source": [
    "### Используем f-строки"
   ]
  },
  {
   "cell_type": "code",
   "execution_count": null,
   "id": "ecf06d4d-fc9a-473c-b38e-f7bde769821e",
   "metadata": {},
   "outputs": [],
   "source": [
    "class Product:\n",
    "    \n",
    "    def __init__(self, name, price, quantity=0):\n",
    "        self.name = name\n",
    "        self.price = price\n",
    "        self.quantity = quantity\n",
    "\n",
    "    def amount(self):\n",
    "        return self.price * self.quantity\n",
    "\n",
    "    def __str__(self):\n",
    "        # Возвращаем цену товара, предварительно приведя к строке.\n",
    "        return f\"{self.price}\"\n",
    "\n",
    "\n",
    "# Создаём объект класса Product\n",
    "snickers = Product(\"Сникерс\", 109, 12)\n",
    "\n",
    "# Выводим объект (выведется цена товара)\n",
    "print(snickers)"
   ]
  },
  {
   "cell_type": "markdown",
   "id": "41ce3eb3-5194-40cd-af2e-45f0bd2dfa42",
   "metadata": {},
   "source": [
    "## Усложняем пример\n",
    "\n",
    "Магический `.__str__()` может возвращать любые строки и выводить любые атрибуты или значения методов.\n",
    "\n",
    "Фактически магический `.__str__()` возвращает текущее состояние объекта на момент его вывода."
   ]
  },
  {
   "cell_type": "code",
   "execution_count": null,
   "id": "0c6c6aee-1e3e-4f87-8288-9d818117e81e",
   "metadata": {},
   "outputs": [],
   "source": [
    "class Product:\n",
    "    \n",
    "    def __init__(self, name, price, quantity=0):\n",
    "        self.name = name\n",
    "        self.price = price\n",
    "        self.quantity = quantity\n",
    "\n",
    "    def amount(self):\n",
    "        return self.price * self.quantity\n",
    "\n",
    "    def __str__(self):\n",
    "        \"\"\"\n",
    "        Возвращаем подробное описание объекта.\n",
    "        \"\"\"\n",
    "        quantity = f\"Количество: {self.quantity}\"\n",
    "        total = f\"Полная стоимость: {self.amount()} руб.\"\n",
    "        return f\"Товар: {self.name}\\nЦена:  {self.price}\\n{quantity}\\n{total}\"\n",
    "\n",
    "\n",
    "# Создаём объект класса Product\n",
    "snickers = Product(\"Сникерс\", 109, 12)\n",
    "\n",
    "# Выводим объект\n",
    "print(snickers)"
   ]
  },
  {
   "cell_type": "code",
   "execution_count": null,
   "id": "d1f20235-16bf-42e9-b446-5a521de3835f",
   "metadata": {},
   "outputs": [],
   "source": []
  }
 ],
 "metadata": {
  "kernelspec": {
   "display_name": "Python 3 (ipykernel)",
   "language": "python",
   "name": "python3"
  },
  "language_info": {
   "codemirror_mode": {
    "name": "ipython",
    "version": 3
   },
   "file_extension": ".py",
   "mimetype": "text/x-python",
   "name": "python",
   "nbconvert_exporter": "python",
   "pygments_lexer": "ipython3",
   "version": "3.11.7"
  }
 },
 "nbformat": 4,
 "nbformat_minor": 5
}
