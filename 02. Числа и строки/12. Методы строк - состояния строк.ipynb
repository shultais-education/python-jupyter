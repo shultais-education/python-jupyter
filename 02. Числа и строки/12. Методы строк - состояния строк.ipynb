{
 "cells": [
  {
   "cell_type": "markdown",
   "id": "87687f62",
   "metadata": {},
   "source": [
    "# Методы строк: состояния строк"
   ]
  },
  {
   "cell_type": "code",
   "execution_count": 1,
   "id": "c0ab0935",
   "metadata": {},
   "outputs": [],
   "source": [
    "domain1 = \"www.yandex.ru\"\n",
    "domain2 = \"www.youtube.com\"\n",
    "domain3 = \"www.rutracker.org\"\n",
    "domain4 = \"yandex.ua\""
   ]
  },
  {
   "cell_type": "code",
   "execution_count": 3,
   "id": "85cf911b",
   "metadata": {},
   "outputs": [
    {
     "name": "stdout",
     "output_type": "stream",
     "text": [
      "www.yandex.ru 10\n",
      "www.youtube.com -1\n",
      "www.rutracker.org 3\n",
      "yandex.ua -1\n"
     ]
    }
   ],
   "source": [
    "# Проверяем, относятся ли домены к зоне RU\n",
    "# Поиск индекса, с которого начинается .ru\n",
    "print(domain1, domain1.find(\".ru\"))\n",
    "print(domain2, domain2.find(\".ru\"))\n",
    "print(domain3, domain3.find(\".ru\"))\n",
    "print(domain4, domain4.find(\".ru\"))"
   ]
  },
  {
   "cell_type": "markdown",
   "id": "e0eb2d6d",
   "metadata": {},
   "source": [
    "## Метод `.endswith()`\n",
    "\n",
    "Метод `.endswith(substr)` проверяет, **заканчивается** ли строка строкой `substr`. Если заканчиватся, то метод возвращает True (правда), в противном случае он вернет False.<br><br>\n",
    "**True** и **False** относятся к логическим типам данных, которые приинмают только два значения: правда и ложь."
   ]
  },
  {
   "cell_type": "code",
   "execution_count": 4,
   "id": "0a313540",
   "metadata": {},
   "outputs": [
    {
     "name": "stdout",
     "output_type": "stream",
     "text": [
      "www.yandex.ru True\n",
      "www.youtube.com False\n",
      "www.rutracker.org False\n",
      "yandex.ua False\n"
     ]
    }
   ],
   "source": [
    "# Проверяем, относятся ли домены к зоне RU\n",
    "print(domain1, domain1.endswith(\".ru\"))\n",
    "print(domain2, domain2.endswith(\".ru\"))\n",
    "print(domain3, domain3.endswith(\".ru\"))\n",
    "print(domain4, domain4.endswith(\".ru\"))"
   ]
  },
  {
   "cell_type": "code",
   "execution_count": 5,
   "id": "c38adbbd",
   "metadata": {},
   "outputs": [
    {
     "name": "stdout",
     "output_type": "stream",
     "text": [
      "True\n"
     ]
    }
   ],
   "source": [
    "# Создаем логическую переменную и присваиваем ей результат работы метода .endswith\n",
    "ru_domain = domain1.endswith(\"ru\")\n",
    "print(ru_domain)"
   ]
  },
  {
   "cell_type": "markdown",
   "id": "b5a2ae5c",
   "metadata": {},
   "source": [
    "## Метод `.startswith()`\n",
    "\n",
    "Метод `.startswith(substr)` проверяет, **начинается** ли строка строкой `substr`. Если начинается, то метод возвращает True (правда), в противном случае он вернет False."
   ]
  },
  {
   "cell_type": "code",
   "execution_count": 6,
   "id": "339ae1ce",
   "metadata": {},
   "outputs": [
    {
     "name": "stdout",
     "output_type": "stream",
     "text": [
      "www.yandex.ru True\n",
      "www.youtube.com True\n",
      "www.rutracker.org True\n",
      "yandex.ua False\n"
     ]
    }
   ],
   "source": [
    "# Проверяем, начинаются ли домены с www.\n",
    "print(domain1, domain1.startswith(\"www.\"))\n",
    "print(domain2, domain2.startswith(\"www.\"))\n",
    "print(domain3, domain3.startswith(\"www.\"))\n",
    "print(domain4, domain4.startswith(\"www.\"))"
   ]
  },
  {
   "cell_type": "markdown",
   "id": "9b481fdf",
   "metadata": {},
   "source": [
    "## Методы `.islower()` и `.isupper()`"
   ]
  },
  {
   "cell_type": "markdown",
   "id": "dcff02ee",
   "metadata": {},
   "source": [
    "Метод `.islower()` возваращет True если все буквы в строке находятся в **нижнем регистре** и False в протвном случае.<br><br>\n",
    "Метод `.isupper()` возваращет True если все буквы в строке находятся в **верхнем регистре** и False в протвном случае.<br><br>\n",
    "Оба метода не принимают параметров."
   ]
  },
  {
   "cell_type": "code",
   "execution_count": 8,
   "id": "00df1d61",
   "metadata": {},
   "outputs": [
    {
     "name": "stdout",
     "output_type": "stream",
     "text": [
      "www.yandex.ru True\n",
      "www.youtube.com True\n",
      "www.rutracker.org False\n",
      "yandex.ua False\n"
     ]
    }
   ],
   "source": [
    "# Проверка регистра символов\n",
    "print(domain1, domain1.islower())\n",
    "print(domain2, domain2.islower())\n",
    "print(domain3, domain3.isupper())\n",
    "print(domain4, domain4.isupper())"
   ]
  },
  {
   "cell_type": "code",
   "execution_count": null,
   "id": "8394c231",
   "metadata": {},
   "outputs": [],
   "source": []
  }
 ],
 "metadata": {
  "kernelspec": {
   "display_name": "Python 3 (ipykernel)",
   "language": "python",
   "name": "python3"
  },
  "language_info": {
   "codemirror_mode": {
    "name": "ipython",
    "version": 3
   },
   "file_extension": ".py",
   "mimetype": "text/x-python",
   "name": "python",
   "nbconvert_exporter": "python",
   "pygments_lexer": "ipython3",
   "version": "3.9.7"
  }
 },
 "nbformat": 4,
 "nbformat_minor": 5
}
