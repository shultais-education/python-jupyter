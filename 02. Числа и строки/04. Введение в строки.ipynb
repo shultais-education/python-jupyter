{
 "cells": [
  {
   "cell_type": "markdown",
   "id": "865a28bb",
   "metadata": {},
   "source": [
    "# Введение в строки"
   ]
  },
  {
   "cell_type": "markdown",
   "id": "d4bfb59f",
   "metadata": {},
   "source": [
    "Тип данных **\"строки\"** (string, str) предназначен для хранения текстовых данных.<br>\n",
    "Чтобы какой-то текст стал строкой, его надо поместить в \"двойные\" или 'одинарные' кавычки.<br>\n",
    "Кавычки всегда должны быть **парными**, если в начале стоят \"двойные\" кавчки, то в конце также должны быть \"двойные\" и наоборот."
   ]
  },
  {
   "cell_type": "markdown",
   "id": "8fff1f2f",
   "metadata": {},
   "source": [
    "## Базовый синтаксис"
   ]
  },
  {
   "cell_type": "code",
   "execution_count": 1,
   "id": "e3edbee1",
   "metadata": {},
   "outputs": [
    {
     "name": "stdout",
     "output_type": "stream",
     "text": [
      "Программирование\n"
     ]
    }
   ],
   "source": [
    "print(\"Программирование\")"
   ]
  },
  {
   "cell_type": "markdown",
   "id": "3334c27a",
   "metadata": {},
   "source": [
    "Строки, как и числа, можно присваивать переменным:"
   ]
  },
  {
   "cell_type": "code",
   "execution_count": 4,
   "id": "d1269679",
   "metadata": {},
   "outputs": [
    {
     "name": "stdout",
     "output_type": "stream",
     "text": [
      "Программирование\n"
     ]
    }
   ],
   "source": [
    "text = \"Программирование\"\n",
    "print(text)"
   ]
  },
  {
   "cell_type": "markdown",
   "id": "c1b040e6",
   "metadata": {},
   "source": [
    "## Распространенные ошибки\n",
    "<span style=\"color:red\">**Ошибка 1:**</span> Если имя переменной взять в кавычки, то она перестает быть переменной и становится обычной строкой:"
   ]
  },
  {
   "cell_type": "code",
   "execution_count": 3,
   "id": "84c29a08",
   "metadata": {},
   "outputs": [
    {
     "name": "stdout",
     "output_type": "stream",
     "text": [
      "text\n"
     ]
    }
   ],
   "source": [
    "text = \"Программирование\"\n",
    "print('text')  # Будет выведено слово 'text'"
   ]
  },
  {
   "cell_type": "markdown",
   "id": "3c8074e5",
   "metadata": {},
   "source": [
    "<span style=\"color:red\">**Ошибка 2:**</span> Использование непарных кавычек - это синтаксическая ошибка:"
   ]
  },
  {
   "cell_type": "code",
   "execution_count": 5,
   "id": "4422404b",
   "metadata": {},
   "outputs": [
    {
     "ename": "SyntaxError",
     "evalue": "EOL while scanning string literal (331188596.py, line 1)",
     "output_type": "error",
     "traceback": [
      "\u001b[0;36m  File \u001b[0;32m\"/var/folders/06/yl2tjjzn0779079l4x8lq1y80000gn/T/ipykernel_69996/331188596.py\"\u001b[0;36m, line \u001b[0;32m1\u001b[0m\n\u001b[0;31m    print(\"Программирование')\u001b[0m\n\u001b[0m                             ^\u001b[0m\n\u001b[0;31mSyntaxError\u001b[0m\u001b[0;31m:\u001b[0m EOL while scanning string literal\n"
     ]
    }
   ],
   "source": [
    "print(\"Программирование')"
   ]
  },
  {
   "cell_type": "markdown",
   "id": "65ad15ed",
   "metadata": {},
   "source": [
    "## Длина строки"
   ]
  },
  {
   "cell_type": "markdown",
   "id": "bb66b731",
   "metadata": {},
   "source": [
    "Строки в Python могут содержать текст **любой длины**."
   ]
  },
  {
   "cell_type": "code",
   "execution_count": 6,
   "id": "28452878",
   "metadata": {},
   "outputs": [
    {
     "name": "stdout",
     "output_type": "stream",
     "text": [
      "Программирование - это здорово!\n"
     ]
    }
   ],
   "source": [
    "print(\"Программирование - это здорово!\")  # Строки могут содержать пробелы и знаки препинания"
   ]
  },
  {
   "cell_type": "code",
   "execution_count": 7,
   "id": "21192616",
   "metadata": {},
   "outputs": [
    {
     "name": "stdout",
     "output_type": "stream",
     "text": [
      "31\n"
     ]
    }
   ],
   "source": [
    "print(len(\"Программирование - это здорово!\"))  # Получаем длину строки"
   ]
  },
  {
   "cell_type": "code",
   "execution_count": 8,
   "id": "44448206",
   "metadata": {},
   "outputs": [
    {
     "name": "stdout",
     "output_type": "stream",
     "text": [
      "31\n"
     ]
    }
   ],
   "source": [
    "text = \"Программирование - это здорово!\"\n",
    "print(len(text))  # Получаем длину строки, которая находится в переменной text"
   ]
  },
  {
   "cell_type": "markdown",
   "id": "b8ee35a8",
   "metadata": {},
   "source": [
    "## Работа с отдельными символами строк\n",
    "\n",
    "Cтроки - это не просто текст, это набор отдельных символов и мы можем работать с любым из символов по отдельности.<br>\n",
    "Чтобы обратиться к символу по его номеру, нужно после строки (или после переменной, которая содержит строку) поставить квадратные скобки, внутри которых указать номер (индекс) символа.<br>\n",
    "Индексация символов строк **начинается с нуля**.\n"
   ]
  },
  {
   "cell_type": "code",
   "execution_count": 9,
   "id": "424c9409",
   "metadata": {},
   "outputs": [
    {
     "name": "stdout",
     "output_type": "stream",
     "text": [
      "П\n"
     ]
    }
   ],
   "source": [
    "text = \"Программирование\"\n",
    "print(text[0])  # Получаем первый символ строки (нулевой по индексу)"
   ]
  },
  {
   "cell_type": "code",
   "execution_count": 10,
   "id": "39895446",
   "metadata": {},
   "outputs": [
    {
     "name": "stdout",
     "output_type": "stream",
     "text": [
      "е\n"
     ]
    }
   ],
   "source": [
    "text = \"Программирование\"\n",
    "print(text[15])  # Получаем последний символ строки"
   ]
  },
  {
   "cell_type": "markdown",
   "id": "dafb9348",
   "metadata": {},
   "source": [
    "Есть несколько **универсальных способов**  получить последний символ строки:\n",
    "1. Воспользоваться функцией `len()`, которая вычислит количество символов в строке, а затем вычесть из этого количества 1.\n",
    "2. Воспользоваться отрицательными индексами."
   ]
  },
  {
   "cell_type": "code",
   "execution_count": 11,
   "id": "94ad7049",
   "metadata": {},
   "outputs": [
    {
     "name": "stdout",
     "output_type": "stream",
     "text": [
      "е\n"
     ]
    }
   ],
   "source": [
    "text = \"Программирование\"\n",
    "print(text[len(text) -1])  # Вычисляем длину строки (16) и вычитаем 1, получается, что мы обращаемся text[15]"
   ]
  },
  {
   "cell_type": "code",
   "execution_count": 12,
   "id": "a010020a",
   "metadata": {},
   "outputs": [
    {
     "name": "stdout",
     "output_type": "stream",
     "text": [
      "е\n"
     ]
    }
   ],
   "source": [
    "text = \"Программирование\"\n",
    "print(text[-1])  # Обращаемся к последнему символу с помощью отрицательных индексов."
   ]
  },
  {
   "cell_type": "code",
   "execution_count": null,
   "id": "8a1a89fb",
   "metadata": {},
   "outputs": [],
   "source": []
  }
 ],
 "metadata": {
  "kernelspec": {
   "display_name": "Python 3 (ipykernel)",
   "language": "python",
   "name": "python3"
  },
  "language_info": {
   "codemirror_mode": {
    "name": "ipython",
    "version": 3
   },
   "file_extension": ".py",
   "mimetype": "text/x-python",
   "name": "python",
   "nbconvert_exporter": "python",
   "pygments_lexer": "ipython3",
   "version": "3.9.7"
  }
 },
 "nbformat": 4,
 "nbformat_minor": 5
}
