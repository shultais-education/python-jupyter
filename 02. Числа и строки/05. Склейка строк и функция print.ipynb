{
 "cells": [
  {
   "cell_type": "markdown",
   "id": "1c7b97e3",
   "metadata": {},
   "source": [
    "# Склейка строк и функция `print()`\n",
    "\n",
    "Склейка строк (**конкатенация**) в Python производится с поомщью оператора сложения `+`."
   ]
  },
  {
   "cell_type": "code",
   "execution_count": 2,
   "id": "d19196e6",
   "metadata": {},
   "outputs": [
    {
     "name": "stdout",
     "output_type": "stream",
     "text": [
      "pythonjavascriptphp\n"
     ]
    }
   ],
   "source": [
    "lang1 = \"python\"\n",
    "lang2 = \"javascript\"\n",
    "lang3 = \"php\"\n",
    "\n",
    "# Склеиваем в одну строку без пробелов\n",
    "langs = lang1 + lang2 + lang3\n",
    "print(langs)"
   ]
  },
  {
   "cell_type": "code",
   "execution_count": 3,
   "id": "6ff72693",
   "metadata": {},
   "outputs": [
    {
     "name": "stdout",
     "output_type": "stream",
     "text": [
      "python, javascript, php.\n"
     ]
    }
   ],
   "source": [
    "# Склеиваем в одну строку с разделителями.\n",
    "# Переменные можно чередовать со строками.\n",
    "langs = lang1 + ', ' + lang2 + ', ' + lang3 + '.'\n",
    "print(langs)"
   ]
  },
  {
   "cell_type": "markdown",
   "id": "875e3151",
   "metadata": {},
   "source": [
    "## Возможности `print()`\n",
    "\n",
    "Если в функцию `print()` передать несколько переменных, то она выведет их через пробел.<br>\n",
    "Сами переменные (аргументы) передаются в функцию `print()` через запятую `print(var1, var2, var3, ...)`."
   ]
  },
  {
   "cell_type": "code",
   "execution_count": 4,
   "id": "ff9bebcd",
   "metadata": {},
   "outputs": [
    {
     "name": "stdout",
     "output_type": "stream",
     "text": [
      "python javascript php\n"
     ]
    }
   ],
   "source": [
    "print(lang1, lang2, lang3)"
   ]
  },
  {
   "cell_type": "markdown",
   "id": "252e9e7e",
   "metadata": {},
   "source": [
    "Функция `print()` может принимать дополнительный параметр `sep`, который отвечает за разделитель.<br>\n",
    "По умолчанию раздилитель - это пробел, но мы всегда его можем изменить под наш задачи."
   ]
  },
  {
   "cell_type": "code",
   "execution_count": 6,
   "id": "362fc2c6",
   "metadata": {},
   "outputs": [
    {
     "name": "stdout",
     "output_type": "stream",
     "text": [
      "python, javascript, php\n"
     ]
    }
   ],
   "source": [
    "# Меняем разделитель на запятую с пробелом.\n",
    "print(lang1, lang2, lang3, sep=\", \")"
   ]
  },
  {
   "cell_type": "markdown",
   "id": "97c612e0",
   "metadata": {},
   "source": [
    "Также функция `print()` может принимать допополниетльный параметр `end`, который отвечает за финал (конец) строки.<br>\n",
    "По умолчанию `end` равен символу перевода строки `\"\\n\"` поэтому после вызова `print()` всегда следует новая пустая строка.<br>\n",
    "Но мы можем изменить такое поведение:"
   ]
  },
  {
   "cell_type": "code",
   "execution_count": 7,
   "id": "690f1da4",
   "metadata": {},
   "outputs": [
    {
     "name": "stdout",
     "output_type": "stream",
     "text": [
      "python, javascript, php.\n"
     ]
    }
   ],
   "source": [
    "# Меняем разделитель на запятую с пробелом, а в конце ставим точку с переносом строки:\n",
    "print(lang1, lang2, lang3, sep=\", \", end=\".\\n\")"
   ]
  },
  {
   "cell_type": "code",
   "execution_count": 9,
   "id": "bfb38b93",
   "metadata": {},
   "outputs": [
    {
     "name": "stdout",
     "output_type": "stream",
     "text": [
      "python, javascript, php.python, javascript, php.\n"
     ]
    }
   ],
   "source": [
    "# Вывод без перевода на новую строку.\n",
    "print(lang1, lang2, lang3, sep=\", \", end=\".\")\n",
    "print(langs)"
   ]
  },
  {
   "cell_type": "markdown",
   "id": "15c17b7d",
   "metadata": {},
   "source": [
    "## Умножение строки на число\n",
    "\n",
    "Если строку умножить на число, то строка будет повторена столько раз, сколько указано в числе."
   ]
  },
  {
   "cell_type": "code",
   "execution_count": 10,
   "id": "a663ae5d",
   "metadata": {},
   "outputs": [
    {
     "name": "stdout",
     "output_type": "stream",
     "text": [
      "python, javascript, php.\n",
      "----------\n"
     ]
    }
   ],
   "source": [
    "# Первая попытка подчеркнуть langs\n",
    "print(langs)\n",
    "print(\"-\" * 10)  # Строка \"-\" будет повторена 10 раз"
   ]
  },
  {
   "cell_type": "code",
   "execution_count": 11,
   "id": "d70684b8",
   "metadata": {},
   "outputs": [
    {
     "name": "stdout",
     "output_type": "stream",
     "text": [
      "python, javascript, php.\n",
      "------------------------\n"
     ]
    }
   ],
   "source": [
    "# Первая попытка подчеркнуть langs\n",
    "print(langs)\n",
    "print(\"-\" * len(langs))  # На этот раз строка будет повторена столько раз, сколько символов в строке langs"
   ]
  },
  {
   "cell_type": "code",
   "execution_count": null,
   "id": "bfe861ec",
   "metadata": {},
   "outputs": [],
   "source": []
  }
 ],
 "metadata": {
  "kernelspec": {
   "display_name": "Python 3 (ipykernel)",
   "language": "python",
   "name": "python3"
  },
  "language_info": {
   "codemirror_mode": {
    "name": "ipython",
    "version": 3
   },
   "file_extension": ".py",
   "mimetype": "text/x-python",
   "name": "python",
   "nbconvert_exporter": "python",
   "pygments_lexer": "ipython3",
   "version": "3.9.7"
  }
 },
 "nbformat": 4,
 "nbformat_minor": 5
}
