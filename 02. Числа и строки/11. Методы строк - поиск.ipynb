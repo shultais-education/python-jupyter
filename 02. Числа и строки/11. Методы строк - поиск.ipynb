{
 "cells": [
  {
   "cell_type": "markdown",
   "id": "8810185a",
   "metadata": {},
   "source": [
    "# Методы строк: поиск\n",
    "\n",
    "Поиск в строках осуществляется с помощью метода `.find(substr)`. Метод принимает строку `substr`, которую нужно найти и возвращает позицию (индекс), с которой искомая строка **начинается**. Если подстрока не найдена, то метод возвращает -1."
   ]
  },
  {
   "cell_type": "code",
   "execution_count": 2,
   "id": "5bb0eab4",
   "metadata": {},
   "outputs": [
    {
     "name": "stdout",
     "output_type": "stream",
     "text": [
      "5\n"
     ]
    }
   ],
   "source": [
    "# Получаем позицию, с которой начинается двоеточие с пробелом\n",
    "languages = \"Языки: Python, PHP, SQL, HTML, Java.\"\n",
    "langs_position = languages.find(\": \")\n",
    "print(langs_position)"
   ]
  },
  {
   "cell_type": "code",
   "execution_count": 4,
   "id": "eaa5e29b",
   "metadata": {},
   "outputs": [
    {
     "name": "stdout",
     "output_type": "stream",
     "text": [
      ": Python, PHP, SQL, HTML, Java.\n"
     ]
    }
   ],
   "source": [
    "# Получаем список языков с помощью срезов (неправильный вариант)\n",
    "only_langs = languages[langs_position:]\n",
    "print(only_langs)"
   ]
  },
  {
   "cell_type": "markdown",
   "id": "8f703da8",
   "metadata": {},
   "source": [
    "В примере выше мы получили подстроку, начиная с двоеточия. Чтобы пропустить саму искомую строку, нужно к позиции добавить её длину. Длина строки `\": \"` равна 2, а значит надо к `langs_position` добавить 2:"
   ]
  },
  {
   "cell_type": "code",
   "execution_count": 5,
   "id": "0fef0931",
   "metadata": {},
   "outputs": [
    {
     "name": "stdout",
     "output_type": "stream",
     "text": [
      "Python, PHP, SQL, HTML, Java.\n"
     ]
    }
   ],
   "source": [
    "# Получаем список языков с помощью срезов (правильный вариант)\n",
    "only_langs = languages[langs_position + 2:]\n",
    "print(only_langs)"
   ]
  },
  {
   "cell_type": "markdown",
   "id": "7a6b9a30",
   "metadata": {},
   "source": [
    "## Пропуск части строки\n",
    "\n",
    "Метод `.find(substr, start)` **может принимать** второй параметр `start`, который отвечает за индекс, с которого нужно начинать поиск. По умолчанию start равен нулю и поиск происходит с начала строки, но это несложно исправить.<br>\n",
    "В примере ниже мы ищем начало и конец второго языка в списке языков. "
   ]
  },
  {
   "cell_type": "code",
   "execution_count": 6,
   "id": "e447127c",
   "metadata": {},
   "outputs": [
    {
     "name": "stdout",
     "output_type": "stream",
     "text": [
      "PHP\n"
     ]
    }
   ],
   "source": [
    "# Ищем позцию (индекс), с которой начинается первая запятая с пробелом.\n",
    "# Добавляем 2, чтобы сразу пропустить саму искомую строку.\n",
    "second_language_start_position = languages.find(\", \") + 2\n",
    "\n",
    "# Ищем позцию (индекс), с которой начинается вторая запятая с пробелом\n",
    "# Для это начинаем поиск не с начала, а с позиции second_language_start_position,\n",
    "# то есть уже после первой запятой с пробелом.\n",
    "second_language_end_position = languages.find(\", \", second_language_start_position)\n",
    "\n",
    "# Получаем второй язык\n",
    "second_language = languages[second_language_start_position:second_language_end_position]\n",
    "print(second_language)"
   ]
  },
  {
   "cell_type": "markdown",
   "id": "a0c4dcb2",
   "metadata": {},
   "source": [
    "## Поиск в обратном направлении с помощью `.find()`\n",
    "\n",
    "С помощью метода `.find(substr)` можно искать строку `substr` справа налево, то есть с конца строки, а не с начала."
   ]
  },
  {
   "cell_type": "code",
   "execution_count": 7,
   "id": "68eb7f23",
   "metadata": {},
   "outputs": [
    {
     "name": "stdout",
     "output_type": "stream",
     "text": [
      "Java.\n"
     ]
    }
   ],
   "source": [
    "# Поиск запятой с пробелом, начиная с конца строки.\n",
    "# Иными словами мы получим последнюю запятую с пробелом.\n",
    "last_language_position = languages.rfind(\", \") + 2\n",
    "\n",
    "# Получаем последний язык\n",
    "last_language = languages[last_language_position:]\n",
    "print(last_language)"
   ]
  },
  {
   "cell_type": "markdown",
   "id": "6b3da6bf",
   "metadata": {},
   "source": [
    "Избавялемя от точки с помощью метода `.strip(char)`, который удаляет символ `char` справа и слева от строки."
   ]
  },
  {
   "cell_type": "code",
   "execution_count": 8,
   "id": "59cb026d",
   "metadata": {},
   "outputs": [
    {
     "name": "stdout",
     "output_type": "stream",
     "text": [
      "Java\n"
     ]
    }
   ],
   "source": [
    "# Поиск запятой с пробелом, начиная с конца строки.\n",
    "# Иными словами мы получим последнюю запятую с пробелом.\n",
    "last_language_position = languages.rfind(\", \") + 2\n",
    "\n",
    "# Получаем последний язык\n",
    "last_language = languages[last_language_position:].strip(\".\")\n",
    "print(last_language)"
   ]
  },
  {
   "cell_type": "code",
   "execution_count": null,
   "id": "10f40017",
   "metadata": {},
   "outputs": [],
   "source": []
  }
 ],
 "metadata": {
  "kernelspec": {
   "display_name": "Python 3 (ipykernel)",
   "language": "python",
   "name": "python3"
  },
  "language_info": {
   "codemirror_mode": {
    "name": "ipython",
    "version": 3
   },
   "file_extension": ".py",
   "mimetype": "text/x-python",
   "name": "python",
   "nbconvert_exporter": "python",
   "pygments_lexer": "ipython3",
   "version": "3.9.7"
  }
 },
 "nbformat": 4,
 "nbformat_minor": 5
}
