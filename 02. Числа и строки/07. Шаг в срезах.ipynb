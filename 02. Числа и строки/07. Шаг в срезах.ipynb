{
 "cells": [
  {
   "cell_type": "markdown",
   "id": "5deae54d",
   "metadata": {},
   "source": [
    "# Шаг в срезах\n",
    "\n",
    "Напомню, что с помощью срезов мы можем получать часть строки в промежутках ОТ (start) и ДО (end).<br>\n",
    "Если параметры ОТ и ДО не указывать, то срез вернет **копию** исходной строки:"
   ]
  },
  {
   "cell_type": "code",
   "execution_count": 1,
   "id": "c769e597",
   "metadata": {},
   "outputs": [
    {
     "name": "stdout",
     "output_type": "stream",
     "text": [
      "программирование\n"
     ]
    }
   ],
   "source": [
    "text = \"программирование\"\n",
    "text_copy = text[:]  # text_copy - это будет копия переменной text\n",
    "print(text_copy)"
   ]
  },
  {
   "cell_type": "markdown",
   "id": "3112300f",
   "metadata": {},
   "source": [
    "Помимо начального и конечного значения, в срез можно добавит третий параметр - ШАГ:<br>\n",
    "`строка[ОТ:ДО:ШАГ]`<br>\n",
    "Шаг позволяет выбирать не все символы подряд, а через определенный промежуток."
   ]
  },
  {
   "cell_type": "code",
   "execution_count": 3,
   "id": "786e03a6",
   "metadata": {},
   "outputs": [
    {
     "name": "stdout",
     "output_type": "stream",
     "text": [
      "E814 W631 Z745 L004\n"
     ]
    }
   ],
   "source": [
    "codes = \"E814 W631 Z745 L004\"\n",
    "letters = codes[:]\n",
    "print(letters)"
   ]
  },
  {
   "cell_type": "code",
   "execution_count": 4,
   "id": "ef9b1b2f",
   "metadata": {},
   "outputs": [
    {
     "name": "stdout",
     "output_type": "stream",
     "text": [
      "EWZL\n"
     ]
    }
   ],
   "source": [
    "# Получаем все буквы кодов (каждый 5 символ строки с начала и до конца)\n",
    "print(codes[::5])"
   ]
  },
  {
   "cell_type": "code",
   "execution_count": 5,
   "id": "0c5ae1ae",
   "metadata": {},
   "outputs": [
    {
     "name": "stdout",
     "output_type": "stream",
     "text": [
      "LZWE\n"
     ]
    }
   ],
   "source": [
    "# Получаем все буквы кодов в обратном порядке.\n",
    "# Начинаем с 4 символа с конца и двигамемся назад через 5 символов к началу строки.\n",
    "print(codes[-4::-5])"
   ]
  },
  {
   "cell_type": "code",
   "execution_count": 6,
   "id": "b9769abd",
   "metadata": {},
   "outputs": [
    {
     "name": "stdout",
     "output_type": "stream",
     "text": [
      "LZW\n"
     ]
    }
   ],
   "source": [
    "# Получаем все буквы кодов (кроме первой) в обратном порядке.\n",
    "# Начинаем с 4 символа с конца и двигамемся назад через 5 символов до 4 символа.\n",
    "print(codes[-4:4:-5])"
   ]
  },
  {
   "cell_type": "code",
   "execution_count": 7,
   "id": "40953bf6",
   "metadata": {},
   "outputs": [
    {
     "name": "stdout",
     "output_type": "stream",
     "text": [
      "WZ\n"
     ]
    }
   ],
   "source": [
    "# Получаем две центральные буквы в прямом порядке\n",
    "print(codes[5:11:5])"
   ]
  },
  {
   "cell_type": "markdown",
   "id": "43cb7c19",
   "metadata": {},
   "source": [
    "## Разворот строки\n",
    "\n",
    "Часто отрицательный шаг используется для разворота строки"
   ]
  },
  {
   "cell_type": "code",
   "execution_count": 8,
   "id": "5fa31357",
   "metadata": {},
   "outputs": [
    {
     "name": "stdout",
     "output_type": "stream",
     "text": [
      "еинавориммаргорп\n"
     ]
    }
   ],
   "source": [
    "text = \"программирование\"\n",
    "reverse_text = text[::-1]  # reverse_text - это развернутая копия переменной text\n",
    "print(reverse_text)"
   ]
  },
  {
   "cell_type": "code",
   "execution_count": null,
   "id": "8f734b08",
   "metadata": {},
   "outputs": [],
   "source": []
  }
 ],
 "metadata": {
  "kernelspec": {
   "display_name": "Python 3 (ipykernel)",
   "language": "python",
   "name": "python3"
  },
  "language_info": {
   "codemirror_mode": {
    "name": "ipython",
    "version": 3
   },
   "file_extension": ".py",
   "mimetype": "text/x-python",
   "name": "python",
   "nbconvert_exporter": "python",
   "pygments_lexer": "ipython3",
   "version": "3.9.7"
  }
 },
 "nbformat": 4,
 "nbformat_minor": 5
}
