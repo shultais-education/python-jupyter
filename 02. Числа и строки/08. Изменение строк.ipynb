{
 "cells": [
  {
   "cell_type": "markdown",
   "id": "f5ee0ab3",
   "metadata": {},
   "source": [
    "# Изменение строк\n",
    "\n",
    "<span style=\"color:red\">Строки - это **незменяемый** тип данных!</span> Нельзя в строке заменить одну букву другой. Также мы не можем заменить срез из символов."
   ]
  },
  {
   "cell_type": "code",
   "execution_count": 1,
   "id": "2c4423ea",
   "metadata": {},
   "outputs": [
    {
     "name": "stdout",
     "output_type": "stream",
     "text": [
      "Python\n"
     ]
    }
   ],
   "source": [
    "language = \"Python\"\n",
    "print(language)"
   ]
  },
  {
   "cell_type": "code",
   "execution_count": 6,
   "id": "9d88185d",
   "metadata": {},
   "outputs": [
    {
     "ename": "TypeError",
     "evalue": "'str' object does not support item assignment",
     "output_type": "error",
     "traceback": [
      "\u001b[0;31m---------------------------------------------------------------------------\u001b[0m",
      "\u001b[0;31mTypeError\u001b[0m                                 Traceback (most recent call last)",
      "\u001b[0;32m/var/folders/06/yl2tjjzn0779079l4x8lq1y80000gn/T/ipykernel_21060/3944155649.py\u001b[0m in \u001b[0;36m<module>\u001b[0;34m\u001b[0m\n\u001b[1;32m      1\u001b[0m \u001b[0;31m# Ошибка: попытка изменить строку\u001b[0m\u001b[0;34m\u001b[0m\u001b[0;34m\u001b[0m\u001b[0m\n\u001b[0;32m----> 2\u001b[0;31m \u001b[0mlanguage\u001b[0m\u001b[0;34m[\u001b[0m\u001b[0;36m0\u001b[0m\u001b[0;34m]\u001b[0m \u001b[0;34m=\u001b[0m \u001b[0;34m\"p\"\u001b[0m\u001b[0;34m\u001b[0m\u001b[0;34m\u001b[0m\u001b[0m\n\u001b[0m",
      "\u001b[0;31mTypeError\u001b[0m: 'str' object does not support item assignment"
     ]
    }
   ],
   "source": [
    "# Ошибка: попытка изменить строку\n",
    "language[0] = \"p\""
   ]
  },
  {
   "cell_type": "markdown",
   "id": "437c65d3",
   "metadata": {},
   "source": [
    "## Два способа *изменить* строку"
   ]
  },
  {
   "cell_type": "markdown",
   "id": "a32ed905",
   "metadata": {},
   "source": [
    "### 1. Создание новой строки"
   ]
  },
  {
   "cell_type": "code",
   "execution_count": 5,
   "id": "0f8a1b33",
   "metadata": {},
   "outputs": [
    {
     "name": "stdout",
     "output_type": "stream",
     "text": [
      "language: Python\n",
      "language_lower: python\n"
     ]
    }
   ],
   "source": [
    "language_lower = \"p\" + language[1:]\n",
    "\n",
    "print(\"language:\", language)\n",
    "print(\"language_lower:\", language_lower)"
   ]
  },
  {
   "cell_type": "markdown",
   "id": "e84d3442",
   "metadata": {},
   "source": [
    "### 2. Перезапись значения в текущей строке\n",
    "\n",
    "1. Сперва выполняется код **справа** от символа присваивания - в оперативной памяти создается строка \"p\", а затем к этой строке добавляется подстрока \"ython\" (`language[1:]`).<br>\n",
    "2. Далее строка \"python\" присваивается переменной language."
   ]
  },
  {
   "cell_type": "code",
   "execution_count": 9,
   "id": "a5328ba5",
   "metadata": {},
   "outputs": [
    {
     "name": "stdout",
     "output_type": "stream",
     "text": [
      "language: python\n"
     ]
    }
   ],
   "source": [
    "language = \"p\" + language[1:]\n",
    "print(\"language:\", language)"
   ]
  },
  {
   "cell_type": "markdown",
   "id": "6e269f34",
   "metadata": {},
   "source": [
    "### 2a. Перезапись значения в текущей строке (используем метод `.lower()`)"
   ]
  },
  {
   "cell_type": "code",
   "execution_count": 10,
   "id": "175a90fb",
   "metadata": {},
   "outputs": [
    {
     "name": "stdout",
     "output_type": "stream",
     "text": [
      "language: Python\n",
      "language: python\n"
     ]
    }
   ],
   "source": [
    "# Оригинальная строка\n",
    "language = \"Python\"\n",
    "print(\"language:\", language)\n",
    "\n",
    "# Измененная строка\n",
    "language = language.lower()\n",
    "print(\"language:\", language)"
   ]
  },
  {
   "cell_type": "code",
   "execution_count": null,
   "id": "6dae601d",
   "metadata": {},
   "outputs": [],
   "source": []
  }
 ],
 "metadata": {
  "kernelspec": {
   "display_name": "Python 3 (ipykernel)",
   "language": "python",
   "name": "python3"
  },
  "language_info": {
   "codemirror_mode": {
    "name": "ipython",
    "version": 3
   },
   "file_extension": ".py",
   "mimetype": "text/x-python",
   "name": "python",
   "nbconvert_exporter": "python",
   "pygments_lexer": "ipython3",
   "version": "3.9.7"
  }
 },
 "nbformat": 4,
 "nbformat_minor": 5
}
