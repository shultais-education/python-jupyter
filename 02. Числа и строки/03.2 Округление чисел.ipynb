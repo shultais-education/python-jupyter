{
 "cells": [
  {
   "cell_type": "markdown",
   "id": "2c71cae1",
   "metadata": {},
   "source": [
    "# Округление чисел\n",
    "\n",
    "В Python есть несколько способов округлить вещественное число, один из них – это воспользоваться функцией `round()`, которая может принимать *один или два* параметра.\n",
    "\n",
    "Первым параметром `round()` принимает число, которое нужно округлить. \n",
    "Второй параметр отвечает за количество знаков, которое нужно оставить после десятичной точки. Если второй параметр не передавать, то произойдет округление **до целого** числа."
   ]
  },
  {
   "cell_type": "markdown",
   "id": "ac6eeaaf",
   "metadata": {},
   "source": [
    "## Округление до 2-х знаков после десятичной точки"
   ]
  },
  {
   "cell_type": "code",
   "execution_count": null,
   "id": "e24d133c",
   "metadata": {},
   "outputs": [],
   "source": [
    "usd = 80.9657\n",
    "eur = 86.5\n",
    "\n",
    "print(round(usd, 2))"
   ]
  },
  {
   "cell_type": "markdown",
   "id": "c097857d",
   "metadata": {},
   "source": [
    "## Округление до целого"
   ]
  },
  {
   "cell_type": "code",
   "execution_count": null,
   "id": "c0d93b22",
   "metadata": {},
   "outputs": [],
   "source": [
    "# Округление до целого, но при этом результат остается вещественным (float)\n",
    "print(round(usd, 0))"
   ]
  },
  {
   "cell_type": "code",
   "execution_count": null,
   "id": "f3157751",
   "metadata": {},
   "outputs": [],
   "source": [
    "# Округление до целого (int)\n",
    "print(round(usd))"
   ]
  },
  {
   "cell_type": "markdown",
   "id": "b34af2af",
   "metadata": {},
   "source": [
    "## Банковское округление\n",
    "\n",
    "В Python используется банковское округлнеие, в котором числа, содержаще `.5` окгугляются до ближайшего **четного**:<br>\n",
    "`round(86.5) -> 86`, так как ближайшее четное - это **86** (округление вниз),<br>\n",
    "`round(87.5) -> 88`, так как ближайшее четное - это **88** (округление вверх).\n"
   ]
  },
  {
   "cell_type": "code",
   "execution_count": null,
   "id": "e91eca5a",
   "metadata": {},
   "outputs": [],
   "source": [
    "# Пример банковского округления\n",
    "print(round(86.5))"
   ]
  },
  {
   "cell_type": "markdown",
   "id": "edb9f1cc",
   "metadata": {},
   "source": [
    "## Округление строк\n",
    "\n",
    "Функция `round()` может работать только с числами. Поэтому если в программу поступает строка, то её сперва нужно преобразовать к числу."
   ]
  },
  {
   "cell_type": "code",
   "execution_count": null,
   "id": "26c01d1c",
   "metadata": {},
   "outputs": [],
   "source": [
    "# usd2 - строка\n",
    "usd2 = \"80.9657\"\n",
    "\n",
    "# Преобразуем usd2 к вещественному числу (float)\n",
    "usd2 = float(usd2)\n",
    "\n",
    "# Округляем до 3-х знаков после десятичной точки\n",
    "print(round(usd2, 3))"
   ]
  },
  {
   "cell_type": "code",
   "execution_count": null,
   "id": "32e73ba4",
   "metadata": {},
   "outputs": [],
   "source": []
  }
 ],
 "metadata": {
  "kernelspec": {
   "display_name": "Python 3 (ipykernel)",
   "language": "python",
   "name": "python3"
  },
  "language_info": {
   "codemirror_mode": {
    "name": "ipython",
    "version": 3
   },
   "file_extension": ".py",
   "mimetype": "text/x-python",
   "name": "python",
   "nbconvert_exporter": "python",
   "pygments_lexer": "ipython3",
   "version": "3.9.13"
  }
 },
 "nbformat": 4,
 "nbformat_minor": 5
}
