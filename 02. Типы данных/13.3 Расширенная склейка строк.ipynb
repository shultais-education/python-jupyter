{
 "cells": [
  {
   "cell_type": "markdown",
   "id": "06c7d57d",
   "metadata": {},
   "source": [
    "# Расширенная склейка строк\n",
    "\n",
    "Склейка строк с помощью оператора `+` называется **конкатенацией**: `\"Строка 1\" + \"СТРОКА 2\" + \"строка 3\"`.<br>\n",
    "Конкатенация не единственный способ соединять строки."
   ]
  },
  {
   "cell_type": "code",
   "execution_count": null,
   "id": "046cfd88",
   "metadata": {},
   "outputs": [],
   "source": [
    "lang = \"Python \"\n",
    "text = \"Программирование это весело\"\n",
    "print(text)"
   ]
  },
  {
   "cell_type": "markdown",
   "id": "c12f9391",
   "metadata": {},
   "source": [
    "Если между несколькими строками стоит один или несколько пробелов, Python воспринимает их как одну **цельную строку**. При этом не важно какие используются кавычки."
   ]
  },
  {
   "cell_type": "code",
   "execution_count": null,
   "id": "cd815059",
   "metadata": {},
   "outputs": [],
   "source": [
    "text = \"Программирование \" 'это '    \"весело\"\n",
    "print(text)"
   ]
  },
  {
   "cell_type": "markdown",
   "id": "305dc81b",
   "metadata": {},
   "source": [
    "В случае **конкатенации** Python создает несколько отдельных строк, а затем их склеивает в одну."
   ]
  },
  {
   "cell_type": "code",
   "execution_count": null,
   "id": "8c39ba02",
   "metadata": {},
   "outputs": [],
   "source": [
    "text = \"Программирование \" 'это '    \"весело\"\n",
    "text2 = \"Программирование \" + 'это ' + \"весело\"\n",
    "print(text)\n",
    "print(text2)"
   ]
  },
  {
   "cell_type": "code",
   "execution_count": null,
   "id": "3bc33ad2",
   "metadata": {},
   "outputs": [],
   "source": [
    "# Пример работы с разными строками\n",
    "text = \"Программирование \" 'это '    \"весело\".upper()\n",
    "text2 = \"Программирование \" + 'это ' + \"весело\".upper()\n",
    "print(text)\n",
    "print(text2)"
   ]
  },
  {
   "cell_type": "markdown",
   "id": "4ccc2a3e",
   "metadata": {},
   "source": [
    "## Ошибки склейки\n",
    "\n",
    "В случае склейки **БЕЗ** оператора `+` мы можем использовать только строки.<br>\n",
    "Вставлять методы между строк нельзя.<br>\n",
    "Также нельзя вместо строк вставлять переменные."
   ]
  },
  {
   "cell_type": "code",
   "execution_count": null,
   "id": "b4095e1d",
   "metadata": {},
   "outputs": [],
   "source": [
    "lang = \"Python \"\n",
    "\n",
    "# Ошибка 1: использование метода\n",
    "text = \"Программирование \" 'это '.upper()    \"весело\""
   ]
  },
  {
   "cell_type": "code",
   "execution_count": null,
   "id": "c8620051",
   "metadata": {},
   "outputs": [],
   "source": [
    "lang = \"Python \"\n",
    "\n",
    "# Ошибка 2: использование переменной\n",
    "text = lang 'это ' \"весело\" .upper()"
   ]
  },
  {
   "cell_type": "markdown",
   "id": "5c081a57",
   "metadata": {},
   "source": [
    "## Чередование `+` и склейки без операторов\n",
    "\n",
    "В одной физической строке можно использовать как склейку с помощью оператора `+`, так и склейку без операторов."
   ]
  },
  {
   "cell_type": "code",
   "execution_count": null,
   "id": "57d80953",
   "metadata": {},
   "outputs": [],
   "source": [
    "lang = \"Python \"\n",
    "\n",
    "# Формируем строки разными способами\n",
    "text = lang + 'это ' \"весело\" .upper()\n",
    "text2 = \"Программирование \" + 'это '.upper() + \"весело\"\n",
    "\n",
    "print(text)\n",
    "print(text2)"
   ]
  },
  {
   "cell_type": "markdown",
   "id": "0ce7a7c5",
   "metadata": {},
   "source": [
    "## Разбитие одной логической строки на несколько физических\n",
    "\n",
    "С помощью обратного слеша `\\` можно разбивать одну логическую строку или длинные выражения на несколько физических строк."
   ]
  },
  {
   "cell_type": "code",
   "execution_count": null,
   "id": "26fa7acc",
   "metadata": {},
   "outputs": [],
   "source": [
    "lang = \"Python \"\n",
    "\n",
    "text = lang + \\\n",
    "       \"это \" \\\n",
    "       \"весело\" .upper()\n",
    "\n",
    "text2 = \"Программирование \" + \\\n",
    "        'это '.upper() + \\\n",
    "        \"весело\"\n",
    "\n",
    "print(text)\n",
    "print(text2)"
   ]
  }
 ],
 "metadata": {
  "kernelspec": {
   "display_name": "Python 3 (ipykernel)",
   "language": "python",
   "name": "python3"
  },
  "language_info": {
   "codemirror_mode": {
    "name": "ipython",
    "version": 3
   },
   "file_extension": ".py",
   "mimetype": "text/x-python",
   "name": "python",
   "nbconvert_exporter": "python",
   "pygments_lexer": "ipython3",
   "version": "3.9.13"
  }
 },
 "nbformat": 4,
 "nbformat_minor": 5
}
