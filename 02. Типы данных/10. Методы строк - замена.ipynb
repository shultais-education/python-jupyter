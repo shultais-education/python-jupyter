{
 "cells": [
  {
   "cell_type": "markdown",
   "id": "9d498518",
   "metadata": {},
   "source": [
    "# Методы строк: замена\n",
    "\n",
    "Метод `.replace(a, b)` принимает два параметра:\n",
    "- a - строка, **которую** нужно заменить;\n",
    "- b - строка, **на которую** нужно заменить.\n",
    "\n",
    "То есть меняем a на b.\n"
   ]
  },
  {
   "cell_type": "code",
   "execution_count": 4,
   "id": "a077b536",
   "metadata": {},
   "outputs": [
    {
     "name": "stdout",
     "output_type": "stream",
     "text": [
      "жыраф\n",
      "жираф\n"
     ]
    }
   ],
   "source": [
    "# Оригинальный animal\n",
    "animal = \"жыраф\"\n",
    "print(animal)\n",
    "\n",
    "# Замена жы на жи в переменной animal\n",
    "animal = animal.replace(\"жы\", \"жи\")\n",
    "print(animal)"
   ]
  },
  {
   "cell_type": "markdown",
   "id": "e54bb69c",
   "metadata": {},
   "source": [
    "Длина строк, которые участвуют в замене может быть разной:"
   ]
  },
  {
   "cell_type": "code",
   "execution_count": 3,
   "id": "9461a8fc",
   "metadata": {},
   "outputs": [
    {
     "name": "stdout",
     "output_type": "stream",
     "text": [
      "жыраф\n",
      "автограф\n"
     ]
    }
   ],
   "source": [
    "# Оригинальный animal\n",
    "animal = \"жыраф\"\n",
    "print(animal)\n",
    "\n",
    "# Замена жы на автог в переменной animal\n",
    "animal = animal.replace(\"жы\", \"автог\")\n",
    "print(animal)"
   ]
  },
  {
   "cell_type": "markdown",
   "id": "72b795e8",
   "metadata": {},
   "source": [
    "С помощью цепочки метдов можно сделать несколько замен подряд:"
   ]
  },
  {
   "cell_type": "code",
   "execution_count": 7,
   "id": "77282435",
   "metadata": {},
   "outputs": [
    {
     "name": "stdout",
     "output_type": "stream",
     "text": [
      "жыраф шырокий\n",
      "жираф широкий\n"
     ]
    }
   ],
   "source": [
    "# Оригинальный animal\n",
    "animal = \"жыраф шырокий\"\n",
    "print(animal)\n",
    "\n",
    "# Несколько замен в переменной animal\n",
    "animal = animal.replace(\"жы\", \"жи\").replace(\"шы\", \"ши\")\n",
    "print(animal)"
   ]
  },
  {
   "cell_type": "code",
   "execution_count": 10,
   "id": "e6f36e60",
   "metadata": {},
   "outputs": [
    {
     "name": "stdout",
     "output_type": "stream",
     "text": [
      "жыраф шырокий\n",
      "Жираф Широкий\n"
     ]
    }
   ],
   "source": [
    "# Оригинальный animal\n",
    "animal = \"жыраф шырокий\"\n",
    "print(animal)\n",
    "\n",
    "# Несколько замен в переменной animal + метод title() в конце после выполнения замена\n",
    "animal = animal.replace(\"жы\", \"жи\").replace(\"шы\", \"ши\").title()\n",
    "print(animal)"
   ]
  },
  {
   "cell_type": "markdown",
   "id": "d40ec2df",
   "metadata": {},
   "source": [
    "Строки, которые мы передаем в метод `.replace()` **регистрозависимые**:"
   ]
  },
  {
   "cell_type": "code",
   "execution_count": 11,
   "id": "657f5b58",
   "metadata": {},
   "outputs": [
    {
     "name": "stdout",
     "output_type": "stream",
     "text": [
      "жыраф Шырокий\n",
      "Жираф Шырокий\n"
     ]
    }
   ],
   "source": [
    "# Оригинальный animal\n",
    "animal = \"жыраф Шырокий\"\n",
    "print(animal)\n",
    "\n",
    "# Несколько замен в переменной animal + метод title() в конце после выполнения замена\n",
    "# .replace(\"шы\", \"ши\") не сработает, так как в оригинальной строке \"Шы\" записана с заглавной буквы\n",
    "animal = animal.replace(\"жы\", \"жи\").replace(\"шы\", \"ши\").title()\n",
    "print(animal)"
   ]
  },
  {
   "cell_type": "markdown",
   "id": "6a2e8115",
   "metadata": {},
   "source": [
    "Когда цепочка методов становится слишком длинной, можно записать всем методы с новой строки, что сделает код более читаемым:"
   ]
  },
  {
   "cell_type": "code",
   "execution_count": 12,
   "id": "7508473a",
   "metadata": {},
   "outputs": [
    {
     "name": "stdout",
     "output_type": "stream",
     "text": [
      "жыраф Шырокий\n",
      "Жираф Широкий\n"
     ]
    }
   ],
   "source": [
    "# Оригинальный animal\n",
    "animal = \"жыраф Шырокий\"\n",
    "print(animal)\n",
    "\n",
    "# Полная цепочка замен в переменной animal + метод title() в конце после выполнения замена\n",
    "animal = animal.\\\n",
    "    replace(\"жы\", \"жи\").\\\n",
    "    replace(\"Жы\", \"Жи\").\\\n",
    "    replace(\"жЫ\", \"жИ\").\\\n",
    "    replace(\"ЖЫ\", \"ЖИ\").\\\n",
    "    replace(\"шы\", \"ши\").\\\n",
    "    replace(\"Шы\", \"Ши\").\\\n",
    "    replace(\"шЫ\", \"шИ\").\\\n",
    "    replace(\"ШЫ\", \"ШИ\").\\\n",
    "    title()\n",
    "print(animal)"
   ]
  },
  {
   "cell_type": "code",
   "execution_count": null,
   "id": "2c250f4c",
   "metadata": {},
   "outputs": [],
   "source": []
  }
 ],
 "metadata": {
  "kernelspec": {
   "display_name": "Python 3 (ipykernel)",
   "language": "python",
   "name": "python3"
  },
  "language_info": {
   "codemirror_mode": {
    "name": "ipython",
    "version": 3
   },
   "file_extension": ".py",
   "mimetype": "text/x-python",
   "name": "python",
   "nbconvert_exporter": "python",
   "pygments_lexer": "ipython3",
   "version": "3.9.7"
  }
 },
 "nbformat": 4,
 "nbformat_minor": 5
}
