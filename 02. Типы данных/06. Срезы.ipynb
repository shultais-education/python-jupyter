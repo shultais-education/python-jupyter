{
 "cells": [
  {
   "cell_type": "markdown",
   "id": "442585bc",
   "metadata": {},
   "source": [
    "# Срезы\n",
    "\n",
    "Срезы - это особый синтаксис обращения к строкам, который позволяет получать только **часть строки** в промежуток ОТ и ДО.<br>\n",
    "Срезы записываются в квадратных скобоках, которые следуют после строки.<br>\n",
    "`строка[ОТ:ДО]`, где ОТ - это начальный индекс, а ДО - конечный индекс (не включая символ, кототый расположен на позиции ДО)."
   ]
  },
  {
   "cell_type": "code",
   "execution_count": 1,
   "id": "7cf23d88",
   "metadata": {},
   "outputs": [],
   "source": [
    "card_number = \"4532151219948973\""
   ]
  },
  {
   "cell_type": "code",
   "execution_count": 3,
   "id": "825c84f6",
   "metadata": {},
   "outputs": [
    {
     "name": "stdout",
     "output_type": "stream",
     "text": [
      "4532\n"
     ]
    }
   ],
   "source": [
    "# Получаем первые 4 символа строки\n",
    "print(card_number[0:4])"
   ]
  },
  {
   "cell_type": "code",
   "execution_count": 4,
   "id": "cd39cd66",
   "metadata": {},
   "outputs": [
    {
     "name": "stdout",
     "output_type": "stream",
     "text": [
      "8973\n"
     ]
    }
   ],
   "source": [
    "# Получаем последние 4 символа строки\n",
    "print(card_number[12:16])"
   ]
  },
  {
   "cell_type": "code",
   "execution_count": 5,
   "id": "89db0bcb",
   "metadata": {},
   "outputs": [
    {
     "name": "stdout",
     "output_type": "stream",
     "text": [
      "8973\n"
     ]
    }
   ],
   "source": [
    "# Получаем последние 4 символа строки (используем len)\n",
    "print(card_number[12:len(card_number)])"
   ]
  },
  {
   "cell_type": "code",
   "execution_count": 6,
   "id": "d9f6b2a7",
   "metadata": {},
   "outputs": [
    {
     "name": "stdout",
     "output_type": "stream",
     "text": [
      "8973\n"
     ]
    }
   ],
   "source": [
    "# Получаем последние 4 символа строки (используем len и обратную индексацию)\n",
    "print(card_number[-4:len(card_number)])"
   ]
  },
  {
   "cell_type": "code",
   "execution_count": 7,
   "id": "10e59172",
   "metadata": {},
   "outputs": [
    {
     "name": "stdout",
     "output_type": "stream",
     "text": [
      "8973\n"
     ]
    }
   ],
   "source": [
    "# Получаем последние 4 символа строки (срез ОТ -4 и ДО конца строки)\n",
    "print(card_number[-4:])"
   ]
  },
  {
   "cell_type": "code",
   "execution_count": 8,
   "id": "3abcf052",
   "metadata": {},
   "outputs": [
    {
     "name": "stdout",
     "output_type": "stream",
     "text": [
      "4532\n"
     ]
    }
   ],
   "source": [
    "# Получаем первые 4 символа строки (срез ОТ начала строки и ДО 4 символа)\n",
    "print(card_number[:4])"
   ]
  },
  {
   "cell_type": "markdown",
   "id": "fac323f8",
   "metadata": {},
   "source": [
    "## Вывод скрытого номера"
   ]
  },
  {
   "cell_type": "code",
   "execution_count": 9,
   "id": "9cba3065",
   "metadata": {},
   "outputs": [
    {
     "name": "stdout",
     "output_type": "stream",
     "text": [
      "************8973\n"
     ]
    }
   ],
   "source": [
    "hidden_card_number = \"*\" * 12 + card_number[-4:]\n",
    "print(hidden_card_number)"
   ]
  },
  {
   "cell_type": "code",
   "execution_count": null,
   "id": "3834b8b9",
   "metadata": {},
   "outputs": [],
   "source": []
  }
 ],
 "metadata": {
  "kernelspec": {
   "display_name": "Python 3 (ipykernel)",
   "language": "python",
   "name": "python3"
  },
  "language_info": {
   "codemirror_mode": {
    "name": "ipython",
    "version": 3
   },
   "file_extension": ".py",
   "mimetype": "text/x-python",
   "name": "python",
   "nbconvert_exporter": "python",
   "pygments_lexer": "ipython3",
   "version": "3.9.7"
  }
 },
 "nbformat": 4,
 "nbformat_minor": 5
}
