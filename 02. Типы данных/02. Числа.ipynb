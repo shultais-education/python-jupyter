{
 "cells": [
  {
   "cell_type": "markdown",
   "id": "fb639fed",
   "metadata": {},
   "source": [
    "# Числа"
   ]
  },
  {
   "cell_type": "markdown",
   "id": "f4b65872",
   "metadata": {},
   "source": [
    "Числа - один из самых простых типов данных в Python.<br>\n",
    "Числа бывают целыми (*integer*, *int*) и вещественными (*float*)."
   ]
  },
  {
   "cell_type": "code",
   "execution_count": 20,
   "id": "076f7a0d",
   "metadata": {},
   "outputs": [
    {
     "name": "stdout",
     "output_type": "stream",
     "text": [
      "9\n"
     ]
    }
   ],
   "source": [
    "child_age = 9     # Создаем переменную child_age и помещаем в неё целое число 9\n",
    "print(child_age)  # Выводим значение переменной child_age"
   ]
  },
  {
   "cell_type": "code",
   "execution_count": 4,
   "id": "be7c59de",
   "metadata": {},
   "outputs": [
    {
     "name": "stdout",
     "output_type": "stream",
     "text": [
      "9 31\n"
     ]
    }
   ],
   "source": [
    "child_age = 9     \n",
    "parent_age = 31           # Создаем переменную parent_age и помещаем в неё число 31\n",
    "print(child_age, parent_age)  # Выводим значения переменных child_age и parent_age"
   ]
  },
  {
   "cell_type": "code",
   "execution_count": 5,
   "id": "95b9c2d4",
   "metadata": {},
   "outputs": [
    {
     "name": "stdout",
     "output_type": "stream",
     "text": [
      "22\n"
     ]
    }
   ],
   "source": [
    "child_age = 9     \n",
    "parent_age = 31           \n",
    "print(parent_age - child_age)  # Вычисляем возраст, когда родитель стал родителем"
   ]
  },
  {
   "cell_type": "markdown",
   "id": "0f62af16",
   "metadata": {},
   "source": [
    "Ошибочное вычисление среднего возраста (без учета приоритета операций):"
   ]
  },
  {
   "cell_type": "code",
   "execution_count": 6,
   "id": "00ff9da5",
   "metadata": {},
   "outputs": [
    {
     "name": "stdout",
     "output_type": "stream",
     "text": [
      "48.5\n"
     ]
    }
   ],
   "source": [
    "child_age = 9     \n",
    "parent_age = 31     \n",
    "parent2_age = 35\n",
    "parents_age_avg = parent_age + parent2_age / 2\n",
    "print(parents_age_avg)"
   ]
  },
  {
   "cell_type": "markdown",
   "id": "d1f5f9bc",
   "metadata": {},
   "source": [
    "Правильное вычисление среднего возраста (с учетом приоритета операций):"
   ]
  },
  {
   "cell_type": "code",
   "execution_count": 7,
   "id": "74c863b1",
   "metadata": {},
   "outputs": [
    {
     "name": "stdout",
     "output_type": "stream",
     "text": [
      "33.0\n"
     ]
    }
   ],
   "source": [
    "child_age = 9     \n",
    "parent_age = 31     \n",
    "parent2_age = 35\n",
    "parents_age_avg = (parent_age + parent2_age) / 2\n",
    "print(parents_age_avg)"
   ]
  },
  {
   "cell_type": "markdown",
   "id": "fe7bb13e",
   "metadata": {},
   "source": [
    "## Вещественные числа\n",
    "\n",
    "Вещественное число (*float*) состоит из целой и дробной части, которые разделены точкой:<br>\n",
    "Например, 13.3 - `13` (целая часть), `.3` (дробная часть).<br>\n",
    "В Python при делении всегда получаются вещественные числа, даже если деление происходит без остатка и дробная часть равна 0.<br>\n",
    "Чтобы преобразовать вещественное число в целое, нужно воспользоваться функцией `int()`, которая отбрасывает дробную часть."
   ]
  },
  {
   "cell_type": "code",
   "execution_count": 8,
   "id": "c46cd546",
   "metadata": {},
   "outputs": [
    {
     "name": "stdout",
     "output_type": "stream",
     "text": [
      "33\n"
     ]
    }
   ],
   "source": [
    "child_age = 9     \n",
    "parent_age = 31     \n",
    "parent2_age = 35\n",
    "parents_age_avg = int((parent_age + parent2_age) / 2)  # Вычисляем средний возраст и приводим к целому числу.\n",
    "print(parents_age_avg)"
   ]
  },
  {
   "cell_type": "markdown",
   "id": "492bd3db",
   "metadata": {},
   "source": [
    "## Операции над числами"
   ]
  },
  {
   "cell_type": "code",
   "execution_count": 9,
   "id": "2f5879fe",
   "metadata": {},
   "outputs": [
    {
     "name": "stdout",
     "output_type": "stream",
     "text": [
      "7\n"
     ]
    }
   ],
   "source": [
    "print(3 + 4)  # сложение"
   ]
  },
  {
   "cell_type": "code",
   "execution_count": 10,
   "id": "5f5423a0",
   "metadata": {},
   "outputs": [
    {
     "name": "stdout",
     "output_type": "stream",
     "text": [
      "-1\n"
     ]
    }
   ],
   "source": [
    "print(3 - 4)  # вычитание"
   ]
  },
  {
   "cell_type": "code",
   "execution_count": 11,
   "id": "626763ab",
   "metadata": {},
   "outputs": [
    {
     "name": "stdout",
     "output_type": "stream",
     "text": [
      "12\n"
     ]
    }
   ],
   "source": [
    "print(3 * 4)  # умножение"
   ]
  },
  {
   "cell_type": "code",
   "execution_count": 12,
   "id": "3a9df8c9",
   "metadata": {},
   "outputs": [
    {
     "name": "stdout",
     "output_type": "stream",
     "text": [
      "0.75\n"
     ]
    }
   ],
   "source": [
    "print(3 / 4)  # деление"
   ]
  },
  {
   "cell_type": "code",
   "execution_count": 13,
   "id": "1fe882ba",
   "metadata": {},
   "outputs": [
    {
     "name": "stdout",
     "output_type": "stream",
     "text": [
      "81\n"
     ]
    }
   ],
   "source": [
    "print(3 ** 4)  # возведение в степень"
   ]
  },
  {
   "cell_type": "code",
   "execution_count": 17,
   "id": "7ac32aad",
   "metadata": {},
   "outputs": [
    {
     "name": "stdout",
     "output_type": "stream",
     "text": [
      "33\n",
      "33\n"
     ]
    }
   ],
   "source": [
    "print(67 // 2)      # целочисленное деление\n",
    "print(int(67 / 2))  # тоже самое, что и деление + приведение к целому с помощью int()"
   ]
  },
  {
   "cell_type": "code",
   "execution_count": 14,
   "id": "0849a47e",
   "metadata": {},
   "outputs": [
    {
     "name": "stdout",
     "output_type": "stream",
     "text": [
      "0\n"
     ]
    }
   ],
   "source": [
    "print(3 ** 4 % 9)  # получение остатка от деления 81 на 9"
   ]
  },
  {
   "cell_type": "code",
   "execution_count": 15,
   "id": "70e27b9e",
   "metadata": {},
   "outputs": [
    {
     "name": "stdout",
     "output_type": "stream",
     "text": [
      "4\n"
     ]
    }
   ],
   "source": [
    "print(3 ** 4 % 7)  # получение остатка от деления 81 на 7"
   ]
  },
  {
   "cell_type": "markdown",
   "id": "79ed22f6",
   "metadata": {},
   "source": [
    "**Что значит остаток от деления 81 на 7.**<br>\n",
    "Представим, что у нас 81 апельсин и 7 человек, которым нужно раздать апельсины поровну.<br>\n",
    "Если разделить 81 на 7, то получим *11.571428571428571*, то есть ровно поделить не получится.<br>\n",
    "Ровно мы можем раздать только 11 апельсинов и еще несколько останется.<br>\n",
    "> 11 x 7 = 77 (апельсинов мы можем разделить поровну).<br>\n",
    "> 81 - 77 = 4 (апельсина останется после деления).<br>\n",
    "\n",
    "Итого: остаток от деления 81 на 7 равен 4. Именно его и вычисляет оператор `%`\n",
    "\n"
   ]
  },
  {
   "cell_type": "markdown",
   "id": "0280991b",
   "metadata": {},
   "source": [
    "## Проверка числа на четность\n",
    "Остаток от деления на 2 говорит нам о том, четное число или нет.<br>\n",
    "У **четных** чисел отстаток от деления на 2 равен 0.<br>\n",
    "У **нечетных** чисел отстаток от деления на 2 равен 1."
   ]
  },
  {
   "cell_type": "code",
   "execution_count": 18,
   "id": "44a6a446",
   "metadata": {},
   "outputs": [
    {
     "name": "stdout",
     "output_type": "stream",
     "text": [
      "1\n"
     ]
    }
   ],
   "source": [
    "print(77 % 2)  # Нечетное"
   ]
  },
  {
   "cell_type": "code",
   "execution_count": 19,
   "id": "2e58279d",
   "metadata": {},
   "outputs": [
    {
     "name": "stdout",
     "output_type": "stream",
     "text": [
      "0\n"
     ]
    }
   ],
   "source": [
    "print(16 % 2)  # Четное"
   ]
  },
  {
   "cell_type": "code",
   "execution_count": null,
   "id": "5611e93d",
   "metadata": {},
   "outputs": [],
   "source": []
  }
 ],
 "metadata": {
  "kernelspec": {
   "display_name": "Python 3 (ipykernel)",
   "language": "python",
   "name": "python3"
  },
  "language_info": {
   "codemirror_mode": {
    "name": "ipython",
    "version": 3
   },
   "file_extension": ".py",
   "mimetype": "text/x-python",
   "name": "python",
   "nbconvert_exporter": "python",
   "pygments_lexer": "ipython3",
   "version": "3.9.7"
  }
 },
 "nbformat": 4,
 "nbformat_minor": 5
}
