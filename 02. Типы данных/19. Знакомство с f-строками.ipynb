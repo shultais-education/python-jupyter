{
 "cells": [
  {
   "cell_type": "markdown",
   "id": "479b05a2",
   "metadata": {},
   "source": [
    "# Знакомство с f-строками\n",
    "\n",
    "f-строки - это еще один способ форматирования строк, который появился в Python 3.6. В отличии от метода `.format()`, в который нужно явно передавать аргументы, f-строки берут данные прямо из переменных в программе."
   ]
  },
  {
   "cell_type": "code",
   "execution_count": null,
   "id": "a6b36b93",
   "metadata": {},
   "outputs": [],
   "source": [
    "# Форматирование с помощью метода .format()\n",
    "first_name = \"Олег\"\n",
    "last_name = \"Федоров\"\n",
    "age = 32\n",
    "\n",
    "print(\"Меня зовут {first_name}. Мне {age} года\".format(\n",
    "    first_name=first_name, age=age))"
   ]
  },
  {
   "cell_type": "code",
   "execution_count": null,
   "id": "aecc4b65",
   "metadata": {},
   "outputs": [],
   "source": [
    "# Такое же форматирование с помощью f-строк\n",
    "first_name = \"Олег\"\n",
    "last_name = \"Федоров\"\n",
    "age = 32\n",
    "\n",
    "print(f\"Меня зовут {first_name}. Мне {age} года\")"
   ]
  },
  {
   "cell_type": "markdown",
   "id": "4dd22621",
   "metadata": {},
   "source": [
    "## Форматирование\n",
    "\n",
    "f-строки также как и метод `.format()` поддерживают спецификаторы форматирования."
   ]
  },
  {
   "cell_type": "code",
   "execution_count": null,
   "id": "02c29435",
   "metadata": {},
   "outputs": [],
   "source": [
    "first_name = \"Олег\"\n",
    "last_name = \"Федоров\"\n",
    "age = 32\n",
    "\n",
    "# Выравниваем имя по центру в строке длиной 10 символов\n",
    "print(f\"Меня зовут {first_name:_^10}. Мне {age} года\")"
   ]
  },
  {
   "cell_type": "markdown",
   "id": "84abde80",
   "metadata": {},
   "source": [
    "## Индексы, срезы, методы\n",
    "\n",
    "Внутри f-строк можно использовать индексы и срезы, а также вызывать методы строк."
   ]
  },
  {
   "cell_type": "code",
   "execution_count": null,
   "id": "41df287c",
   "metadata": {},
   "outputs": [],
   "source": [
    "first_name = \"Олег\"\n",
    "last_name = \"Федоров\"\n",
    "age = 32\n",
    "\n",
    "# Выводим фамилию в верхнем регистре. \n",
    "# От имени оставляем только первую букву.\n",
    "print(f\"Меня зовут {last_name.upper()} {first_name[0]}. Мне {age} года\")"
   ]
  },
  {
   "cell_type": "markdown",
   "id": "d40f7179",
   "metadata": {},
   "source": [
    "Вызов методов или использование срезов **можно совмещать** с помощью спецификаторов форматирования."
   ]
  },
  {
   "cell_type": "code",
   "execution_count": null,
   "id": "7461fe18",
   "metadata": {},
   "outputs": [],
   "source": [
    "first_name = \"Олег\"\n",
    "last_name = \"Федоров\"\n",
    "age = 32\n",
    "\n",
    "# Выводим фамилию в верхнем регистре с выравниваем по правому краю.\n",
    "# От имени оставляем только первую букву.\n",
    "print(f\"Меня зовут {last_name.upper():_>10} {first_name[0]}. Мне {age} года\")"
   ]
  },
  {
   "cell_type": "markdown",
   "id": "bf4ae8a8",
   "metadata": {},
   "source": [
    "## Работа с числами\n",
    "\n",
    "Помимо методов, внутри f-строк можно использовать и функции."
   ]
  },
  {
   "cell_type": "code",
   "execution_count": null,
   "id": "ad7563b4",
   "metadata": {},
   "outputs": [],
   "source": [
    "first_name = \"Олег\"\n",
    "last_name = \"Федоров\"\n",
    "age = 32.5\n",
    "\n",
    "# Используем функцию int() для преобразования вещественного числа в целое\n",
    "print(f\"Меня зовут {last_name.upper():_>10} {first_name[0]}. Мне {int(age)} года\")"
   ]
  },
  {
   "cell_type": "code",
   "execution_count": null,
   "id": "b184885a",
   "metadata": {},
   "outputs": [],
   "source": [
    "first_name = \"Олег\"\n",
    "last_name = \"Федоров\"\n",
    "age = 32.5\n",
    "\n",
    "# Округляем age до целого\n",
    "print(f\"Меня зовут {last_name.upper():_>10} {first_name[0]}. Мне {age:.0f} года\")"
   ]
  },
  {
   "cell_type": "markdown",
   "id": "c99d1205",
   "metadata": {},
   "source": [
    "А еще f-строки поддерживают простейшие математические операции: `+` `-` `*` `/` "
   ]
  },
  {
   "cell_type": "code",
   "execution_count": null,
   "id": "cc2d5242",
   "metadata": {},
   "outputs": [],
   "source": [
    "first_name = \"Олег\"\n",
    "last_name = \"Федоров\"\n",
    "age = 32.5\n",
    "\n",
    "# Добавляем к age единицу и округяем до целого\n",
    "print(f\"Меня зовут {last_name.upper():_>10} {first_name[0]}. Мне {age + 1:.0f} года\")"
   ]
  },
  {
   "cell_type": "code",
   "execution_count": null,
   "id": "6e0bb189",
   "metadata": {},
   "outputs": [],
   "source": []
  }
 ],
 "metadata": {
  "kernelspec": {
   "display_name": "Python 3 (ipykernel)",
   "language": "python",
   "name": "python3"
  },
  "language_info": {
   "codemirror_mode": {
    "name": "ipython",
    "version": 3
   },
   "file_extension": ".py",
   "mimetype": "text/x-python",
   "name": "python",
   "nbconvert_exporter": "python",
   "pygments_lexer": "ipython3",
   "version": "3.9.13"
  }
 },
 "nbformat": 4,
 "nbformat_minor": 5
}
