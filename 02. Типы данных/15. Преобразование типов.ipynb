{
 "cells": [
  {
   "cell_type": "markdown",
   "id": "193ab944",
   "metadata": {},
   "source": [
    "## Преобразование типов\n",
    "\n",
    "Обычно информация, которую вводит пользователь, поступает в программу **в виде строки** (str). Даже если пользователь передает число."
   ]
  },
  {
   "cell_type": "code",
   "execution_count": 1,
   "id": "b9d5ea98",
   "metadata": {},
   "outputs": [],
   "source": [
    "# В переменной salary храниться строка, но она содержит цифры.\n",
    "salary = \"50000\""
   ]
  },
  {
   "cell_type": "code",
   "execution_count": 2,
   "id": "9314f7f8",
   "metadata": {},
   "outputs": [
    {
     "name": "stdout",
     "output_type": "stream",
     "text": [
      "500005000050000500005000050000500005000050000500005000050000\n"
     ]
    }
   ],
   "source": [
    "# Вычисляем годовую зарплату сотрудника\n",
    "year_salary = salary * 12\n",
    "print(year_salary)"
   ]
  },
  {
   "cell_type": "markdown",
   "id": "c32ddfb0",
   "metadata": {},
   "source": [
    "## Преобразование к целым числам с помощью `int()`\n",
    "\n",
    "Для преобразования строк или вещественных чисел к целым числам, нужно использовать универсальную функцию `int()`."
   ]
  },
  {
   "cell_type": "code",
   "execution_count": 3,
   "id": "61ae5e9f",
   "metadata": {},
   "outputs": [
    {
     "name": "stdout",
     "output_type": "stream",
     "text": [
      "600000\n"
     ]
    }
   ],
   "source": [
    "# Вычисляем годовую зарплату сотрудника с предварительным преобразованием к целому числу.\n",
    "year_salary = int(salary) * 12\n",
    "print(year_salary)"
   ]
  },
  {
   "cell_type": "code",
   "execution_count": 4,
   "id": "8ff60597",
   "metadata": {},
   "outputs": [
    {
     "ename": "ValueError",
     "evalue": "invalid literal for int() with base 10: '50000.5'",
     "output_type": "error",
     "traceback": [
      "\u001b[0;31m---------------------------------------------------------------------------\u001b[0m",
      "\u001b[0;31mValueError\u001b[0m                                Traceback (most recent call last)",
      "\u001b[0;32m/var/folders/4x/2537g_nd51d_lb51c66z1jzm0000gn/T/ipykernel_28958/2589887337.py\u001b[0m in \u001b[0;36m<module>\u001b[0;34m\u001b[0m\n\u001b[1;32m      1\u001b[0m \u001b[0;31m# Неудачная попытка преобразовать строку с точкой к целому числу.\u001b[0m\u001b[0;34m\u001b[0m\u001b[0;34m\u001b[0m\u001b[0m\n\u001b[1;32m      2\u001b[0m \u001b[0msalary\u001b[0m \u001b[0;34m=\u001b[0m \u001b[0;34m\"50000.5\"\u001b[0m\u001b[0;34m\u001b[0m\u001b[0;34m\u001b[0m\u001b[0m\n\u001b[0;32m----> 3\u001b[0;31m \u001b[0myear_salary\u001b[0m \u001b[0;34m=\u001b[0m \u001b[0mint\u001b[0m\u001b[0;34m(\u001b[0m\u001b[0msalary\u001b[0m\u001b[0;34m)\u001b[0m \u001b[0;34m*\u001b[0m \u001b[0;36m12\u001b[0m\u001b[0;34m\u001b[0m\u001b[0;34m\u001b[0m\u001b[0m\n\u001b[0m\u001b[1;32m      4\u001b[0m \u001b[0mprint\u001b[0m\u001b[0;34m(\u001b[0m\u001b[0myear_salary\u001b[0m\u001b[0;34m)\u001b[0m\u001b[0;34m\u001b[0m\u001b[0;34m\u001b[0m\u001b[0m\n",
      "\u001b[0;31mValueError\u001b[0m: invalid literal for int() with base 10: '50000.5'"
     ]
    }
   ],
   "source": [
    "# Неудачная попытка преобразовать строку с точкой к целому числу.\n",
    "salary = \"50000.5\"\n",
    "year_salary = int(salary) * 12\n",
    "print(year_salary)"
   ]
  },
  {
   "cell_type": "markdown",
   "id": "249ca4b5",
   "metadata": {},
   "source": [
    "## Преобразование к вещественным числам с помощью `float()`\n",
    "\n",
    "Для преобразования строк или целых чисел к вещественным числам, нужно использовать универсальную функцию `float()`."
   ]
  },
  {
   "cell_type": "code",
   "execution_count": 5,
   "id": "6899db79",
   "metadata": {},
   "outputs": [
    {
     "name": "stdout",
     "output_type": "stream",
     "text": [
      "600006.0\n"
     ]
    }
   ],
   "source": [
    "# Успешное преобразование строки с точкой к вещественному числу.\n",
    "salary = \"50000.5\"\n",
    "year_salary = float(salary) * 12\n",
    "print(year_salary)"
   ]
  },
  {
   "cell_type": "code",
   "execution_count": 11,
   "id": "bd250743",
   "metadata": {},
   "outputs": [
    {
     "name": "stdout",
     "output_type": "stream",
     "text": [
      "600000\n"
     ]
    }
   ],
   "source": [
    "# Двойное преобразование - спервка к float, а затем к int.\n",
    "salary = \"50000.5\"\n",
    "year_salary = int(float(salary)) * 12\n",
    "print(year_salary)"
   ]
  },
  {
   "cell_type": "code",
   "execution_count": 9,
   "id": "2c00cb67",
   "metadata": {},
   "outputs": [
    {
     "ename": "TypeError",
     "evalue": "can only concatenate str (not \"float\") to str",
     "output_type": "error",
     "traceback": [
      "\u001b[0;31m---------------------------------------------------------------------------\u001b[0m",
      "\u001b[0;31mTypeError\u001b[0m                                 Traceback (most recent call last)",
      "\u001b[0;32m/var/folders/4x/2537g_nd51d_lb51c66z1jzm0000gn/T/ipykernel_28958/2895706481.py\u001b[0m in \u001b[0;36m<module>\u001b[0;34m\u001b[0m\n\u001b[1;32m      2\u001b[0m \u001b[0msalary\u001b[0m \u001b[0;34m=\u001b[0m \u001b[0;34m\"50000.5\"\u001b[0m\u001b[0;34m\u001b[0m\u001b[0;34m\u001b[0m\u001b[0m\n\u001b[1;32m      3\u001b[0m \u001b[0myear_salary\u001b[0m \u001b[0;34m=\u001b[0m \u001b[0mfloat\u001b[0m\u001b[0;34m(\u001b[0m\u001b[0msalary\u001b[0m\u001b[0;34m)\u001b[0m \u001b[0;34m*\u001b[0m \u001b[0;36m12\u001b[0m\u001b[0;34m\u001b[0m\u001b[0;34m\u001b[0m\u001b[0m\n\u001b[0;32m----> 4\u001b[0;31m \u001b[0mprint\u001b[0m\u001b[0;34m(\u001b[0m\u001b[0;34m\"Ваша годовая зарплата: \"\u001b[0m \u001b[0;34m+\u001b[0m \u001b[0myear_salary\u001b[0m\u001b[0;34m)\u001b[0m\u001b[0;34m\u001b[0m\u001b[0;34m\u001b[0m\u001b[0m\n\u001b[0m",
      "\u001b[0;31mTypeError\u001b[0m: can only concatenate str (not \"float\") to str"
     ]
    }
   ],
   "source": [
    "# Неудачная попытка склеить вещественное число со строкой:\n",
    "salary = \"50000.5\"\n",
    "year_salary = float(salary) * 12\n",
    "print(\"Ваша годовая зарплата: \" + year_salary)"
   ]
  },
  {
   "cell_type": "markdown",
   "id": "94480e0c",
   "metadata": {},
   "source": [
    "## Преобразование к строке с помощью функции `str()`\n",
    "\n",
    "Для преобразования целых и вещественных чисел к строковому типу, нужно использовать универсальную функцию `str()`.<br>\n",
    "Функция `str()` может преобразовывать к строке и другие типы данных: дату и время, списки, кортежи, словари и тд."
   ]
  },
  {
   "cell_type": "code",
   "execution_count": 10,
   "id": "a3258814",
   "metadata": {},
   "outputs": [
    {
     "name": "stdout",
     "output_type": "stream",
     "text": [
      "Ваша годовая зарплата: 600006.0\n"
     ]
    }
   ],
   "source": [
    "# Успешная склейка строки и строки:\n",
    "salary = \"50000.5\"\n",
    "year_salary = float(salary) * 12\n",
    "print(\"Ваша годовая зарплата: \" + str(year_salary))"
   ]
  },
  {
   "cell_type": "code",
   "execution_count": null,
   "id": "cee47bd9",
   "metadata": {},
   "outputs": [],
   "source": []
  }
 ],
 "metadata": {
  "kernelspec": {
   "display_name": "Python 3 (ipykernel)",
   "language": "python",
   "name": "python3"
  },
  "language_info": {
   "codemirror_mode": {
    "name": "ipython",
    "version": 3
   },
   "file_extension": ".py",
   "mimetype": "text/x-python",
   "name": "python",
   "nbconvert_exporter": "python",
   "pygments_lexer": "ipython3",
   "version": "3.9.13"
  }
 },
 "nbformat": 4,
 "nbformat_minor": 5
}
