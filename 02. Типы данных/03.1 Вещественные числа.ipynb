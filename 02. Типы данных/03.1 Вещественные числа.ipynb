{
 "cells": [
  {
   "cell_type": "markdown",
   "id": "68e4fd69",
   "metadata": {},
   "source": [
    "# Вещественные числа\n"
   ]
  },
  {
   "cell_type": "markdown",
   "id": "3383941d",
   "metadata": {},
   "source": [
    "Вещественные числа (числа с плавающей точкой) – часла, которые состоят из целой и дробной части, отделенных друг от друга точкой.<br>\n",
    "Примеры: `12.3`, `0.5`, `1234.62`, `3.1415`, `12.0`, `.25`<br>\n",
    "Обратите внимание на число `12.0` - его дробная часть равна нулю, однако это всё равно вещественное число.<br>\n",
    "Также обратите внимание на число `.25` - его целая часть равна нулю, поэтому мы можем её не указыать. Такое число равнозначно `0.25`. "
   ]
  },
  {
   "cell_type": "markdown",
   "id": "631fadc9",
   "metadata": {},
   "source": [
    "В Python3 при делении любых чисел результатом **всегда** будет вещественное число:"
   ]
  },
  {
   "cell_type": "code",
   "execution_count": 1,
   "id": "515a97a8",
   "metadata": {},
   "outputs": [
    {
     "name": "stdout",
     "output_type": "stream",
     "text": [
      "500.3461427972281\n"
     ]
    }
   ],
   "source": [
    "LIGHT_SPEED = 299_792_458\n",
    "SUN_DISTANCE = 150_000_000_000\n",
    "time = SUN_DISTANCE / LIGHT_SPEED\n",
    "print(time)"
   ]
  },
  {
   "cell_type": "markdown",
   "id": "635fd8c0",
   "metadata": {},
   "source": [
    "Чтобы в коде сделать любое число вещественным, достаточно поставить после него точку или применить функцию `float()`:"
   ]
  },
  {
   "cell_type": "code",
   "execution_count": 4,
   "id": "1dfbd9e8",
   "metadata": {},
   "outputs": [],
   "source": [
    "LIGHT_SPEED   = 299_792_458   # целое число\n",
    "LIGHT_SPEED_2 = 299_792_458.  # вещественное число\n",
    "LIGHT_SPEED_3 = float(299_792_458)  # тоже вещественное число"
   ]
  },
  {
   "cell_type": "markdown",
   "id": "658d69bc",
   "metadata": {},
   "source": [
    "Если в любой математической операции присутствует хотя бы одно вещественное число, то результат всегда будет также вещественным:"
   ]
  },
  {
   "cell_type": "code",
   "execution_count": 6,
   "id": "3245f551",
   "metadata": {},
   "outputs": [
    {
     "name": "stdout",
     "output_type": "stream",
     "text": [
      "19.0\n"
     ]
    }
   ],
   "source": [
    "# В сложении участвуют три числа: целое + вещественное + целое.\n",
    "# Результат - вещественное.\n",
    "print(12 + 4.0 + 3)"
   ]
  },
  {
   "cell_type": "markdown",
   "id": "ccfdbc61",
   "metadata": {},
   "source": [
    "При **делении** всегда получается вещественное число, даже если делиние происходит без остатка:"
   ]
  },
  {
   "cell_type": "code",
   "execution_count": 7,
   "id": "f7929c07",
   "metadata": {},
   "outputs": [
    {
     "name": "stdout",
     "output_type": "stream",
     "text": [
      "4.0\n"
     ]
    }
   ],
   "source": [
    "# Делим два целых числа, результат будет вещественным\n",
    "print(12 / 3)"
   ]
  },
  {
   "cell_type": "markdown",
   "id": "48404927",
   "metadata": {},
   "source": [
    "Если число возвести в степень **0.5**, то это равносильно взятию квадратного корня из этого числа.<br>\n",
    "Если число возвести в степень **0.25**, то это равносильно взятию корня четвертой степени из этого числа:"
   ]
  },
  {
   "cell_type": "code",
   "execution_count": 9,
   "id": "85855fa2",
   "metadata": {},
   "outputs": [
    {
     "name": "stdout",
     "output_type": "stream",
     "text": [
      "3.0\n",
      "9.0\n"
     ]
    }
   ],
   "source": [
    "print(81 ** .25)  # Корень 4-й степени из 81\n",
    "print(81 ** .5)   # Квадратный корень из 81"
   ]
  },
  {
   "cell_type": "code",
   "execution_count": null,
   "id": "6fcad735",
   "metadata": {},
   "outputs": [],
   "source": []
  }
 ],
 "metadata": {
  "kernelspec": {
   "display_name": "Python 3 (ipykernel)",
   "language": "python",
   "name": "python3"
  },
  "language_info": {
   "codemirror_mode": {
    "name": "ipython",
    "version": 3
   },
   "file_extension": ".py",
   "mimetype": "text/x-python",
   "name": "python",
   "nbconvert_exporter": "python",
   "pygments_lexer": "ipython3",
   "version": "3.9.7"
  }
 },
 "nbformat": 4,
 "nbformat_minor": 5
}
