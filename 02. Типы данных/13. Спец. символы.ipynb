{
 "cells": [
  {
   "cell_type": "markdown",
   "id": "ef498b53",
   "metadata": {},
   "source": [
    "# Спец. символы\n",
    "\n",
    "Спец. символы - это особый класс строковых символов, который начинаетася с обратного слеша `\\` за которым следует какая-либо буква.<br>\n",
    "В программе спец. символ занимет два символа, но в реальности он преобразуется к одному.<br>\n",
    "\n",
    "1. `\\n` - символ перевода на новую строку\n",
    "2. `\\t` - табуляция\n",
    "3. `\\\"` или `\\'` - символ кавычки, позволяет вставлять в строку любые кавычки, даже если они совпадают с крайними кавычками, которые эту строку ограничивают.\n",
    "4. `\\\\` - спец. символ для обратного слеша `\\`\n"
   ]
  },
  {
   "cell_type": "code",
   "execution_count": 3,
   "id": "5603e851",
   "metadata": {},
   "outputs": [
    {
     "name": "stdout",
     "output_type": "stream",
     "text": [
      "python, javascript, sql.\n"
     ]
    }
   ],
   "source": [
    "lang1 = \"python\"\n",
    "lang2 = \"javascript\"\n",
    "lang3 = \"sql\"\n",
    "\n",
    "# Выводим три переменные через запятую с пробелом (sep=\", \"). \n",
    "# В конце вывода вставляем точку и делем перенос строки (end=\"\\n\")\n",
    "print(lang1, lang2, lang3, sep=\", \", end=\".\\n\")"
   ]
  },
  {
   "cell_type": "code",
   "execution_count": 5,
   "id": "5f0fc48f",
   "metadata": {},
   "outputs": [
    {
     "name": "stdout",
     "output_type": "stream",
     "text": [
      "python\n",
      "javascript\n",
      "sql\n"
     ]
    }
   ],
   "source": [
    "# Формируем строку с переносами строки\n",
    "langs = \"python\\njavascript\\nsql\"\n",
    "print(langs)"
   ]
  },
  {
   "cell_type": "code",
   "execution_count": 6,
   "id": "85a3eeec",
   "metadata": {},
   "outputs": [
    {
     "name": "stdout",
     "output_type": "stream",
     "text": [
      "Языки:\n",
      "\tpython\n",
      "\tjavascript\n",
      "\tsql\n"
     ]
    }
   ],
   "source": [
    "# Формируем строку с переносами строки и табуляцией\n",
    "langs = \"Языки:\\n\\tpython\\n\\tjavascript\\n\\tsql\"\n",
    "print(langs)"
   ]
  },
  {
   "cell_type": "code",
   "execution_count": 7,
   "id": "80fd0512",
   "metadata": {},
   "outputs": [
    {
     "name": "stdout",
     "output_type": "stream",
     "text": [
      "Языки:\n",
      "\t\"python\"\n",
      "\tjavascript\n",
      "\tsql\n"
     ]
    }
   ],
   "source": [
    "# Формируем строку с переносами строки и табуляцией\n",
    "# Слово python помещаем в двойные кавычки.\n",
    "langs = \"Языки:\\n\\t\\\"python\\\"\\n\\tjavascript\\n\\tsql\"\n",
    "print(langs)"
   ]
  },
  {
   "cell_type": "code",
   "execution_count": 9,
   "id": "c301f45e",
   "metadata": {},
   "outputs": [
    {
     "name": "stdout",
     "output_type": "stream",
     "text": [
      "Языки:\n",
      "\t\"python\"\n",
      "\t'javascript'\n",
      "\tsql\n"
     ]
    }
   ],
   "source": [
    "# Помещаем \"python\" в двойные кавычки, а 'javascript' в одинарные\n",
    "langs = 'Языки:\\n\\t\\\"python\\\"\\n\\t\\'javascript\\'\\n\\tsql'\n",
    "print(langs)"
   ]
  },
  {
   "cell_type": "code",
   "execution_count": 10,
   "id": "1e124eb1",
   "metadata": {},
   "outputs": [
    {
     "name": "stdout",
     "output_type": "stream",
     "text": [
      "Языки:\n",
      "\t\"python\"\n",
      "\t'javascript'\n",
      "\t\\sql\\\n"
     ]
    }
   ],
   "source": [
    "# Помещаем \"python\" в двойные кавычки, 'javascript' в одинарные, а \\sql\\ в обратные слеши\n",
    "langs = 'Языки:\\n\\t\\\"python\\\"\\n\\t\\'javascript\\'\\n\\t\\\\sql\\\\'\n",
    "print(langs)"
   ]
  },
  {
   "cell_type": "markdown",
   "id": "c53b2aa9",
   "metadata": {},
   "source": [
    "## Многострочные строки\n",
    "\n",
    "Строки, которые начинатся и заканчиваются тройными кавычками (`\"\"\"` или `'''`), позволяют вставлять внутри себя переносы строк, табуляцию, а также одинарные и двойные кавычки без использования спец. символов. "
   ]
  },
  {
   "cell_type": "code",
   "execution_count": 11,
   "id": "239f0a4d",
   "metadata": {},
   "outputs": [
    {
     "name": "stdout",
     "output_type": "stream",
     "text": [
      "Языки:\n",
      "\t\"python\"\n",
      "\t'javascript'\n",
      "\t\\sql\\\n"
     ]
    }
   ],
   "source": [
    "# Используем тройные кавычки для формирования текста.\n",
    "langs = '''Языки:\n",
    "\t\"python\"\n",
    "\t'javascript'\n",
    "\t\\\\sql\\\\'''\n",
    "print(langs)"
   ]
  },
  {
   "cell_type": "code",
   "execution_count": null,
   "id": "3772f63f",
   "metadata": {},
   "outputs": [],
   "source": []
  }
 ],
 "metadata": {
  "kernelspec": {
   "display_name": "Python 3 (ipykernel)",
   "language": "python",
   "name": "python3"
  },
  "language_info": {
   "codemirror_mode": {
    "name": "ipython",
    "version": 3
   },
   "file_extension": ".py",
   "mimetype": "text/x-python",
   "name": "python",
   "nbconvert_exporter": "python",
   "pygments_lexer": "ipython3",
   "version": "3.9.7"
  }
 },
 "nbformat": 4,
 "nbformat_minor": 5
}
