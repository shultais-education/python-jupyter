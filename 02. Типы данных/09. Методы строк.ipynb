{
 "cells": [
  {
   "cell_type": "markdown",
   "id": "09fbe0f5",
   "metadata": {},
   "source": [
    "# Методы строк\n",
    "\n",
    "Методы – это операции (действия), которые можно применить к строке.<br>\n",
    "Методы записываются сразу после строки через точку и обязательно в конце содержат скобки.<br>\n",
    "Методы **не изменяют** текущую строку, методы всегда создают в оперативной памяти **новую строку**."
   ]
  },
  {
   "cell_type": "code",
   "execution_count": 3,
   "id": "0b86fdd9",
   "metadata": {},
   "outputs": [
    {
     "name": "stdout",
     "output_type": "stream",
     "text": [
      "language: Python\n",
      "language: python\n",
      "language: python\n"
     ]
    }
   ],
   "source": [
    "# Оригинальная строка\n",
    "language = \"Python\"\n",
    "print(\"language:\", language)\n",
    "\n",
    "# Используем метод .lower() для приведения строки к нижнему регистру.\n",
    "# Метод применяем к строковой переменной language.\n",
    "language = language.lower()\n",
    "print(\"language:\", language)\n",
    "\n",
    "# Используем метод .lower() для приведения строки к нижнему регистру\n",
    "# Метод применяем к строке напрямую.\n",
    "print(\"language:\", \"PYTHON\".lower())"
   ]
  },
  {
   "cell_type": "markdown",
   "id": "58e47b68",
   "metadata": {},
   "source": [
    "## Ошибочное использование методов строк"
   ]
  },
  {
   "cell_type": "markdown",
   "id": "c896bd00",
   "metadata": {},
   "source": [
    "### 1. Использование без присваивания"
   ]
  },
  {
   "cell_type": "code",
   "execution_count": 9,
   "id": "6bf1a61b",
   "metadata": {},
   "outputs": [
    {
     "name": "stdout",
     "output_type": "stream",
     "text": [
      "language: PYTHON\n"
     ]
    }
   ],
   "source": [
    "# Оригинальная строка\n",
    "language = \"PYTHON\"\n",
    "\n",
    "# Мы вызываем метод .lower(), но результат его работы никуда не присваивается.\n",
    "# Метод отработал в холостую.\n",
    "language.lower()\n",
    "print(\"language:\", language)"
   ]
  },
  {
   "cell_type": "markdown",
   "id": "6f601e2b",
   "metadata": {},
   "source": [
    "### 2. Нет скобок\n",
    "Методы всегда должны заканчиваться скобами!"
   ]
  },
  {
   "cell_type": "code",
   "execution_count": 8,
   "id": "92455413",
   "metadata": {},
   "outputs": [
    {
     "name": "stdout",
     "output_type": "stream",
     "text": [
      "language: <built-in method lower of str object at 0x7ff2e87fd7f0>\n"
     ]
    }
   ],
   "source": [
    "# Оригинальная строка\n",
    "language = \"PYTHON\"\n",
    "\n",
    "# Если скобки не добавить, то метод не будет вызван, то есть метод не будет работать.\n",
    "language = language.lower\n",
    "print(\"language:\", language)"
   ]
  },
  {
   "cell_type": "markdown",
   "id": "f4071270",
   "metadata": {},
   "source": [
    "## Популярные методы строк"
   ]
  },
  {
   "cell_type": "markdown",
   "id": "527b9cbf",
   "metadata": {},
   "source": [
    "### `.upper()`\n",
    "\n",
    "Метод `.upper()` приводит все символы строки к верхнему регистру."
   ]
  },
  {
   "cell_type": "code",
   "execution_count": 10,
   "id": "f831e43c",
   "metadata": {},
   "outputs": [
    {
     "name": "stdout",
     "output_type": "stream",
     "text": [
      "language: PYTHON\n"
     ]
    }
   ],
   "source": [
    "# Оригинальная строка\n",
    "language = \"python\"\n",
    "\n",
    "language = language.upper()\n",
    "print(\"language:\", language)"
   ]
  },
  {
   "cell_type": "markdown",
   "id": "9482492d",
   "metadata": {},
   "source": [
    "### `.title()`\n",
    "\n",
    "Метод `.title()` делает так, чтобы все слова в строке начинались с заглавной буквы.<br>\n",
    "Остальные буквы слова становятся строчными (обратите внимание на `PHP`)."
   ]
  },
  {
   "cell_type": "code",
   "execution_count": 13,
   "id": "42be913f",
   "metadata": {},
   "outputs": [
    {
     "name": "stdout",
     "output_type": "stream",
     "text": [
      "languages: Python Php Sql Javascript\n"
     ]
    }
   ],
   "source": [
    "# Оригинальная строка\n",
    "languages = \"python PHP sql javascript\"\n",
    "\n",
    "languages = languages.title()\n",
    "print(\"languages:\", languages)"
   ]
  },
  {
   "cell_type": "markdown",
   "id": "3c71b028",
   "metadata": {},
   "source": [
    "### `.capitilize()`\n",
    "\n",
    "Метод `.capitilize()` делает так, чтобы **первая буква всей строки** была заглавной.<br>\n",
    "Остальные буквы строки становятся строчными (обратите внимание на `PHP`)."
   ]
  },
  {
   "cell_type": "code",
   "execution_count": 14,
   "id": "0e20ec5d",
   "metadata": {},
   "outputs": [
    {
     "name": "stdout",
     "output_type": "stream",
     "text": [
      "languages: Python php sql javascript\n"
     ]
    }
   ],
   "source": [
    "# Оригинальная строка\n",
    "languages = \"python PHP sql javascript\"\n",
    "\n",
    "languages = languages.capitalize()\n",
    "print(\"languages:\", languages)"
   ]
  },
  {
   "cell_type": "markdown",
   "id": "7e70b148",
   "metadata": {},
   "source": [
    "Если строка начинается не с буквы, а, например, с пробела, то `.capitalize()` для первой буквы не сработает."
   ]
  },
  {
   "cell_type": "code",
   "execution_count": 15,
   "id": "485c8dba",
   "metadata": {},
   "outputs": [
    {
     "name": "stdout",
     "output_type": "stream",
     "text": [
      "languages:     python php sql javascript   \n"
     ]
    }
   ],
   "source": [
    "# Оригинальная строка\n",
    "languages = \"    python PHP sql javascript   \"\n",
    "\n",
    "languages = languages.capitalize()\n",
    "print(\"languages:\", languages)"
   ]
  },
  {
   "cell_type": "markdown",
   "id": "6cd86e40",
   "metadata": {},
   "source": [
    "### `.strip()`\n",
    "\n",
    "Метод `.strip()` удаляет из строки все начальные и конечные пробелы (а также символы перевода строки)."
   ]
  },
  {
   "cell_type": "code",
   "execution_count": 18,
   "id": "11260371",
   "metadata": {},
   "outputs": [
    {
     "name": "stdout",
     "output_type": "stream",
     "text": [
      "languages: Python php sql javascript\n"
     ]
    }
   ],
   "source": [
    "# Оригинальная строка\n",
    "languages = \"    python PHP sql javascript   \"\n",
    "\n",
    "# Очищаем от пробелов в начале и в конце\n",
    "languages = languages.strip()\n",
    "\n",
    "# Применяем .capitalize() к очищенной строке\n",
    "languages = languages.capitalize()\n",
    "print(\"languages:\", languages)"
   ]
  },
  {
   "cell_type": "markdown",
   "id": "122294da",
   "metadata": {},
   "source": [
    "## Цепочка методов\n",
    "\n",
    "Несколько методов можно записать подряд в цепочку методов.<br>\n",
    "В такой цепочке методы последовательно выполняются слева направа.<br>\n",
    "Каждый новый метод на вход получает строку от предыдущего метода."
   ]
  },
  {
   "cell_type": "code",
   "execution_count": 19,
   "id": "4c98cfec",
   "metadata": {},
   "outputs": [
    {
     "name": "stdout",
     "output_type": "stream",
     "text": [
      "languages: Python php sql javascript\n"
     ]
    }
   ],
   "source": [
    "# Оригинальная строка\n",
    "languages = \"    python PHP sql javascript   \"\n",
    "\n",
    "# Сперва очищаем от пробелов в начале и в конце с помощью .strip().\n",
    "# Затем применяем .capitalize() к уже очищенной строке.\n",
    "# В конце присваиваем результат обратно в languages.\n",
    "languages = languages.strip().capitalize()\n",
    "\n",
    "\n",
    "print(\"languages:\", languages)"
   ]
  },
  {
   "cell_type": "code",
   "execution_count": null,
   "id": "72f69902",
   "metadata": {},
   "outputs": [],
   "source": []
  }
 ],
 "metadata": {
  "kernelspec": {
   "display_name": "Python 3 (ipykernel)",
   "language": "python",
   "name": "python3"
  },
  "language_info": {
   "codemirror_mode": {
    "name": "ipython",
    "version": 3
   },
   "file_extension": ".py",
   "mimetype": "text/x-python",
   "name": "python",
   "nbconvert_exporter": "python",
   "pygments_lexer": "ipython3",
   "version": "3.9.7"
  }
 },
 "nbformat": 4,
 "nbformat_minor": 5
}
