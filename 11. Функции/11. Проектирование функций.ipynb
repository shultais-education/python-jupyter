{
 "cells": [
  {
   "cell_type": "markdown",
   "id": "0fda73da",
   "metadata": {},
   "source": [
    "# Проектирование функций\n",
    "\n",
    "Функции, которые используют **глобальные переменные**, зависят от окружения, в котором они написаны.<br>\n",
    "Такие функции нельзя использовать в других программах.<br><br>\n",
    "Функции, которые принимают аргументы и возвращают значения являются **более универсальными** и их можно использовать в других программах."
   ]
  },
  {
   "cell_type": "code",
   "execution_count": null,
   "id": "ababd34f",
   "metadata": {},
   "outputs": [],
   "source": [
    "a, b, c = 10, 20, 0\n",
    "\n",
    "# Хорошая функция\n",
    "def mult(x, y):\n",
    "    return x * y\n",
    "\n",
    "# Плохая функция\n",
    "def g_mult():\n",
    "    global c\n",
    "    c = a * b\n",
    "    \n",
    "\n",
    "# Запускаем функцию mult с передачей аргументов\n",
    "result = mult(a, b)\n",
    "print(result)\n",
    "\n",
    "# Запускаем функцию g_mult\n",
    "g_mult()\n",
    "\n",
    "# Выводим c из глобальной области видимости\n",
    "print(c)"
   ]
  },
  {
   "cell_type": "markdown",
   "id": "d58cc104",
   "metadata": {},
   "source": [
    "## Изменение изменяемых переменных\n",
    "\n",
    "Изменять изменяемые аргументы внутри фукнции, не самая хорошая практика.<br>\n",
    "Хотя, сейчас, пересматривая урок, я бы поспорил сам с собой.<br>\n",
    "Есть много ситаций, когда нужно изменять списки и словари внутри функций.<br>\n",
    "Пожайлуй, надо переписать урок."
   ]
  },
  {
   "cell_type": "code",
   "execution_count": null,
   "id": "beccb4bd",
   "metadata": {},
   "outputs": [],
   "source": [
    "digits = [1, 2, 3, 4]\n",
    "\n",
    "def func(l):\n",
    "    l.append(5)\n",
    "\n",
    "# Два раза изменяем список\n",
    "func(digits)\n",
    "func(digits)\n",
    "\n",
    "print(digits)"
   ]
  },
  {
   "cell_type": "markdown",
   "id": "41cf15c2",
   "metadata": {},
   "source": [
    "## Одна функция - одна задача\n",
    "\n",
    "Хорошая функция должна решать одну задачу."
   ]
  },
  {
   "cell_type": "code",
   "execution_count": null,
   "id": "f27360e5",
   "metadata": {},
   "outputs": [],
   "source": [
    "# Функция выполняет две задачи (плохо)\n",
    "def alert_client(text):\n",
    "    print(\"SMS:\", text)\n",
    "    print(\"E-mail:\", text)\n",
    "    \n",
    "alert_client(\"Ваш пароль ****\")"
   ]
  },
  {
   "cell_type": "markdown",
   "id": "90a27773",
   "metadata": {},
   "source": [
    "Если функция выполняет одно действие, то её можно использовать как по отдельности, так и в составе более сложных функций."
   ]
  },
  {
   "cell_type": "code",
   "execution_count": null,
   "id": "b036eba7",
   "metadata": {},
   "outputs": [],
   "source": [
    "# Две функции, которые выполняют по одному действию\n",
    "def send_sms(text):\n",
    "    print(\"SMS:\", text)    \n",
    "    \n",
    "def send_email(text):\n",
    "    print(\"E-mail:\", text)\n",
    "    \n",
    "# Функция выполняет две задачи, но при этом использует более простые функции (хорошо)\n",
    "def alert_client(text):\n",
    "    send_sms(text)\n",
    "    send_email(text)\n",
    "    \n",
    "# Комплексное уведомление\n",
    "alert_client(\"Ваш пароль ****\")\n",
    "\n",
    "# Отправляем SMSM\n",
    "send_sms(\"Кто-то вошел в ваш аккаунт\")"
   ]
  },
  {
   "cell_type": "markdown",
   "id": "73474641",
   "metadata": {},
   "source": [
    "## Функция должна быть небольшой\n",
    "\n",
    "Если ваша функция занимает несколько экранов, то это может свидетельствовать о проблемах в проектировании.<br>\n",
    "Лучше разбить такую функцию на части."
   ]
  },
  {
   "cell_type": "code",
   "execution_count": null,
   "id": "0bc62290",
   "metadata": {},
   "outputs": [],
   "source": []
  }
 ],
 "metadata": {
  "kernelspec": {
   "display_name": "Python 3 (ipykernel)",
   "language": "python",
   "name": "python3"
  },
  "language_info": {
   "codemirror_mode": {
    "name": "ipython",
    "version": 3
   },
   "file_extension": ".py",
   "mimetype": "text/x-python",
   "name": "python",
   "nbconvert_exporter": "python",
   "pygments_lexer": "ipython3",
   "version": "3.9.13"
  }
 },
 "nbformat": 4,
 "nbformat_minor": 5
}
