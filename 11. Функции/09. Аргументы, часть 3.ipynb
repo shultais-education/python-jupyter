{
 "cells": [
  {
   "cell_type": "markdown",
   "id": "db1a349d",
   "metadata": {},
   "source": [
    "# Аргументы, часть 3"
   ]
  },
  {
   "cell_type": "markdown",
   "id": "9e0e723a",
   "metadata": {},
   "source": [
    "## Российские ученые"
   ]
  },
  {
   "cell_type": "code",
   "execution_count": null,
   "id": "c73eec7f",
   "metadata": {},
   "outputs": [],
   "source": [
    "scientist_fn = \"Дмитрий\"\n",
    "scientist_ln = \"Менделеев\"\n",
    "scientist_p = \"Иванович\"\n",
    "\n",
    "# Создаем функцию, которая принимает три аргумента.\n",
    "def print_fullname(first_name, last_name, patronymic):\n",
    "    print(first_name, patronymic, last_name)\n",
    "    \n",
    "# Используем только позиционные аргументы\n",
    "print_fullname(scientist_fn, scientist_ln, scientist_p)"
   ]
  },
  {
   "cell_type": "markdown",
   "id": "9784a734",
   "metadata": {},
   "source": [
    "## Иностранные ученые"
   ]
  },
  {
   "cell_type": "code",
   "execution_count": null,
   "id": "99ab7f98",
   "metadata": {},
   "outputs": [],
   "source": [
    "scientist = [\"Альберт\", \"Эйнштейн\"]\n",
    "\n",
    "# Создаем функцию, которая принимает три аргумента.\n",
    "# Первые два обязательных, а третий опциональный (со значением по умолчанию).\n",
    "def print_fullname(first_name, last_name, patronymic=\"\"):\n",
    "    print(first_name, patronymic, last_name)\n",
    "    \n",
    "# Используем все аргументы.\n",
    "print_fullname(scientist_fn, scientist_ln, scientist_p)\n",
    "\n",
    "# Используем только первые два аргумента.\n",
    "print_fullname(scientist[0], scientist[1])"
   ]
  },
  {
   "cell_type": "markdown",
   "id": "75222d77",
   "metadata": {},
   "source": [
    "## Распаковка элементов списка в аргументы функции\n",
    "\n",
    "Если в функцию передать последовательность (список или кортеж) со звёздочкой, то произойдет распаковка элементов последовательности и они будут переданы в аргументы функции в порядке их следования."
   ]
  },
  {
   "cell_type": "code",
   "execution_count": null,
   "id": "9064bed4",
   "metadata": {},
   "outputs": [],
   "source": [
    "scientist = [\"Альберт\", \"Эйнштейн\"]\n",
    "scientist2 = [\"Лев\", \"Ландау\", \"Давидович\"]\n",
    "\n",
    "def print_fullname(first_name, last_name, patronymic=\"\"):\n",
    "    print(first_name, patronymic, last_name)\n",
    "\n",
    "# Распаковка двух элементов.\n",
    "print_fullname(*scientist)\n",
    "\n",
    "# Распаковка трёх элементов.\n",
    "print_fullname(*scientist2)"
   ]
  },
  {
   "cell_type": "markdown",
   "id": "bb67d82d",
   "metadata": {},
   "source": [
    "### Ошибки распаковки списков\n",
    "\n",
    "При распаковке элементов последовательности, количество элементов **должно совпадать** с количеством аргументов, которое может принять фукнция."
   ]
  },
  {
   "cell_type": "code",
   "execution_count": null,
   "id": "0584de22",
   "metadata": {},
   "outputs": [],
   "source": [
    "scientist = [\"Альберт\"]\n",
    "scientist2 = [\"Лев\", \"Ландау\", \"Давидович\", \"физик\"]\n",
    "\n",
    "def print_fullname(first_name, last_name, patronymic=\"\"):\n",
    "    print(first_name, patronymic, last_name)\n",
    "\n",
    "# Слишком МАЛО элементов.\n",
    "# print_fullname(*scientist)\n",
    "\n",
    "# Слишком МНОГО элементов.\n",
    "print_fullname(*scientist2)"
   ]
  },
  {
   "cell_type": "markdown",
   "id": "f61cf08e",
   "metadata": {},
   "source": [
    "## Распаковка элементов словаря в аргументы функции\n",
    "\n",
    "Если в функцию передать словарь с двумя звёздочками, то произойдет распаковка его элементов в соответствии с именами аргументов функции. То есть произойдет передача именованных аргументов."
   ]
  },
  {
   "cell_type": "code",
   "execution_count": null,
   "id": "0f5518ac",
   "metadata": {},
   "outputs": [],
   "source": [
    "scientist = {\"first_name\": \"Альберт\", \"last_name\": \"Эйнштейн\"}\n",
    "\n",
    "def print_fullname(first_name, last_name, patronymic=\"\"):\n",
    "    print(first_name, patronymic, last_name)\n",
    "\n",
    "# Распаковываем словарь.\n",
    "print_fullname(**scientist)"
   ]
  },
  {
   "cell_type": "markdown",
   "id": "7d0c0aae",
   "metadata": {},
   "source": [
    "### Ошибки распаковки словарей\n",
    "\n",
    "При распаковке словарей, имена их ключей должны совпадать с именами аргументов, которые принимает функция.<br>\n",
    "Также в словаре не должно быть лишних элементов. Только те, которые ожидает функция."
   ]
  },
  {
   "cell_type": "code",
   "execution_count": null,
   "id": "ef8fc9ed",
   "metadata": {},
   "outputs": [],
   "source": [
    "scientist = {\"first_name\": \"Альберт\", \"Last_name\": \"Эйнштейн\"}\n",
    "\n",
    "def print_fullname(first_name, last_name, patronymic=\"\"):\n",
    "    print(first_name, patronymic, last_name)\n",
    "\n",
    "# Распаковываем словарь\n",
    "print_fullname(**scientist)"
   ]
  },
  {
   "cell_type": "code",
   "execution_count": null,
   "id": "8d1ad364",
   "metadata": {},
   "outputs": [],
   "source": []
  }
 ],
 "metadata": {
  "kernelspec": {
   "display_name": "Python 3 (ipykernel)",
   "language": "python",
   "name": "python3"
  },
  "language_info": {
   "codemirror_mode": {
    "name": "ipython",
    "version": 3
   },
   "file_extension": ".py",
   "mimetype": "text/x-python",
   "name": "python",
   "nbconvert_exporter": "python",
   "pygments_lexer": "ipython3",
   "version": "3.9.13"
  }
 },
 "nbformat": 4,
 "nbformat_minor": 5
}
