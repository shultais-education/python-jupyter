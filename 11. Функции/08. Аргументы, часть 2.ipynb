{
 "cells": [
  {
   "cell_type": "markdown",
   "id": "a23e8c8a",
   "metadata": {},
   "source": [
    "# Аргументы, часть 2"
   ]
  },
  {
   "cell_type": "code",
   "execution_count": null,
   "id": "250c037a",
   "metadata": {},
   "outputs": [],
   "source": [
    "scientist_fn = \"Дмитрий\"\n",
    "scientist_ln = \"Менделеев\"\n",
    "\n",
    "# Создаем функцию, которая принимает два аргумента.\n",
    "def print_fullname(first_name, last_name):\n",
    "    print(first_name, last_name)\n",
    "    \n",
    "# Вызываем функцию.\n",
    "print_fullname(scientist_fn, scientist_ln)\n",
    "\n",
    "# Еще раз вызываем функцию, но с аргументами, которые поменяны местами.\n",
    "print_fullname(scientist_ln, scientist_fn)"
   ]
  },
  {
   "cell_type": "markdown",
   "id": "70f9e7e9",
   "metadata": {},
   "source": [
    "## Передача аргументов через их имена\n",
    "\n",
    "Аргументы в функцию можно передать по позиции, а также с использованием имён (передача с помощью именованных аргументов)."
   ]
  },
  {
   "cell_type": "code",
   "execution_count": null,
   "id": "5bc5ea23",
   "metadata": {},
   "outputs": [],
   "source": [
    "scientist_fn = \"Дмитрий\"\n",
    "scientist_ln = \"Менделеев\"\n",
    "\n",
    "# Создаем функцию, которая принимает два аргумента.\n",
    "def print_fullname(first_name, last_name):\n",
    "    print(first_name, last_name)\n",
    "    \n",
    "# Вызываем функцию.\n",
    "print_fullname(scientist_fn, scientist_ln)\n",
    "\n",
    "# Передаём аргументы через их имена (явно указываем аргументы).\n",
    "print_fullname(last_name=scientist_ln, first_name=scientist_fn)"
   ]
  },
  {
   "cell_type": "code",
   "execution_count": null,
   "id": "3353df9d",
   "metadata": {},
   "outputs": [],
   "source": [
    "scientist_fn = \"Дмитрий\"\n",
    "scientist_ln = \"Менделеев\"\n",
    "scientist_p = \"Иванович\"\n",
    "\n",
    "# Создаем функцию, которая принимает три аргумента.\n",
    "def print_fullname(first_name, last_name, patronymic):\n",
    "    print(first_name, patronymic, last_name)\n",
    "    \n",
    "# Вызываем функцию\n",
    "print_fullname(scientist_fn, scientist_ln, scientist_p)\n",
    "\n",
    "# Передаём аргументы через их имена (явно указываем аргументы).\n",
    "print_fullname(\n",
    "    last_name=scientist_ln, \n",
    "    patronymic=scientist_p,\n",
    "    first_name=scientist_fn)"
   ]
  },
  {
   "cell_type": "markdown",
   "id": "7d3fb498",
   "metadata": {},
   "source": [
    "## Чередование позиционных и именованных аргументов\n",
    "\n",
    "В случае, если при вызове функции часть аргументов передаются по позиции, а часть по именам, то сперва должны идти позиционные, а только после именованные."
   ]
  },
  {
   "cell_type": "code",
   "execution_count": null,
   "id": "4f11b164",
   "metadata": {},
   "outputs": [],
   "source": [
    "scientist_fn = \"Дмитрий\"\n",
    "scientist_ln = \"Менделеев\"\n",
    "scientist_p = \"Иванович\"\n",
    "\n",
    "# Создаем функцию, которая принимает три аргумента.\n",
    "def print_fullname(first_name, last_name, patronymic):\n",
    "    print(first_name, patronymic, last_name)\n",
    "    \n",
    "# Первый аргумент позиционны, остальные именованные.\n",
    "print_fullname(\n",
    "    scientist_fn,\n",
    "    patronymic=scientist_p,\n",
    "    last_name=scientist_fn)"
   ]
  },
  {
   "cell_type": "code",
   "execution_count": null,
   "id": "2e482da5",
   "metadata": {},
   "outputs": [],
   "source": []
  }
 ],
 "metadata": {
  "kernelspec": {
   "display_name": "Python 3 (ipykernel)",
   "language": "python",
   "name": "python3"
  },
  "language_info": {
   "codemirror_mode": {
    "name": "ipython",
    "version": 3
   },
   "file_extension": ".py",
   "mimetype": "text/x-python",
   "name": "python",
   "nbconvert_exporter": "python",
   "pygments_lexer": "ipython3",
   "version": "3.9.13"
  }
 },
 "nbformat": 4,
 "nbformat_minor": 5
}
