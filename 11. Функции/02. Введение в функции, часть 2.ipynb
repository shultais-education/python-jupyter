{
 "cells": [
  {
   "cell_type": "markdown",
   "id": "c450a384",
   "metadata": {},
   "source": [
    "# Введение в функции, часть 2\n",
    "\n",
    "Оператор **return** завершает выполнение функции."
   ]
  },
  {
   "cell_type": "code",
   "execution_count": null,
   "id": "27b93679",
   "metadata": {},
   "outputs": [],
   "source": [
    "# Создаем функцию для вычисления минимального значения списка\n",
    "def get_min_item(items):\n",
    "    min_item = items[0]\n",
    "    for item in items[1:]:\n",
    "        if item < min_item:\n",
    "            min_item = item\n",
    "            \n",
    "    # Возвращаем значение обратно в программу\n",
    "    return min_item\n",
    "\n",
    "# Создаём списки\n",
    "items1 = [23, 4, 7, 4, 12, 6, 8, 41, 20]\n",
    "items2 = [5, 4, -12, 5, 6, 7, 8, 1]\n",
    "items3 = [54, 14, 12, 15, 60, 7, 8, 19]\n",
    "\n",
    "# Получаем минимальные элементы\n",
    "print(get_min_item(items1))\n",
    "print(get_min_item(items2))\n",
    "print(get_min_item(items3))"
   ]
  },
  {
   "cell_type": "markdown",
   "id": "fb04f61d",
   "metadata": {},
   "source": [
    "## Первая ошибка"
   ]
  },
  {
   "cell_type": "code",
   "execution_count": null,
   "id": "e88640ab",
   "metadata": {},
   "outputs": [],
   "source": [
    "def get_min_item(items):\n",
    "    # Обращаемся к нулевому элементу, но его может не быть\n",
    "    min_item = items[0]\n",
    "    for item in items[1:]:\n",
    "        if item < min_item:\n",
    "            min_item = item\n",
    "            \n",
    "    # Возвращаем значение обратно в программу\n",
    "    return min_item\n",
    "\n",
    "items3 = []\n",
    "\n",
    "print(get_min_item(items3))"
   ]
  },
  {
   "cell_type": "markdown",
   "id": "2ec5cd8e",
   "metadata": {},
   "source": [
    "## Проверка списка на наличие элементов"
   ]
  },
  {
   "cell_type": "code",
   "execution_count": null,
   "id": "95516713",
   "metadata": {},
   "outputs": [],
   "source": [
    "def get_min_item(items):\n",
    "    # Если список пустой, то сразу возвращаем None\n",
    "    if not items:\n",
    "        return None\n",
    "    \n",
    "    min_item = items[0]\n",
    "    for item in items[1:]:\n",
    "        if item < min_item:\n",
    "            min_item = item\n",
    "            \n",
    "    # Возвращаем значение обратно в программу\n",
    "    return min_item\n",
    "\n",
    "items3 = []\n",
    "\n",
    "print(get_min_item(items3))"
   ]
  },
  {
   "cell_type": "code",
   "execution_count": null,
   "id": "015bc7f5",
   "metadata": {},
   "outputs": [],
   "source": []
  }
 ],
 "metadata": {
  "kernelspec": {
   "display_name": "Python 3 (ipykernel)",
   "language": "python",
   "name": "python3"
  },
  "language_info": {
   "codemirror_mode": {
    "name": "ipython",
    "version": 3
   },
   "file_extension": ".py",
   "mimetype": "text/x-python",
   "name": "python",
   "nbconvert_exporter": "python",
   "pygments_lexer": "ipython3",
   "version": "3.9.13"
  }
 },
 "nbformat": 4,
 "nbformat_minor": 5
}
