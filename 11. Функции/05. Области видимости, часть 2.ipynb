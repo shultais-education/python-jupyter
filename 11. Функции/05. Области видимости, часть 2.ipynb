{
 "cells": [
  {
   "cell_type": "markdown",
   "id": "d634e708",
   "metadata": {},
   "source": [
    "# Области видимости, часть 2\n",
    "\n",
    "1. При вызове функции `func()` сперва происходит поиск переменной (имени) в **локальной** области видимости функции.<br>\n",
    "Если переменная там есть, то будет выведена именно она.<br><br>\n",
    "\n",
    "2. Если в локальной области видимости искомого имени нет, то Python продолжит поиск в **глобальной** области видимости.<br>\n",
    "Если переменная там есть, то будет выведена она.<br><br>\n",
    "\n",
    "2. Если в глобальной области видимости искомого имени нет, то Python продолжит поиск во **встроенной** области видимости.<br>\n",
    "Встроенная область содержит имена, которые определил сам интерпретатор.<br>\n",
    "Если переменная там есть, то будет выведена она.<br>\n",
    "Если переменной там нет, то возникнет ошибка **NameError**.\n"
   ]
  },
  {
   "cell_type": "markdown",
   "id": "6411126c",
   "metadata": {},
   "source": [
    "## Поиск в локальной области видимости"
   ]
  },
  {
   "cell_type": "code",
   "execution_count": null,
   "id": "ab251e84",
   "metadata": {},
   "outputs": [],
   "source": [
    "# Создание ГЛОБАЛЬНОЙ переменной x\n",
    "x = 10\n",
    "\n",
    "def func():\n",
    "    # Создание ЛОКАЛЬНОЙ переменной x\n",
    "    x = 15\n",
    "    \n",
    "    # Вывод ЛОКАЛЬНОЙ переменной\n",
    "    print(\"Локальная x:\", x)\n",
    "    \n",
    "\n",
    "# Запуск функции\n",
    "func()"
   ]
  },
  {
   "cell_type": "markdown",
   "id": "40c0336c",
   "metadata": {},
   "source": [
    "## Поиск в глобальной области видимости"
   ]
  },
  {
   "cell_type": "markdown",
   "id": "5c8eacec",
   "metadata": {},
   "source": [
    "### Успешный\n",
    "\n",
    "Имя **x** есть в глобальной области видимости."
   ]
  },
  {
   "cell_type": "code",
   "execution_count": null,
   "id": "1ee74e5c",
   "metadata": {},
   "outputs": [],
   "source": [
    "# Создание ГЛОБАЛЬНОЙ переменной x\n",
    "x = 10\n",
    "\n",
    "def func():\n",
    "    # x = 15\n",
    "    # Вывод ГЛОБАЛЬНОЙ переменной\n",
    "    print(\"Глобальная x:\", x)\n",
    "    \n",
    "# Запуск функции\n",
    "func()"
   ]
  },
  {
   "cell_type": "markdown",
   "id": "c4ad7cc9",
   "metadata": {},
   "source": [
    "### Неуспешный\n",
    "\n",
    "Имени **y** нет в глобальной области видимости."
   ]
  },
  {
   "cell_type": "code",
   "execution_count": null,
   "id": "4d14eb28",
   "metadata": {},
   "outputs": [],
   "source": [
    "# y = 10\n",
    "\n",
    "def func():\n",
    "    # x = 15\n",
    "    # Вывод ГЛОБАЛЬНОЙ переменной\n",
    "    print(\"Глобальная y:\", y)    \n",
    "\n",
    "# Запуск функции\n",
    "func()"
   ]
  },
  {
   "cell_type": "markdown",
   "id": "126c78ef",
   "metadata": {},
   "source": [
    "## Поиск во встроенной области видимости"
   ]
  },
  {
   "cell_type": "code",
   "execution_count": null,
   "id": "ab4648ab",
   "metadata": {},
   "outputs": [],
   "source": [
    "# Сбрасываем ГЛОБАЛЬНУЮ sum (нужно для корректной работы конспекта)\n",
    "%reset_selective -f sum\n",
    "\n",
    "# y = 10\n",
    "\n",
    "def func():\n",
    "    # x = 15\n",
    "    # Вывод ВСТРОЕННОЙ переменной\n",
    "    print(\"Встроенная sum:\", sum)    \n",
    "\n",
    "# Запуск функции\n",
    "func()"
   ]
  },
  {
   "cell_type": "code",
   "execution_count": null,
   "id": "68ee12ee",
   "metadata": {},
   "outputs": [],
   "source": [
    "# Сбрасываем ГЛОБАЛЬНУЮ sum (нужно для корректной работы конспекта)\n",
    "%reset_selective -f sum\n",
    "\n",
    "# y = 10\n",
    "\n",
    "def func():\n",
    "    # x = 15\n",
    "    # Используем функцию sum() из встроенной области видимости\n",
    "    print(\"Используем функцию sum():\", sum([1, 2, 3]))    \n",
    "\n",
    "# Запуск функции\n",
    "func()"
   ]
  },
  {
   "cell_type": "markdown",
   "id": "e99e8d61",
   "metadata": {},
   "source": [
    "## Переопределение имён встронной области видимости"
   ]
  },
  {
   "cell_type": "code",
   "execution_count": null,
   "id": "6cf48b48",
   "metadata": {},
   "outputs": [],
   "source": [
    "# Создание ГЛОБАЛЬНОЙ переменной sum, которая подменяет sum из ВСТРОЕННОЙ области\n",
    "sum = 10\n",
    "\n",
    "def func():\n",
    "    # x = 15\n",
    "    # Попытка вызова функции sum()\n",
    "    print(\"Используем функцию sum():\", sum([1, 2, 3]))    \n",
    "\n",
    "# Запуск функции\n",
    "func()"
   ]
  },
  {
   "cell_type": "code",
   "execution_count": null,
   "id": "7819fe19",
   "metadata": {},
   "outputs": [],
   "source": [
    "# Создание ГЛОБАЛЬНОЙ переменной sum, которая подменяет sum из ВСТРОЕННОЙ области\n",
    "sum = 10\n",
    "\n",
    "def func():\n",
    "    # x = 15\n",
    "    # Вывод ГЛОБАЛЬНОЙ переменной\n",
    "    print(\"Глобальная sum:\", sum)    \n",
    "\n",
    "# Запуск функции\n",
    "func()"
   ]
  },
  {
   "cell_type": "markdown",
   "id": "5d1b1654",
   "metadata": {},
   "source": [
    "Не рекомендуется переопределять имена встроенных функций.<br>\n",
    "Если вы хотите использовать такие же имена в вашей программе, то следует добавить к вашим именам какой-нибудь суффикс."
   ]
  },
  {
   "cell_type": "code",
   "execution_count": null,
   "id": "de2b12dc",
   "metadata": {},
   "outputs": [],
   "source": [
    "# Сбрасываем ГЛОБАЛЬНУЮ sum (нужно для корректной работы конспекта)\n",
    "%reset_selective -f sum\n",
    "\n",
    "# Создание ГЛОБАЛЬНОЙ переменной sum_\n",
    "sum_ = 10\n",
    "\n",
    "def func():\n",
    "    # x = 15\n",
    "    # Вывод ГЛОБАЛЬНОЙ переменной sum_\n",
    "    print(\"Глобальная sum_:\", sum_)\n",
    "    \n",
    "    # Использование ВСТРОЕННОЙ функции sum()\n",
    "    print(\"Встроенная sum():\", sum([1, 2, 3]))\n",
    "\n",
    "# Запуск функции\n",
    "func()"
   ]
  },
  {
   "cell_type": "code",
   "execution_count": null,
   "id": "3180477c",
   "metadata": {},
   "outputs": [],
   "source": []
  }
 ],
 "metadata": {
  "kernelspec": {
   "display_name": "Python 3 (ipykernel)",
   "language": "python",
   "name": "python3"
  },
  "language_info": {
   "codemirror_mode": {
    "name": "ipython",
    "version": 3
   },
   "file_extension": ".py",
   "mimetype": "text/x-python",
   "name": "python",
   "nbconvert_exporter": "python",
   "pygments_lexer": "ipython3",
   "version": "3.9.13"
  }
 },
 "nbformat": 4,
 "nbformat_minor": 5
}
