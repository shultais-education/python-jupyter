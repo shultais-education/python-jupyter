{
 "cells": [
  {
   "cell_type": "markdown",
   "id": "cc515620",
   "metadata": {},
   "source": [
    "# Области видимости, часть 3"
   ]
  },
  {
   "cell_type": "code",
   "execution_count": null,
   "id": "dcf042bd",
   "metadata": {},
   "outputs": [],
   "source": [
    "# Создаём ГЛОБАЛЬНУЮ переменную x\n",
    "x = 10\n",
    "\n",
    "def func1():\n",
    "    # Создаём ЛОКАЛЬНУЮ переменную x\n",
    "    x = 15\n",
    "    print(\"Локальная x:\", x)\n",
    "    \n",
    "func1()\n",
    "print(\"Глобальная x:\", x)"
   ]
  },
  {
   "cell_type": "markdown",
   "id": "7cbc9ffd",
   "metadata": {},
   "source": [
    "## Изменение глобальной переменной\n",
    "\n",
    "Для того, чтобы изменить **глобальную** переменную внутри функции, нужно воспользоваться инструкцией  `global`.<br>\n",
    "Глобальные переменные делают программу более сложной для понимания и использования.<br>\n",
    "Старайтесь избегать использования глобальных переменных."
   ]
  },
  {
   "cell_type": "code",
   "execution_count": null,
   "id": "73dea0b8",
   "metadata": {},
   "outputs": [],
   "source": [
    "# Создаём ГЛОБАЛЬНУЮ переменную x\n",
    "x = 10\n",
    "\n",
    "def func1():\n",
    "    # Делаем переменную x глобальной\n",
    "    global x\n",
    "    \n",
    "    # Изменяем ГЛОБАЛЬНУЮ переменную x\n",
    "    x = 15\n",
    "    print(\"Глобальная x:\", x)\n",
    "    \n",
    "func1()\n",
    "print(\"Глобальная x:\", x)"
   ]
  },
  {
   "cell_type": "code",
   "execution_count": null,
   "id": "a25f294f",
   "metadata": {},
   "outputs": [],
   "source": [
    "# Создаём ГЛОБАЛЬНУЮ переменную x\n",
    "x = 10\n",
    "\n",
    "def func1():\n",
    "    # Сообщаем функции, что переменная x - ГЛОБАЛЬНАЯ\n",
    "    global x\n",
    "    \n",
    "    # Изменяем ГЛОБАЛЬНУЮ переменную x\n",
    "    x = 15\n",
    "    print(\"Глобальная x:\", x)\n",
    "    \n",
    "    \n",
    "def func2():    \n",
    "    # Создаём ЛОКАЛЬНУЮ переменную x\n",
    "    x = 20\n",
    "    print(\"Локальная x:\", x)\n",
    "    \n",
    "func1()\n",
    "func2()\n",
    "print(\"Глобальная x:\", x)"
   ]
  },
  {
   "cell_type": "code",
   "execution_count": null,
   "id": "fe9abb2e",
   "metadata": {},
   "outputs": [],
   "source": [
    "# Создаём ГЛОБАЛЬНУЮ переменную x\n",
    "x = 10\n",
    "\n",
    "def func1():\n",
    "    # Сообщаем функции, что переменная x - ГЛОБАЛЬНАЯ\n",
    "    global x\n",
    "    \n",
    "    # Изменяем ГЛОБАЛЬНУЮ переменную x\n",
    "    x = 15\n",
    "    print(\"Глобальная x:\", x)\n",
    "    \n",
    "    \n",
    "def func2():\n",
    "    # Используем x уровня модуля (ГЛОБАЛЬНУЮ)\n",
    "    print(\"Глобальная x:\", x)\n",
    "    \n",
    "func1()\n",
    "func2()\n",
    "print(\"Глобальная x:\", x)"
   ]
  },
  {
   "cell_type": "markdown",
   "id": "b5c76354",
   "metadata": {},
   "source": [
    "## Создание глобальной переменной внутри функции\n",
    "\n",
    "Если при использовании `global` глобальной переменной не существовало, то она будет создана.<br>\n",
    "Причем её имя будет помещено в область видимости модуля (в глобальную область)."
   ]
  },
  {
   "cell_type": "code",
   "execution_count": null,
   "id": "18e205c0",
   "metadata": {},
   "outputs": [],
   "source": [
    "# Сбрасываем ГЛОБАЛЬНУЮ z (нужно для корректной работы конспекта)\n",
    "%reset_selective -f z\n",
    "\n",
    "def func1():\n",
    "    # Сообщаем функции, что переменная z - ГЛОБАЛЬНАЯ\n",
    "    # На данном этапе переменная еще не создаётся.\n",
    "    global z\n",
    "    \n",
    "    # Создаём ГЛОБАЛЬНУЮ переменную z\n",
    "    z = 15\n",
    "    print(\"Глобальная z:\", z)\n",
    "    \n",
    "    \n",
    "def func2():\n",
    "    # Используем z уровня модуля (ГЛОБАЛЬНУЮ)\n",
    "    print(\"Глобальная z:\", z)\n",
    "    \n",
    "func1()\n",
    "func2()\n",
    "print(\"Глобальная z:\", z)"
   ]
  },
  {
   "cell_type": "markdown",
   "id": "e87ed451",
   "metadata": {},
   "source": [
    "## Ошибка доступа к глобальной переменной\n",
    "\n",
    "Если попытаться обратиться к глобальной переменной до её создания, то мы получим ошибку `NameError`."
   ]
  },
  {
   "cell_type": "code",
   "execution_count": null,
   "id": "6bd4107b",
   "metadata": {},
   "outputs": [],
   "source": [
    "# Сбрасываем ГЛОБАЛЬНУЮ z (нужно для корректной работы конспекта)\n",
    "%reset_selective -f z\n",
    "\n",
    "def func1():\n",
    "    # Сообщаем функции, что переменная z - ГЛОБАЛЬНАЯ\n",
    "    # На данном этапе переменная еще не создаётся.\n",
    "    global z\n",
    "    \n",
    "    # Создаём ГЛОБАЛЬНУЮ переменную z\n",
    "    z = 15\n",
    "    print(\"Глобальная z:\", z)\n",
    "    \n",
    "    \n",
    "def func2():\n",
    "    # Используем z уровня модуля (ГЛОБАЛЬНУЮ)\n",
    "    print(\"Глобальная z:\", z)\n",
    "    \n",
    "func2() # Вот тут пробуем использовать ГЛОБАЛЬНУЮ z, но она еще не создана\n",
    "func1()\n",
    "print(\"Глобальная z:\", z)"
   ]
  },
  {
   "cell_type": "markdown",
   "id": "795ceb35",
   "metadata": {},
   "source": [
    "## Считаем количество вызовов функции"
   ]
  },
  {
   "cell_type": "code",
   "execution_count": null,
   "id": "b2c8bf86",
   "metadata": {},
   "outputs": [],
   "source": [
    "# Переменная для подсчета количества запусков функции\n",
    "runs = 0\n",
    "\n",
    "def send_email(email):\n",
    "    # Делаем переменную глобальной\n",
    "    global runs\n",
    "    \n",
    "    # Увеличиваем количество на 1\n",
    "    runs += 1\n",
    "    \n",
    "    print(f\"Send {email}\")\n",
    "    \n",
    "send_email(\"admin@domain.com\")\n",
    "\n",
    "for user_email in [\"user1@domain.com\", \"user2@domain.com\", \"user3@domain.com\"]:\n",
    "    send_email(user_email)\n",
    "    \n",
    "# Выводим статистику\n",
    "print(f\"Запусков функции: {runs}\")"
   ]
  },
  {
   "cell_type": "code",
   "execution_count": null,
   "id": "7126167c",
   "metadata": {},
   "outputs": [],
   "source": []
  }
 ],
 "metadata": {
  "kernelspec": {
   "display_name": "Python 3 (ipykernel)",
   "language": "python",
   "name": "python3"
  },
  "language_info": {
   "codemirror_mode": {
    "name": "ipython",
    "version": 3
   },
   "file_extension": ".py",
   "mimetype": "text/x-python",
   "name": "python",
   "nbconvert_exporter": "python",
   "pygments_lexer": "ipython3",
   "version": "3.9.13"
  }
 },
 "nbformat": 4,
 "nbformat_minor": 5
}
