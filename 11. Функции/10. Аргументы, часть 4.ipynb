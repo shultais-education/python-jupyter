{
 "cells": [
  {
   "cell_type": "markdown",
   "id": "03a2b871",
   "metadata": {},
   "source": [
    "# Аргументы, часть 4"
   ]
  },
  {
   "cell_type": "code",
   "execution_count": null,
   "id": "3a6dec36",
   "metadata": {},
   "outputs": [],
   "source": [
    "# Функция print принимает произвольное количество аргументов.\n",
    "print(\"one\", \"two\", \"three\", \"four\")"
   ]
  },
  {
   "cell_type": "markdown",
   "id": "b0ebd8ff",
   "metadata": {},
   "source": [
    "## Первый вариант функции\n",
    "\n",
    "Пишем функцию, которая может принимать от 1-го до 4-х параметров."
   ]
  },
  {
   "cell_type": "code",
   "execution_count": null,
   "id": "91cefe62",
   "metadata": {},
   "outputs": [],
   "source": [
    "def mult(d1, d2=1, d3=1, d4=1):\n",
    "    return d1 * d2 * d3 * d4\n",
    "\n",
    "# Запуск функции с несколькими параметрами.\n",
    "print(mult(10))\n",
    "print(mult(10, 20))\n",
    "print(mult(10, 20, 30))\n",
    "print(mult(10, 20, 30, 40))\n",
    "\n",
    "# Ошибка. В функцию mult можно передавать только 4 параметра.\n",
    "print(mult(10, 20, 30, 40, 50))"
   ]
  },
  {
   "cell_type": "markdown",
   "id": "0983ef75",
   "metadata": {},
   "source": [
    "## Второй вариант функции\n",
    "\n",
    "Пишем функцию, которая может принимать любое параметров."
   ]
  },
  {
   "cell_type": "code",
   "execution_count": null,
   "id": "e9891345",
   "metadata": {},
   "outputs": [],
   "source": [
    "def mult(*digits):\n",
    "    # digits - это кортеж, вроде такого (10, 20, 30, 40)\n",
    "    result = 1\n",
    "    for d in digits:\n",
    "        result *= d\n",
    "    return result\n",
    "\n",
    "# Запуск функции с несколькими параметрами\n",
    "print(mult(10))\n",
    "print(mult(10, 20))\n",
    "print(mult(10, 20, 30))\n",
    "print(mult(10, 20, 30, 40))\n",
    "print(mult(10, 20, 30, 40, 50))"
   ]
  },
  {
   "cell_type": "markdown",
   "id": "53719c35",
   "metadata": {},
   "source": [
    "## Передача любого количества именованных аргументов\n",
    "\n",
    "Чтобы функция могла принимать любое количество элементов, нужно использовать две звездочки: `**`"
   ]
  },
  {
   "cell_type": "code",
   "execution_count": null,
   "id": "a72e4683",
   "metadata": {},
   "outputs": [],
   "source": [
    "def print_dict(**kwargs):\n",
    "    # kwargs - это словарь, в который помещаются именованные аргументы.\n",
    "    # Вроде такого {\"first_name\": \"Дмитрий\", \"patronymic\": \"Иванович\", \"last_name\": \"Менделеев\"}\n",
    "    \n",
    "    # Перебираем словарь и помещаем его элементы в переменную item.\n",
    "    for item in kwargs.items():\n",
    "        print(*item, sep=\": \")\n",
    "        \n",
    "# Вызываем функцию с передачей именованных аргументов.\n",
    "print_dict(\n",
    "    first_name=\"Дмитрий\",\n",
    "    patronymic=\"Иванович\",\n",
    "    last_name=\"Менделеев\"\n",
    ")"
   ]
  },
  {
   "cell_type": "code",
   "execution_count": null,
   "id": "5152c97b",
   "metadata": {},
   "outputs": [],
   "source": []
  }
 ],
 "metadata": {
  "kernelspec": {
   "display_name": "Python 3 (ipykernel)",
   "language": "python",
   "name": "python3"
  },
  "language_info": {
   "codemirror_mode": {
    "name": "ipython",
    "version": 3
   },
   "file_extension": ".py",
   "mimetype": "text/x-python",
   "name": "python",
   "nbconvert_exporter": "python",
   "pygments_lexer": "ipython3",
   "version": "3.9.13"
  }
 },
 "nbformat": 4,
 "nbformat_minor": 5
}
