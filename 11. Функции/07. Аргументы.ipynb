{
 "cells": [
  {
   "cell_type": "markdown",
   "id": "a5224156",
   "metadata": {},
   "source": [
    "# Аргументы"
   ]
  },
  {
   "cell_type": "markdown",
   "id": "17c40e26",
   "metadata": {},
   "source": [
    "## Ссылки на неизменяемы объекты: числа, строки, кортежи"
   ]
  },
  {
   "cell_type": "code",
   "execution_count": null,
   "id": "414ebf84",
   "metadata": {},
   "outputs": [],
   "source": [
    "# Создаём функцию.\n",
    "def func(arg1):\n",
    "    print(\"arg1 (функция):\", arg1)\n",
    "\n",
    "# Создаём переменную в области видимости модуля.\n",
    "ten = 10\n",
    "\n",
    "# Запуск функции\n",
    "# Аргумент arg1 будет ссылаться на переменную ten.\n",
    "func(ten)\n",
    "\n",
    "# Вывод переменной.\n",
    "print(\"ten (модуль):\", ten)"
   ]
  },
  {
   "cell_type": "code",
   "execution_count": null,
   "id": "917befeb",
   "metadata": {},
   "outputs": [],
   "source": [
    "# Создаём функцию.\n",
    "def func(arg1):\n",
    "    # Создаение ЛОКАЛЬНОЙ переменной arg1.\n",
    "    arg1 = 20\n",
    "    print(\"arg1 (функция):\", arg1)\n",
    "\n",
    "# Создаём переменную в области видимости модуля.\n",
    "ten = 10\n",
    "\n",
    "# Запуск функции.\n",
    "# Изначально arg1 будет ссылаться на переменную ten.\n",
    "func(ten)\n",
    "\n",
    "# Вывод переменной\n",
    "print(\"ten (модуль):\", ten)"
   ]
  },
  {
   "cell_type": "markdown",
   "id": "904654ad",
   "metadata": {},
   "source": [
    "## Ссылки на изменяемые объекты: списки, словари\n",
    "\n",
    "Изменяемые объекты передаются в функции по ссылке, что позовляет экономить память при передаче крупных объектов."
   ]
  },
  {
   "cell_type": "code",
   "execution_count": null,
   "id": "17f90779",
   "metadata": {},
   "outputs": [],
   "source": [
    "# Создаём функцию.\n",
    "def func(arg1, arg2):\n",
    "    # Создаение ЛОКАЛЬНОЙ переменной arg1.\n",
    "    arg1 = 20\n",
    "    print(\"arg1 (функция):\", arg1)\n",
    "    print(\"arg2 (функция):\", arg2)\n",
    "\n",
    "# Создаём переменные в области видимости модуля.\n",
    "ten = 10\n",
    "l = [1, 2, 3, 4, 5]\n",
    "\n",
    "# Запуск функции.\n",
    "func(ten, l)\n",
    "\n",
    "# Вывод переменных.\n",
    "print(\"ten (модуль):\", ten)\n",
    "print(\"l (модуль):\", l)"
   ]
  },
  {
   "cell_type": "code",
   "execution_count": null,
   "id": "e0b1a7fd",
   "metadata": {},
   "outputs": [],
   "source": [
    "# Создаём функцию.\n",
    "def func(arg1, arg2):\n",
    "    # Создаение ЛОКАЛЬНОЙ переменной arg1.\n",
    "    arg1 = 20\n",
    "    \n",
    "    # Изменяем элемент списка, так как arg2 ссылается на l.\n",
    "    arg2[0] = 10\n",
    "    \n",
    "    # Выводим аргументы\n",
    "    print(\"arg1 (функция):\", arg1)\n",
    "    print(\"arg2 (функция):\", arg2)\n",
    "\n",
    "# Создаём переменные в области видимости модуля.\n",
    "ten = 10\n",
    "l = [1, 2, 3, 4, 5]\n",
    "\n",
    "# Запуск функции.\n",
    "func(ten, l)\n",
    "\n",
    "# Вывод переменных.\n",
    "print(\"ten (модуль):\", ten)\n",
    "print(\"l (модуль):\", l)"
   ]
  },
  {
   "cell_type": "code",
   "execution_count": null,
   "id": "0fc0d67c",
   "metadata": {},
   "outputs": [],
   "source": [
    "# Создаём функцию\n",
    "def func(arg1, arg2):\n",
    "    # Создаение ЛОКАЛЬНОЙ переменной arg1.\n",
    "    arg1 = 20\n",
    "    \n",
    "    # Создаём копию списка.\n",
    "    arg2 = arg2[:]\n",
    "    \n",
    "    # Изменяем элемент списка (копии).\n",
    "    arg2[0] = 10\n",
    "    \n",
    "    # Выводим аргументы\n",
    "    print(\"arg1 (функция):\", arg1)\n",
    "    print(\"arg2 (функция):\", arg2)\n",
    "\n",
    "# Создаём переменные в области видимости модуля.\n",
    "ten = 10\n",
    "l = [1, 2, 3, 4, 5]\n",
    "\n",
    "# Запуск функции.\n",
    "func(ten, l)\n",
    "\n",
    "# Вывод переменных.\n",
    "print(\"ten (модуль):\", ten)\n",
    "print(\"l (модуль):\", l)"
   ]
  },
  {
   "cell_type": "code",
   "execution_count": null,
   "id": "7650ddd5",
   "metadata": {},
   "outputs": [],
   "source": []
  }
 ],
 "metadata": {
  "kernelspec": {
   "display_name": "Python 3 (ipykernel)",
   "language": "python",
   "name": "python3"
  },
  "language_info": {
   "codemirror_mode": {
    "name": "ipython",
    "version": 3
   },
   "file_extension": ".py",
   "mimetype": "text/x-python",
   "name": "python",
   "nbconvert_exporter": "python",
   "pygments_lexer": "ipython3",
   "version": "3.9.13"
  }
 },
 "nbformat": 4,
 "nbformat_minor": 5
}
