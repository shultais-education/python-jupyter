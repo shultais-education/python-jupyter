{
 "cells": [
  {
   "cell_type": "markdown",
   "id": "157fe83a",
   "metadata": {},
   "source": [
    "# Введение в функции, часть 3\n",
    "\n",
    "В зависимости от назначения, функция может принимать от нуля до произвольного количества параметров (аргументов)."
   ]
  },
  {
   "cell_type": "code",
   "execution_count": null,
   "id": "336dd223",
   "metadata": {},
   "outputs": [],
   "source": [
    "# Функция, которая перемножает два значения\n",
    "def mult(x, y):\n",
    "    return x * y\n",
    "\n",
    "print(mult(2, 7))       # Перемножение целых чисел\n",
    "print(mult(2.5, 7.12))  # Перемножение вещественных чисел\n",
    "print(mult(\"BLA\", 3))   # Повторяем строку три раза"
   ]
  },
  {
   "cell_type": "markdown",
   "id": "c5587e48",
   "metadata": {},
   "source": [
    "## Полиформфизм\n",
    "\n",
    "Назначение функции `mult()`, а также возвращаемое ей значение, определяется переменными, которые в неё передаются.<br>\n",
    "Такое свойство функции называется **полиморфизмом**.<br>\n",
    "\n",
    "Любые два объекта (x и y), которые поддержвают операцию умножения \\*, смогут быть обработаны нашей функцией."
   ]
  },
  {
   "cell_type": "markdown",
   "id": "3e891b3f",
   "metadata": {},
   "source": [
    "## Проверка типов данных\n",
    "\n",
    "Мы можем добавить в функцию проверку типов данных, чтобы ограничить её использование."
   ]
  },
  {
   "cell_type": "code",
   "execution_count": null,
   "id": "e9c2a4c7",
   "metadata": {},
   "outputs": [],
   "source": [
    "# Функция, которая перемножает два значения\n",
    "def mult(x, y):\n",
    "    if type(x) not in {float, int} or type(y) not in {float, int}:\n",
    "        # Возбуждаем исключение TypeError с дополнительным текстом\n",
    "        raise TypeError(\"Аргументы должны быть типа int или float\")\n",
    "    \n",
    "    return x * y\n",
    "\n",
    "print(mult(2, 7))       # Перемножение целых чисел\n",
    "print(mult(2.5, 7.12))  # Перемножение вещественных чисел\n",
    "print(mult(\"BLA\", 3))   # Повторяем строку три раза"
   ]
  },
  {
   "cell_type": "markdown",
   "id": "661918ec",
   "metadata": {},
   "source": [
    "## Распознавание чисел"
   ]
  },
  {
   "cell_type": "code",
   "execution_count": null,
   "id": "6de3a038",
   "metadata": {},
   "outputs": [],
   "source": [
    "# Функция, которая перемножает два значения\n",
    "def mult(x, y):\n",
    "    # Если x - это строка, которая содержит цифры, то преобразуем её в число\n",
    "    if type(x) is str and x.isdigit():\n",
    "        x = int(x)\n",
    "        \n",
    "    # Если y - это строка, которая содержит цифры, то преобразуем её в число\n",
    "    if type(y) is str and y.isdigit():\n",
    "        y = int(y)\n",
    "        \n",
    "    if type(x) not in {float, int} or type(y) not in {float, int}:\n",
    "        # Возбуждаем исключение TypeError с дополнительным текстом\n",
    "        raise TypeError(\"Аргументы должны быть типа int или float\")\n",
    "    \n",
    "    return x * y\n",
    "\n",
    "print(mult(2, 7))       # Перемножение целых чисел\n",
    "print(mult(2.5, 7.12))  # Перемножение вещественных чисел\n",
    "print(mult(\"5\", 3))     # Перемножаем \"5\" на 3"
   ]
  }
 ],
 "metadata": {
  "kernelspec": {
   "display_name": "Python 3 (ipykernel)",
   "language": "python",
   "name": "python3"
  },
  "language_info": {
   "codemirror_mode": {
    "name": "ipython",
    "version": 3
   },
   "file_extension": ".py",
   "mimetype": "text/x-python",
   "name": "python",
   "nbconvert_exporter": "python",
   "pygments_lexer": "ipython3",
   "version": "3.9.13"
  }
 },
 "nbformat": 4,
 "nbformat_minor": 5
}
