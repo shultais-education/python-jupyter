{
 "cells": [
  {
   "cell_type": "markdown",
   "id": "758c0985",
   "metadata": {},
   "source": [
    "# Введение в функции"
   ]
  },
  {
   "cell_type": "code",
   "execution_count": null,
   "id": "4e3424be",
   "metadata": {},
   "outputs": [],
   "source": [
    "# Поиск минимального значения в списке с помощью while\n",
    "items1 = [23, 4, 7, 4, 12, 6, 8, 41, 20]\n",
    "min_item1 = items1[0]\n",
    "i = 1\n",
    "while i < len(items1):\n",
    "    if items1[i] < min_item1:\n",
    "        min_item1 = items1[i]\n",
    "    i += 1\n",
    "    \n",
    "    \n",
    "# Поиск минимального значения в списке с помощью for\n",
    "items2 = [5, 4, -12, 5, 6, 7, 8, 1]\n",
    "min_item2 = items2[0]\n",
    "for item in items2[1:]:\n",
    "    if item < min_item2:\n",
    "        min_item2 = item\n",
    "\n",
    "print(min_item1)\n",
    "print(min_item2)"
   ]
  },
  {
   "cell_type": "code",
   "execution_count": null,
   "id": "ba5a23a5",
   "metadata": {},
   "outputs": [],
   "source": [
    "# Вычисляем минимум еще одного списка\n",
    "items3 = [54, 14, 12, 15, 60, 7, 8, 19]\n",
    "min_item3 = items3[0]\n",
    "for item in items3[1:]:\n",
    "    if item < min_item3:\n",
    "        min_item3 = item\n",
    "\n",
    "print(min_item3)"
   ]
  },
  {
   "cell_type": "markdown",
   "id": "168855da",
   "metadata": {},
   "source": [
    "## Первая функция\n",
    "\n",
    "Функции в программировании позволяют дать имя какому-то фрагменту кода имя и затем выполнять этот код используя имя функции.<br>\n",
    "Создание функции начинается со слова **def**, за которым следует её имя:\n",
    "\n",
    "<pre>def имя_функции():\n",
    "    тело функции (код)</pre>"
   ]
  },
  {
   "cell_type": "code",
   "execution_count": null,
   "id": "e6ba4b7a",
   "metadata": {},
   "outputs": [],
   "source": [
    "# Создаем функцию для вычисления минимального значения списка\n",
    "def get_min_item(items):\n",
    "    min_item = items[0]\n",
    "    for item in items[1:]:\n",
    "        if item < min_item:\n",
    "            min_item = item\n",
    "            \n",
    "    # Возвращаем значение обратно в программу\n",
    "    return min_item\n",
    "\n",
    "# Создаём списки\n",
    "items1 = [23, 4, 7, 4, 12, 6, 8, 41, 20]\n",
    "items2 = [5, 4, -12, 5, 6, 7, 8, 1]\n",
    "items3 = [54, 14, 12, 15, 60, 7, 8, 19]\n",
    "\n",
    "# Вычисляем минимальные значения для каждого списка с помощью функции get_min_item()\n",
    "min_item1 = get_min_item(items1)\n",
    "min_item2 = get_min_item(items2)\n",
    "min_item3 = get_min_item(items3)\n",
    "\n",
    "# Выводим данные\n",
    "print(min_item1)\n",
    "print(min_item2)\n",
    "print(min_item3)\n",
    "\n",
    "# Выводим данные сразу через print\n",
    "print(get_min_item(items1))\n",
    "print(get_min_item(items2))\n",
    "print(get_min_item(items3))\n",
    "\n",
    "# Передаём списки сразу в функции\n",
    "print(get_min_item([23, 4, 7, 4, 12, 6, 8, 41, 20]))\n",
    "print(get_min_item([5, 4, -12, 5, 6, 7, 8, 1]))\n",
    "print(get_min_item([54, 14, 12, 15, 60, 7, 8, 19]))"
   ]
  },
  {
   "cell_type": "code",
   "execution_count": null,
   "id": "758ec4f2",
   "metadata": {},
   "outputs": [],
   "source": [
    "\n",
    "\n"
   ]
  }
 ],
 "metadata": {
  "kernelspec": {
   "display_name": "Python 3 (ipykernel)",
   "language": "python",
   "name": "python3"
  },
  "language_info": {
   "codemirror_mode": {
    "name": "ipython",
    "version": 3
   },
   "file_extension": ".py",
   "mimetype": "text/x-python",
   "name": "python",
   "nbconvert_exporter": "python",
   "pygments_lexer": "ipython3",
   "version": "3.9.13"
  }
 },
 "nbformat": 4,
 "nbformat_minor": 5
}
