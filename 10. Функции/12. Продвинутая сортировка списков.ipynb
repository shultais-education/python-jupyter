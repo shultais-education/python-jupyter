{
 "cells": [
  {
   "cell_type": "markdown",
   "id": "ce7d6012",
   "metadata": {},
   "source": [
    "# Продвинутая сортировка списков\n",
    "\n",
    "Функция `sortded()` и метод `.sort()` могут принимать дополнительный именованный аргумент **key**, в который передается имя функции, формирующий ключи сортировки. После чего сортировка элементов происходит в соответствии с ключами.\n",
    "\n",
    "Будем назвать функцию, которая формирует ключи сортировки - **функцей сортировки** *(это не официальное название, просто так удобней)*.\n",
    "\n",
    "\n",
    "Функция сортировки принимает один аргумент - очередной элемент списка.<br>\n",
    "Функция сортировки применяется к каждому элементу списка и формирует **ключ**, который использутся для сортировки.<br>\n",
    "Функция сортирвоки должна **возвращать ключ**, который удовлетворяет двум условиям:\n",
    "1. Ключ должен хранить значение, которое можно сравнивать с другими значениями этого же типа: строка, число или кортеж.\n",
    "2. Все возвращаемые значения должны быть одного типа."
   ]
  },
  {
   "cell_type": "markdown",
   "id": "04879004",
   "metadata": {},
   "source": [
    "## Базовая сортировка по алфавиту"
   ]
  },
  {
   "cell_type": "code",
   "execution_count": null,
   "id": "e614f79f",
   "metadata": {},
   "outputs": [],
   "source": [
    "countries = [\"Франция\", \"Япония\", \"Россия\", \"Казахстан\", \"Китай\", \"Польша\", \"Украина\", \"Беларусь\"]\n",
    "numbers = [\"100\", \"50\", \"10\", \"70\", \"110\", \"40\"]\n",
    "\n",
    "# Сортируем\n",
    "countries = sorted(countries)\n",
    "numbers.sort()\n",
    "\n",
    "# Выводим данные\n",
    "print(countries)\n",
    "print(numbers)"
   ]
  },
  {
   "cell_type": "markdown",
   "id": "8b2ed8fb",
   "metadata": {},
   "source": [
    "## Сортирвока с ключами len и int"
   ]
  },
  {
   "cell_type": "code",
   "execution_count": null,
   "id": "83374e00",
   "metadata": {},
   "outputs": [],
   "source": [
    "countries = [\"Франция\", \"Япония\", \"Россия\", \"Казахстан\", \"Китай\", \"Польша\", \"Украина\", \"Беларусь\"]\n",
    "numbers = [\"100\", \"50\", \"10\", \"70\", \"110\", \"40\"]\n",
    "\n",
    "# Сортируем по длине названия\n",
    "countries = sorted(countries, key=len)\n",
    "\n",
    "# Сортируем числа\n",
    "numbers.sort(key=int)\n",
    "\n",
    "# Выводим данные\n",
    "print(countries)\n",
    "print(numbers)"
   ]
  },
  {
   "cell_type": "markdown",
   "id": "d7eebc24",
   "metadata": {},
   "source": [
    "## Собственная функция сортировки"
   ]
  },
  {
   "cell_type": "code",
   "execution_count": null,
   "id": "d8b6c12b",
   "metadata": {},
   "outputs": [],
   "source": [
    "countries = [\"Франция\", \"Япония\", \"Россия\", \"Казахстан\", \"Китай\", \"Польша\", \"Украина\", \"Беларусь\"]\n",
    "\n",
    "# Функция принимает один строковый аргумент и возвращает его длину\n",
    "def sort_country(country):\n",
    "    return len(country)\n",
    "\n",
    "# Сортируем по длине названия\n",
    "countries = sorted(countries, key=sort_country)\n",
    "\n",
    "# Выводим данные\n",
    "print(countries)"
   ]
  },
  {
   "cell_type": "markdown",
   "id": "0b041674",
   "metadata": {},
   "source": [
    "## Расширенный алгоритм сортировки \n",
    "\n",
    "Страны СНГ выводятся превыми, остальные страны идут по алфавиту."
   ]
  },
  {
   "cell_type": "code",
   "execution_count": null,
   "id": "8d147ed4",
   "metadata": {},
   "outputs": [],
   "source": [
    "countries = [\"Франция\", \"Япония\", \"Россия\", \"Казахстан\", \"Китай\", \"Польша\", \"Украина\", \"Беларусь\"]\n",
    "\n",
    "def sort_country(country):\n",
    "    # Возвращаем или значение словаря, или исходное название страны\n",
    "    return {\n",
    "        \"Россия\": \"1\",\n",
    "        \"Украина\": \"2\",\n",
    "        \"Казахстан\": \"3\",\n",
    "        \"Беларусь\": \"4\"\n",
    "    }.get(country, country)\n",
    "\n",
    "# Сортируем\n",
    "countries = sorted(countries, key=sort_country)\n",
    "\n",
    "# Выводим данные\n",
    "print(countries)"
   ]
  },
  {
   "cell_type": "code",
   "execution_count": null,
   "id": "8c157f3a",
   "metadata": {},
   "outputs": [],
   "source": [
    "countries = [\"франция\", \"Япония\", \"Россия\", \"Казахстан\", \"Китай\", \"Польша\", \"Украина\", \"Беларусь\"]\n",
    "\n",
    "def sort_country(country):\n",
    "    # Возвращаем или значение словаря, или исходное название страны\n",
    "    # В конце приводим к нижнему регистру\n",
    "    return {\n",
    "        \"Россия\": \"1\",\n",
    "        \"Украина\": \"2\",\n",
    "        \"Казахстан\": \"3\",\n",
    "        \"Беларусь\": \"4\"\n",
    "    }.get(country, country).lower()\n",
    "\n",
    "# Сортируем\n",
    "countries = sorted(countries, key=sort_country)\n",
    "\n",
    "# Выводим данные\n",
    "print(countries)"
   ]
  },
  {
   "cell_type": "markdown",
   "id": "f1828c81",
   "metadata": {},
   "source": [
    "## Сортировка блоками по алфавиту\n",
    "\n",
    "Делим данные на два блока и каждый сортируем по алфавиту"
   ]
  },
  {
   "cell_type": "code",
   "execution_count": null,
   "id": "f515eb24",
   "metadata": {},
   "outputs": [],
   "source": [
    "countries = [\"франция\", \"Япония\", \"Россия\", \"Казахстан\", \"Китай\", \"Польша\", \"Украина\", \"Беларусь\"]\n",
    "\n",
    "def country_sort(country):\n",
    "    country = country.lower()\n",
    "    # Формируем первый блок (верхний)\n",
    "    if country in {'россия', 'казахстан', 'украина', 'беларусь'}:\n",
    "        return 0, country\n",
    "    # Формируем второй блок (нижний)\n",
    "    return 1, country\n",
    "\n",
    "# Сортируем\n",
    "countries = sorted(countries, key=sort_country)\n",
    "\n",
    "# Выводим данные\n",
    "print(countries)"
   ]
  },
  {
   "cell_type": "code",
   "execution_count": null,
   "id": "61ed0f4a",
   "metadata": {},
   "outputs": [],
   "source": []
  }
 ],
 "metadata": {
  "kernelspec": {
   "display_name": "Python 3 (ipykernel)",
   "language": "python",
   "name": "python3"
  },
  "language_info": {
   "codemirror_mode": {
    "name": "ipython",
    "version": 3
   },
   "file_extension": ".py",
   "mimetype": "text/x-python",
   "name": "python",
   "nbconvert_exporter": "python",
   "pygments_lexer": "ipython3",
   "version": "3.9.13"
  }
 },
 "nbformat": 4,
 "nbformat_minor": 5
}
