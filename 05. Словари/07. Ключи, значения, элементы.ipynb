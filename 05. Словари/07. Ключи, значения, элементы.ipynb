{
 "cells": [
  {
   "cell_type": "markdown",
   "id": "590cae32",
   "metadata": {},
   "source": [
    "# Ключи, значения, элементы"
   ]
  },
  {
   "cell_type": "code",
   "execution_count": null,
   "id": "2396e841",
   "metadata": {},
   "outputs": [],
   "source": [
    "user = {\n",
    "    \"age\": 18,\n",
    "    \"first_name\": \"Никита\",\n",
    "    \"is_active\": True,\n",
    "    \"role\": \"manager\"\n",
    "}"
   ]
  },
  {
   "cell_type": "markdown",
   "id": "6d7546fb",
   "metadata": {},
   "source": [
    "## Список ключей словаря `.keys()`\n",
    "\n",
    "Для получения списка ключей словаря, используйте метод `.keys()`.<br>\n",
    "Метод возвращает последовательность типа `dict_keys`, которая не является списком и поддерживат ограниченный набор методов и операций."
   ]
  },
  {
   "cell_type": "code",
   "execution_count": null,
   "id": "b5d3c7a0",
   "metadata": {},
   "outputs": [],
   "source": [
    "# Выводим список ключей\n",
    "print(user.keys())"
   ]
  },
  {
   "cell_type": "code",
   "execution_count": null,
   "id": "4595f0ce",
   "metadata": {},
   "outputs": [],
   "source": [
    "# Чтобы получить реальный список, нужно дополнительно обернуть результат в list()\n",
    "print(list(user.keys()))"
   ]
  },
  {
   "cell_type": "code",
   "execution_count": null,
   "id": "ff1b91f0",
   "metadata": {},
   "outputs": [],
   "source": [
    "# Если применить list() к словарю, то мы получим список ключей\n",
    "print(list(user))"
   ]
  },
  {
   "cell_type": "markdown",
   "id": "048b713a",
   "metadata": {},
   "source": [
    "## Список значений словаря `.values()`\n",
    "\n",
    "Для получения списка значений словаря, используйте метод `.values()`.<br>\n",
    "Метод возвращает последовательность типа `dict_values`, которая не является списком и поддерживат ограниченный набор методов и операций."
   ]
  },
  {
   "cell_type": "code",
   "execution_count": null,
   "id": "93958840",
   "metadata": {},
   "outputs": [],
   "source": [
    "# Выводим список значений\n",
    "print(user.values())"
   ]
  },
  {
   "cell_type": "code",
   "execution_count": null,
   "id": "3c3627d5",
   "metadata": {},
   "outputs": [],
   "source": [
    "# Чтобы получить реальный список, нужно дополнительно обернуть результат в list()\n",
    "print(list(user.values()))"
   ]
  },
  {
   "cell_type": "markdown",
   "id": "77193604",
   "metadata": {},
   "source": [
    "## Список элементов словаря `.items()`\n",
    "\n",
    "Для получения списка значений словаря, используйте метод `.items()`.<br>\n",
    "Метод возвращает последовательность типа `dict_items`, которая не является списком и поддерживат ограниченный набор методов и операций."
   ]
  },
  {
   "cell_type": "code",
   "execution_count": null,
   "id": "86ebaeac",
   "metadata": {},
   "outputs": [],
   "source": [
    "# Выводим список элементов\n",
    "print(user.items())"
   ]
  },
  {
   "cell_type": "code",
   "execution_count": null,
   "id": "996f9722",
   "metadata": {},
   "outputs": [],
   "source": [
    "# Чтобы получить реальный список, нужно дополнительно обернуть результат в list()\n",
    "print(list(user.items()))"
   ]
  },
  {
   "cell_type": "markdown",
   "id": "e5dd70b2",
   "metadata": {},
   "source": [
    "Метод `.items()` возвращает список элементов, в котором каждый элемент представляет собой кортеж из двух элементов."
   ]
  },
  {
   "cell_type": "code",
   "execution_count": null,
   "id": "2f17e6b6",
   "metadata": {},
   "outputs": [],
   "source": [
    "# Получаем первый элемент словаря в виде кортежа\n",
    "print(list(user.items())[0])"
   ]
  }
 ],
 "metadata": {
  "kernelspec": {
   "display_name": "Python 3 (ipykernel)",
   "language": "python",
   "name": "python3"
  },
  "language_info": {
   "codemirror_mode": {
    "name": "ipython",
    "version": 3
   },
   "file_extension": ".py",
   "mimetype": "text/x-python",
   "name": "python",
   "nbconvert_exporter": "python",
   "pygments_lexer": "ipython3",
   "version": "3.9.13"
  }
 },
 "nbformat": 4,
 "nbformat_minor": 5
}
