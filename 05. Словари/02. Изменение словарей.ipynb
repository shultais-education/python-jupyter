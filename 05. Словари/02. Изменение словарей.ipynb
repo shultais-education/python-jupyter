{
 "cells": [
  {
   "cell_type": "markdown",
   "id": "d83d2417",
   "metadata": {},
   "source": [
    "# Изменение словарей\n",
    "\n",
    "Изменение и добавление элементов словарей осуществляется с помощью присвавания:\n",
    "<pre>словарь[ключ] = значение</pre>\n",
    " \n",
    "Если в словаре есть элемент с переданным ключом, то происходит **обновление** данных.<br>\n",
    "Если такого элемента нет, то он будет **добавлен**."
   ]
  },
  {
   "cell_type": "code",
   "execution_count": null,
   "id": "a65715a8",
   "metadata": {},
   "outputs": [],
   "source": [
    "# Исходный словарь на начало урока\n",
    "user = {\n",
    "    \"age\": 18,\n",
    "    \"first_name\": \"Никита\",\n",
    "    \"is_active\": True,\n",
    "    \"roles\": [17, 48],\n",
    "    \"address\": {\"city\": \"Москва\", \"street\": \"Гагарина\", \"house\": 22}\n",
    "}"
   ]
  },
  {
   "cell_type": "markdown",
   "id": "016ce0f1",
   "metadata": {},
   "source": [
    "## Добавление новых элементов в словарь"
   ]
  },
  {
   "cell_type": "code",
   "execution_count": null,
   "id": "6cc4ec4b",
   "metadata": {},
   "outputs": [],
   "source": [
    "my_user = {\"age\": 18, \"first_name\": \"Никита\"}\n",
    "\n",
    "# Добавляем в словарь элемент с ключом \"last_name\"\n",
    "my_user[\"last_name\"] = \"Иванов\"\n",
    "\n",
    "print(my_user)"
   ]
  },
  {
   "cell_type": "markdown",
   "id": "3d094f29",
   "metadata": {},
   "source": [
    "## Изменение существующих элементов"
   ]
  },
  {
   "cell_type": "code",
   "execution_count": null,
   "id": "e7cfb00b",
   "metadata": {},
   "outputs": [],
   "source": [
    "my_user_2 = {\"age\": 18, \"first_name\": \"Никита\", \"active\": True}\n",
    "\n",
    "# Увеличиваем значение возраста на 1\n",
    "my_user_2[\"age\"] += 1\n",
    "\n",
    "# Меняем элемент с ключом active на False\n",
    "my_user_2[\"active\"] = False\n",
    "print(my_user_2)\n",
    "\n",
    "# Или мы можем поменять active на обратный таким способом\n",
    "my_user_2[\"active\"] = not my_user_2[\"active\"]\n",
    "print(my_user_2)"
   ]
  },
  {
   "cell_type": "markdown",
   "id": "c8ffd01c",
   "metadata": {},
   "source": [
    "## Удаление элементов\n",
    "\n",
    "Чтобы удалить из словаря элемент, нужно воспользоваться оператором `del`."
   ]
  },
  {
   "cell_type": "code",
   "execution_count": null,
   "id": "c88d50df",
   "metadata": {},
   "outputs": [],
   "source": [
    "my_user_3 = {\"age\": 18, \"first_name\": \"Никита\", \"active\": True}\n",
    "\n",
    "# Удаляем элемент с ключом \"age\"\n",
    "del my_user_3[\"age\"]\n",
    "print(my_user_3)"
   ]
  },
  {
   "cell_type": "markdown",
   "id": "152f9d65",
   "metadata": {},
   "source": [
    "## Ошибки при работе со словарями\n",
    "\n",
    "При попытке обращения к несуществующему элементу возникает ошибка **KeyError**."
   ]
  },
  {
   "cell_type": "markdown",
   "id": "5071b5b8",
   "metadata": {},
   "source": [
    "### 1. Доступ к несуществующему ключу\n",
    "\n",
    "Почему возникает ошибка в коде ниже.<br><br>\n",
    "Строку:<br>\n",
    "<pre>my_user_4[\"age\"] += 1</pre>\n",
    "можно раскрыть так:\n",
    "<pre>my_user_4[\"age\"] = my_user_4[\"age\"] + 1</pre>\n",
    "и ошибка возникает в правой части в выражении:\n",
    "<pre>my_user_4[\"age\"] + 1</pre> \n",
    "так как мы пытаемся сперва получить значение по ключу **age**, но данного ключа уже нет."
   ]
  },
  {
   "cell_type": "code",
   "execution_count": null,
   "id": "d5fe9e0e",
   "metadata": {},
   "outputs": [],
   "source": [
    "my_user_4 = {\"age\": 18, \"first_name\": \"Никита\", \"active\": True}\n",
    "\n",
    "# Удаляем элемент с ключом \"age\"\n",
    "del my_user_4[\"age\"]\n",
    "\n",
    "# Ключа \"age\" в словаре нет, а мы пытаемся его увеличить\n",
    "my_user_4[\"age\"] += 1"
   ]
  },
  {
   "cell_type": "markdown",
   "id": "c5299237",
   "metadata": {},
   "source": [
    "### 1а. Удаление + создание (НЕ ошибка)"
   ]
  },
  {
   "cell_type": "code",
   "execution_count": null,
   "id": "b35c2f96",
   "metadata": {},
   "outputs": [],
   "source": [
    "my_user_5 = {\"age\": 18, \"first_name\": \"Никита\", \"active\": True}\n",
    "\n",
    "# Удаляем элемент с ключом \"age\"\n",
    "del my_user_5[\"age\"]\n",
    "\n",
    "# А вот такой код сработает, так как мы сперва удалил ключ age,\n",
    "# а теперь создаем новый.\n",
    "my_user_5[\"age\"] = 25\n",
    "print(my_user_5)"
   ]
  },
  {
   "cell_type": "markdown",
   "id": "881289b0",
   "metadata": {},
   "source": [
    "### 2. Удаление несуществующего элемента"
   ]
  },
  {
   "cell_type": "code",
   "execution_count": null,
   "id": "0aa9891b",
   "metadata": {},
   "outputs": [],
   "source": [
    "my_user_6 = {\"age\": 18, \"first_name\": \"Никита\", \"active\": True}\n",
    "\n",
    "# Снова ошибка удаления несуществующего ключа,\n",
    "# так как ключи словаря РЕГИСТРОЗАВИСИМЫЕ\n",
    "del my_user_6[\"AGE\"]\n",
    "\n"
   ]
  },
  {
   "cell_type": "markdown",
   "id": "870e4668",
   "metadata": {},
   "source": [
    "### 3. Попытка вывода несуществующего элемента"
   ]
  },
  {
   "cell_type": "code",
   "execution_count": null,
   "id": "798ad3ee",
   "metadata": {},
   "outputs": [],
   "source": [
    "my_user_7 = {\"age\": 18, \"first_name\": \"Никита\", \"active\": True}\n",
    "\n",
    "# Ключа \"AGE\" в словаре не сущестует, есть только \"age\".\n",
    "print(my_user_7[\"AGE\"])"
   ]
  },
  {
   "cell_type": "markdown",
   "id": "e4d505b8",
   "metadata": {},
   "source": [
    "## Расширение одного словаря другим\n",
    "\n",
    "Чтобы расширить один словарь другим, нужно воспользоваться методом `.update()`:\n",
    "<pre>dict1.update(dict2)</pre>\n",
    "Если в словарях содержатся элементы с **одинаковыми ключами**, то в словаре `dict1` произойдет **обновление данных** в таких ключах. В остальных случаях ключи с данными из словаря `dict2` будут скопированы в `dict1`."
   ]
  },
  {
   "cell_type": "code",
   "execution_count": null,
   "id": "f2a5704e",
   "metadata": {},
   "outputs": [],
   "source": [
    "# Первый словарь\n",
    "user = {\n",
    "    \"age\": 18,\n",
    "    \"first_name\": \"Никита\",\n",
    "    \"is_active\": True,\n",
    "    \"roles\": [17, 48],\n",
    "    \"address\": {\"city\": \"Москва\", \"street\": \"Гагарина\", \"house\": 22}\n",
    "}\n",
    "\n",
    "# Второй словарь\n",
    "profile = {\n",
    "    \"age\": 22,\n",
    "    \"first_name\": \"Nikita\",\n",
    "    \"last_name\": \"Ivanov\",\n",
    "    \"email\": \"user@domain.com\" \n",
    "}\n",
    "\n",
    "# Расширяем словарь user словарем profile.\n",
    "# Значения с ключами \"first_name\" и \"age\" будут обновлены.\n",
    "# Значения с ключами \"email\" и \"last_name\" будут добавлены.\n",
    "user.update(profile)\n",
    "print(user)"
   ]
  },
  {
   "cell_type": "markdown",
   "id": "9183e86c",
   "metadata": {},
   "source": [
    "### Альтрантивный вариант использования метода `.update()`\n",
    "\n",
    "Метод `.update()` может принимать *именованные аргументы*:\n",
    "<pre>dict.update(key1=value1, key2=value2)</pre>\n",
    "\n",
    "Где `key1` и `key2` - это имена ключей (записываются без кавычек), а `value1` и `value2` - это значения. "
   ]
  },
  {
   "cell_type": "code",
   "execution_count": null,
   "id": "c0204724",
   "metadata": {},
   "outputs": [],
   "source": [
    "# Первый словарь\n",
    "user2 = {\n",
    "    \"age\": 18,\n",
    "    \"first_name\": \"Никита\",\n",
    "    \"is_active\": True,\n",
    "    \"roles\": [17, 48],\n",
    "    \"address\": {\"city\": \"Москва\", \"street\": \"Гагарина\", \"house\": 22}\n",
    "}\n",
    "\n",
    "# Второй словарь\n",
    "profile2 = {\n",
    "    \"age\": 22,\n",
    "    \"first_name\": \"Nikita\",\n",
    "    \"last_name\": \"Ivanov\",\n",
    "    \"email\": \"user@domain.com\" \n",
    "}\n",
    "\n",
    "# Расширяем словарь user словарем profile\n",
    "user2.update(profile2)\n",
    "\n",
    "# Меняем значение по ключу \"first_name\" \n",
    "# и добавляем новый элемент с ключом \"Age\"\n",
    "user2.update(first_name=\"Nik\", Age=15)\n",
    "print(user2)"
   ]
  },
  {
   "cell_type": "code",
   "execution_count": null,
   "id": "8ab74bc9",
   "metadata": {},
   "outputs": [],
   "source": []
  }
 ],
 "metadata": {
  "kernelspec": {
   "display_name": "Python 3 (ipykernel)",
   "language": "python",
   "name": "python3"
  },
  "language_info": {
   "codemirror_mode": {
    "name": "ipython",
    "version": 3
   },
   "file_extension": ".py",
   "mimetype": "text/x-python",
   "name": "python",
   "nbconvert_exporter": "python",
   "pygments_lexer": "ipython3",
   "version": "3.9.13"
  }
 },
 "nbformat": 4,
 "nbformat_minor": 5
}
