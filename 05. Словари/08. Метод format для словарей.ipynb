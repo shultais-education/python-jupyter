{
 "cells": [
  {
   "cell_type": "markdown",
   "id": "a6153769",
   "metadata": {},
   "source": [
    "# Метод `.format()` для словарей\n",
    "\n",
    "С помощью метода `.format()` мы можем отделить строку форматирования (шаблон) от данных."
   ]
  },
  {
   "cell_type": "code",
   "execution_count": null,
   "id": "78d60a55",
   "metadata": {},
   "outputs": [],
   "source": [
    "# Данные\n",
    "user = {\n",
    "    \"first_name\": \"Антон\",\n",
    "    \"price\": 3000,\n",
    "    \"sale\": .3\n",
    "}"
   ]
  },
  {
   "cell_type": "markdown",
   "id": "6733374c",
   "metadata": {},
   "source": [
    "## Позиционная расстановка спецификаторов"
   ]
  },
  {
   "cell_type": "code",
   "execution_count": null,
   "id": "6087bac3",
   "metadata": {},
   "outputs": [],
   "source": [
    "# Расставляем спецификаторы в нужные места.\n",
    "hello_template = \"Здравствуйте, {}!\\n\" \\\n",
    "                 \"Стоимость товара: {} руб.\\n\" \\\n",
    "                 \"Ваша скидка: {}.\"\n",
    "\n",
    "# Передаём данные в соответствии с их местами в шаблоне.\n",
    "print(hello_template.format(\n",
    "    user[\"first_name\"],\n",
    "    user[\"price\"],\n",
    "    user[\"sale\"]\n",
    "))"
   ]
  },
  {
   "cell_type": "markdown",
   "id": "74abbb3b",
   "metadata": {},
   "source": [
    "## Доступ по ключам из строки форматирования"
   ]
  },
  {
   "cell_type": "code",
   "execution_count": null,
   "id": "ab374e55",
   "metadata": {},
   "outputs": [],
   "source": [
    "# Формируем строку, в которой u - это словарь.\n",
    "hello_template2 = \"Здравствуйте, {u[first_name]}!\\n\" \\\n",
    "                  \"Стоимость товара: {u[price]} руб.\\n\" \\\n",
    "                  \"Ваша скидка: {u[sale]}.\"\n",
    "\n",
    "# Передаём словарь user в строку под именем u.\n",
    "print(hello_template2.format(u=user))"
   ]
  },
  {
   "cell_type": "markdown",
   "id": "3eba6aa2",
   "metadata": {},
   "source": [
    "### Форматирование скидки"
   ]
  },
  {
   "cell_type": "code",
   "execution_count": null,
   "id": "48d86a80",
   "metadata": {},
   "outputs": [],
   "source": [
    "# Формируем строку, в которой u - это словарь.\n",
    "hello_template3 = \"Здравствуйте, {u[first_name]}!\\n\" \\\n",
    "                  \"Стоимость товара: {u[price]} руб.\\n\" \\\n",
    "                  \"Ваша скидка: {u[sale]:.0%}.\"\n",
    "\n",
    "# Передаём словарь user в строку под именем u.\n",
    "print(hello_template3.format(u=user))"
   ]
  },
  {
   "cell_type": "markdown",
   "id": "48a8391d",
   "metadata": {},
   "source": [
    "## Распаковка словаря"
   ]
  },
  {
   "cell_type": "code",
   "execution_count": null,
   "id": "0aea5d8a",
   "metadata": {},
   "outputs": [],
   "source": [
    "# Формируем строку, в которой просто указываем ключи словаря.\n",
    "hello_template4 = \"Здравствуйте, {first_name}!\\n\" \\\n",
    "                  \"Стоимость товара: {price} руб.\\n\" \\\n",
    "                  \"Ваша скидка: {sale:.0%}.\"\n",
    "\n",
    "# Передаём все ключи словаря как отдельные аргументы.\n",
    "print(hello_template4.format(**user))"
   ]
  },
  {
   "cell_type": "code",
   "execution_count": null,
   "id": "f81abf39",
   "metadata": {},
   "outputs": [],
   "source": [
    "# Формируем строку, в которой просто указываем ключи словаря.\n",
    "hello_template4 = \"Здравствуйте, {first_name}!\\n\" \\\n",
    "                  \"Стоимость товара: {price} руб.\\n\" \\\n",
    "                  \"Ваша скидка: {sale:.0%}.\"\n",
    "\n",
    "# Запись hello_template4.format(**user)\n",
    "# равносильна такому вызову:\n",
    "print(hello_template4.format(\n",
    "    first_name=user[\"first_name\"],\n",
    "    price=user[\"price\"],\n",
    "    sale=user[\"sale\"],\n",
    "))"
   ]
  },
  {
   "cell_type": "markdown",
   "id": "81f11e76",
   "metadata": {},
   "source": [
    "## Доступ к спискам и кортежам внутри словаря"
   ]
  },
  {
   "cell_type": "code",
   "execution_count": null,
   "id": "3e88e975",
   "metadata": {},
   "outputs": [],
   "source": [
    "user2 = {\n",
    "    \"first_name\": \"Антон\",\n",
    "    \"price\": (3000, \"руб\"),\n",
    "    \"sale\": .3\n",
    "}\n",
    "\n",
    "# Формируем строку, в которой просто указываем ключи словаря и индексы списков или кортежей.\n",
    "hello_template5 = \"Здравствуйте, {first_name}!\\n\" \\\n",
    "                  \"Стоимость товара: {price[0]} {price[1]}.\\n\" \\\n",
    "                  \"Ваша скидка: {sale:.0%}.\"\n",
    "\n",
    "# Передаём все ключи словаря как отдельные аргументы.\n",
    "print(hello_template5.format(**user2))"
   ]
  },
  {
   "cell_type": "markdown",
   "id": "2e02278f",
   "metadata": {},
   "source": [
    "## Доступ ко вложенным словарям"
   ]
  },
  {
   "cell_type": "code",
   "execution_count": null,
   "id": "aef52e04",
   "metadata": {},
   "outputs": [],
   "source": [
    "user3 = {\n",
    "    \"name\": {\"first\": \"Антон\"},\n",
    "    \"price\": (3000, \"руб\"),\n",
    "    \"sale\": .3\n",
    "}\n",
    "\n",
    "# Формируем строку, в которой просто указываем ключи словаря, индексы списков (кортежей) и ключи вложенных словарей.\n",
    "hello_template6 = \"Здравствуйте, {name[first]}!\\n\" \\\n",
    "                  \"Стоимость товара: {price[0]} {price[1]}.\\n\" \\\n",
    "                  \"Ваша скидка: {sale:.0%}.\"\n",
    "\n",
    "# Передаём все ключи словаря как отдельные аргументы.\n",
    "print(hello_template6.format(**user3))"
   ]
  },
  {
   "cell_type": "code",
   "execution_count": null,
   "id": "af357c94",
   "metadata": {},
   "outputs": [],
   "source": []
  }
 ],
 "metadata": {
  "kernelspec": {
   "display_name": "Python 3 (ipykernel)",
   "language": "python",
   "name": "python3"
  },
  "language_info": {
   "codemirror_mode": {
    "name": "ipython",
    "version": 3
   },
   "file_extension": ".py",
   "mimetype": "text/x-python",
   "name": "python",
   "nbconvert_exporter": "python",
   "pygments_lexer": "ipython3",
   "version": "3.9.13"
  }
 },
 "nbformat": 4,
 "nbformat_minor": 5
}
