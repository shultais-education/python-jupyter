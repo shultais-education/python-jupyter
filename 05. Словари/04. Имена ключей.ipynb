{
 "cells": [
  {
   "cell_type": "markdown",
   "id": "0903ceea",
   "metadata": {},
   "source": [
    "# Имена ключей\n",
    "\n",
    "Именами ключей словаря могут выступать строки, числа, логические значения (True/False), а также None.<br>\n",
    "В случае строк имена ключей **регистрозависимы**, то есть одно и то же имя в разных регистрах &#8212; это разные имена.<br>\n",
    "В рамках одного словаря ключи должны быть **уникальными**."
   ]
  },
  {
   "cell_type": "code",
   "execution_count": null,
   "id": "7b1e549d",
   "metadata": {},
   "outputs": [],
   "source": [
    "d = {\n",
    "    \"name\": \"Название 1\",\n",
    "    \"Name\": \"Название 2\",\n",
    "    \"name\": \"Название 3\",\n",
    "    \"1\": \"1\",\n",
    "    1: 1,\n",
    "    1.0: 1.0,\n",
    "    1.01: 1.01,\n",
    "    0: 0,\n",
    "    False: False,\n",
    "    True: True,\n",
    "    None: None\n",
    "}\n",
    "print(d)"
   ]
  },
  {
   "cell_type": "markdown",
   "id": "d3ff625d",
   "metadata": {},
   "source": [
    "## Примеры разных ключей\n",
    "\n",
    "1. `1` и `\"1\"`\n",
    "2. `\"name\"` и `\"Name\"`"
   ]
  },
  {
   "cell_type": "markdown",
   "id": "80e0bf28",
   "metadata": {},
   "source": [
    "## Примеры одинаковых ключей\n",
    "\n",
    "1. `1`, `1.0` и `True`\n",
    "2. `\"name\"` и `\"name\"`\n",
    "3. `0` и `False`"
   ]
  },
  {
   "cell_type": "markdown",
   "id": "d04ac286",
   "metadata": {},
   "source": [
    "## Проверка нахождения элемента в списке"
   ]
  },
  {
   "cell_type": "code",
   "execution_count": null,
   "id": "39bd4da7",
   "metadata": {},
   "outputs": [],
   "source": [
    "state = {\n",
    "    False: \"отсутствует\",\n",
    "    True: \"в списке\"\n",
    "}\n",
    "\n",
    "products = [17, 57, 1, 59, 85, 15, 22, 15]\n",
    "\n",
    "# Используем in\n",
    "in_products = 17 in products\n",
    "\n",
    "print(in_products)\n",
    "print(17, state[in_products])\n",
    "print()\n",
    "\n",
    "# Используем метод .count(), НО только для случаев, когда нет дублей элементов.\n",
    "in_products = products.count(17)\n",
    "\n",
    "print(in_products)\n",
    "print(17, state[in_products])\n",
    "print()\n",
    "\n",
    "# Снова используем метод .count()\n",
    "in_products = products.count(18)\n",
    "\n",
    "print(in_products)\n",
    "print(18, state[in_products])\n",
    "print()\n",
    "\n",
    "# Хак с .count() если значений больше 1 (как в случае 15)\n",
    "# Если применить функцию bool к любому числу, отличному от нуля,\n",
    "# то функция вернет True: bool(3) -> True\n",
    "# products.count(15) вернет 2, а далее с помощью bool мы получим True\n",
    "in_products = bool(products.count(15))\n",
    "\n",
    "print(in_products)\n",
    "print(15, state[in_products])\n",
    "print()\n",
    "\n",
    "# Но более правильно использовать in\n",
    "in_products = 15 in products\n",
    "\n",
    "print(in_products)\n",
    "print(15, state[in_products])"
   ]
  },
  {
   "cell_type": "code",
   "execution_count": null,
   "id": "89906662",
   "metadata": {},
   "outputs": [],
   "source": []
  }
 ],
 "metadata": {
  "kernelspec": {
   "display_name": "Python 3 (ipykernel)",
   "language": "python",
   "name": "python3"
  },
  "language_info": {
   "codemirror_mode": {
    "name": "ipython",
    "version": 3
   },
   "file_extension": ".py",
   "mimetype": "text/x-python",
   "name": "python",
   "nbconvert_exporter": "python",
   "pygments_lexer": "ipython3",
   "version": "3.9.13"
  }
 },
 "nbformat": 4,
 "nbformat_minor": 5
}
