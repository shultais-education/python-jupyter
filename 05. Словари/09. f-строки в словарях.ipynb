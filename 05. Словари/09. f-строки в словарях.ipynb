{
 "cells": [
  {
   "cell_type": "markdown",
   "id": "4038e486",
   "metadata": {},
   "source": [
    "# f-строки в словарях\n",
    "\n",
    "Когда мы использовали метод `.format()` то имена ключей вставляли **без кавычек**.<br>\n",
    "В случае f-строк ключи нужно вставлять **с кавычками**. За исключеним числовых ключей.\n",
    "\n",
    "Также мы теряем возможность использовать строку в качестве шаблона, но зато мы получаем доступ ко всем расширенным возможностям f-строк.\n"
   ]
  },
  {
   "cell_type": "markdown",
   "id": "1ac3dad4",
   "metadata": {},
   "source": [
    "## Метод `.format()`"
   ]
  },
  {
   "cell_type": "code",
   "execution_count": null,
   "id": "421c0d21",
   "metadata": {},
   "outputs": [],
   "source": [
    "user = {\n",
    "    \"first_name\": \"Антон\",\n",
    "    \"price\": 3000,\n",
    "    \"sale\": .3\n",
    "}\n",
    "\n",
    "hello_template = \"Здравствуйте, {u[first_name]}!\\n\" \\\n",
    "                 \"Стоимость товара: {u[price]} руб.\\n\" \\\n",
    "                 \"Ваша скидка: {u[sale]:.0%}.\"\n",
    "\n",
    "hello = hello_template.format(u=user)\n",
    "\n",
    "print(hello)"
   ]
  },
  {
   "cell_type": "markdown",
   "id": "ca244c2c",
   "metadata": {},
   "source": [
    "## f-строки\n",
    "\n",
    "Чтобы преобразовать предыдущий пример к f-строкам, нужно выполнить следующие шаги:\n",
    "1. Добавить **f** к каждой строке.\n",
    "2. Заменить **u** на **user**, так как в коде используется именно это имя.\n",
    "3. Добавить всем ключам одинарые кавычки, так как сама строка ограничена двойными кавычками.\n",
    "4. Переименовать **hello_template** в **hello**, так как теперь у нас не шаблон."
   ]
  },
  {
   "cell_type": "code",
   "execution_count": null,
   "id": "eddc7908",
   "metadata": {},
   "outputs": [],
   "source": [
    "user = {\n",
    "    \"first_name\": \"Антон\",\n",
    "    \"price\": 3000,\n",
    "    \"sale\": .3\n",
    "}\n",
    "\n",
    "hello = f\"Здравствуйте, {user['first_name']}!\\n\" \\\n",
    "        f\"Стоимость товара: {user['price']} руб.\\n\" \\\n",
    "        f\"Ваша скидка: {user['sale']:.0%}.\"\n",
    "\n",
    "print(hello)"
   ]
  },
  {
   "cell_type": "markdown",
   "id": "9104ee2f",
   "metadata": {},
   "source": [
    "## Использование переменных в качестве ключа\n"
   ]
  },
  {
   "cell_type": "code",
   "execution_count": null,
   "id": "0585162e",
   "metadata": {},
   "outputs": [],
   "source": [
    "user = {\n",
    "    \"first_name\": \"Антон\",\n",
    "    \"price\": 3000,\n",
    "    \"sale\": .3\n",
    "}\n",
    "\n",
    "# Создаем переменную, которая содержит название ключа\n",
    "price_f = \"price\"\n",
    "\n",
    "hello = f\"Здравствуйте, {user['first_name']}!\\n\" \\\n",
    "        f\"Стоимость товара: {user[price_f]} руб.\\n\" \\\n",
    "        f\"Ваша скидка: {user['sale']:.0%}.\"\n",
    "\n",
    "print(hello)"
   ]
  },
  {
   "cell_type": "markdown",
   "id": "345393fd",
   "metadata": {},
   "source": [
    "## Числа в качестве ключей"
   ]
  },
  {
   "cell_type": "code",
   "execution_count": null,
   "id": "8654c55f",
   "metadata": {},
   "outputs": [],
   "source": [
    "user = {\n",
    "    \"first_name\": \"Антон\",\n",
    "    \"price\": 3000,\n",
    "    \"sale\": .3\n",
    "}\n",
    "\n",
    "# Словарь, в котором ключи - это числа\n",
    "currencies = {643: \"RUB\", 840: \"USD\", 978: \"UER\"}\n",
    "\n",
    "# Создаем переменную, которая содержит название ключа\n",
    "price_f = \"price\"\n",
    "\n",
    "hello = f\"Здравствуйте, {user['first_name']}!\\n\" \\\n",
    "        f\"Стоимость товара: {user[price_f]} {currencies[643]}.\\n\" \\\n",
    "        f\"Ваша скидка: {user['sale']:.0%}.\"\n",
    "\n",
    "print(hello)"
   ]
  },
  {
   "cell_type": "code",
   "execution_count": null,
   "id": "b6c8e5d9",
   "metadata": {},
   "outputs": [],
   "source": []
  }
 ],
 "metadata": {
  "kernelspec": {
   "display_name": "Python 3 (ipykernel)",
   "language": "python",
   "name": "python3"
  },
  "language_info": {
   "codemirror_mode": {
    "name": "ipython",
    "version": 3
   },
   "file_extension": ".py",
   "mimetype": "text/x-python",
   "name": "python",
   "nbconvert_exporter": "python",
   "pygments_lexer": "ipython3",
   "version": "3.9.13"
  }
 },
 "nbformat": 4,
 "nbformat_minor": 5
}
