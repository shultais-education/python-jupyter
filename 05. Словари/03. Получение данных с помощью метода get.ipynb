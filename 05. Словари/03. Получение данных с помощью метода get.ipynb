{
 "cells": [
  {
   "cell_type": "markdown",
   "id": "71fc9d35",
   "metadata": {},
   "source": [
    "# Получение данных с помощью метода `.get()`\n",
    "\n",
    "В общем случае для получения значения элемента словаря, нужно обратиться к нему по ключу.<br>\n",
    "В случае обращения по несуществующему ключу, возникнет исключение (ошибка) **KeyError**."
   ]
  },
  {
   "cell_type": "code",
   "execution_count": null,
   "id": "eb5561d0",
   "metadata": {},
   "outputs": [],
   "source": [
    "user = {\n",
    "    \"age\": 18,\n",
    "    \"first_name\": \"Никита\",\n",
    "    \"is_active\": True\n",
    "}\n",
    "\n",
    "# Попытка обращения по несуществующему ключу\n",
    "print(user[\"AGE\"])"
   ]
  },
  {
   "cell_type": "markdown",
   "id": "a97c19ed",
   "metadata": {},
   "source": [
    "## Проверка наличия ключа с помощью `in`\n",
    "\n",
    "С помощью оператора `in` можно проверить есть ли в словаре ключ или нет."
   ]
  },
  {
   "cell_type": "code",
   "execution_count": null,
   "id": "79c64dad",
   "metadata": {},
   "outputs": [],
   "source": [
    "print(\"AGE\" in user)\n",
    "print(\"age\" in user)"
   ]
  },
  {
   "cell_type": "markdown",
   "id": "83d0697d",
   "metadata": {},
   "source": [
    "### Простое условие\n",
    "\n",
    "Оператор `in` можно использовать вместе с условием. Попробуйте позапускать код ниже с разными значениями в переменной **key**."
   ]
  },
  {
   "cell_type": "code",
   "execution_count": null,
   "id": "ec4f9198",
   "metadata": {},
   "outputs": [],
   "source": [
    "# Задаем ключ\n",
    "key = \"AGE\"\n",
    "\n",
    "# Если элемент с ключом key в словаре есть, то выводим его\n",
    "if key in user:\n",
    "    print(user[key])\n",
    "# Иначе (ключа нет) выводим сообщение\n",
    "else:\n",
    "    print(f\"Ключа: {key} в словаре user нет\")"
   ]
  },
  {
   "cell_type": "markdown",
   "id": "3109b19c",
   "metadata": {},
   "source": [
    "## Доступ к элементам с помощью метода `.get()`\n",
    "\n",
    "Для получения значения элемента словаря также можно использовать метод `.get(key)`, который принимает имя ключа. В случае если ключ есть, то `.get()` вернет его значение, а если ключа нет, то будет возвращено **None**.\n",
    "\n",
    "Данный метод используется если вы не уверены есть ли в словаре ключ или нет."
   ]
  },
  {
   "cell_type": "code",
   "execution_count": null,
   "id": "92982d77",
   "metadata": {},
   "outputs": [],
   "source": [
    "print(user.get(\"AGE\"))\n",
    "print(user.get(\"age\"))"
   ]
  },
  {
   "cell_type": "markdown",
   "id": "13156af0",
   "metadata": {},
   "source": [
    "### Значение по умолчанию\n",
    "\n",
    "Если в метод `.get(key, default)` передать второй параметр, то в случае отсутствия ключа, будет возвращен именно он, а не **None**."
   ]
  },
  {
   "cell_type": "code",
   "execution_count": null,
   "id": "82db0d56",
   "metadata": {},
   "outputs": [],
   "source": [
    "# Получаем 0 вместо None\n",
    "print(user.get(\"AGE\", 0))\n",
    "print(user.get(\"age\", 0))"
   ]
  },
  {
   "cell_type": "markdown",
   "id": "2321db1c",
   "metadata": {},
   "source": [
    "Второй параметр будет возвращен только если в словаре **нет ключа**.\n",
    "\n",
    "Если ключ есть и он содержит **None**, ноль или пустую строку, то будет возвращено значение из словаря."
   ]
  },
  {
   "cell_type": "code",
   "execution_count": null,
   "id": "f2e9039c",
   "metadata": {},
   "outputs": [],
   "source": [
    "user2 = {\n",
    "    \"age\": 18,\n",
    "    \"first_name\": \"Никита\",\n",
    "    \"is_active\": True\n",
    "}\n",
    "\n",
    "# Теперь в словаре есть и age, и AGE\n",
    "user2.update(AGE=None)\n",
    "\n",
    "# Получаем данные из словаря\n",
    "print(user2)\n",
    "print(user2.get(\"AGE\", 0))\n",
    "print(user2.get(\"age\", 0))"
   ]
  },
  {
   "cell_type": "markdown",
   "id": "0dc24af7",
   "metadata": {},
   "source": [
    "### Маленький лайфхак с `or`\n",
    "\n",
    "Если мы ожидаем, что в словаре может **отсутствовать элемент**, либо присутстовать, но содержать None или **какое-то пустое значение**, то можно использовать оператор `or` для выбора значения по умолчанию."
   ]
  },
  {
   "cell_type": "code",
   "execution_count": null,
   "id": "8627e5d4",
   "metadata": {},
   "outputs": [],
   "source": [
    "print(user2.get(\"AGE\", 0) or 0)\n",
    "print(user2.get(\"age\", 0) or 0)"
   ]
  },
  {
   "cell_type": "code",
   "execution_count": null,
   "id": "b3a4972b",
   "metadata": {},
   "outputs": [],
   "source": [
    "# Обновляем AGE до 15\n",
    "user2.update(AGE=15)\n",
    "\n",
    "# Получаем данные из словаря\n",
    "print(user2.get(\"AGE\", 0) or 0)\n",
    "print(user2.get(\"age\", 0) or 0)"
   ]
  },
  {
   "cell_type": "code",
   "execution_count": null,
   "id": "e40373a7",
   "metadata": {},
   "outputs": [],
   "source": []
  }
 ],
 "metadata": {
  "kernelspec": {
   "display_name": "Python 3 (ipykernel)",
   "language": "python",
   "name": "python3"
  },
  "language_info": {
   "codemirror_mode": {
    "name": "ipython",
    "version": 3
   },
   "file_extension": ".py",
   "mimetype": "text/x-python",
   "name": "python",
   "nbconvert_exporter": "python",
   "pygments_lexer": "ipython3",
   "version": "3.9.13"
  }
 },
 "nbformat": 4,
 "nbformat_minor": 5
}
