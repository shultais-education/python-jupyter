{
 "cells": [
  {
   "cell_type": "markdown",
   "id": "0ac12671",
   "metadata": {},
   "source": [
    "# Имена ключей, часть 2\n",
    "\n",
    "В словаре ключи содержатся в виде **хэшей**, специальных значений, которые понятны словарю и Питону.<br>\n",
    "Хэши формируются с помощью функции `hash()`.<br>\n",
    "Если тип данных поддерживает хэширование, то значения этого типа могут быть ключами.\n",
    "\n",
    "### Типы данных, которые поддерживают хэширование - `hashable`:\n",
    "1. Строки\n",
    "2. Целые числа\n",
    "3. Вещественные числа\n",
    "4. Логический тип\n",
    "5. Кортежи\n",
    "\n",
    "### Типы данных, которые НЕ поддерживают хэширование - `unhashable`:\n",
    "1. Списки\n",
    "2. Словари"
   ]
  },
  {
   "cell_type": "markdown",
   "id": "b02aa636",
   "metadata": {},
   "source": [
    "## Примеры различных ключей и их хэшей"
   ]
  },
  {
   "cell_type": "code",
   "execution_count": null,
   "id": "16a428ff",
   "metadata": {},
   "outputs": [],
   "source": [
    "print(1,     hash(1),      sep=\":      \")\n",
    "print(1.0,   hash(1.0),    sep=\":    \")\n",
    "print(True,  hash(True),   sep=\":   \")\n",
    "print(\"1\",   hash(\"1\"),    sep=\":      \")\n",
    "print((1,2), hash((1, 2)), sep=\": \")"
   ]
  },
  {
   "cell_type": "markdown",
   "id": "643fef17",
   "metadata": {},
   "source": [
    "## Использование кортежей в качестве ключей"
   ]
  },
  {
   "cell_type": "code",
   "execution_count": null,
   "id": "f4cab9bd",
   "metadata": {},
   "outputs": [],
   "source": [
    "# Пример формирования словаря с помесячными доходами за 2023 год\n",
    "# Ключи - кортежи из двух элементов\n",
    "revenue = {\n",
    "    (2023, 1): 100,\n",
    "    (2023, 2): 150,\n",
    "    (2023, 3): 200,\n",
    "    (2023, 4): 250,\n",
    "    (2023, 5): 300,\n",
    "    (2023, 6): 350,\n",
    "    (2023, 7): 400,\n",
    "    (2023, 8): 450,\n",
    "    (2023, 9): 500,\n",
    "    (2023, 10): 550,\n",
    "    (2023, 11): 600,\n",
    "    (2023, 12): 650\n",
    "}\n",
    "print(revenue)"
   ]
  },
  {
   "cell_type": "code",
   "execution_count": null,
   "id": "02bffcd1",
   "metadata": {},
   "outputs": [],
   "source": [
    "# Вывод данных за май 2023 года\n",
    "print(revenue[(2023, 5)])\n",
    "\n",
    "# Или так (за август 2023)\n",
    "year = 2023\n",
    "month = 8\n",
    "print(revenue[(year, month)])\n",
    "\n",
    "# Или так (за декабрь 2023 - сокращенный вариант)\n",
    "print(revenue[2023, 12])"
   ]
  },
  {
   "cell_type": "code",
   "execution_count": null,
   "id": "d894dc89",
   "metadata": {},
   "outputs": [],
   "source": []
  }
 ],
 "metadata": {
  "kernelspec": {
   "display_name": "Python 3 (ipykernel)",
   "language": "python",
   "name": "python3"
  },
  "language_info": {
   "codemirror_mode": {
    "name": "ipython",
    "version": 3
   },
   "file_extension": ".py",
   "mimetype": "text/x-python",
   "name": "python",
   "nbconvert_exporter": "python",
   "pygments_lexer": "ipython3",
   "version": "3.9.13"
  }
 },
 "nbformat": 4,
 "nbformat_minor": 5
}
