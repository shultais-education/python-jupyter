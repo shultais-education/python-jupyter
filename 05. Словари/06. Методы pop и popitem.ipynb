{
 "cells": [
  {
   "cell_type": "markdown",
   "id": "1a3c9bbd",
   "metadata": {},
   "source": [
    "# Методы `.pop()` и `.popitem()`\n",
    "\n",
    "Методы `.pop()` и `.popitem()` используются для извлечения значений из словаря."
   ]
  },
  {
   "cell_type": "markdown",
   "id": "1bd7d31d",
   "metadata": {},
   "source": [
    "## `.pop()`\n",
    "\n",
    "Метод `.pop()` возвращает элемент из словаря, а также удаляет его."
   ]
  },
  {
   "cell_type": "code",
   "execution_count": null,
   "id": "80b86e89",
   "metadata": {},
   "outputs": [],
   "source": [
    "contacts = {\n",
    "    \"email\": \"user@domain.com\",\n",
    "    \"vkontakte\": \"username\",\n",
    "    \"telegram\": \"@account\"\n",
    "}\n",
    "\n",
    "contacts.update({\n",
    "    \"phone1\": \"+ 981 555-55-55\",\n",
    "    \"phone2\": \"+ 981 222-22-22\",\n",
    "})\n",
    "\n",
    "# Вывод словаря\n",
    "print(contacts)\n",
    "\n",
    "# Получаем и выводим значение элемента с ключом \"vkontakte\"\n",
    "print(contacts.pop(\"vkontakte\"))\n",
    "\n",
    "# Повторный вывод словаря (элемента с ключом \"vkontakte\" больше нет)\n",
    "print(contacts)"
   ]
  },
  {
   "cell_type": "markdown",
   "id": "a792f276",
   "metadata": {},
   "source": [
    "## `.popitem()`\n",
    "\n",
    "Метод `.popitem()` возвращает из словаря кортеж из двух частей: `(ключ, значение)`, а после удаляет элемент из словаря.\n",
    "\n",
    "`.popitem()` достает из словаря элементы с конца."
   ]
  },
  {
   "cell_type": "code",
   "execution_count": null,
   "id": "3c739d30",
   "metadata": {},
   "outputs": [],
   "source": [
    "contacts = {\n",
    "    \"email\": \"user@domain.com\",\n",
    "    \"vkontakte\": \"username\",\n",
    "    \"telegram\": \"@account\"\n",
    "}\n",
    "\n",
    "contacts.update({\n",
    "    \"phone1\": \"+ 981 555-55-55\",\n",
    "    \"phone2\": \"+ 981 222-22-22\",\n",
    "})\n",
    "\n",
    "# Вывод словаря\n",
    "print(contacts)\n",
    "\n",
    "# Получаем и выводим значение элемента с ключом \"vkontakte\"\n",
    "print(contacts.pop(\"vkontakte\"))\n",
    "\n",
    "# Получаем из словаря два элемента\n",
    "element1 = contacts.popitem()\n",
    "element2 = contacts.popitem()\n",
    "\n",
    "# Выводим элементы\n",
    "print(element1)\n",
    "print(element2)\n",
    "\n",
    "# Выводим части элементов\n",
    "print(\"Ключ:\", element1[0])\n",
    "print(\"Значение:\", element1[1])\n",
    "\n",
    "# Повторный вывод словаря.\n",
    "# Элемента с ключом \"vkontakte\" больше нет.\n",
    "# Также нет двух последних элементов.\n",
    "print(contacts)"
   ]
  },
  {
   "cell_type": "code",
   "execution_count": null,
   "id": "7d55541a",
   "metadata": {},
   "outputs": [],
   "source": []
  }
 ],
 "metadata": {
  "kernelspec": {
   "display_name": "Python 3 (ipykernel)",
   "language": "python",
   "name": "python3"
  },
  "language_info": {
   "codemirror_mode": {
    "name": "ipython",
    "version": 3
   },
   "file_extension": ".py",
   "mimetype": "text/x-python",
   "name": "python",
   "nbconvert_exporter": "python",
   "pygments_lexer": "ipython3",
   "version": "3.9.13"
  }
 },
 "nbformat": 4,
 "nbformat_minor": 5
}
