{
 "cells": [
  {
   "cell_type": "markdown",
   "id": "f2055d04",
   "metadata": {},
   "source": [
    "# Введение в словари\n",
    "\n",
    "**Словарь** (ассоциативный массив, отражение) - контейнер для хранения *именованных* данных, доступ к которым осуществляется НЕ по индексу (как в списках или строках), а по **ключу**.<br>\n",
    "\n",
    "Словари создаются с помощью фигурных скобок `{}`, внутри которых помещаются пары `ключ: значение`, отделенных друг от друга запятыми:\n",
    "<pre>словарь = {\n",
    "    ключ1: значение1,\n",
    "    ключ2: значение2\n",
    "}</pre>\n",
    "\n",
    "**Ключами** могут выступать числа, строки, кортежи.<br>\n",
    "**Значения** могут быть любого типа данных, в том числе списки и другие словари.<br>\n",
    "Пара  `ключ: значение` называется **элементом словаря**."
   ]
  },
  {
   "cell_type": "markdown",
   "id": "7676a45f",
   "metadata": {},
   "source": [
    "## Первый словарь\n",
    "\n",
    "**Ключи:** `'age'`, `'first_name'`, `'is_active'`<br>\n",
    "**Значения:** `18`, `'Никита'`, `True`<br>"
   ]
  },
  {
   "cell_type": "code",
   "execution_count": null,
   "id": "b7b95d94",
   "metadata": {},
   "outputs": [],
   "source": [
    "# Создаем простейший словарь\n",
    "user = {\n",
    "    'age': 18,\n",
    "    'first_name': 'Никита',\n",
    "    'is_active': True\n",
    "}"
   ]
  },
  {
   "cell_type": "code",
   "execution_count": null,
   "id": "0af2ce03",
   "metadata": {},
   "outputs": [],
   "source": [
    "# Более сложный словарь\n",
    "user_detail = {\n",
    "    'age': 18,\n",
    "    'first_name': 'Никита',\n",
    "    'is_active': True,\n",
    "    'roles': [17, 48],\n",
    "    'address': {'city': 'Москва', 'street': 'Гагарина', 'house': 22}\n",
    "}"
   ]
  },
  {
   "cell_type": "markdown",
   "id": "77eb5efb",
   "metadata": {},
   "source": [
    "## Получаем данные словаря\n",
    "\n",
    "Доступ к элементам словаря осуществляется **по ключу**.<br>\n",
    "Перед запуском кода ниже не забудте запустить код выше для создания словарей **user** и **user_detail**."
   ]
  },
  {
   "cell_type": "code",
   "execution_count": null,
   "id": "c82d984f",
   "metadata": {},
   "outputs": [],
   "source": [
    "# Получаем значение словаря user по его ключу \"age\"\n",
    "print(user[\"age\"])"
   ]
  },
  {
   "cell_type": "code",
   "execution_count": null,
   "id": "b3141b5b",
   "metadata": {},
   "outputs": [],
   "source": [
    "# Получаем список из словаря user_detail\n",
    "print(user_detail[\"roles\"])\n",
    "\n",
    "# Получаем последний элемент списка из словаря user_detail\n",
    "print(user_detail[\"roles\"][-1])"
   ]
  },
  {
   "cell_type": "code",
   "execution_count": null,
   "id": "39da90fe",
   "metadata": {},
   "outputs": [],
   "source": [
    "# Получаем вложенный словарь из словаря user_detail\n",
    "print(user_detail[\"address\"])\n",
    "\n",
    "# Получаем название города из вложенного словаря\n",
    "print(user_detail[\"address\"][\"city\"])"
   ]
  },
  {
   "cell_type": "code",
   "execution_count": null,
   "id": "b576d9ef",
   "metadata": {},
   "outputs": [],
   "source": []
  }
 ],
 "metadata": {
  "kernelspec": {
   "display_name": "Python 3 (ipykernel)",
   "language": "python",
   "name": "python3"
  },
  "language_info": {
   "codemirror_mode": {
    "name": "ipython",
    "version": 3
   },
   "file_extension": ".py",
   "mimetype": "text/x-python",
   "name": "python",
   "nbconvert_exporter": "python",
   "pygments_lexer": "ipython3",
   "version": "3.9.13"
  }
 },
 "nbformat": 4,
 "nbformat_minor": 5
}
