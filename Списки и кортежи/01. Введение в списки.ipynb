{
 "cells": [
  {
   "cell_type": "markdown",
   "id": "2263e2be",
   "metadata": {},
   "source": [
    "# Введение в списки\n",
    "\n",
    "Список - **последовательность**, которая может хранить любые объекты: строки, числа, логические значения и даже другие списки.<br>\n",
    "Данные, которые хранятся в списках называются **элементами**. Элементы списка помещаются внутри квадратных скобок и разделяются запятыми.<br>\n",
    "Элементы списка могут повторяться, точно также как повторяются буквы в словах, например, `\"молоко\"`.<br>\n",
    "Списки могут содержать сколько угодно элементов, пока нам позволяет свободная оперативная память. А её, как правило, много."
   ]
  },
  {
   "cell_type": "code",
   "execution_count": 1,
   "id": "f6cc4e2d",
   "metadata": {},
   "outputs": [
    {
     "name": "stdout",
     "output_type": "stream",
     "text": [
      "[]\n"
     ]
    }
   ],
   "source": [
    "# Создание пустого списка\n",
    "lst = []\n",
    "print(lst)"
   ]
  },
  {
   "cell_type": "code",
   "execution_count": 2,
   "id": "d5d99e08",
   "metadata": {},
   "outputs": [
    {
     "name": "stdout",
     "output_type": "stream",
     "text": [
      "[7, 'строка', 3.14, 7, [12], True]\n"
     ]
    }
   ],
   "source": [
    "# Список, заполненный разнородными объектами\n",
    "lst = [7, \"строка\", 3.14, 7, [12], True]\n",
    "print(lst)"
   ]
  },
  {
   "cell_type": "markdown",
   "id": "20954e3a",
   "metadata": {},
   "source": [
    "Обычно списки хранят **однородные элементы**: список фруктов, товаров, зарплат и тд."
   ]
  },
  {
   "cell_type": "markdown",
   "id": "b5b8eb85",
   "metadata": {},
   "source": [
    "## Индексы\n",
    "\n",
    "Элементы списка идут слева на право и имеют порядковые номера – **индексы**.<br>\n",
    "Индексы нумеруются **с нуля**.<br>\n",
    "При выводе списка, его элементы выводятся в том же порядке, в котором мы их указали при создании списка.<br>\n",
    "С помощью индексов мы можем получать доступ к отдельным элементами списка."
   ]
  },
  {
   "cell_type": "code",
   "execution_count": 3,
   "id": "51d36464",
   "metadata": {},
   "outputs": [
    {
     "name": "stdout",
     "output_type": "stream",
     "text": [
      "3.14\n"
     ]
    }
   ],
   "source": [
    "lst = [7, \"строка\", 3.14, 7, [12], True]\n",
    "\n",
    "# Получаем второй по индексу элемент списка\n",
    "print(lst[2])"
   ]
  },
  {
   "cell_type": "code",
   "execution_count": 4,
   "id": "3cae8df1",
   "metadata": {},
   "outputs": [
    {
     "ename": "IndexError",
     "evalue": "list index out of range",
     "output_type": "error",
     "traceback": [
      "\u001b[0;31m---------------------------------------------------------------------------\u001b[0m",
      "\u001b[0;31mIndexError\u001b[0m                                Traceback (most recent call last)",
      "\u001b[0;32m/var/folders/4x/2537g_nd51d_lb51c66z1jzm0000gn/T/ipykernel_45013/1987793188.py\u001b[0m in \u001b[0;36m<module>\u001b[0;34m\u001b[0m\n\u001b[1;32m      2\u001b[0m \u001b[0;34m\u001b[0m\u001b[0m\n\u001b[1;32m      3\u001b[0m \u001b[0;31m# Попытка получить индекс, который находится за пределами\u001b[0m\u001b[0;34m\u001b[0m\u001b[0;34m\u001b[0m\u001b[0m\n\u001b[0;32m----> 4\u001b[0;31m \u001b[0mprint\u001b[0m\u001b[0;34m(\u001b[0m\u001b[0mlst\u001b[0m\u001b[0;34m[\u001b[0m\u001b[0;36m6\u001b[0m\u001b[0;34m]\u001b[0m\u001b[0;34m)\u001b[0m\u001b[0;34m\u001b[0m\u001b[0;34m\u001b[0m\u001b[0m\n\u001b[0m",
      "\u001b[0;31mIndexError\u001b[0m: list index out of range"
     ]
    }
   ],
   "source": [
    "lst = [7, \"строка\", 3.14, 7, [12], True]\n",
    "\n",
    "# Попытка получить индекс, который находится за пределами \n",
    "print(lst[6])"
   ]
  },
  {
   "cell_type": "code",
   "execution_count": 5,
   "id": "bb0aeef5",
   "metadata": {},
   "outputs": [
    {
     "name": "stdout",
     "output_type": "stream",
     "text": [
      "True\n"
     ]
    }
   ],
   "source": [
    "lst = [7, \"строка\", 3.14, 7, [12], True]\n",
    "\n",
    "# Получаем последний элемент списка (первый с конца)\n",
    "print(lst[-1])"
   ]
  },
  {
   "cell_type": "markdown",
   "id": "c208faa2",
   "metadata": {},
   "source": [
    "## Изменение элементов списка\n",
    "\n",
    "Списки (в отличии от строк) - это изменяемые последовательности, это значит, что мы **можем изменить любой элемент списка**, обратившись к нему по индексу."
   ]
  },
  {
   "cell_type": "code",
   "execution_count": 7,
   "id": "98446842",
   "metadata": {},
   "outputs": [
    {
     "name": "stdout",
     "output_type": "stream",
     "text": [
      "[7, 'строка', 3.14159, 7, [12], True]\n"
     ]
    }
   ],
   "source": [
    "lst = [7, \"строка\", 3.14, 7, [12], True]\n",
    "\n",
    "# Изменяем второй элемент списка\n",
    "lst[2] = 3.14159\n",
    "\n",
    "# Выводим список целиком\n",
    "print(lst)"
   ]
  },
  {
   "cell_type": "code",
   "execution_count": 8,
   "id": "4e36f17e",
   "metadata": {},
   "outputs": [
    {
     "name": "stdout",
     "output_type": "stream",
     "text": [
      "[7, 'строка', 3.14159, 'София', [12], True]\n"
     ]
    }
   ],
   "source": [
    "lst = [7, \"строка\", 3.14, 7, [12], True]\n",
    "\n",
    "# Изменяем второй элемент списка\n",
    "lst[2] = 3.14159\n",
    "\n",
    "# Тип данных элемента не важен, можно смело менять значение одного типа на значение другого\n",
    "lst[3] = \"София\"\n",
    "\n",
    "# Выводим список целиком\n",
    "print(lst)"
   ]
  },
  {
   "cell_type": "markdown",
   "id": "4b13c7c1",
   "metadata": {},
   "source": [
    "## Удаление элементов списка с помощью инстркции `del`\n",
    "\n",
    "Элементы внутри списка можно изменять, добавлять или удалять. Для удаления служит инстркция `del`.\n",
    "При этом список становится меньше, а элементы, которые стояли правее удаленного - сдвигаются влево."
   ]
  },
  {
   "cell_type": "code",
   "execution_count": 9,
   "id": "0eae32a8",
   "metadata": {},
   "outputs": [
    {
     "name": "stdout",
     "output_type": "stream",
     "text": [
      "[7, 'строка', 3.14159, 'София', True]\n"
     ]
    }
   ],
   "source": [
    "lst = [7, \"строка\", 3.14, 7, [12], True]\n",
    "\n",
    "# Изменяем элементы\n",
    "lst[2] = 3.14159\n",
    "lst[3] = \"София\"\n",
    "\n",
    "# Удаляем элемент по индексу 4\n",
    "del lst[4]\n",
    "\n",
    "# Выводим список целиком\n",
    "print(lst)"
   ]
  },
  {
   "cell_type": "code",
   "execution_count": null,
   "id": "b020b74a",
   "metadata": {},
   "outputs": [],
   "source": []
  }
 ],
 "metadata": {
  "kernelspec": {
   "display_name": "Python 3 (ipykernel)",
   "language": "python",
   "name": "python3"
  },
  "language_info": {
   "codemirror_mode": {
    "name": "ipython",
    "version": 3
   },
   "file_extension": ".py",
   "mimetype": "text/x-python",
   "name": "python",
   "nbconvert_exporter": "python",
   "pygments_lexer": "ipython3",
   "version": "3.9.13"
  }
 },
 "nbformat": 4,
 "nbformat_minor": 5
}
