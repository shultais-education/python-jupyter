{
 "cells": [
  {
   "cell_type": "markdown",
   "id": "eb127a9a",
   "metadata": {},
   "source": [
    "# Операции над списками\n",
    "\n",
    "Как правило, списки содержат однородные объекты - объекты, которые можно объединить по какому-либо признаку."
   ]
  },
  {
   "cell_type": "markdown",
   "id": "8e962985",
   "metadata": {},
   "source": [
    "## Объединение списков\n",
    "\n",
    "При объединении списков порядок следования элементов сохраняется."
   ]
  },
  {
   "cell_type": "code",
   "execution_count": 1,
   "id": "71b8deca",
   "metadata": {},
   "outputs": [
    {
     "name": "stdout",
     "output_type": "stream",
     "text": [
      "['Франция', 'Англия', 'Украина', 'Германия', 'Польша', 'Россия', 'Китай', 'Россия', 'Япония', 'Сингапур', 'Казахстан']\n"
     ]
    }
   ],
   "source": [
    "europe = [\"Франция\", \"Англия\", \"Украина\", \"Германия\", \"Польша\", \"Россия\"]\n",
    "asia = [\"Китай\", \"Россия\", \"Япония\", \"Сингапур\", \"Казахстан\"]\n",
    "\n",
    "# Объединяем два списка\n",
    "word = europe + asia\n",
    "\n",
    "print(word)"
   ]
  },
  {
   "cell_type": "markdown",
   "id": "3bb1cef5",
   "metadata": {},
   "source": [
    "## Создание списка с повторяющимеся элементами\n",
    "\n",
    "Умножение списка на число **N** создаст новый список, который будет хранить элементы исходного списка повторенные **N** раз."
   ]
  },
  {
   "cell_type": "code",
   "execution_count": 2,
   "id": "6863af76",
   "metadata": {},
   "outputs": [
    {
     "name": "stdout",
     "output_type": "stream",
     "text": [
      "[0, 0, 0, 0, 0, 0, 0, 0, 0, 0, 0, 0]\n"
     ]
    }
   ],
   "source": [
    "# Создаем список из 12-и элементов, каждый из которых - это ноль\n",
    "revenue = [0] * 12\n",
    "print(revenue)"
   ]
  },
  {
   "cell_type": "code",
   "execution_count": 3,
   "id": "d23d1a1b",
   "metadata": {},
   "outputs": [
    {
     "name": "stdout",
     "output_type": "stream",
     "text": [
      "[180000, 0, 0, 0, 0, 0, 0, 0, 0, 0, 0, 0]\n"
     ]
    }
   ],
   "source": [
    "revenue = [0] * 12\n",
    "# Изменяем элемент списка\n",
    "revenue[0] = 180_000\n",
    "print(revenue)"
   ]
  },
  {
   "cell_type": "code",
   "execution_count": null,
   "id": "31c9bd06",
   "metadata": {},
   "outputs": [],
   "source": []
  }
 ],
 "metadata": {
  "kernelspec": {
   "display_name": "Python 3 (ipykernel)",
   "language": "python",
   "name": "python3"
  },
  "language_info": {
   "codemirror_mode": {
    "name": "ipython",
    "version": 3
   },
   "file_extension": ".py",
   "mimetype": "text/x-python",
   "name": "python",
   "nbconvert_exporter": "python",
   "pygments_lexer": "ipython3",
   "version": "3.9.13"
  }
 },
 "nbformat": 4,
 "nbformat_minor": 5
}
