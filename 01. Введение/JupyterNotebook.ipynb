{
 "cells": [
  {
   "cell_type": "markdown",
   "id": "63332c39",
   "metadata": {},
   "source": [
    "# Установка JupyterNotebook"
   ]
  },
  {
   "cell_type": "markdown",
   "id": "37a76378",
   "metadata": {},
   "source": [
    "**Jupyter Notebook** - это среда разработки на Python, которая позволяет чередовать между собой фрагменты кода и форматированное описание к ним. "
   ]
  },
  {
   "cell_type": "markdown",
   "id": "e86a1ffb",
   "metadata": {},
   "source": [
    "Текстовые описания в блокнотах можно оформлять с помощью языка разметки [Markdown](https://ru.wikipedia.org/wiki/Markdown)."
   ]
  },
  {
   "cell_type": "markdown",
   "id": "0f88b513",
   "metadata": {},
   "source": [
    "## Hello, world!"
   ]
  },
  {
   "cell_type": "code",
   "execution_count": null,
   "id": "08a4cf78",
   "metadata": {},
   "outputs": [],
   "source": [
    "print(\"Hello, world!\")"
   ]
  },
  {
   "cell_type": "markdown",
   "id": "71879014",
   "metadata": {},
   "source": [
    "## Hello, user!\n",
    "\n"
   ]
  },
  {
   "cell_type": "code",
   "execution_count": null,
   "id": "b6232a03",
   "metadata": {},
   "outputs": [],
   "source": [
    "name = \"Никита\"\n",
    "print(\"Hello,\", name)"
   ]
  },
  {
   "cell_type": "markdown",
   "id": "485b3440",
   "metadata": {},
   "source": [
    "## Работа с `input()`\n",
    "Из-за того, что блокнот выполняется в браузере, мы не можем передавать данные через аргументы командной строки, а значит `sys.argv` в конспектах использовать не имеет смысла.<br><br>\n",
    "Однако вы можете передавать и принимать данные с помощью функции `input()`."
   ]
  },
  {
   "cell_type": "code",
   "execution_count": null,
   "id": "0c39e747",
   "metadata": {},
   "outputs": [],
   "source": [
    "first_name = input()\n",
    "print(\"Hello,\", first_name)"
   ]
  },
  {
   "cell_type": "markdown",
   "id": "bdb640c2",
   "metadata": {},
   "source": [
    "### Приём нескольких параметров"
   ]
  },
  {
   "cell_type": "code",
   "execution_count": null,
   "id": "ecf7d831",
   "metadata": {},
   "outputs": [],
   "source": [
    "name = input(\"Введите ваше имя: \")\n",
    "last_name = input(\"Введите вашу фамилию: \")\n",
    "print(\"Привет,\", first_name, last_name)"
   ]
  },
  {
   "cell_type": "markdown",
   "id": "750762d7",
   "metadata": {},
   "source": [
    "## Порядок запуска ячеек"
   ]
  },
  {
   "cell_type": "code",
   "execution_count": null,
   "id": "46d80dde",
   "metadata": {},
   "outputs": [],
   "source": [
    "print(\"Имя:\", first_name)\n",
    "print(\"Фамилия:\", last_name)"
   ]
  },
  {
   "cell_type": "code",
   "execution_count": null,
   "id": "074eca16",
   "metadata": {},
   "outputs": [],
   "source": [
    "first_name = \"Александр\"\n",
    "last_name = \"Пушкин\""
   ]
  },
  {
   "cell_type": "code",
   "execution_count": null,
   "id": "baaeca5d",
   "metadata": {},
   "outputs": [],
   "source": []
  }
 ],
 "metadata": {
  "kernelspec": {
   "display_name": "Python 3 (ipykernel)",
   "language": "python",
   "name": "python3"
  },
  "language_info": {
   "codemirror_mode": {
    "name": "ipython",
    "version": 3
   },
   "file_extension": ".py",
   "mimetype": "text/x-python",
   "name": "python",
   "nbconvert_exporter": "python",
   "pygments_lexer": "ipython3",
   "version": "3.9.13"
  }
 },
 "nbformat": 4,
 "nbformat_minor": 5
}
