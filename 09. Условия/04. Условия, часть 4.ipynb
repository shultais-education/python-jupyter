{
 "cells": [
  {
   "cell_type": "markdown",
   "id": "8ced6de9",
   "metadata": {},
   "source": [
    "# Условия, часть 4\n",
    "\n",
    "Конструкция `if` оперирует логическими объектами True/False, к которым можно применять логические операции `and` (логическое И) и `or` (логическое ИЛИ)."
   ]
  },
  {
   "cell_type": "markdown",
   "id": "568601e5",
   "metadata": {},
   "source": [
    "## Скоринговая программа\n",
    "\n",
    "Скоринговые программы используются для оценки того, выдавать кредит или нет.\n"
   ]
  },
  {
   "cell_type": "code",
   "execution_count": null,
   "id": "e95a4975",
   "metadata": {},
   "outputs": [],
   "source": [
    "age = 18\n",
    "sex = \"m\"\n",
    "credit = True\n",
    "\n",
    "# Считаем, что наш банк готов выдавать кредиты всем, \n",
    "# если они не нарушают условия, которые мы определили.\n",
    "\n",
    "if age >= 18 and age < 65:\n",
    "    if sex == \"m\" and age < 27:\n",
    "        credit = False\n",
    "else:\n",
    "    credit = False\n",
    "    \n",
    "if credit:\n",
    "    print(\"Кредит одобрен\")\n",
    "else:\n",
    "    print(\"Кредит НЕ одобрен\")"
   ]
  },
  {
   "cell_type": "markdown",
   "id": "6513cca6",
   "metadata": {},
   "source": [
    "### Военный билет для мужчин"
   ]
  },
  {
   "cell_type": "code",
   "execution_count": null,
   "id": "552a6c03",
   "metadata": {},
   "outputs": [],
   "source": [
    "age = 18\n",
    "sex = \"m\"\n",
    "credit = True\n",
    "\n",
    "# Првоерка на военный билет\n",
    "has_military_id = True\n",
    "\n",
    "if age >= 18 and age < 65:\n",
    "    if sex == \"m\" and age < 27 and not has_military_id:\n",
    "        credit = False\n",
    "else:\n",
    "    credit = False\n",
    "    \n",
    "if credit:\n",
    "    print(\"Кредит одобрен\")\n",
    "else:\n",
    "    print(\"Кредит НЕ одобрен\")"
   ]
  },
  {
   "cell_type": "markdown",
   "id": "dc952d25",
   "metadata": {},
   "source": [
    "### Дополнительные условия для женщин"
   ]
  },
  {
   "cell_type": "code",
   "execution_count": null,
   "id": "43354c7b",
   "metadata": {},
   "outputs": [],
   "source": [
    "age = 22\n",
    "sex = \"f\"\n",
    "credit = True\n",
    "\n",
    "# Првоерка на военный билет\n",
    "has_military_id = True\n",
    "\n",
    "if age >= 18 and age < 65:\n",
    "    if sex == \"m\" and age < 27 and not has_military_id:\n",
    "        credit = False\n",
    "    if sex == \"f\" and (age == 22 and has_military_id):\n",
    "        credit = False\n",
    "else:\n",
    "    credit = False\n",
    "    \n",
    "if credit:\n",
    "    print(\"Кредит одобрен\")\n",
    "else:\n",
    "    print(\"Кредит НЕ одобрен\")"
   ]
  },
  {
   "cell_type": "code",
   "execution_count": null,
   "id": "b0040f2c",
   "metadata": {},
   "outputs": [],
   "source": []
  }
 ],
 "metadata": {
  "kernelspec": {
   "display_name": "Python 3 (ipykernel)",
   "language": "python",
   "name": "python3"
  },
  "language_info": {
   "codemirror_mode": {
    "name": "ipython",
    "version": 3
   },
   "file_extension": ".py",
   "mimetype": "text/x-python",
   "name": "python",
   "nbconvert_exporter": "python",
   "pygments_lexer": "ipython3",
   "version": "3.9.13"
  }
 },
 "nbformat": 4,
 "nbformat_minor": 5
}
