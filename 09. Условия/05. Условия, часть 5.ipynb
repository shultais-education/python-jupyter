{
 "cells": [
  {
   "cell_type": "markdown",
   "id": "c886762e",
   "metadata": {},
   "source": [
    "# Условия, часть 5"
   ]
  },
  {
   "cell_type": "code",
   "execution_count": null,
   "id": "cb3158bb",
   "metadata": {},
   "outputs": [],
   "source": [
    "age = 18\n",
    "\n",
    "if age > 18:\n",
    "    credit = True\n",
    "else:\n",
    "    credit = False\n",
    "    \n",
    "print(credit)"
   ]
  },
  {
   "cell_type": "markdown",
   "id": "80853449",
   "metadata": {},
   "source": [
    "## Однострочный `if`"
   ]
  },
  {
   "cell_type": "code",
   "execution_count": null,
   "id": "93abf845",
   "metadata": {},
   "outputs": [],
   "source": [
    "age = 18\n",
    "\n",
    "# Записываем предыдущее выражение в одну строку\n",
    "credit = True if age > 18 else False\n",
    "\n",
    "print(credit)"
   ]
  },
  {
   "cell_type": "code",
   "execution_count": null,
   "id": "c51d408a",
   "metadata": {},
   "outputs": [],
   "source": []
  }
 ],
 "metadata": {
  "kernelspec": {
   "display_name": "Python 3 (ipykernel)",
   "language": "python",
   "name": "python3"
  },
  "language_info": {
   "codemirror_mode": {
    "name": "ipython",
    "version": 3
   },
   "file_extension": ".py",
   "mimetype": "text/x-python",
   "name": "python",
   "nbconvert_exporter": "python",
   "pygments_lexer": "ipython3",
   "version": "3.9.13"
  }
 },
 "nbformat": 4,
 "nbformat_minor": 5
}
