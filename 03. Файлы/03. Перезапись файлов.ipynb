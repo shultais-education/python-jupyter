{
 "cells": [
  {
   "cell_type": "markdown",
   "id": "3f778465",
   "metadata": {},
   "source": [
    "# Перезапись файлов\n"
   ]
  },
  {
   "cell_type": "markdown",
   "id": "7c3bbda0",
   "metadata": {},
   "source": [
    "Для открытия файла в режиме чтения и дозаписи нужно воспользоваться режимом **\"r+\"**"
   ]
  },
  {
   "cell_type": "markdown",
   "id": "7fbd0cac",
   "metadata": {},
   "source": [
    "#### Быстрое создание файла products_list_3.txt с помощью Python\n",
    "Выполните код ниже, чтобы быстро создать файл с нужными данными:"
   ]
  },
  {
   "cell_type": "code",
   "execution_count": 9,
   "id": "1d6b2cb8",
   "metadata": {},
   "outputs": [
    {
     "data": {
      "text/plain": [
       "24"
      ]
     },
     "execution_count": 9,
     "metadata": {},
     "output_type": "execute_result"
    }
   ],
   "source": [
    "open(\"products_list_3.txt\", \"w+\", encoding=\"utf-8\").write(\"хлеб\\nкартошка\\nрыба\\nмасло\")"
   ]
  },
  {
   "cell_type": "markdown",
   "id": "3d0d2dc7",
   "metadata": {},
   "source": [
    "Сперва читаем файл, а затем добавляем в него новую строку:"
   ]
  },
  {
   "cell_type": "code",
   "execution_count": 10,
   "id": "f80d453d",
   "metadata": {},
   "outputs": [
    {
     "name": "stdout",
     "output_type": "stream",
     "text": [
      "хлеб\n",
      "картошка\n",
      "рыба\n",
      "масло\n"
     ]
    },
    {
     "data": {
      "text/plain": [
       "7"
      ]
     },
     "execution_count": 10,
     "metadata": {},
     "output_type": "execute_result"
    }
   ],
   "source": [
    "product_file = open(\"products_list_3.txt\", \"r+\", encoding=\"utf8\")\n",
    "products = product_file.read()\n",
    "print(products)\n",
    "product_file.write(\"\\nмолоко\")"
   ]
  },
  {
   "cell_type": "markdown",
   "id": "b0486a51",
   "metadata": {},
   "source": [
    "Открываем файл в режиме чтения **\"r\"**. Это режим по умолчанию, его можно не указывать:"
   ]
  },
  {
   "cell_type": "code",
   "execution_count": 11,
   "id": "dd7498c3",
   "metadata": {},
   "outputs": [
    {
     "name": "stdout",
     "output_type": "stream",
     "text": [
      "хлеб\n",
      "картошка\n",
      "рыба\n",
      "масло\n",
      "молоко\n"
     ]
    }
   ],
   "source": [
    "product_file = open(\"products_list_3.txt\", \"r\", encoding=\"utf8\")\n",
    "products = product_file.read()\n",
    "print(products)"
   ]
  },
  {
   "cell_type": "markdown",
   "id": "9116e53d",
   "metadata": {},
   "source": [
    "## Запись в новый файл\n",
    "Берем данные из *products_list_3.txt* и записываем их в *new_products_list_3.txt* с изменениями:"
   ]
  },
  {
   "cell_type": "code",
   "execution_count": 12,
   "id": "8fbdaf65",
   "metadata": {},
   "outputs": [],
   "source": [
    "# Чтение и изменение данных:\n",
    "product_file = open(\"products_list_3.txt\", \"r\", encoding=\"utf8\")\n",
    "products = product_file.read().strip()  # Читаем данные из файла.\n",
    "products = products.replace(\"масло\\n\", \"\")  # Удаляем масло.\n",
    "products = products.title()  # Делаем, чтобы каждое слово было с заглавной буквы.\n",
    "product_file.close()\n",
    "\n",
    "# Запись данных:\n",
    "new_product_file = open(\"new_products_list_3.txt\", \"w\", encoding=\"utf8\")\n",
    "new_product_file.write(products)\n",
    "new_product_file.close()"
   ]
  },
  {
   "cell_type": "markdown",
   "id": "5853d1ce",
   "metadata": {},
   "source": [
    "Читаем файл *new_products_list.txt*:"
   ]
  },
  {
   "cell_type": "code",
   "execution_count": 13,
   "id": "f06ed95b",
   "metadata": {},
   "outputs": [
    {
     "name": "stdout",
     "output_type": "stream",
     "text": [
      "Хлеб\n",
      "Картошка\n",
      "Рыба\n",
      "Молоко\n"
     ]
    }
   ],
   "source": [
    "product_file = open(\"new_products_list_3.txt\", \"r\", encoding=\"utf8\")\n",
    "products = product_file.read()\n",
    "print(products)"
   ]
  },
  {
   "cell_type": "markdown",
   "id": "d9a01132",
   "metadata": {},
   "source": [
    "## Перезапись текущего файла"
   ]
  },
  {
   "cell_type": "code",
   "execution_count": 14,
   "id": "a6a45fbc",
   "metadata": {},
   "outputs": [],
   "source": [
    "# Чтение и изменение данных:\n",
    "product_file = open(\"products_list_3.txt\", \"r\", encoding=\"utf8\")\n",
    "products = product_file.read().strip()  # Читаем данные из файла.\n",
    "products = products.replace(\"масло\\n\", \"\")  # Удаляем масло.\n",
    "products = products.title()  # Делаем, чтобы каждое слово было с заглавной буквы.\n",
    "product_file.close()\n",
    "\n",
    "# Запись данных:\n",
    "product_file = open(\"products_list_3.txt\", \"w\", encoding=\"utf8\")\n",
    "product_file.write(products)\n",
    "product_file.close()"
   ]
  },
  {
   "cell_type": "markdown",
   "id": "e2889d96",
   "metadata": {},
   "source": [
    "Читаем файл products_list.txt:"
   ]
  },
  {
   "cell_type": "code",
   "execution_count": 15,
   "id": "27a44008",
   "metadata": {},
   "outputs": [
    {
     "name": "stdout",
     "output_type": "stream",
     "text": [
      "Хлеб\n",
      "Картошка\n",
      "Рыба\n",
      "Молоко\n"
     ]
    }
   ],
   "source": [
    "product_file = open(\"products_list_3.txt\", \"r\", encoding=\"utf8\")\n",
    "products = product_file.read()\n",
    "print(products)"
   ]
  },
  {
   "cell_type": "code",
   "execution_count": null,
   "id": "621f350e",
   "metadata": {},
   "outputs": [],
   "source": []
  }
 ],
 "metadata": {
  "kernelspec": {
   "display_name": "Python 3 (ipykernel)",
   "language": "python",
   "name": "python3"
  },
  "language_info": {
   "codemirror_mode": {
    "name": "ipython",
    "version": 3
   },
   "file_extension": ".py",
   "mimetype": "text/x-python",
   "name": "python",
   "nbconvert_exporter": "python",
   "pygments_lexer": "ipython3",
   "version": "3.9.7"
  }
 },
 "nbformat": 4,
 "nbformat_minor": 5
}
