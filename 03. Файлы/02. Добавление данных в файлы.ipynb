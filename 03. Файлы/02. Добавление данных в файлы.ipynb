{
 "cells": [
  {
   "cell_type": "markdown",
   "id": "dfef8741",
   "metadata": {},
   "source": [
    "# Добавление данных в файлы"
   ]
  },
  {
   "cell_type": "markdown",
   "id": "686c3e0c",
   "metadata": {},
   "source": [
    "**Внимание** для работы примеров из этого урока у вас должны быть созданы файлы *products_list.txt* и *products_list_cp1251.txt* из прошлого урока."
   ]
  },
  {
   "cell_type": "markdown",
   "id": "f21e08ae",
   "metadata": {},
   "source": [
    "Неудачная попытка добавить строку в файл, который открыт на чтение."
   ]
  },
  {
   "cell_type": "code",
   "execution_count": 1,
   "id": "fe19d676",
   "metadata": {},
   "outputs": [
    {
     "name": "stdout",
     "output_type": "stream",
     "text": [
      "хлеб\n",
      "картошка\n",
      "масло\n"
     ]
    },
    {
     "ename": "UnsupportedOperation",
     "evalue": "not writable",
     "output_type": "error",
     "traceback": [
      "\u001b[0;31m---------------------------------------------------------------------------\u001b[0m",
      "\u001b[0;31mUnsupportedOperation\u001b[0m                      Traceback (most recent call last)",
      "\u001b[0;32m/var/folders/06/yl2tjjzn0779079l4x8lq1y80000gn/T/ipykernel_70322/2963600990.py\u001b[0m in \u001b[0;36m<module>\u001b[0;34m\u001b[0m\n\u001b[1;32m      2\u001b[0m \u001b[0mproducts\u001b[0m \u001b[0;34m=\u001b[0m \u001b[0mproduct_file\u001b[0m\u001b[0;34m.\u001b[0m\u001b[0mread\u001b[0m\u001b[0;34m(\u001b[0m\u001b[0;34m)\u001b[0m\u001b[0;34m\u001b[0m\u001b[0;34m\u001b[0m\u001b[0m\n\u001b[1;32m      3\u001b[0m \u001b[0mprint\u001b[0m\u001b[0;34m(\u001b[0m\u001b[0mproducts\u001b[0m\u001b[0;34m)\u001b[0m\u001b[0;34m\u001b[0m\u001b[0;34m\u001b[0m\u001b[0m\n\u001b[0;32m----> 4\u001b[0;31m \u001b[0mproduct_file\u001b[0m\u001b[0;34m.\u001b[0m\u001b[0mwrite\u001b[0m\u001b[0;34m(\u001b[0m\u001b[0;34m\"\\nмолоко\"\u001b[0m\u001b[0;34m)\u001b[0m  \u001b[0;31m# Ошибка, файл октрыт на чтение\u001b[0m\u001b[0;34m\u001b[0m\u001b[0;34m\u001b[0m\u001b[0m\n\u001b[0m",
      "\u001b[0;31mUnsupportedOperation\u001b[0m: not writable"
     ]
    }
   ],
   "source": [
    "product_file = open(\"products_list.txt\", encoding=\"utf8\")\n",
    "products = product_file.read()\n",
    "print(products)\n",
    "product_file.write(\"\\nмолоко\")  # Ошибка, файл октрыт на чтение"
   ]
  },
  {
   "cell_type": "markdown",
   "id": "e88b8f02",
   "metadata": {},
   "source": [
    "Успешная попытка добавить строку в файл:"
   ]
  },
  {
   "cell_type": "code",
   "execution_count": 2,
   "id": "28b407c2",
   "metadata": {},
   "outputs": [
    {
     "data": {
      "text/plain": [
       "7"
      ]
     },
     "execution_count": 2,
     "metadata": {},
     "output_type": "execute_result"
    }
   ],
   "source": [
    "product_file = open(\"products_list.txt\", \"a\", encoding=\"utf8\") # Открыаем файл в режиме a - дозапись в конец\n",
    "product_file.write(\"\\nмолоко\")"
   ]
  },
  {
   "cell_type": "markdown",
   "id": "15b4b44e",
   "metadata": {},
   "source": [
    "Снова читаем файл:"
   ]
  },
  {
   "cell_type": "code",
   "execution_count": 3,
   "id": "082ebe98",
   "metadata": {},
   "outputs": [
    {
     "name": "stdout",
     "output_type": "stream",
     "text": [
      "хлеб\n",
      "картошка\n",
      "масло\n",
      "молоко\n"
     ]
    }
   ],
   "source": [
    "product_file = open(\"products_list.txt\", encoding=\"utf8\")\n",
    "products = product_file.read()\n",
    "print(products)"
   ]
  },
  {
   "cell_type": "markdown",
   "id": "73c68733",
   "metadata": {},
   "source": [
    "Добавляем в файл пустую строку:"
   ]
  },
  {
   "cell_type": "code",
   "execution_count": 4,
   "id": "eca8dfc5",
   "metadata": {},
   "outputs": [
    {
     "data": {
      "text/plain": [
       "1"
      ]
     },
     "execution_count": 4,
     "metadata": {},
     "output_type": "execute_result"
    }
   ],
   "source": [
    "product_file = open(\"products_list.txt\", \"a\", encoding=\"utf8\")\n",
    "product_file.write(\"\\n\")"
   ]
  },
  {
   "cell_type": "markdown",
   "id": "7fbf55a4",
   "metadata": {},
   "source": [
    "Читаем файл с формированием новой строки:"
   ]
  },
  {
   "cell_type": "code",
   "execution_count": 5,
   "id": "54335a95",
   "metadata": {},
   "outputs": [
    {
     "name": "stdout",
     "output_type": "stream",
     "text": [
      "хлеб\n",
      "картошка\n",
      "масло\n",
      "молоко\n",
      "\n",
      "сметана\n"
     ]
    }
   ],
   "source": [
    "product_file = open(\"products_list.txt\", encoding=\"utf8\")\n",
    "products = product_file.read()\n",
    "products = products + \"\\nсметана\"\n",
    "print(products)"
   ]
  },
  {
   "cell_type": "markdown",
   "id": "62e99482",
   "metadata": {},
   "source": [
    "На выходе получили лишний перевод строки из-за того, что сам файл заканчивается переводом строки + мы добавляем `\\nсмената`.<br>\n",
    "Чтобы исправить ситуацию, нужно прочитать файл с очисткой от лишнийх пробелов и переводов строк:"
   ]
  },
  {
   "cell_type": "code",
   "execution_count": 7,
   "id": "d5098b9f",
   "metadata": {},
   "outputs": [
    {
     "name": "stdout",
     "output_type": "stream",
     "text": [
      "хлеб\n",
      "картошка\n",
      "масло\n",
      "молоко\n",
      "сметана\n"
     ]
    }
   ],
   "source": [
    "product_file = open(\"products_list.txt\", encoding=\"utf8\")\n",
    "products = product_file.read().strip()  # Читаем данные из файла, а затем сразу очищаем строку с помощью strip()\n",
    "products = products + \"\\nсметана\"\n",
    "print(products)"
   ]
  },
  {
   "cell_type": "markdown",
   "id": "31b3dbdc",
   "metadata": {},
   "source": [
    "Обратите внимание, что **product_file** - это файловая переменная, а `product_file.read()` - это уже строка, которая содержит весь текст из файла, именно поэтому мы и применяем метод `strip()`."
   ]
  },
  {
   "cell_type": "code",
   "execution_count": null,
   "id": "dd3af380",
   "metadata": {},
   "outputs": [],
   "source": []
  }
 ],
 "metadata": {
  "kernelspec": {
   "display_name": "Python 3 (ipykernel)",
   "language": "python",
   "name": "python3"
  },
  "language_info": {
   "codemirror_mode": {
    "name": "ipython",
    "version": 3
   },
   "file_extension": ".py",
   "mimetype": "text/x-python",
   "name": "python",
   "nbconvert_exporter": "python",
   "pygments_lexer": "ipython3",
   "version": "3.9.7"
  }
 },
 "nbformat": 4,
 "nbformat_minor": 5
}
