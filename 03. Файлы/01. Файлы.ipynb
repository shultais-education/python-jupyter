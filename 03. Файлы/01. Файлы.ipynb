{
 "cells": [
  {
   "cell_type": "markdown",
   "id": "e0f0a6f4",
   "metadata": {},
   "source": [
    "# Файлы"
   ]
  },
  {
   "cell_type": "markdown",
   "id": "e1b2311c",
   "metadata": {},
   "source": [
    "Часто данные в программу поступают в виде текста, в том числе из текстовых файлов.<br>\n",
    "В Python работа с файлами строится через **файловую переменную**, которая связывает файл на жестком диске с какой-либо переменной в программе."
   ]
  },
  {
   "cell_type": "markdown",
   "id": "bd701afa",
   "metadata": {},
   "source": [
    "Для дальнейшей работы создайте файл *products_list.txt* рядом с программой.<br>\n",
    "Файл должен быть в кодировке **UTF-8** и содержать следующий текст:<br>\n",
    "хлеб<br>\n",
    "картошка<br>\n",
    "масло<br>"
   ]
  },
  {
   "cell_type": "markdown",
   "id": "fc4d7a91",
   "metadata": {},
   "source": [
    "#### Быстрое создание файла products_list.txt с помощью Python\n",
    "Выполните код ниже, чтобы быстро создать файл с нужными данными:"
   ]
  },
  {
   "cell_type": "code",
   "execution_count": 1,
   "id": "f86b11da",
   "metadata": {},
   "outputs": [
    {
     "data": {
      "text/plain": [
       "19"
      ]
     },
     "execution_count": 1,
     "metadata": {},
     "output_type": "execute_result"
    }
   ],
   "source": [
    "open(\"products_list.txt\", \"w+\", encoding=\"utf-8\").write(\"хлеб\\nкартошка\\nмасло\")"
   ]
  },
  {
   "cell_type": "markdown",
   "id": "60640142",
   "metadata": {},
   "source": [
    "## Чтение данных из файла"
   ]
  },
  {
   "cell_type": "code",
   "execution_count": 2,
   "id": "52f6bc7a",
   "metadata": {},
   "outputs": [
    {
     "name": "stdout",
     "output_type": "stream",
     "text": [
      "хлеб\n",
      "картошка\n",
      "масло\n"
     ]
    }
   ],
   "source": [
    "product_file = open(\"products_list.txt\")  # Создаем файловую переменную\n",
    "products = product_file.read() # Читаем данные из файла и сохраняем их в переменной products\n",
    "print(products) # Выводим данные из файл"
   ]
  },
  {
   "cell_type": "markdown",
   "id": "4a725d13",
   "metadata": {},
   "source": [
    "## Работа с кодировками\n",
    "По умолчанию Python считает, что текстовые файлы находятся в кодировке **UTF-8**. Но иногда файлы находятся в других кодировках, так в Windows-системах распространены **windows-1251** или **cp-1251**. Чтобы открыть файл в другой кодировке, нужно добавить в функцию `open()` атрибут `encoding`. "
   ]
  },
  {
   "cell_type": "markdown",
   "id": "ead34175",
   "metadata": {},
   "source": [
    "> Без параметра `encoding` Python считает, что текстовые файлы находятся в кодировке, которая по умолчанию используется в операционной системе. Обычно это **UTF-8** (по крайней мере в MacOS, Linux и последних версиях Windows). Однако в старых версиях Windows кодировка по умолчанию может быть иной."
   ]
  },
  {
   "cell_type": "markdown",
   "id": "4c965f94",
   "metadata": {},
   "source": [
    "#### Быстрое создание файла products_list_cp1251.txt с помощью Python\n",
    "Выполните код ниже, чтобы быстро создать файл в кодировке windows 1251 с нужными данными:"
   ]
  },
  {
   "cell_type": "code",
   "execution_count": 4,
   "id": "112c76d6",
   "metadata": {},
   "outputs": [
    {
     "data": {
      "text/plain": [
       "19"
      ]
     },
     "execution_count": 4,
     "metadata": {},
     "output_type": "execute_result"
    }
   ],
   "source": [
    "open(\"products_list_cp1251.txt\", \"w+\", encoding=\"cp1251\").write(\"хлеб\\nкартошка\\nмасло\")"
   ]
  },
  {
   "cell_type": "markdown",
   "id": "05c767bb",
   "metadata": {},
   "source": [
    "Попытка открыть файл *products_list_cp1251.txt* используя кодировку **UTF-8**"
   ]
  },
  {
   "cell_type": "code",
   "execution_count": 7,
   "id": "cdde49b2",
   "metadata": {},
   "outputs": [
    {
     "ename": "UnicodeDecodeError",
     "evalue": "'utf-8' codec can't decode byte 0xf5 in position 0: invalid start byte",
     "output_type": "error",
     "traceback": [
      "\u001b[0;31m---------------------------------------------------------------------------\u001b[0m",
      "\u001b[0;31mUnicodeDecodeError\u001b[0m                        Traceback (most recent call last)",
      "\u001b[0;32m/var/folders/06/yl2tjjzn0779079l4x8lq1y80000gn/T/ipykernel_69984/4279684473.py\u001b[0m in \u001b[0;36m<module>\u001b[0;34m\u001b[0m\n\u001b[1;32m      1\u001b[0m \u001b[0mproduct_file\u001b[0m \u001b[0;34m=\u001b[0m \u001b[0mopen\u001b[0m\u001b[0;34m(\u001b[0m\u001b[0;34m\"products_list_cp1251.txt\"\u001b[0m\u001b[0;34m)\u001b[0m\u001b[0;34m\u001b[0m\u001b[0;34m\u001b[0m\u001b[0m\n\u001b[0;32m----> 2\u001b[0;31m \u001b[0mproducts\u001b[0m \u001b[0;34m=\u001b[0m \u001b[0mproduct_file\u001b[0m\u001b[0;34m.\u001b[0m\u001b[0mread\u001b[0m\u001b[0;34m(\u001b[0m\u001b[0;34m)\u001b[0m\u001b[0;34m\u001b[0m\u001b[0;34m\u001b[0m\u001b[0m\n\u001b[0m\u001b[1;32m      3\u001b[0m \u001b[0mprint\u001b[0m\u001b[0;34m(\u001b[0m\u001b[0mproducts\u001b[0m\u001b[0;34m)\u001b[0m\u001b[0;34m\u001b[0m\u001b[0;34m\u001b[0m\u001b[0m\n",
      "\u001b[0;32m~/opt/anaconda3/lib/python3.9/codecs.py\u001b[0m in \u001b[0;36mdecode\u001b[0;34m(self, input, final)\u001b[0m\n\u001b[1;32m    320\u001b[0m         \u001b[0;31m# decode input (taking the buffer into account)\u001b[0m\u001b[0;34m\u001b[0m\u001b[0;34m\u001b[0m\u001b[0m\n\u001b[1;32m    321\u001b[0m         \u001b[0mdata\u001b[0m \u001b[0;34m=\u001b[0m \u001b[0mself\u001b[0m\u001b[0;34m.\u001b[0m\u001b[0mbuffer\u001b[0m \u001b[0;34m+\u001b[0m \u001b[0minput\u001b[0m\u001b[0;34m\u001b[0m\u001b[0;34m\u001b[0m\u001b[0m\n\u001b[0;32m--> 322\u001b[0;31m         \u001b[0;34m(\u001b[0m\u001b[0mresult\u001b[0m\u001b[0;34m,\u001b[0m \u001b[0mconsumed\u001b[0m\u001b[0;34m)\u001b[0m \u001b[0;34m=\u001b[0m \u001b[0mself\u001b[0m\u001b[0;34m.\u001b[0m\u001b[0m_buffer_decode\u001b[0m\u001b[0;34m(\u001b[0m\u001b[0mdata\u001b[0m\u001b[0;34m,\u001b[0m \u001b[0mself\u001b[0m\u001b[0;34m.\u001b[0m\u001b[0merrors\u001b[0m\u001b[0;34m,\u001b[0m \u001b[0mfinal\u001b[0m\u001b[0;34m)\u001b[0m\u001b[0;34m\u001b[0m\u001b[0;34m\u001b[0m\u001b[0m\n\u001b[0m\u001b[1;32m    323\u001b[0m         \u001b[0;31m# keep undecoded input until the next call\u001b[0m\u001b[0;34m\u001b[0m\u001b[0;34m\u001b[0m\u001b[0m\n\u001b[1;32m    324\u001b[0m         \u001b[0mself\u001b[0m\u001b[0;34m.\u001b[0m\u001b[0mbuffer\u001b[0m \u001b[0;34m=\u001b[0m \u001b[0mdata\u001b[0m\u001b[0;34m[\u001b[0m\u001b[0mconsumed\u001b[0m\u001b[0;34m:\u001b[0m\u001b[0;34m]\u001b[0m\u001b[0;34m\u001b[0m\u001b[0;34m\u001b[0m\u001b[0m\n",
      "\u001b[0;31mUnicodeDecodeError\u001b[0m: 'utf-8' codec can't decode byte 0xf5 in position 0: invalid start byte"
     ]
    }
   ],
   "source": [
    "product_file = open(\"products_list_cp1251.txt\")\n",
    "products = product_file.read()\n",
    "print(products)"
   ]
  },
  {
   "cell_type": "markdown",
   "id": "2f18961b",
   "metadata": {},
   "source": [
    "Программа завершилась с ошибкой UnicodeDecodeError."
   ]
  },
  {
   "cell_type": "markdown",
   "id": "eb89c79e",
   "metadata": {},
   "source": [
    "Попытка открыть файл *products_list_cp1251.txt* используя кодировку **cp1251**"
   ]
  },
  {
   "cell_type": "code",
   "execution_count": 8,
   "id": "f56a85cb",
   "metadata": {},
   "outputs": [
    {
     "name": "stdout",
     "output_type": "stream",
     "text": [
      "хлеб\n",
      "картошка\n",
      "масло\n"
     ]
    }
   ],
   "source": [
    "product_file = open(\"products_list_cp1251.txt\", encoding=\"cp1251\")\n",
    "products = product_file.read()\n",
    "print(products)"
   ]
  },
  {
   "cell_type": "markdown",
   "id": "a159b5c9",
   "metadata": {},
   "source": [
    "Попытка открыть файл products_list.txt (файл в **UTF-8**) используя кодировку **cp1251**"
   ]
  },
  {
   "cell_type": "code",
   "execution_count": 9,
   "id": "f061c6bc",
   "metadata": {},
   "outputs": [
    {
     "name": "stdout",
     "output_type": "stream",
     "text": [
      "С…Р»РµР±\n",
      "РєР°СЂС‚РѕС€РєР°\n",
      "РјР°СЃР»Рѕ\n"
     ]
    }
   ],
   "source": [
    "product_file = open(\"products_list.txt\", encoding=\"cp1251\")\n",
    "products = product_file.read()\n",
    "print(products)"
   ]
  },
  {
   "cell_type": "markdown",
   "id": "93292ea8",
   "metadata": {},
   "source": [
    "Программа вывела непонятные симолы, так как неправилно обработала кодировку."
   ]
  },
  {
   "cell_type": "code",
   "execution_count": null,
   "id": "7e4b45f1",
   "metadata": {},
   "outputs": [],
   "source": []
  }
 ],
 "metadata": {
  "kernelspec": {
   "display_name": "Python 3 (ipykernel)",
   "language": "python",
   "name": "python3"
  },
  "language_info": {
   "codemirror_mode": {
    "name": "ipython",
    "version": 3
   },
   "file_extension": ".py",
   "mimetype": "text/x-python",
   "name": "python",
   "nbconvert_exporter": "python",
   "pygments_lexer": "ipython3",
   "version": "3.11.7"
  }
 },
 "nbformat": 4,
 "nbformat_minor": 5
}
